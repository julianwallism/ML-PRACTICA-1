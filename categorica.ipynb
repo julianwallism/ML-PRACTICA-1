{
 "cells": [
  {
   "cell_type": "markdown",
   "id": "d4c6ab79",
   "metadata": {},
   "source": [
    "# Winequality dataset"
   ]
  },
  {
   "cell_type": "markdown",
   "id": "06557bbf",
   "metadata": {},
   "source": [
    "Julià Wallis Medina, DNI: 43197070B\\\n",
    "Dawid Michal Roch Móll, NIE: X5874192S\\\n",
    "Joan Sansó Pericàs, DNI: 41658982W\n",
    "\n",
    "|        package | version |\n",
    "|---------------:|---------|\n",
    "| python         | 3.9.7   |\n",
    "| numpy          | 1.21.2  |\n",
    "| matplotlib     | 3.4.3   |\n",
    "| pandas         | 1.3.4   |\n",
    "| scikit-learn   | 1.0.1   |\n",
    "| jupyter-lab    | 3.2.1   |\n",
    "| seaborn        | 0.11.0  |\n",
    "| feature-engine | 1.2.0   |\n",
    "\n",
    "En aquest arxiu resoldrem la pràctica tractant els valors de qualitat com a Categòrics (Baixa-Mitjana-Alta)"
   ]
  },
  {
   "cell_type": "markdown",
   "id": "df3878f4",
   "metadata": {},
   "source": [
    "## Feim els imports"
   ]
  },
  {
   "cell_type": "code",
   "execution_count": 1,
   "id": "c7dc6e88-3d56-48a1-a77e-9cabb57805a1",
   "metadata": {},
   "outputs": [],
   "source": [
    "import pandas as pd\n",
    "import matplotlib.pyplot as plt\n",
    "import numpy as np\n",
    "import seaborn as sns\n",
    "\n",
    "from sklearn import preprocessing\n",
    "from sklearn.model_selection import train_test_split, GridSearchCV\n",
    "from sklearn.linear_model import LogisticRegression, Perceptron, RidgeCV\n",
    "from sklearn.ensemble import RandomForestClassifier\n",
    "from sklearn.metrics import classification_report, confusion_matrix, ConfusionMatrixDisplay\n",
    "from sklearn.feature_selection import SequentialFeatureSelector, SelectKBest, f_regression, RFE\n",
    "from feature_engine.creation import MathematicalCombination, CombineWithReferenceFeature"
   ]
  },
  {
   "cell_type": "markdown",
   "id": "d10d2f9a",
   "metadata": {},
   "source": [
    "## Preparam el dataset"
   ]
  },
  {
   "cell_type": "markdown",
   "id": "9eabf26f",
   "metadata": {},
   "source": [
    "En aquest apartat, unirem els dos datasets en un i el prepararem per tal de poder emprar-lo posteriorment"
   ]
  },
  {
   "cell_type": "markdown",
   "id": "cc4f7622",
   "metadata": {},
   "source": [
    "Funció que separa les features i les etiquetes, escalant les dades"
   ]
  },
  {
   "cell_type": "code",
   "execution_count": 2,
   "id": "1e5ee3a4",
   "metadata": {},
   "outputs": [],
   "source": [
    "def load_data(df):\n",
    "    y=df.quality\n",
    "    X=df.drop('quality',axis=1)\n",
    "    X = min_max_scaler.fit_transform(X)\n",
    "    return X, y"
   ]
  },
  {
   "cell_type": "markdown",
   "id": "6eb9892f",
   "metadata": {},
   "source": [
    "Carregam els datasets a dos dataframes a partir dels fitxers .csv: winequality-red.csv i winequality-white.csv\n",
    "\n",
    "Afegim una nova columna que indiqui el tipus de vi a cada dataset i juntam els dos datasets en un de nou"
   ]
  },
  {
   "cell_type": "code",
   "execution_count": 3,
   "id": "45c4b23d-1f27-4596-9b1c-eed4d8cbd32e",
   "metadata": {},
   "outputs": [],
   "source": [
    "dfRed=pd.read_csv(\"winequality-red.csv\", sep=\";\")\n",
    "dfWhite=pd.read_csv(\"winequality-white.csv\", sep=\";\")\n",
    "\n",
    "dfRed['type']=\"Red\"\n",
    "dfWhite['type']=\"White\"\n",
    "df = pd.concat([dfRed,dfWhite])"
   ]
  },
  {
   "cell_type": "markdown",
   "id": "c0f6b22c",
   "metadata": {},
   "source": [
    "Consultam les files del dataframe amb valors absents, no fa falta que eliminem cap ja que no n'hi ha cap amb valors absents"
   ]
  },
  {
   "cell_type": "code",
   "execution_count": 4,
   "id": "10383ee8",
   "metadata": {},
   "outputs": [
    {
     "data": {
      "text/html": [
       "<div>\n",
       "<style scoped>\n",
       "    .dataframe tbody tr th:only-of-type {\n",
       "        vertical-align: middle;\n",
       "    }\n",
       "\n",
       "    .dataframe tbody tr th {\n",
       "        vertical-align: top;\n",
       "    }\n",
       "\n",
       "    .dataframe thead th {\n",
       "        text-align: right;\n",
       "    }\n",
       "</style>\n",
       "<table border=\"1\" class=\"dataframe\">\n",
       "  <thead>\n",
       "    <tr style=\"text-align: right;\">\n",
       "      <th></th>\n",
       "      <th>fixed acidity</th>\n",
       "      <th>volatile acidity</th>\n",
       "      <th>citric acid</th>\n",
       "      <th>residual sugar</th>\n",
       "      <th>chlorides</th>\n",
       "      <th>free sulfur dioxide</th>\n",
       "      <th>total sulfur dioxide</th>\n",
       "      <th>density</th>\n",
       "      <th>pH</th>\n",
       "      <th>sulphates</th>\n",
       "      <th>alcohol</th>\n",
       "      <th>quality</th>\n",
       "      <th>type</th>\n",
       "    </tr>\n",
       "  </thead>\n",
       "  <tbody>\n",
       "  </tbody>\n",
       "</table>\n",
       "</div>"
      ],
      "text/plain": [
       "Empty DataFrame\n",
       "Columns: [fixed acidity, volatile acidity, citric acid, residual sugar, chlorides, free sulfur dioxide, total sulfur dioxide, density, pH, sulphates, alcohol, quality, type]\n",
       "Index: []"
      ]
     },
     "execution_count": 4,
     "metadata": {},
     "output_type": "execute_result"
    }
   ],
   "source": [
    "df[df.isna().any(axis=1)]"
   ]
  },
  {
   "cell_type": "markdown",
   "id": "d7c462fd",
   "metadata": {},
   "source": [
    "Convertim la columna quality en una columna de valors categòrics"
   ]
  },
  {
   "cell_type": "code",
   "execution_count": 5,
   "id": "4eb59da1",
   "metadata": {},
   "outputs": [],
   "source": [
    "df[\"quality\"]=df[\"quality\"].map(lambda x: 1 if x < 6 else 2 if x == 6 else 3)"
   ]
  },
  {
   "cell_type": "markdown",
   "id": "d79bef95",
   "metadata": {},
   "source": [
    "Convertim les característiques categòriques (tipus) en númeriques"
   ]
  },
  {
   "cell_type": "code",
   "execution_count": 6,
   "id": "2b734f3b",
   "metadata": {},
   "outputs": [],
   "source": [
    "labelencoder = preprocessing.LabelEncoder()\n",
    "\n",
    "df['type']=labelencoder.fit_transform(df['type'])"
   ]
  },
  {
   "cell_type": "markdown",
   "id": "2fba46ec",
   "metadata": {},
   "source": [
    "Recolocam les columnes per tenir la qualitat a la darrera columna. Això no fa falta fer-ho però ho feim per a que els gràfics i altres representacions visuals quedin més entendibles"
   ]
  },
  {
   "cell_type": "code",
   "execution_count": 7,
   "id": "f8df7875",
   "metadata": {},
   "outputs": [
    {
     "data": {
      "text/html": [
       "<div>\n",
       "<style scoped>\n",
       "    .dataframe tbody tr th:only-of-type {\n",
       "        vertical-align: middle;\n",
       "    }\n",
       "\n",
       "    .dataframe tbody tr th {\n",
       "        vertical-align: top;\n",
       "    }\n",
       "\n",
       "    .dataframe thead th {\n",
       "        text-align: right;\n",
       "    }\n",
       "</style>\n",
       "<table border=\"1\" class=\"dataframe\">\n",
       "  <thead>\n",
       "    <tr style=\"text-align: right;\">\n",
       "      <th></th>\n",
       "      <th>fixed acidity</th>\n",
       "      <th>volatile acidity</th>\n",
       "      <th>citric acid</th>\n",
       "      <th>residual sugar</th>\n",
       "      <th>chlorides</th>\n",
       "      <th>free sulfur dioxide</th>\n",
       "      <th>total sulfur dioxide</th>\n",
       "      <th>density</th>\n",
       "      <th>pH</th>\n",
       "      <th>sulphates</th>\n",
       "      <th>alcohol</th>\n",
       "      <th>type</th>\n",
       "      <th>quality</th>\n",
       "    </tr>\n",
       "  </thead>\n",
       "  <tbody>\n",
       "    <tr>\n",
       "      <th>0</th>\n",
       "      <td>7.4</td>\n",
       "      <td>0.70</td>\n",
       "      <td>0.00</td>\n",
       "      <td>1.9</td>\n",
       "      <td>0.076</td>\n",
       "      <td>11.0</td>\n",
       "      <td>34.0</td>\n",
       "      <td>0.9978</td>\n",
       "      <td>3.51</td>\n",
       "      <td>0.56</td>\n",
       "      <td>9.4</td>\n",
       "      <td>0</td>\n",
       "      <td>1</td>\n",
       "    </tr>\n",
       "    <tr>\n",
       "      <th>1</th>\n",
       "      <td>7.8</td>\n",
       "      <td>0.88</td>\n",
       "      <td>0.00</td>\n",
       "      <td>2.6</td>\n",
       "      <td>0.098</td>\n",
       "      <td>25.0</td>\n",
       "      <td>67.0</td>\n",
       "      <td>0.9968</td>\n",
       "      <td>3.20</td>\n",
       "      <td>0.68</td>\n",
       "      <td>9.8</td>\n",
       "      <td>0</td>\n",
       "      <td>1</td>\n",
       "    </tr>\n",
       "    <tr>\n",
       "      <th>2</th>\n",
       "      <td>7.8</td>\n",
       "      <td>0.76</td>\n",
       "      <td>0.04</td>\n",
       "      <td>2.3</td>\n",
       "      <td>0.092</td>\n",
       "      <td>15.0</td>\n",
       "      <td>54.0</td>\n",
       "      <td>0.9970</td>\n",
       "      <td>3.26</td>\n",
       "      <td>0.65</td>\n",
       "      <td>9.8</td>\n",
       "      <td>0</td>\n",
       "      <td>1</td>\n",
       "    </tr>\n",
       "    <tr>\n",
       "      <th>3</th>\n",
       "      <td>11.2</td>\n",
       "      <td>0.28</td>\n",
       "      <td>0.56</td>\n",
       "      <td>1.9</td>\n",
       "      <td>0.075</td>\n",
       "      <td>17.0</td>\n",
       "      <td>60.0</td>\n",
       "      <td>0.9980</td>\n",
       "      <td>3.16</td>\n",
       "      <td>0.58</td>\n",
       "      <td>9.8</td>\n",
       "      <td>0</td>\n",
       "      <td>2</td>\n",
       "    </tr>\n",
       "    <tr>\n",
       "      <th>4</th>\n",
       "      <td>7.4</td>\n",
       "      <td>0.70</td>\n",
       "      <td>0.00</td>\n",
       "      <td>1.9</td>\n",
       "      <td>0.076</td>\n",
       "      <td>11.0</td>\n",
       "      <td>34.0</td>\n",
       "      <td>0.9978</td>\n",
       "      <td>3.51</td>\n",
       "      <td>0.56</td>\n",
       "      <td>9.4</td>\n",
       "      <td>0</td>\n",
       "      <td>1</td>\n",
       "    </tr>\n",
       "  </tbody>\n",
       "</table>\n",
       "</div>"
      ],
      "text/plain": [
       "   fixed acidity  volatile acidity  citric acid  residual sugar  chlorides  \\\n",
       "0            7.4              0.70         0.00             1.9      0.076   \n",
       "1            7.8              0.88         0.00             2.6      0.098   \n",
       "2            7.8              0.76         0.04             2.3      0.092   \n",
       "3           11.2              0.28         0.56             1.9      0.075   \n",
       "4            7.4              0.70         0.00             1.9      0.076   \n",
       "\n",
       "   free sulfur dioxide  total sulfur dioxide  density    pH  sulphates  \\\n",
       "0                 11.0                  34.0   0.9978  3.51       0.56   \n",
       "1                 25.0                  67.0   0.9968  3.20       0.68   \n",
       "2                 15.0                  54.0   0.9970  3.26       0.65   \n",
       "3                 17.0                  60.0   0.9980  3.16       0.58   \n",
       "4                 11.0                  34.0   0.9978  3.51       0.56   \n",
       "\n",
       "   alcohol  type  quality  \n",
       "0      9.4     0        1  \n",
       "1      9.8     0        1  \n",
       "2      9.8     0        1  \n",
       "3      9.8     0        2  \n",
       "4      9.4     0        1  "
      ]
     },
     "execution_count": 7,
     "metadata": {},
     "output_type": "execute_result"
    }
   ],
   "source": [
    "df = df.reindex(columns=['fixed acidity', 'volatile acidity', 'citric acid', \n",
    "                       'residual sugar', 'chlorides', 'free sulfur dioxide',\n",
    "                       'total sulfur dioxide', 'density', 'pH', 'sulphates', \n",
    "                       'alcohol', 'type', 'quality'])\n",
    "df.head()"
   ]
  },
  {
   "cell_type": "markdown",
   "id": "4c976341",
   "metadata": {},
   "source": [
    "Amb el describe() podrem veure alguns valors estadístics per a cada columna. Com la mitjana, la desviació estàndard, els quartils, etcètera."
   ]
  },
  {
   "cell_type": "code",
   "execution_count": 8,
   "id": "55b75913",
   "metadata": {},
   "outputs": [
    {
     "data": {
      "text/html": [
       "<div>\n",
       "<style scoped>\n",
       "    .dataframe tbody tr th:only-of-type {\n",
       "        vertical-align: middle;\n",
       "    }\n",
       "\n",
       "    .dataframe tbody tr th {\n",
       "        vertical-align: top;\n",
       "    }\n",
       "\n",
       "    .dataframe thead th {\n",
       "        text-align: right;\n",
       "    }\n",
       "</style>\n",
       "<table border=\"1\" class=\"dataframe\">\n",
       "  <thead>\n",
       "    <tr style=\"text-align: right;\">\n",
       "      <th></th>\n",
       "      <th>fixed acidity</th>\n",
       "      <th>volatile acidity</th>\n",
       "      <th>citric acid</th>\n",
       "      <th>residual sugar</th>\n",
       "      <th>chlorides</th>\n",
       "      <th>free sulfur dioxide</th>\n",
       "      <th>total sulfur dioxide</th>\n",
       "      <th>density</th>\n",
       "      <th>pH</th>\n",
       "      <th>sulphates</th>\n",
       "      <th>alcohol</th>\n",
       "      <th>type</th>\n",
       "      <th>quality</th>\n",
       "    </tr>\n",
       "  </thead>\n",
       "  <tbody>\n",
       "    <tr>\n",
       "      <th>count</th>\n",
       "      <td>6497.000000</td>\n",
       "      <td>6497.000000</td>\n",
       "      <td>6497.000000</td>\n",
       "      <td>6497.000000</td>\n",
       "      <td>6497.000000</td>\n",
       "      <td>6497.000000</td>\n",
       "      <td>6497.000000</td>\n",
       "      <td>6497.000000</td>\n",
       "      <td>6497.000000</td>\n",
       "      <td>6497.000000</td>\n",
       "      <td>6497.000000</td>\n",
       "      <td>6497.000000</td>\n",
       "      <td>6497.000000</td>\n",
       "    </tr>\n",
       "    <tr>\n",
       "      <th>mean</th>\n",
       "      <td>7.215307</td>\n",
       "      <td>0.339666</td>\n",
       "      <td>0.318633</td>\n",
       "      <td>5.443235</td>\n",
       "      <td>0.056034</td>\n",
       "      <td>30.525319</td>\n",
       "      <td>115.744574</td>\n",
       "      <td>0.994697</td>\n",
       "      <td>3.218501</td>\n",
       "      <td>0.531268</td>\n",
       "      <td>10.491801</td>\n",
       "      <td>0.753886</td>\n",
       "      <td>1.829614</td>\n",
       "    </tr>\n",
       "    <tr>\n",
       "      <th>std</th>\n",
       "      <td>1.296434</td>\n",
       "      <td>0.164636</td>\n",
       "      <td>0.145318</td>\n",
       "      <td>4.757804</td>\n",
       "      <td>0.035034</td>\n",
       "      <td>17.749400</td>\n",
       "      <td>56.521855</td>\n",
       "      <td>0.002999</td>\n",
       "      <td>0.160787</td>\n",
       "      <td>0.148806</td>\n",
       "      <td>1.192712</td>\n",
       "      <td>0.430779</td>\n",
       "      <td>0.731124</td>\n",
       "    </tr>\n",
       "    <tr>\n",
       "      <th>min</th>\n",
       "      <td>3.800000</td>\n",
       "      <td>0.080000</td>\n",
       "      <td>0.000000</td>\n",
       "      <td>0.600000</td>\n",
       "      <td>0.009000</td>\n",
       "      <td>1.000000</td>\n",
       "      <td>6.000000</td>\n",
       "      <td>0.987110</td>\n",
       "      <td>2.720000</td>\n",
       "      <td>0.220000</td>\n",
       "      <td>8.000000</td>\n",
       "      <td>0.000000</td>\n",
       "      <td>1.000000</td>\n",
       "    </tr>\n",
       "    <tr>\n",
       "      <th>25%</th>\n",
       "      <td>6.400000</td>\n",
       "      <td>0.230000</td>\n",
       "      <td>0.250000</td>\n",
       "      <td>1.800000</td>\n",
       "      <td>0.038000</td>\n",
       "      <td>17.000000</td>\n",
       "      <td>77.000000</td>\n",
       "      <td>0.992340</td>\n",
       "      <td>3.110000</td>\n",
       "      <td>0.430000</td>\n",
       "      <td>9.500000</td>\n",
       "      <td>1.000000</td>\n",
       "      <td>1.000000</td>\n",
       "    </tr>\n",
       "    <tr>\n",
       "      <th>50%</th>\n",
       "      <td>7.000000</td>\n",
       "      <td>0.290000</td>\n",
       "      <td>0.310000</td>\n",
       "      <td>3.000000</td>\n",
       "      <td>0.047000</td>\n",
       "      <td>29.000000</td>\n",
       "      <td>118.000000</td>\n",
       "      <td>0.994890</td>\n",
       "      <td>3.210000</td>\n",
       "      <td>0.510000</td>\n",
       "      <td>10.300000</td>\n",
       "      <td>1.000000</td>\n",
       "      <td>2.000000</td>\n",
       "    </tr>\n",
       "    <tr>\n",
       "      <th>75%</th>\n",
       "      <td>7.700000</td>\n",
       "      <td>0.400000</td>\n",
       "      <td>0.390000</td>\n",
       "      <td>8.100000</td>\n",
       "      <td>0.065000</td>\n",
       "      <td>41.000000</td>\n",
       "      <td>156.000000</td>\n",
       "      <td>0.996990</td>\n",
       "      <td>3.320000</td>\n",
       "      <td>0.600000</td>\n",
       "      <td>11.300000</td>\n",
       "      <td>1.000000</td>\n",
       "      <td>2.000000</td>\n",
       "    </tr>\n",
       "    <tr>\n",
       "      <th>max</th>\n",
       "      <td>15.900000</td>\n",
       "      <td>1.580000</td>\n",
       "      <td>1.660000</td>\n",
       "      <td>65.800000</td>\n",
       "      <td>0.611000</td>\n",
       "      <td>289.000000</td>\n",
       "      <td>440.000000</td>\n",
       "      <td>1.038980</td>\n",
       "      <td>4.010000</td>\n",
       "      <td>2.000000</td>\n",
       "      <td>14.900000</td>\n",
       "      <td>1.000000</td>\n",
       "      <td>3.000000</td>\n",
       "    </tr>\n",
       "  </tbody>\n",
       "</table>\n",
       "</div>"
      ],
      "text/plain": [
       "       fixed acidity  volatile acidity  citric acid  residual sugar  \\\n",
       "count    6497.000000       6497.000000  6497.000000     6497.000000   \n",
       "mean        7.215307          0.339666     0.318633        5.443235   \n",
       "std         1.296434          0.164636     0.145318        4.757804   \n",
       "min         3.800000          0.080000     0.000000        0.600000   \n",
       "25%         6.400000          0.230000     0.250000        1.800000   \n",
       "50%         7.000000          0.290000     0.310000        3.000000   \n",
       "75%         7.700000          0.400000     0.390000        8.100000   \n",
       "max        15.900000          1.580000     1.660000       65.800000   \n",
       "\n",
       "         chlorides  free sulfur dioxide  total sulfur dioxide      density  \\\n",
       "count  6497.000000          6497.000000           6497.000000  6497.000000   \n",
       "mean      0.056034            30.525319            115.744574     0.994697   \n",
       "std       0.035034            17.749400             56.521855     0.002999   \n",
       "min       0.009000             1.000000              6.000000     0.987110   \n",
       "25%       0.038000            17.000000             77.000000     0.992340   \n",
       "50%       0.047000            29.000000            118.000000     0.994890   \n",
       "75%       0.065000            41.000000            156.000000     0.996990   \n",
       "max       0.611000           289.000000            440.000000     1.038980   \n",
       "\n",
       "                pH    sulphates      alcohol         type      quality  \n",
       "count  6497.000000  6497.000000  6497.000000  6497.000000  6497.000000  \n",
       "mean      3.218501     0.531268    10.491801     0.753886     1.829614  \n",
       "std       0.160787     0.148806     1.192712     0.430779     0.731124  \n",
       "min       2.720000     0.220000     8.000000     0.000000     1.000000  \n",
       "25%       3.110000     0.430000     9.500000     1.000000     1.000000  \n",
       "50%       3.210000     0.510000    10.300000     1.000000     2.000000  \n",
       "75%       3.320000     0.600000    11.300000     1.000000     2.000000  \n",
       "max       4.010000     2.000000    14.900000     1.000000     3.000000  "
      ]
     },
     "execution_count": 8,
     "metadata": {},
     "output_type": "execute_result"
    }
   ],
   "source": [
    "df.describe()"
   ]
  },
  {
   "cell_type": "markdown",
   "id": "b2a6a64d",
   "metadata": {},
   "source": [
    "Amb la funció info() podem veure quantes files hi ha al dataframe i el seu tipus, com veim totes les columnes consten de valors numérics"
   ]
  },
  {
   "cell_type": "code",
   "execution_count": 9,
   "id": "ca795771",
   "metadata": {},
   "outputs": [
    {
     "name": "stdout",
     "output_type": "stream",
     "text": [
      "<class 'pandas.core.frame.DataFrame'>\n",
      "Int64Index: 6497 entries, 0 to 4897\n",
      "Data columns (total 13 columns):\n",
      " #   Column                Non-Null Count  Dtype  \n",
      "---  ------                --------------  -----  \n",
      " 0   fixed acidity         6497 non-null   float64\n",
      " 1   volatile acidity      6497 non-null   float64\n",
      " 2   citric acid           6497 non-null   float64\n",
      " 3   residual sugar        6497 non-null   float64\n",
      " 4   chlorides             6497 non-null   float64\n",
      " 5   free sulfur dioxide   6497 non-null   float64\n",
      " 6   total sulfur dioxide  6497 non-null   float64\n",
      " 7   density               6497 non-null   float64\n",
      " 8   pH                    6497 non-null   float64\n",
      " 9   sulphates             6497 non-null   float64\n",
      " 10  alcohol               6497 non-null   float64\n",
      " 11  type                  6497 non-null   int32  \n",
      " 12  quality               6497 non-null   int64  \n",
      "dtypes: float64(11), int32(1), int64(1)\n",
      "memory usage: 685.2 KB\n"
     ]
    }
   ],
   "source": [
    "df.info()"
   ]
  },
  {
   "cell_type": "markdown",
   "id": "d860288f",
   "metadata": {},
   "source": [
    "## Visualització i neteja de les dades\n",
    "\n",
    "En aquest apartat farem diverses representacións gràfiques de les dades per poder visualitzar-les i decidir si llevam alguna mostra."
   ]
  },
  {
   "cell_type": "markdown",
   "id": "6760e9ec",
   "metadata": {},
   "source": [
    "Miram quants de vins de cada qualitat hi ha"
   ]
  },
  {
   "cell_type": "code",
   "execution_count": 10,
   "id": "71d7c178",
   "metadata": {},
   "outputs": [
    {
     "data": {
      "text/plain": [
       "2    2836\n",
       "1    2384\n",
       "3    1277\n",
       "Name: quality, dtype: int64"
      ]
     },
     "execution_count": 10,
     "metadata": {},
     "output_type": "execute_result"
    }
   ],
   "source": [
    "df['quality'].value_counts()"
   ]
  },
  {
   "cell_type": "markdown",
   "id": "f48e201e",
   "metadata": {},
   "source": [
    "Amb el boxplot podem veure el màxim i mínim no atípic, els quartils, el rang interquartil, la mitjana i els outliers de cada característica"
   ]
  },
  {
   "cell_type": "code",
   "execution_count": 11,
   "id": "710102bc",
   "metadata": {},
   "outputs": [
    {
     "data": {
      "text/plain": [
       "<AxesSubplot:>"
      ]
     },
     "execution_count": 11,
     "metadata": {},
     "output_type": "execute_result"
    },
    {
     "data": {
      "image/png": "[encoded data removed]",
      "text/plain": [
       "<Figure size 1800x504 with 1 Axes>"
      ]
     },
     "metadata": {
      "needs_background": "light"
     },
     "output_type": "display_data"
    }
   ],
   "source": [
    "df.boxplot(figsize=(25,7))"
   ]
  },
  {
   "cell_type": "markdown",
   "id": "a386933e",
   "metadata": {},
   "source": [
    "Com podem veure tenim molts d'outliers, així que eliminarem els valors que estiguin per davall del percentil 0.5% i per damunt del 99.5%\n",
    "\n",
    "Una altra manera de fer-ho és amb el següent codi que empra una fórmula basada en el rang interquartil, però trobàvem que eliminava massa files.\n",
    "```python\n",
    "Q1 = df.quantile(0.25)\n",
    "Q3 = df.quantile(0.75)\n",
    "IQR = Q3 - Q1\n",
    "df = df[~((df[cols] < (Q1 - 1.5 * IQR)) |(df[cols] > (Q3 + 1.5 * IQR))).any(axis=1)]\n",
    "```"
   ]
  },
  {
   "cell_type": "code",
   "execution_count": 12,
   "id": "a85c6f0c",
   "metadata": {},
   "outputs": [
    {
     "name": "stdout",
     "output_type": "stream",
     "text": [
      "Forma:  (6497, 13)\n",
      "Forma de després d'eliminar els outliers:  (5777, 13)\n"
     ]
    },
    {
     "data": {
      "text/plain": [
       "<AxesSubplot:>"
      ]
     },
     "execution_count": 12,
     "metadata": {},
     "output_type": "execute_result"
    },
    {
     "data": {
      "image/png": "[encoded data removed]",
      "text/plain": [
       "<Figure size 1800x504 with 1 Axes>"
      ]
     },
     "metadata": {
      "needs_background": "light"
     },
     "output_type": "display_data"
    }
   ],
   "source": [
    "cols= ['fixed acidity', 'volatile acidity', 'citric acid', \n",
    "                       'residual sugar', 'chlorides', 'free sulfur dioxide',\n",
    "                       'total sulfur dioxide', 'density', 'pH', 'sulphates', \n",
    "                       'alcohol']\n",
    "\n",
    "Q01=df.quantile(0.005)\n",
    "Q99=df.quantile(0.995)\n",
    "\n",
    "print(\"Forma: \",df.shape)\n",
    "for col in cols:\n",
    "    df = df.drop(df[((df[col] < Q01[col]) | (df[col] > Q99[col]))].index)\n",
    "\n",
    "print(\"Forma de després d'eliminar els outliers: \",df.shape)\n",
    "df.boxplot(figsize=(25,7))\n"
   ]
  },
  {
   "cell_type": "code",
   "execution_count": 13,
   "id": "5619b0b6",
   "metadata": {},
   "outputs": [
    {
     "data": {
      "text/plain": [
       "2    2558\n",
       "1    2101\n",
       "3    1118\n",
       "Name: quality, dtype: int64"
      ]
     },
     "execution_count": 13,
     "metadata": {},
     "output_type": "execute_result"
    }
   ],
   "source": [
    "df['quality'].value_counts()"
   ]
  },
  {
   "cell_type": "markdown",
   "id": "a2eccc45",
   "metadata": {},
   "source": [
    "Visualitzam les correlacions de les característiques entre elles amb una matriu de correlacions, això ho feim per saber quines característiques estan més o menys relacionades entre si"
   ]
  },
  {
   "cell_type": "code",
   "execution_count": 14,
   "id": "47f322ac",
   "metadata": {},
   "outputs": [
    {
     "data": {
      "text/plain": [
       "<AxesSubplot:>"
      ]
     },
     "execution_count": 14,
     "metadata": {},
     "output_type": "execute_result"
    },
    {
     "data": {
      "image/png": "[encoded data removed]",
      "text/plain": [
       "<Figure size 792x648 with 2 Axes>"
      ]
     },
     "metadata": {
      "needs_background": "light"
     },
     "output_type": "display_data"
    }
   ],
   "source": [
    "corr = df.corr()\n",
    "\n",
    "# Generam una màscara pel triangle superior\n",
    "mask = np.triu(np.ones_like(corr, dtype=bool))\n",
    "\n",
    "# Preparam el gràfic de pyplot\n",
    "f, ax = plt.subplots(figsize=(11, 9))\n",
    "\n",
    "# Dibuixam el mapa de calor amb la màscara i alguns paràmetres extra per millorar el resultat visual\n",
    "sns.heatmap(corr, mask=mask, cmap=\"flare\", square=True, linewidths=.25, cbar_kws={\"shrink\": .75})\n"
   ]
  },
  {
   "cell_type": "markdown",
   "id": "871b84f2",
   "metadata": {},
   "source": [
    "Graficam el valor que prenen les característiques númeriques del dataframe mitjançant un histograma"
   ]
  },
  {
   "cell_type": "code",
   "execution_count": 15,
   "id": "401c3257",
   "metadata": {},
   "outputs": [
    {
     "data": {
      "text/plain": [
       "array([[<AxesSubplot:title={'center':'fixed acidity'}>,\n",
       "        <AxesSubplot:title={'center':'volatile acidity'}>,\n",
       "        <AxesSubplot:title={'center':'citric acid'}>],\n",
       "       [<AxesSubplot:title={'center':'residual sugar'}>,\n",
       "        <AxesSubplot:title={'center':'chlorides'}>,\n",
       "        <AxesSubplot:title={'center':'free sulfur dioxide'}>],\n",
       "       [<AxesSubplot:title={'center':'total sulfur dioxide'}>,\n",
       "        <AxesSubplot:title={'center':'density'}>,\n",
       "        <AxesSubplot:title={'center':'pH'}>],\n",
       "       [<AxesSubplot:title={'center':'sulphates'}>,\n",
       "        <AxesSubplot:title={'center':'alcohol'}>,\n",
       "        <AxesSubplot:title={'center':'quality'}>]], dtype=object)"
      ]
     },
     "execution_count": 15,
     "metadata": {},
     "output_type": "execute_result"
    },
    {
     "data": {
      "image/png": "[encoded data removed]",
      "text/plain": [
       "<Figure size 720x720 with 12 Axes>"
      ]
     },
     "metadata": {
      "needs_background": "light"
     },
     "output_type": "display_data"
    }
   ],
   "source": [
    "df.drop(\"type\", axis=1).hist(figsize=(10,10), grid=False)"
   ]
  },
  {
   "cell_type": "markdown",
   "id": "62a9a3cf",
   "metadata": {},
   "source": [
    "Gràfic cirular en el que podem veure la proporció de vi blanc i vermell del dataframe"
   ]
  },
  {
   "cell_type": "code",
   "execution_count": 16,
   "id": "2fa060d5",
   "metadata": {},
   "outputs": [
    {
     "name": "stdout",
     "output_type": "stream",
     "text": [
      "1    76.458369\n",
      "0    23.541631\n",
      "Name: type, dtype: float64\n"
     ]
    },
    {
     "data": {
      "image/png": "[encoded data removed]",
      "text/plain": [
       "<Figure size 432x288 with 1 Axes>"
      ]
     },
     "metadata": {},
     "output_type": "display_data"
    }
   ],
   "source": [
    "plt.pie(df['type'].value_counts(), labels = [\"White\",\"Red\"], colors=[\"khaki\",\"Maroon\"])\n",
    "print(df['type'].value_counts(normalize=True)*100)"
   ]
  },
  {
   "cell_type": "markdown",
   "id": "d0244528",
   "metadata": {},
   "source": [
    "## Separació del conjunt d'entrenament i el de test"
   ]
  },
  {
   "cell_type": "markdown",
   "id": "e6485ed9",
   "metadata": {},
   "source": [
    "Mesclam el dataframe i carregam les dades a les variables *features* (característiques) i *labels* (etiquetes)."
   ]
  },
  {
   "cell_type": "code",
   "execution_count": 17,
   "id": "d0244528",
   "metadata": {},
   "outputs": [],
   "source": [
    "min_max_scaler = preprocessing.MinMaxScaler()\n",
    "df = df.sample(frac=1) #No faria faltar mesclar-ho ja que després els classificadors faran un shuffle internament.\n",
    "\n",
    "features, labels = load_data(df)"
   ]
  },
  {
   "cell_type": "markdown",
   "id": "e6a8121c",
   "metadata": {},
   "source": [
    "Per separar les dades en els conjunts d'entrenament i de test hem emprat la funció train_test_split\n",
    "\n",
    "Hem decidit emprar un 80% entrenament i un 20% de test ja que  amb un valor més baix d'entrenament el model de regressió logistica i el del perceptró presentaven *underfitting* \n"
   ]
  },
  {
   "cell_type": "code",
   "execution_count": 18,
   "id": "4c90c2f1",
   "metadata": {},
   "outputs": [],
   "source": [
    "X_train, X_test, y_train, y_test = train_test_split(features, labels, test_size=0.2, random_state=42)"
   ]
  },
  {
   "cell_type": "markdown",
   "id": "eaf550f3",
   "metadata": {},
   "source": [
    "# **Classificadors**"
   ]
  },
  {
   "cell_type": "markdown",
   "id": "77ffd632",
   "metadata": {},
   "source": [
    "Per a cada model imprimim el seu classification report, la precisió de training i la de testing. A més, guardam aquests dos valors dins dos dataframes externs per després poder comparar les modificacions que farem al dataframe original.\n",
    "\n",
    "Hem decidit fer els models dins funcions per poder cridar-les des de l'apartat d'[Enginyeria de característiques/Proves](#Proves) fora haver de reescriure el codi."
   ]
  },
  {
   "cell_type": "code",
   "execution_count": 19,
   "id": "d77cb30c",
   "metadata": {},
   "outputs": [],
   "source": [
    "dfTrainAccuracy = pd.DataFrame(columns=['Regressió Logística','Perceptró','Random Forest'])\n",
    "dfTestAccuracy = pd.DataFrame(columns=['Regressió Logística','Perceptró','Random Forest'])"
   ]
  },
  {
   "cell_type": "markdown",
   "id": "4833d93f",
   "metadata": {},
   "source": [
    "## Regressió Logística"
   ]
  },
  {
   "cell_type": "markdown",
   "id": "3641aa45",
   "metadata": {},
   "source": [
    "Hem decidit donar-li valor al hiperparàmetre max_iters perquè amb el valor per defecte no arribava a convergir."
   ]
  },
  {
   "cell_type": "code",
   "execution_count": 20,
   "id": "6d4978fa",
   "metadata": {},
   "outputs": [
    {
     "name": "stdout",
     "output_type": "stream",
     "text": [
      "\n",
      "Regressio Logística:\n",
      "              precision    recall  f1-score   support\n",
      "\n",
      "           1       0.65      0.67      0.66       403\n",
      "           2       0.56      0.69      0.62       516\n",
      "           3       0.61      0.28      0.38       237\n",
      "\n",
      "    accuracy                           0.60      1156\n",
      "   macro avg       0.61      0.54      0.55      1156\n",
      "weighted avg       0.60      0.60      0.58      1156\n",
      "\n",
      "training accuracy: 57.73642068816274\n",
      "testing accuracy: 59.688581314878896\n",
      "\n",
      "Confusion Matrix\n"
     ]
    },
    {
     "data": {
      "image/png": "[encoded data removed]",
      "text/plain": [
       "<Figure size 432x288 with 2 Axes>"
      ]
     },
     "metadata": {
      "needs_background": "light"
     },
     "output_type": "display_data"
    }
   ],
   "source": [
    "def RegressioLogistica(df, nom):\n",
    "    #Carregam les dades del dataframe i cream les variables de Train i Test\n",
    "    features, labels = load_data(df)\n",
    "    X_train, X_test, y_train, y_test = train_test_split(features, labels, test_size=0.2, random_state=42)\n",
    "    \n",
    "    #Cream una instancia del classificador\n",
    "    logreg = LogisticRegression(max_iter=200)\n",
    "    \n",
    "    #Entrenam el classificador amb les dades de train\n",
    "    logreg.fit(X_train,y_train)\n",
    "    \n",
    "    #Feim una predicció amb les dades de Test\n",
    "    y_predict = logreg.predict(X_test)\n",
    "    \n",
    "    #Imprimim un classification report del test\n",
    "    print(\"\\nRegressio Logística:\")\n",
    "    print(classification_report(y_test, y_predict, zero_division=0))\n",
    "    \n",
    "    #Feim un score amb les dades de train i test per veure l'accuracy dels dos sets de dades\n",
    "    training_accuracy = logreg.score(X_train,y_train)\n",
    "    testing_accuracy = logreg.score(X_test,y_test)\n",
    "    print('training accuracy:', training_accuracy*100)    \n",
    "    print('testing accuracy:', testing_accuracy*100)\n",
    "    \n",
    "    #Afegim les dades a dos dataframes externs per després poder fer comparacions\n",
    "    dfTrainAccuracy.at[nom,'Regressió Logística']=training_accuracy*100\n",
    "    dfTestAccuracy.at[nom,'Regressió Logística']=testing_accuracy*100 \n",
    "    \n",
    "    #Cream una matriu de confusió amb les dades del test\n",
    "    print(\"\\nConfusion Matrix\")\n",
    "    ConfusionMatrixDisplay(confusion_matrix(y_test,y_predict, labels=logreg.classes_), display_labels=logreg.classes_).plot()\n",
    "    \n",
    "    plt.show()\n",
    "\n",
    "RegressioLogistica(df, \"Original\")"
   ]
  },
  {
   "cell_type": "markdown",
   "id": "26c53817",
   "metadata": {},
   "source": [
    "## Perceptró"
   ]
  },
  {
   "cell_type": "code",
   "execution_count": 21,
   "id": "eee48c24",
   "metadata": {},
   "outputs": [
    {
     "name": "stdout",
     "output_type": "stream",
     "text": [
      "\n",
      "Perceptró:\n",
      "              precision    recall  f1-score   support\n",
      "\n",
      "           1       0.45      0.81      0.58       403\n",
      "           2       0.54      0.39      0.46       516\n",
      "           3       0.64      0.15      0.24       237\n",
      "\n",
      "    accuracy                           0.49      1156\n",
      "   macro avg       0.54      0.45      0.42      1156\n",
      "weighted avg       0.53      0.49      0.45      1156\n",
      "\n",
      "training accuracy: 47.5871023587968\n",
      "testing accuracy: 48.702422145328725\n",
      "\n",
      "Confusion Matrix\n"
     ]
    },
    {
     "data": {
      "image/png": "[encoded data removed]",
      "text/plain": [
       "<Figure size 432x288 with 2 Axes>"
      ]
     },
     "metadata": {
      "needs_background": "light"
     },
     "output_type": "display_data"
    }
   ],
   "source": [
    "def Perceptro(df, nom):\n",
    "    #Carregam les dades del dataframe i cream les variables de Train i Test\n",
    "    features, labels = load_data(df)\n",
    "    X_train, X_test, y_train, y_test = train_test_split(features, labels, test_size=0.2, random_state=42)\n",
    "    \n",
    "    #Cream una instancia del classificador\n",
    "    perceptron = Perceptron(max_iter=5000)\n",
    "    \n",
    "    #Entrenam el classificador amb les dades de train\n",
    "    perceptron.fit(X_train,y_train)\n",
    "    \n",
    "    #Feim una predicció amb les dades de Test\n",
    "    y_predict = perceptron.predict(X_test)\n",
    "    \n",
    "    #Imprimim un classification report del test\n",
    "    print(\"\\nPerceptró:\")\n",
    "    print(classification_report(y_test, y_predict, zero_division=0))\n",
    "    \n",
    "    #Feim un score amb les dades de train i test per veure l'accuracy dels dos sets de dades\n",
    "    training_accuracy = perceptron.score(X_train,y_train)\n",
    "    testing_accuracy = perceptron.score(X_test,y_test)\n",
    "    print('training accuracy:', training_accuracy*100)    \n",
    "    print('testing accuracy:', testing_accuracy*100)\n",
    "    \n",
    "    #Afegim les dades a dos dataframes externs per després poder fer comparacions\n",
    "    dfTrainAccuracy.at[nom,'Perceptró']=training_accuracy*100\n",
    "    dfTestAccuracy.at[nom,'Perceptró']=testing_accuracy*100 \n",
    "    \n",
    "    #Cream una matriu de confusió amb les dades del test\n",
    "    print(\"\\nConfusion Matrix\")\n",
    "    ConfusionMatrixDisplay(confusion_matrix(y_test,y_predict, labels=perceptron.classes_), display_labels=perceptron.classes_).plot()\n",
    "    \n",
    "    plt.show()\n",
    "\n",
    "Perceptro(df, \"Original\")"
   ]
  },
  {
   "cell_type": "markdown",
   "id": "70b8b61e",
   "metadata": {},
   "source": [
    "## Random Forest"
   ]
  },
  {
   "cell_type": "code",
   "execution_count": 22,
   "id": "b2cebbdb",
   "metadata": {},
   "outputs": [
    {
     "name": "stdout",
     "output_type": "stream",
     "text": [
      "\n",
      "Random Forest:\n",
      "              precision    recall  f1-score   support\n",
      "\n",
      "           1       0.77      0.77      0.77       403\n",
      "           2       0.69      0.75      0.72       516\n",
      "           3       0.75      0.62      0.68       237\n",
      "\n",
      "    accuracy                           0.73      1156\n",
      "   macro avg       0.74      0.71      0.72      1156\n",
      "weighted avg       0.73      0.73      0.73      1156\n",
      "\n",
      "training accuracy: 100.0\n",
      "testing accuracy: 73.01038062283737\n",
      "\n",
      "Confusion Matrix\n"
     ]
    },
    {
     "data": {
      "image/png": "[encoded data removed]",
      "text/plain": [
       "<Figure size 432x288 with 2 Axes>"
      ]
     },
     "metadata": {
      "needs_background": "light"
     },
     "output_type": "display_data"
    }
   ],
   "source": [
    "def RandomForest(df, nom):\n",
    "    #Carregam les dades del dataframe i cream les variables de Train i Test\n",
    "    features, labels = load_data(df)\n",
    "    X_train, X_test, y_train, y_test = train_test_split(features, labels, test_size=0.2, random_state=42)\n",
    "    \n",
    "    #Cream una instancia del classificador\n",
    "    rf = RandomForestClassifier()\n",
    "    \n",
    "    #Entrenam el classificador amb les dades de train\n",
    "    rf.fit(X_train,y_train)\n",
    "    \n",
    "    #Feim una predicció amb les dades de Test\n",
    "    y_predict = rf.predict(X_test)\n",
    "    \n",
    "    #Imprimim un classification report del test\n",
    "    print(\"\\nRandom Forest:\")\n",
    "    print(classification_report(y_test, y_predict, zero_division=0))\n",
    "    \n",
    "    #Feim un score amb les dades de train i test per veure l'accuracy dels dos sets de dades\n",
    "    training_accuracy = rf.score(X_train,y_train)\n",
    "    testing_accuracy = rf.score(X_test,y_test)\n",
    "    print('training accuracy:', training_accuracy*100)    \n",
    "    print('testing accuracy:', testing_accuracy*100)\n",
    "    \n",
    "    #Afegim les dades a dos dataframes externs per després poder fer comparacions\n",
    "    dfTrainAccuracy.at[nom,'Random Forest']=training_accuracy*100\n",
    "    dfTestAccuracy.at[nom,'Random Forest']=testing_accuracy*100 \n",
    "    \n",
    "    #Cream una matriu de confusió amb les dades del test\n",
    "    print(\"\\nConfusion Matrix\")\n",
    "    ConfusionMatrixDisplay(confusion_matrix(y_test,y_predict, labels=rf.classes_), display_labels=rf.classes_).plot()\n",
    "    \n",
    "    plt.show()\n",
    "\n",
    "RandomForest(df, \"Original\")"
   ]
  },
  {
   "cell_type": "markdown",
   "id": "96654cb7",
   "metadata": {},
   "source": [
    "## Conclusions\n",
    "\n",
    "En aquest apartat procedirem a exposar les conclusions obtingudes després d'analitzar els resultats dels tres models amb les dades originals, que han estat prèviement normalitzades, eliminats els *outliers* majors al percentil 99.5% i menors al 0.5% i transformades les qualitats numèriques a qualitats categòriques.\n",
    "\n",
    "\n",
    "\n",
    "A l'hora de jutjar les precisions mitjanes, es tendrà en compte la mitjana ponderada ja que la quantitat de mostres d'uns tipus de qualitat és bastant més elevada que la resta i no volem que tenguin el mateix impacte.\n",
    "\n",
    "- **Regressió Logística**\n",
    "    - Com podem observar, els vins de qualitat Baixa tenen el valor més alt de *f1-score*.\n",
    "- **Perceptró**\n",
    "    - El perceptró és el model de classificació que té la precisió general més baixa.\n",
    "- **Random Forest**\n",
    "    - Amb aquest model s'obtenen uns valors de precisió, *accuracy* i *f1-score* superiors amb diferència als altres models però es segueix mantenint la dinàmica de que els vins de qualitat Baixa tenen uns millors valors.\n",
    "    - El Random Forest té un *training accuracy* del 100%, que podria ser un indicador d'*overfitting*. Això es podria solucionar amb l'hiperparàmetre *max_depth* del Random Forest, el que limitaria la profunditat de l'arbre i evitaria que el model tengués *overfitting*. Pel que fa a la matriu de confusió, es mostren valors esperables, i té el millor *f1-score* d'entre tots els altres models.\n",
    "\n",
    "<br/>\n",
    "- Pel que fa a les mitjanes de Precisió, el Random Forest és el que destaca, amb un valor de precisió mitjà del 73%. En front de les altres dues, Regressió Logística i Perceptró, amb uns valors de 60% i 53% respectivament.\n"
   ]
  },
  {
   "cell_type": "markdown",
   "id": "86af37b7",
   "metadata": {},
   "source": [
    "# **Enginyeria de característiques**"
   ]
  },
  {
   "cell_type": "markdown",
   "id": "8cb56851",
   "metadata": {},
   "source": [
    "L'enginyeria de característiques (feature engineering) és el procés de selecció, extracció, creació i transformació de les característiques d'un dataset amb l'objectiu de millorar l'eficàcia d'un model predictiu.\n",
    "\n",
    "Per dur a terme l'enginyeria de característiques hem seguit els següents apartats: \n",
    "- **Feature importances dels models**: Ens permet saber la importància de cada característica dins cada model amb el fí d'eliminar les característiques menys importants.\n",
    "- **Correlacions màximes i mínimes**: Ens permet saber quines característiques tenen major correlació entre elles. També ens permet saber quines característiques tenen menys correlació amb la qualitat del vi per després poder eliminar-les.\n",
    "- **Feature Selection**: Selecció de les característiques més i menys importants. S'implementaran els següents:\n",
    "   1. Sequential Feature Selection\n",
    "   2. Univariate Feature Selection amb Kbest\n",
    "   3. Recursive Feature Elimination"
   ]
  },
  {
   "cell_type": "code",
   "execution_count": 23,
   "id": "2f37afa4",
   "metadata": {},
   "outputs": [],
   "source": [
    "# Hem de necessitar un dataframe fora la qualitat, ja que els métodes que empram a continuació ens\n",
    "# creen una máscara de les columnes més o menys importants de longitud columnes-1. \n",
    "# Això és degut a que el nostre dataframe inclou la qualitat però els models s'entrenen fora la qualitat\n",
    "# i per tant tenen una columna menys\n",
    "dfWquality=df.drop(\"quality\", axis=1)"
   ]
  },
  {
   "cell_type": "markdown",
   "id": "267594fc",
   "metadata": {},
   "source": [
    "## Feature importances de cada model"
   ]
  },
  {
   "cell_type": "markdown",
   "id": "58731d1c",
   "metadata": {},
   "source": [
    "En aquest apartat emprarem els atributs dels models de classificació desenvolupats anteriorment per triar les dues característiques amb menys importància"
   ]
  },
  {
   "cell_type": "markdown",
   "id": "cffe9dfd",
   "metadata": {},
   "source": [
    "### Regressió logística <a id='Regressio-Logistica'></a>"
   ]
  },
  {
   "cell_type": "code",
   "execution_count": 24,
   "id": "222cce99",
   "metadata": {},
   "outputs": [
    {
     "name": "stdout",
     "output_type": "stream",
     "text": [
      "Millor característica: volatile acidity\n",
      "Pitjor característica alcohol\n"
     ]
    },
    {
     "data": {
      "image/png": "[encoded data removed]",
      "text/plain": [
       "<Figure size 432x288 with 1 Axes>"
      ]
     },
     "metadata": {
      "needs_background": "light"
     },
     "output_type": "display_data"
    }
   ],
   "source": [
    "logreg = LogisticRegression(max_iter=5000)\n",
    "logreg.fit(X_train,y_train)\n",
    "\n",
    "logreg_odds = np.exp(logreg.coef_[0])\n",
    "indices=np.argsort(logreg_odds)\n",
    "\n",
    "fig, ax = plt.subplots()\n",
    "ax.set_title(\"Feature importances for Logistic Regression\")\n",
    "ax.barh(range(len(logreg_odds)), logreg_odds[indices])\n",
    "ax.set_yticks(range(len(logreg_odds)))\n",
    "_ = ax.set_yticklabels(np.array(dfWquality.columns)[indices])\n",
    "\n",
    "print(\"Millor característica:\", dfWquality.columns[indices][-1])\n",
    "pitjorLogReg = dfWquality.columns[indices][0]\n",
    "print(\"Pitjor característica\", pitjorLogReg)"
   ]
  },
  {
   "cell_type": "markdown",
   "id": "32d8dcd5",
   "metadata": {},
   "source": [
    "### Perceptró <a id='Perceptro'></a>"
   ]
  },
  {
   "cell_type": "code",
   "execution_count": 25,
   "id": "65baa0f6",
   "metadata": {},
   "outputs": [
    {
     "name": "stdout",
     "output_type": "stream",
     "text": [
      "Millor característica: volatile acidity\n",
      "Pitjor característica: sulphates\n"
     ]
    },
    {
     "data": {
      "image/png": "[encoded data removed]",
      "text/plain": [
       "<Figure size 432x288 with 1 Axes>"
      ]
     },
     "metadata": {
      "needs_background": "light"
     },
     "output_type": "display_data"
    }
   ],
   "source": [
    "perceptron = Perceptron()\n",
    "perceptron.fit(X_train, y_train)\n",
    "\n",
    "perceptron_odds = np.exp(perceptron.coef_[0])\n",
    "indices=np.argsort(perceptron_odds)\n",
    "\n",
    "fig, ax = plt.subplots()\n",
    "ax.set_title(\"Feature importances for Perceptron\")\n",
    "ax.barh(range(len(perceptron_odds)), perceptron_odds[indices])\n",
    "ax.set_yticks(range(len(perceptron_odds)))\n",
    "_ = ax.set_yticklabels(np.array(dfWquality.columns)[indices])\n",
    "\n",
    "print(\"Millor característica:\", dfWquality.columns[indices][-1])\n",
    "pitjorPerc =dfWquality.columns[indices][0]\n",
    "print(\"Pitjor característica:\", pitjorPerc)"
   ]
  },
  {
   "cell_type": "markdown",
   "id": "6a2a8e7f",
   "metadata": {},
   "source": [
    "### Random Forest <a id='Random-Forest'></a>"
   ]
  },
  {
   "cell_type": "code",
   "execution_count": 26,
   "id": "a6d4358f",
   "metadata": {},
   "outputs": [
    {
     "name": "stdout",
     "output_type": "stream",
     "text": [
      "Millor característica: alcohol\n",
      "Pitjor característica: type\n"
     ]
    },
    {
     "data": {
      "image/png": "[encoded data removed]",
      "text/plain": [
       "<Figure size 432x288 with 1 Axes>"
      ]
     },
     "metadata": {
      "needs_background": "light"
     },
     "output_type": "display_data"
    }
   ],
   "source": [
    "rf = RandomForestClassifier()\n",
    "rf.fit(X_train, y_train)\n",
    "\n",
    "importancesRF = rf.feature_importances_\n",
    "indices = np.argsort(importancesRF)\n",
    "\n",
    "fig, ax = plt.subplots()\n",
    "ax.set_title(\"Feature importances for Random forest\")\n",
    "ax.barh(range(len(importancesRF)), importancesRF[indices])\n",
    "ax.set_yticks(range(len(importancesRF)))\n",
    "_ = ax.set_yticklabels(np.array(dfWquality.columns)[indices])\n",
    "\n",
    "print(\"Millor característica:\", dfWquality.columns[indices][-1])\n",
    "pitjorRF =dfWquality.columns[indices][0]\n",
    "print(\"Pitjor característica:\", pitjorRF)"
   ]
  },
  {
   "cell_type": "markdown",
   "id": "3fabb9b6",
   "metadata": {},
   "source": [
    "### Comparativa entre models\n",
    "| Model | Millor característica | Pitjor característica |\n",
    "| ----------- | ----------- | ----------- |\n",
    "| Regressió Logística | Volatile Acidity | Alcohol |\n",
    "| Perceptró | Free sulfur dioxide | Sulphates |\n",
    "| Random Forest | Alcohol | Type |\n",
    "\n",
    "Ens pareix curiós que a la regressió logística la pitjor característica sigui l'alcohol però al random forest és la més important.\n",
    "\n",
    "Els resultats poden variar depenent de l'execució, aquests valors són els obtinguts a una execució determinada."
   ]
  },
  {
   "cell_type": "markdown",
   "id": "7161be23",
   "metadata": {},
   "source": [
    "## Correlacions màximes i mínimes <a id='Correlacions-Minimes'></a>"
   ]
  },
  {
   "cell_type": "code",
   "execution_count": 27,
   "id": "6f48d0e6",
   "metadata": {},
   "outputs": [
    {
     "name": "stdout",
     "output_type": "stream",
     "text": [
      "Majors Correlacions\n",
      "free sulfur dioxide   total sulfur dioxide    0.722973\n",
      "total sulfur dioxide  free sulfur dioxide     0.722973\n",
      "density               alcohol                 0.710536\n",
      "alcohol               density                 0.710536\n",
      "type                  total sulfur dioxide    0.708479\n",
      "total sulfur dioxide  type                    0.708479\n",
      "type                  volatile acidity        0.665743\n",
      "volatile acidity      type                    0.665743\n",
      "chlorides             type                    0.606634\n",
      "type                  chlorides               0.606634\n",
      "dtype: float64\n",
      "-------------\n",
      "Menors correlacions amb qualitat\n",
      "free sulfur dioxide    0.052301\n",
      "residual sugar         0.050127\n",
      "pH                     0.011648\n",
      "dtype: float64\n"
     ]
    }
   ],
   "source": [
    "c = df.corr().abs()\n",
    "s = c.unstack()\n",
    "so = s.sort_values(kind=\"quicksort\", ascending=False)\n",
    "\n",
    "print(\"Majors Correlacions\")\n",
    "print(so[13:23]) #Les 12 primeres son autocorrelacions\n",
    "print(\"-------------\")\n",
    "print(\"Menors correlacions amb qualitat\")\n",
    "print(so['quality'][10:13])\n",
    "pitjorsCorrelacions=so['quality'][10:13].to_dict().keys()"
   ]
  },
  {
   "cell_type": "markdown",
   "id": "8f8e52a5",
   "metadata": {},
   "source": [
    "Les característiques que tenen la major correlació amb la qualitat són el *Free sulfur dioxide* i el *Total sulfur dioxide*, així que després provarem d'unir-les \\\n",
    "Les característiques que tenen la menor correlació amb la qualitat són el *pH*, *residual sugars* i *sulphates*."
   ]
  },
  {
   "cell_type": "markdown",
   "id": "4ebea7d9",
   "metadata": {},
   "source": [
    "## [Feature Selection](https://www.scikit-learn.org/stable/modules/feature_selection.html)"
   ]
  },
  {
   "cell_type": "markdown",
   "id": "dcd8096c",
   "metadata": {},
   "source": [
    "El Feature Selection és un procés de selecció de característiques que ens ajudarà a reduir la quantitat de característiques del model per deixar les més importants"
   ]
  },
  {
   "cell_type": "markdown",
   "id": "4374fac7",
   "metadata": {},
   "source": [
    "### [Sequential Feature Selector](https://scikit-learn.org/stable/auto_examples/feature_selection/plot_select_from_model_diabetes.html#sphx-glr-auto-examples-feature-selection-plot-select-from-model-diabetes-py) <a id='Sequential-Feature-Selector'></a>\n"
   ]
  },
  {
   "cell_type": "markdown",
   "id": "d0d1cdb4",
   "metadata": {},
   "source": [
    "El Sequential Feature Selector funcia amb dos procediments diferents, el Forward-SFS i el Backward-SFS. \n",
    "\n",
    "El Forward-SFS és un procediment greedy que troba de manera iterativa la millor característica nova per afegir al conjunt de característiques seleccionades. Inicialment començam amb zero característiques i trobam la caracteristica que maximitza una calificació de cross-validation quan un estimador es entrenat amb aquesta característica concreta. Una vegada hem afegit aquesta característica repetim es procés afegint una nova característica al conjunt de característiques seleccionades. El proces acaba quan arriba al nombre de característiques seleccionades desitjat, determinat pel paràmetre n_features_to_select.\n",
    "\n",
    "El Backward-SFS segueix la mateixa idea, però funciona en la direcció oposada: en lloc de començar sense cap característica i afegir-ne, començam amb totes les característiques i eliminam característiques del conjunt. El paràmetre direction controla si s'utilitza el Forward-SFS o el Backward-SFS."
   ]
  },
  {
   "cell_type": "code",
   "execution_count": 28,
   "id": "57b757cb",
   "metadata": {},
   "outputs": [],
   "source": [
    "feature_names = np.array(dfWquality.columns)\n",
    "ridge = RidgeCV(alphas=np.logspace(-6, 6, num=5)).fit(X_train, y_train)"
   ]
  },
  {
   "cell_type": "code",
   "execution_count": 29,
   "id": "c0c0c2ea",
   "metadata": {},
   "outputs": [
    {
     "name": "stdout",
     "output_type": "stream",
     "text": [
      "<class 'list'>\n",
      "Features selected by forward sequential selection: ['fixed acidity' 'volatile acidity' 'citric acid' 'residual sugar'\n",
      " 'free sulfur dioxide' 'total sulfur dioxide' 'density' 'pH' 'sulphates'\n",
      " 'alcohol']\n",
      "Features not selected by forward sequential selection: ['chlorides', 'type']\n",
      "\n",
      "Features selected by backward sequential selection: ['fixed acidity' 'volatile acidity' 'residual sugar' 'free sulfur dioxide'\n",
      " 'total sulfur dioxide' 'density' 'pH' 'sulphates' 'alcohol' 'type']\n",
      "Features not selected by forward sequential selection: ['chlorides', 'citric acid']\n"
     ]
    }
   ],
   "source": [
    "sfs_forward = SequentialFeatureSelector(\n",
    "    ridge, n_features_to_select=10, direction=\"forward\"\n",
    ").fit(X_train, y_train)\n",
    "\n",
    "\n",
    "sfs_backward = SequentialFeatureSelector(\n",
    "    ridge, n_features_to_select=10, direction=\"backward\"\n",
    ").fit(X_train, y_train)\n",
    "\n",
    "pitjorSFSF=dfWquality.columns.difference(feature_names[sfs_forward.get_support()]).tolist()\n",
    "pitjorSFSB=dfWquality.columns.difference(feature_names[sfs_backward.get_support()]).tolist()\n",
    "print(type(pitjorSFSB))\n",
    "print(\n",
    "    \"Features selected by forward sequential selection: \"\n",
    "    f\"{feature_names[sfs_forward.get_support()]}\"\n",
    "    \"\\nFeatures not selected by forward sequential selection: \"\n",
    "    f\"{pitjorSFSF}\\n\"\n",
    ")\n",
    "\n",
    "print(\n",
    "    \"Features selected by backward sequential selection: \"\n",
    "    f\"{feature_names[sfs_backward.get_support()]}\"\n",
    "    \"\\nFeatures not selected by forward sequential selection: \"\n",
    "    f\"{pitjorSFSB}\"\n",
    ")"
   ]
  },
  {
   "cell_type": "markdown",
   "id": "4165dfbc",
   "metadata": {},
   "source": [
    "### [Univariate Feature selection with Kbest](https://scikit-learn.org/stable/modules/generated/sklearn.feature_selection.GenericUnivariateSelect.html#sklearn.feature_selection.GenericUnivariateSelect) <a id='Univariate-feature-selection'></a> \n"
   ]
  },
  {
   "cell_type": "markdown",
   "id": "6107a129",
   "metadata": {},
   "source": [
    "El Univariate feature selection funcioan seleccionant les millors característiques basat en proves estadístiques univariades.\n",
    "\n",
    "Nosaltres hem emprat el SelectKBest, que elimina totes les característiques excepte les k millors. No sabem molt bé com funciona internament"
   ]
  },
  {
   "cell_type": "code",
   "execution_count": 30,
   "id": "e0b9139e",
   "metadata": {},
   "outputs": [
    {
     "name": "stdout",
     "output_type": "stream",
     "text": [
      "Millors característiques:  ['fixed acidity', 'volatile acidity', 'citric acid', 'residual sugar', 'chlorides', 'free sulfur dioxide', 'total sulfur dioxide', 'density', 'alcohol', 'type']\n",
      "Pitjors característiques:  ['pH', 'sulphates']\n"
     ]
    }
   ],
   "source": [
    "mask = SelectKBest(f_regression, k=10).fit(X_train, y_train).get_support()\n",
    "\n",
    "best_features = dfWquality.columns[mask].tolist()\n",
    "pitjorsUFS = dfWquality.columns.difference(best_features).tolist()\n",
    "\n",
    "print(\"Millors característiques: \", best_features)\n",
    "print(\"Pitjors característiques: \", pitjorsUFS)"
   ]
  },
  {
   "cell_type": "markdown",
   "id": "cd6c9db6",
   "metadata": {},
   "source": [
    "### [Recursive Feature Elimination](https://scikit-learn.org/stable/modules/generated/sklearn.feature_selection.RFE.html#sklearn.feature_selection.RFE) <a id='Recursive-feature-elimination'></a> \n"
   ]
  },
  {
   "cell_type": "markdown",
   "id": "e286d78a",
   "metadata": {},
   "source": [
    "El Recursive Feature Elimination du a terme una classificació de característiques mitjançant l'eliminació recursiva de característiques.\n",
    "\n",
    "Donat un estimador extern que assigna pesos a les característiques, l'objectiu de l'eliminació de característiques recursives (RFE) és seleccionar característiques considerant recursivament conjunts de característiques cada cop més petits. En primer lloc, l'estimador s'entrena en el conjunt inicial de característiques i la importància de cada característiques s'obté a través de qualsevol atribut . Aleshores, les característiques menys importants s'eliminen del conjunt actual de funcions. Aquest procediment es repeteix recursivament al conjunt podat fins que s'arriba al nombre desitjat de funcions per seleccionar."
   ]
  },
  {
   "cell_type": "code",
   "execution_count": 31,
   "id": "5bbcffae",
   "metadata": {},
   "outputs": [],
   "source": [
    "feature_names = np.array(dfWquality.columns)\n",
    "ridge = RidgeCV(alphas=np.logspace(-6, 6, num=5)).fit(X_train, y_train)"
   ]
  },
  {
   "cell_type": "code",
   "execution_count": 32,
   "id": "317b7d97",
   "metadata": {},
   "outputs": [
    {
     "name": "stdout",
     "output_type": "stream",
     "text": [
      "Característiques triades pel recursive feature elimination: ['fixed acidity' 'volatile acidity' 'residual sugar' 'free sulfur dioxide'\n",
      " 'total sulfur dioxide' 'density' 'pH' 'sulphates' 'alcohol' 'type']\n",
      "Característiques no triades pel recursive feature elimination: ['chlorides', 'citric acid']\n",
      "\n"
     ]
    }
   ],
   "source": [
    "rfe_selector = RFE(ridge, n_features_to_select=10).fit(X_train, y_train)\n",
    "\n",
    "pitjorsRFE=dfWquality.columns.difference(feature_names[rfe_selector.get_support()]).tolist()\n",
    "print(\n",
    "    \"Característiques triades pel recursive feature elimination: \"\n",
    "    f\"{feature_names[rfe_selector.get_support()]}\"\n",
    "    \"\\nCaracterístiques no triades pel recursive feature elimination: \"\n",
    "    f\"{pitjorsRFE}\\n\"\n",
    ")"
   ]
  },
  {
   "cell_type": "markdown",
   "id": "62d2584e",
   "metadata": {},
   "source": [
    "### \n",
    "| Tipus | 1ra Pitjor Caract. | 2na Pitjor Caract.|\n",
    "| ----------- | ----------- | ----------- |\n",
    "| Sequential Feature Selection - Forward| Free sulfur dioxide | Total sulfur dioxide |\n",
    "| Sequential Feature Selection - backward| Chloride | Citric Acid |\n",
    "| Univariate Feature Selection | pH | Sulphates |\n",
    "| Recursive Feature Elimination | Citric Acid | Type |"
   ]
  },
  {
   "cell_type": "markdown",
   "id": "64d142e0",
   "metadata": {},
   "source": [
    "## \n",
    "Una vegada hem fet aquest anàlisi de les dades per arribar a la conclusió de quines eliminar o unir, podem donar lloc al següent pas, on farem modificacions al dataframe original i crearem 3 models per a cada nou dataframe. Una vegada fet això compararem les precisions de tots els models per determinar el model amb major precicisió <a id='Proves'></a>"
   ]
  },
  {
   "cell_type": "markdown",
   "id": "481dd688",
   "metadata": {},
   "source": [
    "## Eliminam característiques"
   ]
  },
  {
   "cell_type": "markdown",
   "id": "73fd782d",
   "metadata": {},
   "source": [
    "En aquest subapartat eliminarem les característiques que, segons els diferents procediments fets anteriorment, tenen menor importància"
   ]
  },
  {
   "cell_type": "code",
   "execution_count": 33,
   "id": "11f2d96a",
   "metadata": {},
   "outputs": [],
   "source": [
    "dfComentaris = pd.DataFrame(columns=['Comentaris'])"
   ]
  },
  {
   "cell_type": "markdown",
   "id": "eca265ff",
   "metadata": {},
   "source": [
    "### Característica de menor importància de la Regressió Logística"
   ]
  },
  {
   "cell_type": "markdown",
   "id": "bd112d94",
   "metadata": {},
   "source": [
    "Com s'ha observat [aquí](#Regressio-Logistica), el Feature Selection de la Regressió Logística indica que és la característica amb menys importància."
   ]
  },
  {
   "cell_type": "code",
   "execution_count": 34,
   "id": "06941778",
   "metadata": {},
   "outputs": [
    {
     "name": "stdout",
     "output_type": "stream",
     "text": [
      "\n",
      "Regressio Logística:\n",
      "              precision    recall  f1-score   support\n",
      "\n",
      "           1       0.65      0.62      0.63       403\n",
      "           2       0.55      0.72      0.62       516\n",
      "           3       0.64      0.24      0.35       237\n",
      "\n",
      "    accuracy                           0.59      1156\n",
      "   macro avg       0.61      0.53      0.54      1156\n",
      "weighted avg       0.60      0.59      0.57      1156\n",
      "\n",
      "training accuracy: 56.979008872538415\n",
      "testing accuracy: 58.910034602076124\n",
      "\n",
      "Confusion Matrix\n"
     ]
    },
    {
     "data": {
      "image/png": "[encoded data removed]",
      "text/plain": [
       "<Figure size 432x288 with 2 Axes>"
      ]
     },
     "metadata": {
      "needs_background": "light"
     },
     "output_type": "display_data"
    },
    {
     "name": "stdout",
     "output_type": "stream",
     "text": [
      "\n",
      "Perceptró:\n",
      "              precision    recall  f1-score   support\n",
      "\n",
      "           1       0.49      0.90      0.63       403\n",
      "           2       0.54      0.34      0.42       516\n",
      "           3       0.48      0.17      0.25       237\n",
      "\n",
      "    accuracy                           0.50      1156\n",
      "   macro avg       0.50      0.47      0.43      1156\n",
      "weighted avg       0.51      0.50      0.46      1156\n",
      "\n",
      "training accuracy: 50.59510928370483\n",
      "testing accuracy: 50.17301038062284\n",
      "\n",
      "Confusion Matrix\n"
     ]
    },
    {
     "data": {
      "image/png": "[encoded data removed]",
      "text/plain": [
       "<Figure size 432x288 with 2 Axes>"
      ]
     },
     "metadata": {
      "needs_background": "light"
     },
     "output_type": "display_data"
    },
    {
     "name": "stdout",
     "output_type": "stream",
     "text": [
      "\n",
      "Random Forest:\n",
      "              precision    recall  f1-score   support\n",
      "\n",
      "           1       0.79      0.79      0.79       403\n",
      "           2       0.71      0.77      0.74       516\n",
      "           3       0.78      0.62      0.69       237\n",
      "\n",
      "    accuracy                           0.75      1156\n",
      "   macro avg       0.76      0.73      0.74      1156\n",
      "weighted avg       0.75      0.75      0.75      1156\n",
      "\n",
      "training accuracy: 100.0\n",
      "testing accuracy: 74.91349480968859\n",
      "\n",
      "Confusion Matrix\n"
     ]
    },
    {
     "data": {
      "image/png": "[encoded data removed]",
      "text/plain": [
       "<Figure size 432x288 with 2 Axes>"
      ]
     },
     "metadata": {
      "needs_background": "light"
     },
     "output_type": "display_data"
    }
   ],
   "source": [
    "df_menor_LogReg = df.drop(pitjorLogReg,axis=1)\n",
    "\n",
    "RegressioLogistica(df_menor_LogReg, \"menor imp. LogReg\")\n",
    "Perceptro(df_menor_LogReg, \"menor imp. LogReg\")\n",
    "RandomForest(df_menor_LogReg, \"menor imp. LogReg\")\n",
    "\n",
    "dfComentaris.at[\"menor imp. LogReg\",'Comentaris']=pitjorLogReg"
   ]
  },
  {
   "cell_type": "markdown",
   "id": "392b9511",
   "metadata": {},
   "source": [
    "### Característica de menor importància del Perceptró"
   ]
  },
  {
   "cell_type": "markdown",
   "id": "3d7c3aac",
   "metadata": {},
   "source": [
    "Com s'ha observat [aquí](#Perceptro), el Feature Selection del Perceptró indica que és la característica amb menys importància."
   ]
  },
  {
   "cell_type": "code",
   "execution_count": 35,
   "id": "ee5d0d38",
   "metadata": {},
   "outputs": [
    {
     "name": "stdout",
     "output_type": "stream",
     "text": [
      "\n",
      "Regressio Logística:\n",
      "              precision    recall  f1-score   support\n",
      "\n",
      "           1       0.66      0.67      0.67       403\n",
      "           2       0.56      0.69      0.62       516\n",
      "           3       0.60      0.27      0.37       237\n",
      "\n",
      "    accuracy                           0.60      1156\n",
      "   macro avg       0.61      0.54      0.55      1156\n",
      "weighted avg       0.60      0.60      0.58      1156\n",
      "\n",
      "training accuracy: 57.433455961913005\n",
      "testing accuracy: 59.86159169550172\n",
      "\n",
      "Confusion Matrix\n"
     ]
    },
    {
     "data": {
      "image/png": "[encoded data removed]",
      "text/plain": [
       "<Figure size 432x288 with 2 Axes>"
      ]
     },
     "metadata": {
      "needs_background": "light"
     },
     "output_type": "display_data"
    },
    {
     "name": "stdout",
     "output_type": "stream",
     "text": [
      "\n",
      "Perceptró:\n",
      "              precision    recall  f1-score   support\n",
      "\n",
      "           1       0.44      0.95      0.60       403\n",
      "           2       0.61      0.04      0.07       516\n",
      "           3       0.46      0.47      0.47       237\n",
      "\n",
      "    accuracy                           0.45      1156\n",
      "   macro avg       0.50      0.49      0.38      1156\n",
      "weighted avg       0.52      0.45      0.34      1156\n",
      "\n",
      "training accuracy: 44.66565678424583\n",
      "testing accuracy: 44.636678200692046\n",
      "\n",
      "Confusion Matrix\n"
     ]
    },
    {
     "data": {
      "image/png": "[encoded data removed]",
      "text/plain": [
       "<Figure size 432x288 with 2 Axes>"
      ]
     },
     "metadata": {
      "needs_background": "light"
     },
     "output_type": "display_data"
    },
    {
     "name": "stdout",
     "output_type": "stream",
     "text": [
      "\n",
      "Random Forest:\n",
      "              precision    recall  f1-score   support\n",
      "\n",
      "           1       0.77      0.78      0.78       403\n",
      "           2       0.69      0.74      0.72       516\n",
      "           3       0.76      0.62      0.68       237\n",
      "\n",
      "    accuracy                           0.73      1156\n",
      "   macro avg       0.74      0.72      0.73      1156\n",
      "weighted avg       0.73      0.73      0.73      1156\n",
      "\n",
      "training accuracy: 100.0\n",
      "testing accuracy: 73.26989619377161\n",
      "\n",
      "Confusion Matrix\n"
     ]
    },
    {
     "data": {
      "image/png": "[encoded data removed]",
      "text/plain": [
       "<Figure size 432x288 with 2 Axes>"
      ]
     },
     "metadata": {
      "needs_background": "light"
     },
     "output_type": "display_data"
    }
   ],
   "source": [
    "df_menor_Perc = df.drop(pitjorPerc,axis=1)\n",
    "\n",
    "RegressioLogistica(df_menor_Perc, \"menor imp. Perc\")\n",
    "Perceptro(df_menor_Perc, \"menor imp. Perc\")\n",
    "RandomForest(df_menor_Perc, \"menor imp. Perc\")\n",
    "\n",
    "dfComentaris.at[\"menor imp. Perc\",'Comentaris']=pitjorPerc"
   ]
  },
  {
   "cell_type": "markdown",
   "id": "7a2a59bf",
   "metadata": {},
   "source": [
    "### Característica de menor importància del Random Forest"
   ]
  },
  {
   "cell_type": "markdown",
   "id": "4cd19d2a",
   "metadata": {},
   "source": [
    "Com s'ha observat [aquí](#Random-Forest), el Feature Selection del Random Forest indica que és la característica amb menys importància."
   ]
  },
  {
   "cell_type": "code",
   "execution_count": 36,
   "id": "1a3941ca",
   "metadata": {},
   "outputs": [
    {
     "name": "stdout",
     "output_type": "stream",
     "text": [
      "\n",
      "Regressio Logística:\n",
      "              precision    recall  f1-score   support\n",
      "\n",
      "           1       0.66      0.66      0.66       403\n",
      "           2       0.56      0.70      0.62       516\n",
      "           3       0.60      0.27      0.38       237\n",
      "\n",
      "    accuracy                           0.60      1156\n",
      "   macro avg       0.61      0.54      0.55      1156\n",
      "weighted avg       0.60      0.60      0.58      1156\n",
      "\n",
      "training accuracy: 57.996104739233935\n",
      "testing accuracy: 59.602076124567475\n",
      "\n",
      "Confusion Matrix\n"
     ]
    },
    {
     "data": {
      "image/png": "[encoded data removed]",
      "text/plain": [
       "<Figure size 432x288 with 2 Axes>"
      ]
     },
     "metadata": {
      "needs_background": "light"
     },
     "output_type": "display_data"
    },
    {
     "name": "stdout",
     "output_type": "stream",
     "text": [
      "\n",
      "Perceptró:\n",
      "              precision    recall  f1-score   support\n",
      "\n",
      "           1       0.47      0.92      0.62       403\n",
      "           2       0.66      0.20      0.31       516\n",
      "           3       0.52      0.46      0.49       237\n",
      "\n",
      "    accuracy                           0.51      1156\n",
      "   macro avg       0.55      0.53      0.47      1156\n",
      "weighted avg       0.56      0.51      0.45      1156\n",
      "\n",
      "training accuracy: 47.50054100843973\n",
      "testing accuracy: 50.51903114186851\n",
      "\n",
      "Confusion Matrix\n"
     ]
    },
    {
     "data": {
      "image/png": "[encoded data removed]",
      "text/plain": [
       "<Figure size 432x288 with 2 Axes>"
      ]
     },
     "metadata": {
      "needs_background": "light"
     },
     "output_type": "display_data"
    },
    {
     "name": "stdout",
     "output_type": "stream",
     "text": [
      "\n",
      "Random Forest:\n",
      "              precision    recall  f1-score   support\n",
      "\n",
      "           1       0.77      0.79      0.78       403\n",
      "           2       0.70      0.75      0.73       516\n",
      "           3       0.77      0.63      0.70       237\n",
      "\n",
      "    accuracy                           0.74      1156\n",
      "   macro avg       0.75      0.72      0.73      1156\n",
      "weighted avg       0.74      0.74      0.74      1156\n",
      "\n",
      "training accuracy: 100.0\n",
      "testing accuracy: 74.0484429065744\n",
      "\n",
      "Confusion Matrix\n"
     ]
    },
    {
     "data": {
      "image/png": "[encoded data removed]",
      "text/plain": [
       "<Figure size 432x288 with 2 Axes>"
      ]
     },
     "metadata": {
      "needs_background": "light"
     },
     "output_type": "display_data"
    }
   ],
   "source": [
    "df_menor_RF = df.drop(pitjorRF,axis=1)\n",
    "\n",
    "RegressioLogistica(df_menor_RF, \"menor imp. RF\")\n",
    "Perceptro(df_menor_RF, \"menor imp. RF\")\n",
    "RandomForest(df_menor_RF, \"menor imp. RF\")\n",
    "\n",
    "dfComentaris.at[\"menor imp. RF\",'Comentaris']=pitjorRF"
   ]
  },
  {
   "cell_type": "markdown",
   "id": "a66119db",
   "metadata": {},
   "source": [
    "### Característica amb les pitjors correlacions amb la qualitat"
   ]
  },
  {
   "cell_type": "markdown",
   "id": "cdc7d1e9",
   "metadata": {},
   "source": [
    "Com s'ha observat [aquí](#Correlacions-Minimes), són les tres característiques menys correlacionades amb la qualitat."
   ]
  },
  {
   "cell_type": "code",
   "execution_count": 37,
   "id": "00482efb",
   "metadata": {},
   "outputs": [
    {
     "name": "stdout",
     "output_type": "stream",
     "text": [
      "\n",
      "Regressio Logística:\n",
      "              precision    recall  f1-score   support\n",
      "\n",
      "           1       0.65      0.67      0.66       403\n",
      "           2       0.55      0.68      0.61       516\n",
      "           3       0.60      0.26      0.36       237\n",
      "\n",
      "    accuracy                           0.59      1156\n",
      "   macro avg       0.60      0.53      0.54      1156\n",
      "weighted avg       0.59      0.59      0.57      1156\n",
      "\n",
      "training accuracy: 56.784245834235016\n",
      "testing accuracy: 58.82352941176471\n",
      "\n",
      "Confusion Matrix\n"
     ]
    },
    {
     "data": {
      "image/png": "[encoded data removed]",
      "text/plain": [
       "<Figure size 432x288 with 2 Axes>"
      ]
     },
     "metadata": {
      "needs_background": "light"
     },
     "output_type": "display_data"
    },
    {
     "name": "stdout",
     "output_type": "stream",
     "text": [
      "\n",
      "Perceptró:\n",
      "              precision    recall  f1-score   support\n",
      "\n",
      "           1       0.61      0.30      0.40       403\n",
      "           2       0.46      0.78      0.58       516\n",
      "           3       0.44      0.15      0.22       237\n",
      "\n",
      "    accuracy                           0.48      1156\n",
      "   macro avg       0.50      0.41      0.40      1156\n",
      "weighted avg       0.51      0.48      0.44      1156\n",
      "\n",
      "training accuracy: 49.98917983120536\n",
      "testing accuracy: 48.35640138408305\n",
      "\n",
      "Confusion Matrix\n"
     ]
    },
    {
     "data": {
      "image/png": "[encoded data removed]",
      "text/plain": [
       "<Figure size 432x288 with 2 Axes>"
      ]
     },
     "metadata": {
      "needs_background": "light"
     },
     "output_type": "display_data"
    },
    {
     "name": "stdout",
     "output_type": "stream",
     "text": [
      "\n",
      "Random Forest:\n",
      "              precision    recall  f1-score   support\n",
      "\n",
      "           1       0.75      0.73      0.74       403\n",
      "           2       0.66      0.73      0.70       516\n",
      "           3       0.73      0.60      0.66       237\n",
      "\n",
      "    accuracy                           0.71      1156\n",
      "   macro avg       0.72      0.69      0.70      1156\n",
      "weighted avg       0.71      0.71      0.71      1156\n",
      "\n",
      "training accuracy: 100.0\n",
      "testing accuracy: 70.67474048442907\n",
      "\n",
      "Confusion Matrix\n"
     ]
    },
    {
     "data": {
      "image/png": "[encoded data removed]",
      "text/plain": [
       "<Figure size 432x288 with 2 Axes>"
      ]
     },
     "metadata": {
      "needs_background": "light"
     },
     "output_type": "display_data"
    }
   ],
   "source": [
    "df_Correlacions = df.drop(pitjorsCorrelacions,axis=1)\n",
    "\n",
    "RegressioLogistica(df_Correlacions, \"Pitjors carac. Correlacions\")\n",
    "Perceptro(df_Correlacions, \"Pitjors carac. Correlacions\")\n",
    "RandomForest(df_Correlacions, \"Pitjors carac. Correlacions\")\n",
    "\n",
    "dfComentaris.at[\"Pitjors carac. Correlacions\",'Comentaris']=pitjorsCorrelacions"
   ]
  },
  {
   "cell_type": "markdown",
   "id": "5addbf4c",
   "metadata": {},
   "source": [
    "### Característica amb les pitjors característiques del Forward Feature Selection"
   ]
  },
  {
   "cell_type": "markdown",
   "id": "e6036be3",
   "metadata": {},
   "source": [
    "Com s'ha observat [aquí](#Sequential-Feature-Selector), ja que el Forward Feature Selection indica que són les dues pitjors característiques."
   ]
  },
  {
   "cell_type": "code",
   "execution_count": 38,
   "id": "5dfc97b9",
   "metadata": {},
   "outputs": [
    {
     "name": "stdout",
     "output_type": "stream",
     "text": [
      "\n",
      "Regressio Logística:\n",
      "              precision    recall  f1-score   support\n",
      "\n",
      "           1       0.66      0.66      0.66       403\n",
      "           2       0.56      0.70      0.62       516\n",
      "           3       0.61      0.28      0.39       237\n",
      "\n",
      "    accuracy                           0.60      1156\n",
      "   macro avg       0.61      0.55      0.56      1156\n",
      "weighted avg       0.61      0.60      0.59      1156\n",
      "\n",
      "training accuracy: 57.97446440164467\n",
      "testing accuracy: 59.94809688581315\n",
      "\n",
      "Confusion Matrix\n"
     ]
    },
    {
     "data": {
      "image/png": "[encoded data removed]",
      "text/plain": [
       "<Figure size 432x288 with 2 Axes>"
      ]
     },
     "metadata": {
      "needs_background": "light"
     },
     "output_type": "display_data"
    },
    {
     "name": "stdout",
     "output_type": "stream",
     "text": [
      "\n",
      "Perceptró:\n",
      "              precision    recall  f1-score   support\n",
      "\n",
      "           1       0.57      0.77      0.66       403\n",
      "           2       0.60      0.25      0.35       516\n",
      "           3       0.41      0.68      0.51       237\n",
      "\n",
      "    accuracy                           0.52      1156\n",
      "   macro avg       0.53      0.57      0.51      1156\n",
      "weighted avg       0.55      0.52      0.49      1156\n",
      "\n",
      "training accuracy: 49.9675394936161\n",
      "testing accuracy: 52.24913494809689\n",
      "\n",
      "Confusion Matrix\n"
     ]
    },
    {
     "data": {
      "image/png": "[encoded data removed]",
      "text/plain": [
       "<Figure size 432x288 with 2 Axes>"
      ]
     },
     "metadata": {
      "needs_background": "light"
     },
     "output_type": "display_data"
    },
    {
     "name": "stdout",
     "output_type": "stream",
     "text": [
      "\n",
      "Random Forest:\n",
      "              precision    recall  f1-score   support\n",
      "\n",
      "           1       0.77      0.80      0.78       403\n",
      "           2       0.71      0.74      0.73       516\n",
      "           3       0.77      0.64      0.70       237\n",
      "\n",
      "    accuracy                           0.74      1156\n",
      "   macro avg       0.75      0.73      0.74      1156\n",
      "weighted avg       0.74      0.74      0.74      1156\n",
      "\n",
      "training accuracy: 100.0\n",
      "testing accuracy: 74.13494809688581\n",
      "\n",
      "Confusion Matrix\n"
     ]
    },
    {
     "data": {
      "image/png": "[encoded data removed]",
      "text/plain": [
       "<Figure size 432x288 with 2 Axes>"
      ]
     },
     "metadata": {
      "needs_background": "light"
     },
     "output_type": "display_data"
    }
   ],
   "source": [
    "df_SFSF = df.drop(pitjorSFSF,axis=1)\n",
    "\n",
    "RegressioLogistica(df_SFSF, \"Pitjors carac. SFSF\")\n",
    "Perceptro(df_SFSF, \"Pitjors carac. SFSF\")\n",
    "RandomForest(df_SFSF, \"Pitjors carac. SFSF\")\n",
    "\n",
    "dfComentaris.at[\"Pitjors carac. SFSF\",'Comentaris']=pitjorSFSF"
   ]
  },
  {
   "cell_type": "markdown",
   "id": "eca265ff",
   "metadata": {},
   "source": [
    "### Pitjors característiques Backward Feature Selection"
   ]
  },
  {
   "cell_type": "markdown",
   "id": "f9006612",
   "metadata": {},
   "source": [
    "Com s'ha observat [aquí](#Sequential-Feature-Selector), el Backward Feature Selection indica que són les dues pitjors característiques."
   ]
  },
  {
   "cell_type": "code",
   "execution_count": 39,
   "id": "06941778",
   "metadata": {},
   "outputs": [
    {
     "name": "stdout",
     "output_type": "stream",
     "text": [
      "\n",
      "Regressio Logística:\n",
      "              precision    recall  f1-score   support\n",
      "\n",
      "           1       0.66      0.69      0.67       403\n",
      "           2       0.57      0.69      0.62       516\n",
      "           3       0.61      0.29      0.39       237\n",
      "\n",
      "    accuracy                           0.61      1156\n",
      "   macro avg       0.61      0.55      0.56      1156\n",
      "weighted avg       0.61      0.61      0.59      1156\n",
      "\n",
      "training accuracy: 57.8229820385198\n",
      "testing accuracy: 60.6401384083045\n",
      "\n",
      "Confusion Matrix\n"
     ]
    },
    {
     "data": {
      "image/png": "[encoded data removed]",
      "text/plain": [
       "<Figure size 432x288 with 2 Axes>"
      ]
     },
     "metadata": {
      "needs_background": "light"
     },
     "output_type": "display_data"
    },
    {
     "name": "stdout",
     "output_type": "stream",
     "text": [
      "\n",
      "Perceptró:\n",
      "              precision    recall  f1-score   support\n",
      "\n",
      "           1       0.53      0.86      0.65       403\n",
      "           2       0.52      0.13      0.20       516\n",
      "           3       0.40      0.64      0.49       237\n",
      "\n",
      "    accuracy                           0.49      1156\n",
      "   macro avg       0.49      0.54      0.45      1156\n",
      "weighted avg       0.50      0.49      0.42      1156\n",
      "\n",
      "training accuracy: 48.04154944817139\n",
      "testing accuracy: 48.702422145328725\n",
      "\n",
      "Confusion Matrix\n"
     ]
    },
    {
     "data": {
      "image/png": "[encoded data removed]",
      "text/plain": [
       "<Figure size 432x288 with 2 Axes>"
      ]
     },
     "metadata": {
      "needs_background": "light"
     },
     "output_type": "display_data"
    },
    {
     "name": "stdout",
     "output_type": "stream",
     "text": [
      "\n",
      "Random Forest:\n",
      "              precision    recall  f1-score   support\n",
      "\n",
      "           1       0.78      0.78      0.78       403\n",
      "           2       0.71      0.76      0.73       516\n",
      "           3       0.78      0.66      0.71       237\n",
      "\n",
      "    accuracy                           0.75      1156\n",
      "   macro avg       0.76      0.73      0.74      1156\n",
      "weighted avg       0.75      0.75      0.75      1156\n",
      "\n",
      "training accuracy: 100.0\n",
      "testing accuracy: 74.65397923875432\n",
      "\n",
      "Confusion Matrix\n"
     ]
    },
    {
     "data": {
      "image/png": "[encoded data removed]",
      "text/plain": [
       "<Figure size 432x288 with 2 Axes>"
      ]
     },
     "metadata": {
      "needs_background": "light"
     },
     "output_type": "display_data"
    }
   ],
   "source": [
    "df_SFSB = df.drop(pitjorSFSB,axis=1)\n",
    "\n",
    "RegressioLogistica(df_SFSB, \"Pitjors carac. SFSB\")\n",
    "Perceptro(df_SFSB, \"Pitjors carac. SFSB\")\n",
    "RandomForest(df_SFSB, \"Pitjors carac. SFSB\")\n",
    "\n",
    "dfComentaris.at[\"Pitjors carac. SFSB\",'Comentaris']=pitjorSFSB"
   ]
  },
  {
   "cell_type": "markdown",
   "id": "eca265ff",
   "metadata": {},
   "source": [
    "### Pitjors característiques Univariate Feature Selection"
   ]
  },
  {
   "cell_type": "markdown",
   "id": "2cc91033",
   "metadata": {},
   "source": [
    "Com s'ha observat [aquí](#Univariate-feature-selection), el SelectKBest indica que són les dues pitjors característiques."
   ]
  },
  {
   "cell_type": "code",
   "execution_count": 40,
   "id": "06941778",
   "metadata": {},
   "outputs": [
    {
     "name": "stdout",
     "output_type": "stream",
     "text": [
      "\n",
      "Regressio Logística:\n",
      "              precision    recall  f1-score   support\n",
      "\n",
      "           1       0.66      0.68      0.67       403\n",
      "           2       0.56      0.69      0.62       516\n",
      "           3       0.59      0.27      0.37       237\n",
      "\n",
      "    accuracy                           0.60      1156\n",
      "   macro avg       0.60      0.54      0.55      1156\n",
      "weighted avg       0.60      0.60      0.58      1156\n",
      "\n",
      "training accuracy: 57.10885089807402\n",
      "testing accuracy: 59.86159169550172\n",
      "\n",
      "Confusion Matrix\n"
     ]
    },
    {
     "data": {
      "image/png": "[encoded data removed]",
      "text/plain": [
       "<Figure size 432x288 with 2 Axes>"
      ]
     },
     "metadata": {
      "needs_background": "light"
     },
     "output_type": "display_data"
    },
    {
     "name": "stdout",
     "output_type": "stream",
     "text": [
      "\n",
      "Perceptró:\n",
      "              precision    recall  f1-score   support\n",
      "\n",
      "           1       0.38      0.99      0.55       403\n",
      "           2       0.36      0.02      0.03       516\n",
      "           3       0.55      0.16      0.24       237\n",
      "\n",
      "    accuracy                           0.39      1156\n",
      "   macro avg       0.43      0.39      0.27      1156\n",
      "weighted avg       0.40      0.39      0.25      1156\n",
      "\n",
      "training accuracy: 40.0562648777321\n",
      "testing accuracy: 38.581314878892734\n",
      "\n",
      "Confusion Matrix\n"
     ]
    },
    {
     "data": {
      "image/png": "[encoded data removed]",
      "text/plain": [
       "<Figure size 432x288 with 2 Axes>"
      ]
     },
     "metadata": {
      "needs_background": "light"
     },
     "output_type": "display_data"
    },
    {
     "name": "stdout",
     "output_type": "stream",
     "text": [
      "\n",
      "Random Forest:\n",
      "              precision    recall  f1-score   support\n",
      "\n",
      "           1       0.75      0.76      0.76       403\n",
      "           2       0.68      0.74      0.71       516\n",
      "           3       0.76      0.61      0.68       237\n",
      "\n",
      "    accuracy                           0.72      1156\n",
      "   macro avg       0.73      0.70      0.71      1156\n",
      "weighted avg       0.72      0.72      0.72      1156\n",
      "\n",
      "training accuracy: 100.0\n",
      "testing accuracy: 71.97231833910035\n",
      "\n",
      "Confusion Matrix\n"
     ]
    },
    {
     "data": {
      "image/png": "[encoded data removed]",
      "text/plain": [
       "<Figure size 432x288 with 2 Axes>"
      ]
     },
     "metadata": {
      "needs_background": "light"
     },
     "output_type": "display_data"
    }
   ],
   "source": [
    "df_UFS = df.drop(pitjorsUFS,axis=1)\n",
    "\n",
    "RegressioLogistica(df_UFS, \"Pitjors carac. UFS\")\n",
    "Perceptro(df_UFS, \"Pitjors carac. UFS\")\n",
    "RandomForest(df_UFS, \"Pitjors carac. UFS\")\n",
    "\n",
    "dfComentaris.at[\"Pitjors carac. UFS\",'Comentaris']=pitjorsUFS"
   ]
  },
  {
   "cell_type": "markdown",
   "id": "eca265ff",
   "metadata": {},
   "source": [
    "### Pitjors característiques Recursive Feature Selection"
   ]
  },
  {
   "cell_type": "markdown",
   "id": "4be1e85b",
   "metadata": {},
   "source": [
    "Com hem vist [aquí](#Recursive-feature-elimination), el Recursive Feature Elimination indica que són les dues pitjors característiques."
   ]
  },
  {
   "cell_type": "code",
   "execution_count": 41,
   "id": "06941778",
   "metadata": {},
   "outputs": [
    {
     "name": "stdout",
     "output_type": "stream",
     "text": [
      "\n",
      "Regressio Logística:\n",
      "              precision    recall  f1-score   support\n",
      "\n",
      "           1       0.66      0.69      0.67       403\n",
      "           2       0.57      0.69      0.62       516\n",
      "           3       0.61      0.29      0.39       237\n",
      "\n",
      "    accuracy                           0.61      1156\n",
      "   macro avg       0.61      0.55      0.56      1156\n",
      "weighted avg       0.61      0.61      0.59      1156\n",
      "\n",
      "training accuracy: 57.8229820385198\n",
      "testing accuracy: 60.6401384083045\n",
      "\n",
      "Confusion Matrix\n"
     ]
    },
    {
     "data": {
      "image/png": "[encoded data removed]",
      "text/plain": [
       "<Figure size 432x288 with 2 Axes>"
      ]
     },
     "metadata": {
      "needs_background": "light"
     },
     "output_type": "display_data"
    },
    {
     "name": "stdout",
     "output_type": "stream",
     "text": [
      "\n",
      "Perceptró:\n",
      "              precision    recall  f1-score   support\n",
      "\n",
      "           1       0.53      0.86      0.65       403\n",
      "           2       0.52      0.13      0.20       516\n",
      "           3       0.40      0.64      0.49       237\n",
      "\n",
      "    accuracy                           0.49      1156\n",
      "   macro avg       0.49      0.54      0.45      1156\n",
      "weighted avg       0.50      0.49      0.42      1156\n",
      "\n",
      "training accuracy: 48.04154944817139\n",
      "testing accuracy: 48.702422145328725\n",
      "\n",
      "Confusion Matrix\n"
     ]
    },
    {
     "data": {
      "image/png": "[encoded data removed]",
      "text/plain": [
       "<Figure size 432x288 with 2 Axes>"
      ]
     },
     "metadata": {
      "needs_background": "light"
     },
     "output_type": "display_data"
    },
    {
     "name": "stdout",
     "output_type": "stream",
     "text": [
      "\n",
      "Random Forest:\n",
      "              precision    recall  f1-score   support\n",
      "\n",
      "           1       0.77      0.77      0.77       403\n",
      "           2       0.69      0.74      0.72       516\n",
      "           3       0.73      0.60      0.66       237\n",
      "\n",
      "    accuracy                           0.72      1156\n",
      "   macro avg       0.73      0.71      0.72      1156\n",
      "weighted avg       0.73      0.72      0.72      1156\n",
      "\n",
      "training accuracy: 100.0\n",
      "testing accuracy: 72.49134948096886\n",
      "\n",
      "Confusion Matrix\n"
     ]
    },
    {
     "data": {
      "image/png": "[encoded data removed]",
      "text/plain": [
       "<Figure size 432x288 with 2 Axes>"
      ]
     },
     "metadata": {
      "needs_background": "light"
     },
     "output_type": "display_data"
    }
   ],
   "source": [
    "df_RFE = df.drop(pitjorsRFE,axis=1)\n",
    "\n",
    "RegressioLogistica(df_RFE, \"Pitjors carac. RFE\")\n",
    "Perceptro(df_RFE, \"Pitjors carac. RFE\")\n",
    "RandomForest(df_RFE, \"Pitjors carac. RFE\")\n",
    "\n",
    "dfComentaris.at[\"Pitjors carac. RFE\",'Comentaris']=pitjorsRFE"
   ]
  },
  {
   "cell_type": "markdown",
   "id": "113c15c6",
   "metadata": {},
   "source": [
    "## Cream característiques"
   ]
  },
  {
   "cell_type": "markdown",
   "id": "f17d196a",
   "metadata": {},
   "source": [
    "Per crear les característiques noves hem emprat l'eina MathematicalCombinator que ens permet crear noves columnes/variables a partir d'operacions i combinacions d'altres. Per decidir quines característiques crear o no ens hem basat, principalment, en la correlació que hi ha entre aquestes característiques i el nostre criteri segons el vist anteriorment."
   ]
  },
  {
   "cell_type": "markdown",
   "id": "eca265ff",
   "metadata": {},
   "source": [
    "### Àcids totals"
   ]
  },
  {
   "cell_type": "markdown",
   "id": "9a3057fd",
   "metadata": {},
   "source": [
    "Com tenim l'acidesa fixada i la volàtil, provarem de crear una de nova característica que sigui la total"
   ]
  },
  {
   "cell_type": "code",
   "execution_count": 42,
   "id": "b6c244ad",
   "metadata": {
    "execution": {
     "iopub.execute_input": "2021-01-23T12:18:46.123152Z",
     "iopub.status.busy": "2021-01-23T12:18:46.122063Z",
     "iopub.status.idle": "2021-01-23T12:18:46.150621Z",
     "shell.execute_reply": "2021-01-23T12:18:46.151096Z"
    },
    "papermill": {
     "duration": 0.092392,
     "end_time": "2021-01-23T12:18:46.151244",
     "exception": false,
     "start_time": "2021-01-23T12:18:46.058852",
     "status": "completed"
    },
    "tags": []
   },
   "outputs": [
    {
     "name": "stdout",
     "output_type": "stream",
     "text": [
      "\n",
      "Regressio Logística:\n",
      "              precision    recall  f1-score   support\n",
      "\n",
      "           1       0.65      0.67      0.66       403\n",
      "           2       0.56      0.69      0.62       516\n",
      "           3       0.61      0.28      0.39       237\n",
      "\n",
      "    accuracy                           0.60      1156\n",
      "   macro avg       0.61      0.55      0.55      1156\n",
      "weighted avg       0.60      0.60      0.58      1156\n",
      "\n",
      "training accuracy: 57.671499675394934\n",
      "testing accuracy: 59.77508650519031\n",
      "\n",
      "Confusion Matrix\n"
     ]
    },
    {
     "data": {
      "image/png": "[encoded data removed]",
      "text/plain": [
       "<Figure size 432x288 with 2 Axes>"
      ]
     },
     "metadata": {
      "needs_background": "light"
     },
     "output_type": "display_data"
    },
    {
     "name": "stdout",
     "output_type": "stream",
     "text": [
      "\n",
      "Perceptró:\n",
      "              precision    recall  f1-score   support\n",
      "\n",
      "           1       0.41      0.96      0.58       403\n",
      "           2       0.60      0.10      0.18       516\n",
      "           3       0.56      0.31      0.40       237\n",
      "\n",
      "    accuracy                           0.44      1156\n",
      "   macro avg       0.52      0.46      0.38      1156\n",
      "weighted avg       0.53      0.44      0.36      1156\n",
      "\n",
      "training accuracy: 45.07682319844189\n",
      "testing accuracy: 44.463667820069205\n",
      "\n",
      "Confusion Matrix\n"
     ]
    },
    {
     "data": {
      "image/png": "[encoded data removed]",
      "text/plain": [
       "<Figure size 432x288 with 2 Axes>"
      ]
     },
     "metadata": {
      "needs_background": "light"
     },
     "output_type": "display_data"
    },
    {
     "name": "stdout",
     "output_type": "stream",
     "text": [
      "\n",
      "Random Forest:\n",
      "              precision    recall  f1-score   support\n",
      "\n",
      "           1       0.78      0.78      0.78       403\n",
      "           2       0.71      0.77      0.74       516\n",
      "           3       0.78      0.64      0.70       237\n",
      "\n",
      "    accuracy                           0.75      1156\n",
      "   macro avg       0.76      0.73      0.74      1156\n",
      "weighted avg       0.75      0.75      0.75      1156\n",
      "\n",
      "training accuracy: 100.0\n",
      "testing accuracy: 74.65397923875432\n",
      "\n",
      "Confusion Matrix\n"
     ]
    },
    {
     "data": {
      "image/png": "[encoded data removed]",
      "text/plain": [
       "<Figure size 432x288 with 2 Axes>"
      ]
     },
     "metadata": {
      "needs_background": "light"
     },
     "output_type": "display_data"
    }
   ],
   "source": [
    "combinator_Acid_Tot = MathematicalCombination(\n",
    "    variables_to_combine=['fixed acidity', 'volatile acidity'],\n",
    "    math_operations = ['sum'],\n",
    "    new_variables_names = ['total_acidity']\n",
    ")\n",
    "\n",
    "df_Acid_Tot = combinator_Acid_Tot.fit_transform(df)\n",
    "\n",
    "RegressioLogistica(df_Acid_Tot, \"Acid Totals\")\n",
    "Perceptro(df_Acid_Tot, \"Acid Totals\")\n",
    "RandomForest(df_Acid_Tot, \"Acid Totals\")"
   ]
  },
  {
   "cell_type": "markdown",
   "id": "3af6e25d",
   "metadata": {},
   "source": [
    "### Percentatge d'àcid cítric respecte de l'acidesa fixada"
   ]
  },
  {
   "cell_type": "markdown",
   "id": "b200ef19",
   "metadata": {},
   "source": [
    "L'àcid cítric està inclòs dins l'acidesa fixada, així que crearem una nova característica que sigui el percentatge d'àcid cítric respecte de la fixada."
   ]
  },
  {
   "cell_type": "code",
   "execution_count": 43,
   "id": "1456e24b",
   "metadata": {},
   "outputs": [
    {
     "name": "stdout",
     "output_type": "stream",
     "text": [
      "\n",
      "Regressio Logística:\n",
      "              precision    recall  f1-score   support\n",
      "\n",
      "           1       0.66      0.67      0.66       403\n",
      "           2       0.56      0.69      0.62       516\n",
      "           3       0.62      0.28      0.38       237\n",
      "\n",
      "    accuracy                           0.60      1156\n",
      "   macro avg       0.61      0.55      0.56      1156\n",
      "weighted avg       0.61      0.60      0.59      1156\n",
      "\n",
      "training accuracy: 57.93118372646613\n",
      "testing accuracy: 59.94809688581315\n",
      "\n",
      "Confusion Matrix\n"
     ]
    },
    {
     "data": {
      "image/png": "[encoded data removed]",
      "text/plain": [
       "<Figure size 432x288 with 2 Axes>"
      ]
     },
     "metadata": {
      "needs_background": "light"
     },
     "output_type": "display_data"
    },
    {
     "name": "stdout",
     "output_type": "stream",
     "text": [
      "\n",
      "Perceptró:\n",
      "              precision    recall  f1-score   support\n",
      "\n",
      "           1       0.36      1.00      0.53       403\n",
      "           2       0.55      0.02      0.04       516\n",
      "           3       0.62      0.06      0.11       237\n",
      "\n",
      "    accuracy                           0.37      1156\n",
      "   macro avg       0.51      0.36      0.23      1156\n",
      "weighted avg       0.50      0.37      0.23      1156\n",
      "\n",
      "training accuracy: 38.541441246483444\n",
      "testing accuracy: 36.937716262975776\n",
      "\n",
      "Confusion Matrix\n"
     ]
    },
    {
     "data": {
      "image/png": "[encoded data removed]",
      "text/plain": [
       "<Figure size 432x288 with 2 Axes>"
      ]
     },
     "metadata": {
      "needs_background": "light"
     },
     "output_type": "display_data"
    },
    {
     "name": "stdout",
     "output_type": "stream",
     "text": [
      "\n",
      "Random Forest:\n",
      "              precision    recall  f1-score   support\n",
      "\n",
      "           1       0.77      0.79      0.78       403\n",
      "           2       0.70      0.73      0.71       516\n",
      "           3       0.75      0.63      0.68       237\n",
      "\n",
      "    accuracy                           0.73      1156\n",
      "   macro avg       0.74      0.72      0.73      1156\n",
      "weighted avg       0.73      0.73      0.73      1156\n",
      "\n",
      "training accuracy: 100.0\n",
      "testing accuracy: 73.09688581314879\n",
      "\n",
      "Confusion Matrix\n"
     ]
    },
    {
     "data": {
      "image/png": "[encoded data removed]",
      "text/plain": [
       "<Figure size 432x288 with 2 Axes>"
      ]
     },
     "metadata": {
      "needs_background": "light"
     },
     "output_type": "display_data"
    }
   ],
   "source": [
    "combinator_PercAC = CombineWithReferenceFeature(\n",
    "    variables_to_combine=['citric acid'],\n",
    "    reference_variables=['fixed acidity'],\n",
    "    operations=['div'],   \n",
    "    new_variables_names=['percentage_citric_acid'])\n",
    "\n",
    "df_PercAC = combinator_PercAC.fit_transform(df)\n",
    "\n",
    "RegressioLogistica(df_PercAC, \"Perc. acid citric\")\n",
    "Perceptro(df_PercAC, \"Perc. acid citric\")\n",
    "RandomForest(df_PercAC, \"Perc. acid citric\")"
   ]
  },
  {
   "cell_type": "markdown",
   "id": "eca265ff",
   "metadata": {},
   "source": [
    "### Minerals totals"
   ]
  },
  {
   "cell_type": "markdown",
   "id": "8975c28b",
   "metadata": {},
   "source": [
    "Com tenim els sulfats i els clorurs que ambdós són minerals, cream una nova caraterística anomenada minerals totals que representi la seva suma"
   ]
  },
  {
   "cell_type": "code",
   "execution_count": 44,
   "id": "9f0bfd90",
   "metadata": {
    "execution": {
     "iopub.execute_input": "2021-01-23T12:18:46.246874Z",
     "iopub.status.busy": "2021-01-23T12:18:46.243175Z",
     "iopub.status.idle": "2021-01-23T12:18:46.28776Z",
     "shell.execute_reply": "2021-01-23T12:18:46.288288Z"
    },
    "papermill": {
     "duration": 0.094764,
     "end_time": "2021-01-23T12:18:46.288441",
     "exception": false,
     "start_time": "2021-01-23T12:18:46.193677",
     "status": "completed"
    },
    "tags": []
   },
   "outputs": [
    {
     "name": "stdout",
     "output_type": "stream",
     "text": [
      "\n",
      "Regressio Logística:\n",
      "              precision    recall  f1-score   support\n",
      "\n",
      "           1       0.65      0.67      0.66       403\n",
      "           2       0.56      0.69      0.62       516\n",
      "           3       0.61      0.28      0.39       237\n",
      "\n",
      "    accuracy                           0.60      1156\n",
      "   macro avg       0.61      0.55      0.55      1156\n",
      "weighted avg       0.60      0.60      0.58      1156\n",
      "\n",
      "training accuracy: 57.80134170093053\n",
      "testing accuracy: 59.688581314878896\n",
      "\n",
      "Confusion Matrix\n"
     ]
    },
    {
     "data": {
      "image/png": "[encoded data removed]",
      "text/plain": [
       "<Figure size 432x288 with 2 Axes>"
      ]
     },
     "metadata": {
      "needs_background": "light"
     },
     "output_type": "display_data"
    },
    {
     "name": "stdout",
     "output_type": "stream",
     "text": [
      "\n",
      "Perceptró:\n",
      "              precision    recall  f1-score   support\n",
      "\n",
      "           1       0.57      0.71      0.63       403\n",
      "           2       0.53      0.64      0.58       516\n",
      "           3       0.67      0.08      0.14       237\n",
      "\n",
      "    accuracy                           0.55      1156\n",
      "   macro avg       0.59      0.48      0.45      1156\n",
      "weighted avg       0.57      0.55      0.51      1156\n",
      "\n",
      "training accuracy: 53.53819519584505\n",
      "testing accuracy: 54.93079584775087\n",
      "\n",
      "Confusion Matrix\n"
     ]
    },
    {
     "data": {
      "image/png": "[encoded data removed]",
      "text/plain": [
       "<Figure size 432x288 with 2 Axes>"
      ]
     },
     "metadata": {
      "needs_background": "light"
     },
     "output_type": "display_data"
    },
    {
     "name": "stdout",
     "output_type": "stream",
     "text": [
      "\n",
      "Random Forest:\n",
      "              precision    recall  f1-score   support\n",
      "\n",
      "           1       0.78      0.78      0.78       403\n",
      "           2       0.69      0.75      0.72       516\n",
      "           3       0.75      0.62      0.68       237\n",
      "\n",
      "    accuracy                           0.73      1156\n",
      "   macro avg       0.74      0.72      0.73      1156\n",
      "weighted avg       0.73      0.73      0.73      1156\n",
      "\n",
      "training accuracy: 100.0\n",
      "testing accuracy: 73.26989619377161\n",
      "\n",
      "Confusion Matrix\n"
     ]
    },
    {
     "data": {
      "image/png": "[encoded data removed]",
      "text/plain": [
       "<Figure size 432x288 with 2 Axes>"
      ]
     },
     "metadata": {
      "needs_background": "light"
     },
     "output_type": "display_data"
    }
   ],
   "source": [
    "combinator_Minerals_Totals = MathematicalCombination(\n",
    "    variables_to_combine=['chlorides', 'sulphates'],\n",
    "    math_operations = ['sum'],\n",
    "    new_variables_names = ['total_minerals']\n",
    ")\n",
    "\n",
    "df_Minerals_Totals = combinator_Minerals_Totals.fit_transform(df)\n",
    "\n",
    "RegressioLogistica(df_Minerals_Totals, \"Minerals totals\")\n",
    "Perceptro(df_Minerals_Totals, \"Minerals totals\")\n",
    "RandomForest(df_Minerals_Totals, \"Minerals totals\")"
   ]
  },
  {
   "cell_type": "markdown",
   "id": "d1e5bd8d",
   "metadata": {},
   "source": [
    "### Percentatge de diòxid de sofre lliure"
   ]
  },
  {
   "cell_type": "markdown",
   "id": "392a16a5",
   "metadata": {},
   "source": [
    "El SO2 lliure i el SO2 total són les dues característiques més relacionades així que cream una nova amb aquestes dues que sigui el percentatge de SO2 lliure respecte al total"
   ]
  },
  {
   "cell_type": "code",
   "execution_count": 45,
   "id": "d9e667ba",
   "metadata": {
    "execution": {
     "iopub.execute_input": "2021-01-23T12:18:46.377854Z",
     "iopub.status.busy": "2021-01-23T12:18:46.377089Z",
     "iopub.status.idle": "2021-01-23T12:18:46.409562Z",
     "shell.execute_reply": "2021-01-23T12:18:46.408992Z"
    },
    "papermill": {
     "duration": 0.078286,
     "end_time": "2021-01-23T12:18:46.409696",
     "exception": false,
     "start_time": "2021-01-23T12:18:46.33141",
     "status": "completed"
    },
    "tags": []
   },
   "outputs": [
    {
     "name": "stdout",
     "output_type": "stream",
     "text": [
      "\n",
      "Regressio Logística:\n",
      "              precision    recall  f1-score   support\n",
      "\n",
      "           1       0.67      0.69      0.68       403\n",
      "           2       0.57      0.69      0.62       516\n",
      "           3       0.61      0.28      0.38       237\n",
      "\n",
      "    accuracy                           0.61      1156\n",
      "   macro avg       0.61      0.55      0.56      1156\n",
      "weighted avg       0.61      0.61      0.59      1156\n",
      "\n",
      "training accuracy: 58.10430642718026\n",
      "testing accuracy: 60.553633217993074\n",
      "\n",
      "Confusion Matrix\n"
     ]
    },
    {
     "data": {
      "image/png": "[encoded data removed]",
      "text/plain": [
       "<Figure size 432x288 with 2 Axes>"
      ]
     },
     "metadata": {
      "needs_background": "light"
     },
     "output_type": "display_data"
    },
    {
     "name": "stdout",
     "output_type": "stream",
     "text": [
      "\n",
      "Perceptró:\n",
      "              precision    recall  f1-score   support\n",
      "\n",
      "           1       0.48      0.86      0.62       403\n",
      "           2       0.53      0.45      0.48       516\n",
      "           3       0.00      0.00      0.00       237\n",
      "\n",
      "    accuracy                           0.50      1156\n",
      "   macro avg       0.34      0.43      0.37      1156\n",
      "weighted avg       0.40      0.50      0.43      1156\n",
      "\n",
      "training accuracy: 50.14066219433023\n",
      "testing accuracy: 49.82698961937716\n",
      "\n",
      "Confusion Matrix\n"
     ]
    },
    {
     "data": {
      "image/png": "[encoded data removed]",
      "text/plain": [
       "<Figure size 432x288 with 2 Axes>"
      ]
     },
     "metadata": {
      "needs_background": "light"
     },
     "output_type": "display_data"
    },
    {
     "name": "stdout",
     "output_type": "stream",
     "text": [
      "\n",
      "Random Forest:\n",
      "              precision    recall  f1-score   support\n",
      "\n",
      "           1       0.78      0.79      0.79       403\n",
      "           2       0.71      0.77      0.74       516\n",
      "           3       0.78      0.61      0.69       237\n",
      "\n",
      "    accuracy                           0.74      1156\n",
      "   macro avg       0.76      0.72      0.74      1156\n",
      "weighted avg       0.75      0.74      0.74      1156\n",
      "\n",
      "training accuracy: 100.0\n",
      "testing accuracy: 74.48096885813149\n",
      "\n",
      "Confusion Matrix\n"
     ]
    },
    {
     "data": {
      "image/png": "[encoded data removed]",
      "text/plain": [
       "<Figure size 432x288 with 2 Axes>"
      ]
     },
     "metadata": {
      "needs_background": "light"
     },
     "output_type": "display_data"
    }
   ],
   "source": [
    "combinator_PercSO2 = CombineWithReferenceFeature(\n",
    "    variables_to_combine=['free sulfur dioxide'],\n",
    "    reference_variables=['total sulfur dioxide'],\n",
    "    operations=['div'],   \n",
    "    new_variables_names=['percentage_free_sulfur'])\n",
    "\n",
    "df_PercSO2 = combinator_PercSO2.fit_transform(df)\n",
    "\n",
    "RegressioLogistica(df_PercSO2, \"Perc. SO2 lliure\")\n",
    "Perceptro(df_PercSO2, \"Perc. SO2 lliure\")\n",
    "RandomForest(df_PercSO2, \"Perc. SO2 lliure\")"
   ]
  },
  {
   "cell_type": "markdown",
   "id": "da68c40f",
   "metadata": {},
   "source": [
    "### Diòxid de sofre no lliure"
   ]
  },
  {
   "cell_type": "markdown",
   "id": "8f2b1f0f",
   "metadata": {},
   "source": [
    "Parescut a l'anterior apartat, aquí cream una nova característica que és el SO2 no lliure"
   ]
  },
  {
   "cell_type": "code",
   "execution_count": 46,
   "id": "ec296257",
   "metadata": {},
   "outputs": [
    {
     "name": "stdout",
     "output_type": "stream",
     "text": [
      "\n",
      "Regressio Logística:\n",
      "              precision    recall  f1-score   support\n",
      "\n",
      "           1       0.65      0.67      0.66       403\n",
      "           2       0.56      0.69      0.62       516\n",
      "           3       0.62      0.29      0.39       237\n",
      "\n",
      "    accuracy                           0.60      1156\n",
      "   macro avg       0.61      0.55      0.56      1156\n",
      "weighted avg       0.61      0.60      0.59      1156\n",
      "\n",
      "training accuracy: 57.6931400129842\n",
      "testing accuracy: 59.94809688581315\n",
      "\n",
      "Confusion Matrix\n"
     ]
    },
    {
     "data": {
      "image/png": "[encoded data removed]",
      "text/plain": [
       "<Figure size 432x288 with 2 Axes>"
      ]
     },
     "metadata": {
      "needs_background": "light"
     },
     "output_type": "display_data"
    },
    {
     "name": "stdout",
     "output_type": "stream",
     "text": [
      "\n",
      "Perceptró:\n",
      "              precision    recall  f1-score   support\n",
      "\n",
      "           1       0.41      0.96      0.58       403\n",
      "           2       0.70      0.04      0.07       516\n",
      "           3       0.48      0.39      0.43       237\n",
      "\n",
      "    accuracy                           0.43      1156\n",
      "   macro avg       0.53      0.46      0.36      1156\n",
      "weighted avg       0.56      0.43      0.32      1156\n",
      "\n",
      "training accuracy: 43.259034840943514\n",
      "testing accuracy: 43.0795847750865\n",
      "\n",
      "Confusion Matrix\n"
     ]
    },
    {
     "data": {
      "image/png": "[encoded data removed]",
      "text/plain": [
       "<Figure size 432x288 with 2 Axes>"
      ]
     },
     "metadata": {
      "needs_background": "light"
     },
     "output_type": "display_data"
    },
    {
     "name": "stdout",
     "output_type": "stream",
     "text": [
      "\n",
      "Random Forest:\n",
      "              precision    recall  f1-score   support\n",
      "\n",
      "           1       0.78      0.78      0.78       403\n",
      "           2       0.70      0.76      0.73       516\n",
      "           3       0.78      0.63      0.70       237\n",
      "\n",
      "    accuracy                           0.74      1156\n",
      "   macro avg       0.75      0.73      0.74      1156\n",
      "weighted avg       0.75      0.74      0.74      1156\n",
      "\n",
      "training accuracy: 100.0\n",
      "testing accuracy: 74.30795847750865\n",
      "\n",
      "Confusion Matrix\n"
     ]
    },
    {
     "data": {
      "image/png": "[encoded data removed]",
      "text/plain": [
       "<Figure size 432x288 with 2 Axes>"
      ]
     },
     "metadata": {
      "needs_background": "light"
     },
     "output_type": "display_data"
    }
   ],
   "source": [
    "combinator_No_FreeSO2 = CombineWithReferenceFeature(\n",
    "    variables_to_combine=['total sulfur dioxide'],\n",
    "    reference_variables=['free sulfur dioxide'],\n",
    "    operations=['sub'],\n",
    "    new_variables_names=['non_free_sulfur_dioxide']\n",
    ")\n",
    "\n",
    "df_No_FreeSO2 = combinator_No_FreeSO2.fit_transform(df)\n",
    "\n",
    "RegressioLogistica(df_No_FreeSO2, \"S02 no lliure\")\n",
    "Perceptro(df_No_FreeSO2, \"S02 no lliure\")\n",
    "RandomForest(df_No_FreeSO2, \"S02 no lliure\")\n"
   ]
  },
  {
   "cell_type": "markdown",
   "id": "26f07039",
   "metadata": {},
   "source": [
    "### Unim totes les creacions"
   ]
  },
  {
   "cell_type": "markdown",
   "id": "b66055cc",
   "metadata": {},
   "source": [
    "Juntarem totes les característiques creades en un sol dataframe"
   ]
  },
  {
   "cell_type": "code",
   "execution_count": 47,
   "id": "12d48fa7",
   "metadata": {},
   "outputs": [
    {
     "name": "stdout",
     "output_type": "stream",
     "text": [
      "\n",
      "Regressio Logística:\n",
      "              precision    recall  f1-score   support\n",
      "\n",
      "           1       0.66      0.68      0.67       403\n",
      "           2       0.56      0.69      0.62       516\n",
      "           3       0.61      0.28      0.38       237\n",
      "\n",
      "    accuracy                           0.60      1156\n",
      "   macro avg       0.61      0.55      0.56      1156\n",
      "weighted avg       0.61      0.60      0.59      1156\n",
      "\n",
      "training accuracy: 58.10430642718026\n",
      "testing accuracy: 60.38062283737025\n",
      "\n",
      "Confusion Matrix\n"
     ]
    },
    {
     "data": {
      "image/png": "[encoded data removed]",
      "text/plain": [
       "<Figure size 432x288 with 2 Axes>"
      ]
     },
     "metadata": {
      "needs_background": "light"
     },
     "output_type": "display_data"
    },
    {
     "name": "stdout",
     "output_type": "stream",
     "text": [
      "\n",
      "Perceptró:\n",
      "              precision    recall  f1-score   support\n",
      "\n",
      "           1       0.52      0.84      0.64       403\n",
      "           2       0.53      0.24      0.33       516\n",
      "           3       0.44      0.49      0.47       237\n",
      "\n",
      "    accuracy                           0.50      1156\n",
      "   macro avg       0.50      0.53      0.48      1156\n",
      "weighted avg       0.51      0.50      0.47      1156\n",
      "\n",
      "training accuracy: 50.530188270937025\n",
      "testing accuracy: 50.17301038062284\n",
      "\n",
      "Confusion Matrix\n"
     ]
    },
    {
     "data": {
      "image/png": "[encoded data removed]",
      "text/plain": [
       "<Figure size 432x288 with 2 Axes>"
      ]
     },
     "metadata": {
      "needs_background": "light"
     },
     "output_type": "display_data"
    },
    {
     "name": "stdout",
     "output_type": "stream",
     "text": [
      "\n",
      "Random Forest:\n",
      "              precision    recall  f1-score   support\n",
      "\n",
      "           1       0.78      0.79      0.79       403\n",
      "           2       0.70      0.77      0.73       516\n",
      "           3       0.79      0.62      0.69       237\n",
      "\n",
      "    accuracy                           0.74      1156\n",
      "   macro avg       0.76      0.73      0.74      1156\n",
      "weighted avg       0.75      0.74      0.74      1156\n",
      "\n",
      "training accuracy: 100.0\n",
      "testing accuracy: 74.48096885813149\n",
      "\n",
      "Confusion Matrix\n"
     ]
    },
    {
     "data": {
      "image/png": "[encoded data removed]",
      "text/plain": [
       "<Figure size 432x288 with 2 Axes>"
      ]
     },
     "metadata": {
      "needs_background": "light"
     },
     "output_type": "display_data"
    }
   ],
   "source": [
    "df_Unió = combinator_Acid_Tot.fit_transform(df)\n",
    "df_Unió = combinator_Minerals_Totals.fit_transform(df_Unió)\n",
    "df_Unió = combinator_PercAC.fit_transform(df_Unió)\n",
    "df_Unió = combinator_No_FreeSO2.fit_transform(df_Unió)\n",
    "df_Unió = combinator_PercSO2.fit_transform(df_Unió)\n",
    "\n",
    "RegressioLogistica(df_Unió, \"Totes creacions\")\n",
    "Perceptro(df_Unió, \"Totes creacions\")\n",
    "RandomForest(df_Unió, \"Totes creacions\")"
   ]
  },
  {
   "cell_type": "markdown",
   "id": "cb6b55b3",
   "metadata": {},
   "source": [
    "## Comparam les precisions i conclusions"
   ]
  },
  {
   "cell_type": "markdown",
   "id": "9f12d46d",
   "metadata": {},
   "source": [
    "En aquest apartat feim un print de l'*accuracy* de tots les versions del dataframes per poder comparar-les. També calcularem la diferència de cada variació amb l'original."
   ]
  },
  {
   "cell_type": "code",
   "execution_count": 48,
   "id": "0cbc05c7",
   "metadata": {},
   "outputs": [
    {
     "name": "stdout",
     "output_type": "stream",
     "text": [
      "Training accuracy for each model and each dataframe\n",
      "                             Regressió Logística  Perceptró Random Forest\n",
      "Original                              57.736421  47.587102         100.0\n",
      "menor imp. LogReg                     56.979009  50.595109         100.0\n",
      "menor imp. Perc                       57.433456  44.665657         100.0\n",
      "menor imp. RF                         57.996105  47.500541         100.0\n",
      "Pitjors carac. Correlacions           56.784246   49.98918         100.0\n",
      "Pitjors carac. SFSF                   57.974464  49.967539         100.0\n",
      "Pitjors carac. SFSB                   57.822982  48.041549         100.0\n",
      "Pitjors carac. UFS                    57.108851  40.056265         100.0\n",
      "Pitjors carac. RFE                    57.822982  48.041549         100.0\n",
      "Acid Totals                             57.6715  45.076823         100.0\n",
      "Perc. acid citric                     57.931184  38.541441         100.0\n",
      "Minerals totals                       57.801342  53.538195         100.0\n",
      "Perc. SO2 lliure                      58.104306  50.140662         100.0\n",
      "S02 no lliure                          57.69314  43.259035         100.0\n",
      "Totes creacions                       58.104306  50.530188         100.0\n",
      "\n",
      "Testing accuracy for each model and each dataframe\n",
      "                             Regressió Logística  Perceptró Random Forest\n",
      "Original                              59.688581  48.702422     73.010381\n",
      "menor imp. LogReg                     58.910035   50.17301     74.913495\n",
      "menor imp. Perc                       59.861592  44.636678     73.269896\n",
      "menor imp. RF                         59.602076  50.519031     74.048443\n",
      "Pitjors carac. Correlacions           58.823529  48.356401      70.67474\n",
      "Pitjors carac. SFSF                   59.948097  52.249135     74.134948\n",
      "Pitjors carac. SFSB                   60.640138  48.702422     74.653979\n",
      "Pitjors carac. UFS                    59.861592  38.581315     71.972318\n",
      "Pitjors carac. RFE                    60.640138  48.702422     72.491349\n",
      "Acid Totals                           59.775087  44.463668     74.653979\n",
      "Perc. acid citric                     59.948097  36.937716     73.096886\n",
      "Minerals totals                       59.688581  54.930796     73.269896\n",
      "Perc. SO2 lliure                      60.553633   49.82699     74.480969\n",
      "S02 no lliure                         59.948097  43.079585     74.307958\n",
      "Totes creacions                       60.380623   50.17301     74.480969\n",
      "\n",
      "\n",
      "Les features eliminades han estat:\n",
      "                                                             Comentaris\n",
      "menor imp. LogReg                                              alcohol\n",
      "menor imp. Perc                                              sulphates\n",
      "menor imp. RF                                                     type\n",
      "Pitjors carac. Correlacions  (free sulfur dioxide, residual sugar, pH)\n",
      "Pitjors carac. SFSF                                  [chlorides, type]\n",
      "Pitjors carac. SFSB                           [chlorides, citric acid]\n",
      "Pitjors carac. UFS                                     [pH, sulphates]\n",
      "Pitjors carac. RFE                            [chlorides, citric acid]\n"
     ]
    }
   ],
   "source": [
    "print(\"Training accuracy for each model and each dataframe\\n\", dfTrainAccuracy)\n",
    "print(\"\\nTesting accuracy for each model and each dataframe\\n\", dfTestAccuracy)\n",
    "print(\"\\n\\nLes features eliminades han estat:\\n\", dfComentaris)"
   ]
  },
  {
   "cell_type": "code",
   "execution_count": 49,
   "id": "32381607",
   "metadata": {},
   "outputs": [
    {
     "name": "stdout",
     "output_type": "stream",
     "text": [
      "                            Regressió Logística  Perceptró Random Forest  \\\n",
      "Original                                    0.0        0.0           0.0   \n",
      "menor imp. LogReg                     -0.778547   1.470588      1.903114   \n",
      "menor imp. Perc                         0.17301  -4.065744      0.259516   \n",
      "menor imp. RF                         -0.086505   1.816609      1.038062   \n",
      "Pitjors carac. Correlacions           -0.865052  -0.346021      -2.33564   \n",
      "Pitjors carac. SFSF                    0.259516   3.546713      1.124567   \n",
      "Pitjors carac. SFSB                    0.951557        0.0      1.643599   \n",
      "Pitjors carac. UFS                      0.17301 -10.121107     -1.038062   \n",
      "Pitjors carac. RFE                     0.951557        0.0     -0.519031   \n",
      "Acid Totals                            0.086505  -4.238754      1.643599   \n",
      "Perc. acid citric                      0.259516 -11.764706      0.086505   \n",
      "Minerals totals                             0.0   6.228374      0.259516   \n",
      "Perc. SO2 lliure                       0.865052   1.124567      1.470588   \n",
      "S02 no lliure                          0.259516  -5.622837      1.297578   \n",
      "Totes creacions                        0.692042   1.470588      1.470588   \n",
      "\n",
      "                                Media  \n",
      "Original                     0.000000  \n",
      "menor imp. LogReg            0.865052  \n",
      "menor imp. Perc             -1.211073  \n",
      "menor imp. RF                0.922722  \n",
      "Pitjors carac. Correlacions -1.182238  \n",
      "Pitjors carac. SFSF          1.643599  \n",
      "Pitjors carac. SFSB          0.865052  \n",
      "Pitjors carac. UFS          -3.662053  \n",
      "Pitjors carac. RFE           0.144175  \n",
      "Acid Totals                 -0.836217  \n",
      "Perc. acid citric           -3.806228  \n",
      "Minerals totals              2.162630  \n",
      "Perc. SO2 lliure             1.153403  \n",
      "S02 no lliure               -1.355248  \n",
      "Totes creacions              1.211073  \n"
     ]
    }
   ],
   "source": [
    "dfDiffs = pd.DataFrame(columns=['Regressió Logística','Perceptró','Random Forest'])\n",
    "for index, row in dfTestAccuracy.iterrows():\n",
    "    dfDiffs.at[row.name]=row-dfTestAccuracy.loc['Original']\n",
    "dfDiffs['Media'] = dfDiffs.mean(axis=1)\n",
    "print(dfDiffs)"
   ]
  },
  {
   "cell_type": "markdown",
   "id": "3fbc71db",
   "metadata": {},
   "source": [
    "Com podem veure, les precisions dels models no han millorat gaire després d'aplicar els diferents processos de l'enginenyeria de característiques. Fins i tot n'hi ha algunes que han empitjorat. \n",
    "\n",
    "- **Regressió Logística** \\\n",
    "        Pel que fa a les diferències de la Regressió Logística, podem observar que no han estat gaire significatives. Cap modificació a les característiques ha fet millorar ni empitjorar l'*accuracy* més d'un 1% i, en algunes, inclús s'ha mantingut exactament igual.\n",
    "- **Perceptró**\\\n",
    "        El Perceptró és el model que més es veu afectat per aquestes noves característiques. La que més millora l'*accuracy* és la característica **Minerals totals**, amb un 6.22%, mentre que la pitjor és el  **Percentatge d'àcid cítric**, amb un decrement del 11% de la *accuracy*.\n",
    "\n",
    "- **Random Forest**\\\n",
    "        Per acabar, el Random Forest no millora ni empitjora significativament, simplement té canvis en l'*accuracy* d'un màxim del 2% en valor absolut.\n",
    "\n",
    "Un pic feta la mitjana, podem observar que la característica que presenta una major millora és la de **Minerals totals**, i és la que emprarem per realitzar el *Grid Search*."
   ]
  },
  {
   "cell_type": "markdown",
   "id": "b554cb79",
   "metadata": {},
   "source": [
    "# **Grid Search CV**"
   ]
  },
  {
   "cell_type": "markdown",
   "id": "ee7d0577",
   "metadata": {},
   "source": [
    "El Grid Search és una tècnica que ens permet determinar els valors òptims dels hiperparàmetres d'un model. L'emprarem per poder millorar els nostres models. \n",
    "\n",
    "_(No acabam de saber que fan exactament tots els hyperparàmetres dels models, així que hem escollit un parell de cada model fora saber ben bé que fan)_"
   ]
  },
  {
   "cell_type": "markdown",
   "id": "fb4aab54",
   "metadata": {},
   "source": [
    "Farem feina amb el grid search damunt el dataframe: df_Minerals_Totals ja que com hem vist abans tenia la millor accuracy. No cream un conjunt de dades de validació ja que el grid search ho fa internament."
   ]
  },
  {
   "cell_type": "code",
   "execution_count": 51,
   "id": "b08a1584",
   "metadata": {},
   "outputs": [],
   "source": [
    "features, labels = load_data(df_Minerals_Totals)\n",
    "X_train, X_test, y_train, y_test = train_test_split(features, labels, test_size=0.2, random_state=42)"
   ]
  },
  {
   "cell_type": "markdown",
   "id": "860c6c9a",
   "metadata": {},
   "source": [
    "## Regressió Logística"
   ]
  },
  {
   "cell_type": "markdown",
   "id": "57d1c047",
   "metadata": {},
   "source": [
    "Pel Grid Search de la Regressió Lògistica avaluarem els següents paràmetres:\n",
    "- **Penalty**: Penalització per augmentar la magnitud dels valors dels paràmetres per reduir l'*overfitting*\n",
    "    - 'l2': Penalització l2\n",
    "    - 'l1': Penalització l1\n",
    "- **C**: Inversa de la força de regularització\n",
    "- **max_iter**: Nombre màxim d'iteracions que triga el solucionador en convergir"
   ]
  },
  {
   "cell_type": "code",
   "execution_count": 52,
   "id": "dcdbf758",
   "metadata": {},
   "outputs": [
    {
     "name": "stdout",
     "output_type": "stream",
     "text": [
      "{'C': 0.1, 'max_iter': 75, 'penalty': 'l2'}\n"
     ]
    },
    {
     "name": "stderr",
     "output_type": "stream",
     "text": [
      "C:\\Users\\sanso\\miniconda3\\envs\\ml-environment\\lib\\site-packages\\sklearn\\model_selection\\_validation.py:372: FitFailedWarning: \n",
      "280 fits failed out of a total of 560.\n",
      "The score on these train-test partitions for these parameters will be set to nan.\n",
      "If these failures are not expected, you can try to debug them by setting error_score='raise'.\n",
      "\n",
      "Below are more details about the failures:\n",
      "--------------------------------------------------------------------------------\n",
      "280 fits failed with the following error:\n",
      "Traceback (most recent call last):\n",
      "  File \"C:\\Users\\sanso\\miniconda3\\envs\\ml-environment\\lib\\site-packages\\sklearn\\model_selection\\_validation.py\", line 681, in _fit_and_score\n",
      "    estimator.fit(X_train, y_train, **fit_params)\n",
      "  File \"C:\\Users\\sanso\\miniconda3\\envs\\ml-environment\\lib\\site-packages\\sklearn\\linear_model\\_logistic.py\", line 1461, in fit\n",
      "    solver = _check_solver(self.solver, self.penalty, self.dual)\n",
      "  File \"C:\\Users\\sanso\\miniconda3\\envs\\ml-environment\\lib\\site-packages\\sklearn\\linear_model\\_logistic.py\", line 447, in _check_solver\n",
      "    raise ValueError(\n",
      "ValueError: Solver lbfgs supports only 'l2' or 'none' penalties, got l1 penalty.\n",
      "\n",
      "  warnings.warn(some_fits_failed_message, FitFailedWarning)\n",
      "C:\\Users\\sanso\\miniconda3\\envs\\ml-environment\\lib\\site-packages\\sklearn\\model_selection\\_search.py:969: UserWarning: One or more of the test scores are non-finite: [       nan 0.47543828        nan 0.47543828        nan 0.47543828\n",
      "        nan 0.47543828        nan 0.53711069        nan 0.53711069\n",
      "        nan 0.53711069        nan 0.53711069        nan 0.57476555\n",
      "        nan 0.57476555        nan 0.57476555        nan 0.57476555\n",
      "        nan 0.57454863        nan 0.57389975        nan 0.57389975\n",
      "        nan 0.57389975        nan 0.57130328        nan 0.57022103\n",
      "        nan 0.57043748        nan 0.57043748        nan 0.5693557\n",
      "        nan 0.5697886         nan 0.57000505        nan 0.57000505\n",
      "        nan 0.57000505        nan 0.5702215         nan 0.56957215\n",
      "        nan 0.56957215]\n",
      "  warnings.warn(\n"
     ]
    }
   ],
   "source": [
    "param_grid={\n",
    "    \"C\":np.logspace(-3,3,7),\n",
    "    \"penalty\":[\"l1\",\"l2\"],\n",
    "    \"max_iter\":[75,100,200,300]}\n",
    "\n",
    "# Create a based model\n",
    "logreg = LogisticRegression()\n",
    "# Instantiate the grid search model\n",
    "grid_search_logreg = GridSearchCV(estimator = logreg, param_grid = param_grid, cv = 10, n_jobs=-1)\n",
    "grid_search_logreg.fit(X_train, y_train)\n",
    "\n",
    "print(grid_search_logreg.best_params_)"
   ]
  },
  {
   "cell_type": "code",
   "execution_count": 53,
   "id": "3fe658cb",
   "metadata": {},
   "outputs": [
    {
     "name": "stdout",
     "output_type": "stream",
     "text": [
      "\n",
      "Logistic Regression:\n",
      "              precision    recall  f1-score   support\n",
      "\n",
      "           1       0.65      0.67      0.66       403\n",
      "           2       0.56      0.69      0.62       516\n",
      "           3       0.61      0.28      0.39       237\n",
      "\n",
      "    accuracy                           0.60      1156\n",
      "   macro avg       0.61      0.55      0.55      1156\n",
      "weighted avg       0.60      0.60      0.58      1156\n",
      "\n",
      "training accuracy: 57.86626271369833\n",
      "testing accuracy: 59.77508650519031\n",
      "\n",
      "Confusion Matrix\n"
     ]
    },
    {
     "name": "stderr",
     "output_type": "stream",
     "text": [
      "C:\\Users\\sanso\\miniconda3\\envs\\ml-environment\\lib\\site-packages\\sklearn\\linear_model\\_logistic.py:814: ConvergenceWarning: lbfgs failed to converge (status=1):\n",
      "STOP: TOTAL NO. of ITERATIONS REACHED LIMIT.\n",
      "\n",
      "Increase the number of iterations (max_iter) or scale the data as shown in:\n",
      "    https://scikit-learn.org/stable/modules/preprocessing.html\n",
      "Please also refer to the documentation for alternative solver options:\n",
      "    https://scikit-learn.org/stable/modules/linear_model.html#logistic-regression\n",
      "  n_iter_i = _check_optimize_result(\n"
     ]
    },
    {
     "data": {
      "image/png": "[encoded data removed]",
      "text/plain": [
       "<Figure size 432x288 with 2 Axes>"
      ]
     },
     "metadata": {
      "needs_background": "light"
     },
     "output_type": "display_data"
    },
    {
     "name": "stdout",
     "output_type": "stream",
     "text": [
      "\n",
      "Logistic Regression:\n",
      "              precision    recall  f1-score   support\n",
      "\n",
      "           1       0.65      0.68      0.66       403\n",
      "           2       0.55      0.72      0.62       516\n",
      "           3       0.65      0.18      0.28       237\n",
      "\n",
      "    accuracy                           0.59      1156\n",
      "   macro avg       0.62      0.53      0.52      1156\n",
      "weighted avg       0.61      0.59      0.57      1156\n",
      "\n",
      "training accuracy: 57.8879030512876\n",
      "testing accuracy: 59.34256055363322\n",
      "\n",
      "Confusion Matrix\n"
     ]
    },
    {
     "data": {
      "image/png": "[encoded data removed]",
      "text/plain": [
       "<Figure size 432x288 with 2 Axes>"
      ]
     },
     "metadata": {
      "needs_background": "light"
     },
     "output_type": "display_data"
    }
   ],
   "source": [
    "logreg = LogisticRegression()\n",
    "logreg.fit(X_train, y_train)\n",
    "\n",
    "y_predict=logreg.predict(X_test)\n",
    "\n",
    "print(\"\\nLogistic Regression:\")\n",
    "print(classification_report(y_test, y_predict,zero_division=0))\n",
    "\n",
    "training_accuracy = logreg.score(X_train,y_train)\n",
    "testing_accuracy = logreg.score(X_test,y_test)\n",
    "\n",
    "print('training accuracy:', training_accuracy*100)    \n",
    "print('testing accuracy:', testing_accuracy*100)\n",
    "\n",
    "print(\"\\nConfusion Matrix\")\n",
    "ConfusionMatrixDisplay(confusion_matrix(y_test,y_predict, labels=logreg.classes_), display_labels=logreg.classes_).plot()  \n",
    "plt.show()\n",
    "\n",
    "#---------------------------------------------------------------------------\n",
    "\n",
    "logregTunnedParams = logreg.set_params(**grid_search_logreg.best_params_)\n",
    "logregTunnedParams.fit(X_train, y_train)\n",
    "\n",
    "y_predict=logregTunnedParams.predict(X_test)\n",
    "\n",
    "print(\"\\nLogistic Regression:\")\n",
    "print(classification_report(y_test, y_predict,zero_division=0))\n",
    "\n",
    "training_accuracy = logregTunnedParams.score(X_train,y_train)\n",
    "testing_accuracy = logregTunnedParams.score(X_test,y_test)\n",
    "\n",
    "print('training accuracy:', training_accuracy*100)    \n",
    "print('testing accuracy:', testing_accuracy*100)\n",
    "\n",
    "print(\"\\nConfusion Matrix\")\n",
    "ConfusionMatrixDisplay(confusion_matrix(y_test,y_predict, labels=logregTunnedParams.classes_), display_labels=logregTunnedParams.classes_).plot()  \n",
    "plt.show()"
   ]
  },
  {
   "cell_type": "markdown",
   "id": "1550e955",
   "metadata": {},
   "source": [
    "## Perceptró"
   ]
  },
  {
   "cell_type": "markdown",
   "id": "47ea3189",
   "metadata": {},
   "source": [
    "Pel Grid Search del Perceptró avaluarem els següents paràmetres:\n",
    "- **Penalty**: Penalització per augmentar la magnitud dels valors dels paràmetres per reduir l'*overfitting*\n",
    "    - 'l2': Penalització l2\n",
    "    - 'l1': Penalització l1\n",
    "- **Alpha**: Constant que multiplica el terme de regularització, si s'empra la regularització\n",
    "- **max_iter**: Nombre màxim d'iteracions que triga el solucionador en convergir\n",
    "- **early_stopping**: Si està establit a True atura l'entrenament quan el validation score deixa de millorar"
   ]
  },
  {
   "cell_type": "code",
   "execution_count": 54,
   "id": "d93dc1c1",
   "metadata": {},
   "outputs": [
    {
     "name": "stdout",
     "output_type": "stream",
     "text": [
      "Fitting 3 folds for each of 120 candidates, totalling 360 fits\n",
      "{'alpha': 0.001, 'early_stopping': False, 'max_iter': 75, 'penalty': 'elasticnet'}\n"
     ]
    }
   ],
   "source": [
    "param_grid = {\n",
    "    'penalty': ['l2', 'l1', 'elasticnet', None],\n",
    "    'alpha': [0.0001, 0.001, 0.01],\n",
    "    'max_iter': [75,100,1000,2500,5000],\n",
    "    'early_stopping': [True, False],\n",
    "}\n",
    "# Create a based model\n",
    "perceptro = Perceptron()\n",
    "# Instantiate the grid search model\n",
    "grid_search_Perc = GridSearchCV(estimator = perceptro, param_grid = param_grid, cv = 3, n_jobs = -1, verbose = 2)\n",
    "grid_search_Perc.fit(X_train, y_train)\n",
    "\n",
    "print(grid_search_Perc.best_params_)"
   ]
  },
  {
   "cell_type": "code",
   "execution_count": 55,
   "id": "b6157791",
   "metadata": {},
   "outputs": [
    {
     "name": "stdout",
     "output_type": "stream",
     "text": [
      "PERCEPTRON ABANS DEL GRID SEARCH:\n",
      "              precision    recall  f1-score   support\n",
      "\n",
      "           1       0.57      0.71      0.63       403\n",
      "           2       0.53      0.64      0.58       516\n",
      "           3       0.67      0.08      0.14       237\n",
      "\n",
      "    accuracy                           0.55      1156\n",
      "   macro avg       0.59      0.48      0.45      1156\n",
      "weighted avg       0.57      0.55      0.51      1156\n",
      "\n",
      "training accuracy: 53.53819519584505\n",
      "testing accuracy: 54.93079584775087\n",
      "\n",
      "Confusion Matrix\n"
     ]
    },
    {
     "data": {
      "image/png": "[encoded data removed]",
      "text/plain": [
       "<Figure size 432x288 with 2 Axes>"
      ]
     },
     "metadata": {
      "needs_background": "light"
     },
     "output_type": "display_data"
    },
    {
     "name": "stdout",
     "output_type": "stream",
     "text": [
      "PERCEPTRON DESPRÉS DEL GRIDSEARCH:\n",
      "              precision    recall  f1-score   support\n",
      "\n",
      "           1       0.00      0.00      0.00       403\n",
      "           2       0.45      1.00      0.62       516\n",
      "           3       0.00      0.00      0.00       237\n",
      "\n",
      "    accuracy                           0.45      1156\n",
      "   macro avg       0.15      0.33      0.21      1156\n",
      "weighted avg       0.20      0.45      0.28      1156\n",
      "\n",
      "training accuracy: 44.27613070763904\n",
      "testing accuracy: 44.550173010380625\n",
      "\n",
      "Confusion Matrix\n"
     ]
    },
    {
     "data": {
      "image/png": "[encoded data removed]",
      "text/plain": [
       "<Figure size 432x288 with 2 Axes>"
      ]
     },
     "metadata": {
      "needs_background": "light"
     },
     "output_type": "display_data"
    }
   ],
   "source": [
    "perc = Perceptron()\n",
    "perc.fit(X_train, y_train)\n",
    "\n",
    "y_predict=perc.predict(X_test)\n",
    "\n",
    "print(\"PERCEPTRON ABANS DEL GRID SEARCH:\")\n",
    "print(classification_report(y_test, y_predict,zero_division=0))\n",
    "\n",
    "training_accuracy = perc.score(X_train,y_train)\n",
    "testing_accuracy = perc.score(X_test,y_test)\n",
    "\n",
    "print('training accuracy:', training_accuracy*100)    \n",
    "print('testing accuracy:', testing_accuracy*100)\n",
    "\n",
    "print(\"\\nConfusion Matrix\")\n",
    "ConfusionMatrixDisplay(confusion_matrix(y_test,y_predict, labels=perc.classes_), display_labels=perc.classes_).plot()  \n",
    "plt.show()\n",
    "\n",
    "#---------------------------------------------------------------------------\n",
    "\n",
    "percTunnedParams = perc.set_params(**grid_search_Perc.best_params_)\n",
    "percTunnedParams.fit(X_train, y_train)\n",
    "\n",
    "y_predict=percTunnedParams.predict(X_test)\n",
    "\n",
    "print(\"PERCEPTRON DESPRÉS DEL GRIDSEARCH:\")\n",
    "print(classification_report(y_test, y_predict,zero_division=0))\n",
    "\n",
    "training_accuracy = percTunnedParams.score(X_train,y_train)\n",
    "testing_accuracy = percTunnedParams.score(X_test,y_test)\n",
    "\n",
    "print('training accuracy:', training_accuracy*100)    \n",
    "print('testing accuracy:', testing_accuracy*100)\n",
    "\n",
    "print(\"\\nConfusion Matrix\")\n",
    "ConfusionMatrixDisplay(confusion_matrix(y_test,y_predict, labels=percTunnedParams.classes_), display_labels=percTunnedParams.classes_).plot()  \n",
    "plt.show()"
   ]
  },
  {
   "cell_type": "markdown",
   "id": "ceee602e",
   "metadata": {},
   "source": [
    "## Random Forest"
   ]
  },
  {
   "cell_type": "markdown",
   "id": "37467516",
   "metadata": {},
   "source": [
    "Pel Grid Search del Random Forest avaluarem els següents paràmetres:\n",
    "- **max_depth**: Màxima profunditat d'un arbre\n",
    "- **max_features**: Nombre de característiques a considerar quan cercam la millor divisió\n",
    "    - 'auto': max_features=sqrt(n_features).\n",
    "    - 'log2': max_features=log2(n_features).\n",
    "    - 'None': max_features=n_features\n",
    "- **n_estimators**: Nombre d'arbres en el bosc"
   ]
  },
  {
   "cell_type": "code",
   "execution_count": 56,
   "id": "7c68f20a",
   "metadata": {},
   "outputs": [
    {
     "name": "stdout",
     "output_type": "stream",
     "text": [
      "{'max_depth': 20, 'max_features': 'log2', 'n_estimators': 100}\n"
     ]
    }
   ],
   "source": [
    "param_grid={\n",
    "    \"n_estimators\":list(range(10,101,10)),\n",
    "    \"max_features\":['auto','log2',None],\n",
    "    \"max_depth\":[15,20,25]\n",
    "    }\n",
    "\n",
    "# Create a based model\n",
    "rf = RandomForestClassifier()\n",
    "# Instantiate the grid search model\n",
    "grid_search_rf = GridSearchCV(estimator = rf, param_grid = param_grid, cv = 10, n_jobs = -1)\n",
    "grid_search_rf.fit(X_train, y_train)\n",
    "\n",
    "print(grid_search_rf.best_params_)\n"
   ]
  },
  {
   "cell_type": "code",
   "execution_count": 57,
   "id": "0d682293",
   "metadata": {},
   "outputs": [
    {
     "name": "stdout",
     "output_type": "stream",
     "text": [
      "\n",
      "RANDOM FOREST ABANS DEL GREEDSEARCH:\n",
      "              precision    recall  f1-score   support\n",
      "\n",
      "           1       0.79      0.78      0.78       403\n",
      "           2       0.70      0.77      0.74       516\n",
      "           3       0.78      0.64      0.70       237\n",
      "\n",
      "    accuracy                           0.75      1156\n",
      "   macro avg       0.76      0.73      0.74      1156\n",
      "weighted avg       0.75      0.75      0.75      1156\n",
      "\n",
      "training accuracy: 100.0\n",
      "testing accuracy: 74.5674740484429\n",
      "\n",
      "Confusion Matrix\n"
     ]
    },
    {
     "data": {
      "image/png": "[encoded data removed]",
      "text/plain": [
       "<Figure size 432x288 with 2 Axes>"
      ]
     },
     "metadata": {
      "needs_background": "light"
     },
     "output_type": "display_data"
    },
    {
     "name": "stdout",
     "output_type": "stream",
     "text": [
      "\n",
      "RANDOM FOREST DESPRÉS DEL GREEDSEARCH:\n",
      "              precision    recall  f1-score   support\n",
      "\n",
      "           1       0.78      0.79      0.78       403\n",
      "           2       0.71      0.76      0.73       516\n",
      "           3       0.77      0.63      0.69       237\n",
      "\n",
      "    accuracy                           0.74      1156\n",
      "   macro avg       0.75      0.73      0.73      1156\n",
      "weighted avg       0.74      0.74      0.74      1156\n",
      "\n",
      "training accuracy: 100.0\n",
      "testing accuracy: 74.13494809688581\n",
      "\n",
      "Confusion Matrix\n"
     ]
    },
    {
     "data": {
      "image/png": "[encoded data removed]",
      "text/plain": [
       "<Figure size 432x288 with 2 Axes>"
      ]
     },
     "metadata": {
      "needs_background": "light"
     },
     "output_type": "display_data"
    }
   ],
   "source": [
    "rf = RandomForestClassifier()\n",
    "rf.fit(X_train, y_train)\n",
    "y_predict=rf.predict(X_test)\n",
    "\n",
    "print(\"\\nRANDOM FOREST ABANS DEL GREEDSEARCH:\")\n",
    "print(classification_report(y_test, y_predict,zero_division=0))\n",
    "\n",
    "training_accuracy = rf.score(X_train,y_train)\n",
    "testing_accuracy = rf.score(X_test,y_test)\n",
    "\n",
    "print('training accuracy:', training_accuracy*100)    \n",
    "print('testing accuracy:', testing_accuracy*100)\n",
    "\n",
    "print(\"\\nConfusion Matrix\")\n",
    "ConfusionMatrixDisplay(confusion_matrix(y_test,y_predict, labels=rf.classes_), display_labels=rf.classes_).plot()  \n",
    "plt.show()\n",
    "\n",
    "#---------------------------------------------------------------------------\n",
    "\n",
    "rfTunnedParams = rf.set_params(**grid_search_rf.best_params_)\n",
    "rfTunnedParams.fit(X_train, y_train)\n",
    "\n",
    "y_predict=rfTunnedParams.predict(X_test)\n",
    "\n",
    "print(\"\\nRANDOM FOREST DESPRÉS DEL GREEDSEARCH:\")\n",
    "print(classification_report(y_test, y_predict,zero_division=0))\n",
    "\n",
    "training_accuracy = rfTunnedParams.score(X_train,y_train)\n",
    "testing_accuracy = rfTunnedParams.score(X_test,y_test)\n",
    "\n",
    "print('training accuracy:', training_accuracy*100)    \n",
    "print('testing accuracy:', testing_accuracy*100)\n",
    "\n",
    "print(\"\\nConfusion Matrix\")\n",
    "ConfusionMatrixDisplay(confusion_matrix(y_test,y_predict, labels=rfTunnedParams.classes_), display_labels=rfTunnedParams.classes_).plot()  \n",
    "plt.show()\n"
   ]
  },
  {
   "cell_type": "markdown",
   "id": "4c0b9924",
   "metadata": {},
   "source": [
    "## Resum"
   ]
  },
  {
   "cell_type": "markdown",
   "id": "a7a01748",
   "metadata": {},
   "source": [
    "Com podem veure el model amb millors resultats és el Random Forest, amb una precisió del 74%, un *recall* del 74% i un *f1-score* del 74%. \n",
    "\n",
    "- El Grid Search ha calculat que els millors paràmetres per a la Regressió Logística són: C: 0.1, Max_iter: 75, Penalty: 'l2'.\n",
    "    - Abans del Grid Search teniem una *accuracy* del 59.77% i després del 59.34%.\n",
    "    <br/>\n",
    "    <br/>\n",
    "- Per al Perceptró, els millors paràmetres són: Alpha: 0.001, Early_stopping: False, Max_iter: 75, Penalty: 'elasticnet'.\n",
    "    - Abans del  Grid Search teniem una *accuracy* del 54.93% i després del 44.55%.\n",
    "<br/>\n",
    "    <br/>\n",
    "- El Grid Search ha calculat que els millors paràmetres pel Random Forest són Max_depth: 20, Max_features:'log2', n_estimators: 100\n",
    "    - Abans del Grid Search teniem una *accuracy* del 74.56% i després del 74.13%.\n",
    "\n",
    "Com es pot observar, el Grid Search no presenta cap millora significativa, i en el cas del perceptró, l'*accuracy* empitjora bastant."
   ]
  },
  {
   "cell_type": "markdown",
   "id": "7ee71ec2",
   "metadata": {},
   "source": [
    "# **Conclusions i resum**"
   ]
  },
  {
   "cell_type": "markdown",
   "id": "3fcce00d",
   "metadata": {},
   "source": [
    "Com hem pogut veure, el nostre classificador amb millor *accuracy* ha estat el Random Forest amb el DataSet de **menor imp. LogReg** (74.9%). Encara que només presenta un augment del 1,9% respecte al DataSet original.\n",
    "\n",
    "No hem aconseguit dur a terme una millora significativa respecte al DataSet original malgrat emprar tècniques d'enginyeria de característiques i el Grid Search.\n",
    "\n",
    "Com a observacions, podem recalcar:\n",
    "\n",
    "- En fer la transformació de la qualitat a variable categòrica, hem pogut agrupar moltes de les mostres i això ha fet que els conjunts amb poques mostres desapareguin. Amb contrast amb la versió contínua, totes les 3 qualitats tenen un nombre semblant de mostres.\n",
    "\n",
    "- Comparant els resultats obtinguts amb els del DataSet amb qualitats numèriques del 0 al 10, podem veure que presentam una millora general important ja que hem passat del 67.74% al 74.9%.\n",
    "<br/>\n",
    "\n",
    "En general hem après a utilitzar la llibreria Sci-kit Learn, així com aplicar de manera pràctica el vist a les classes teòriques de Machine Learning. A més, hem pogut aprendre diferents tècniques d'anàlisi de dades, tant de visualització com de modificació i transformació.\\\n",
    "En resum hem vist que encara que sigui \"senzill\" crear un model de classificació, refinar-lo i millorar la seva precisió és una tasca força difícil ja que, com s'ha pogut observar, no hi ha hagut gaire millores tant a l'apartat d'Enginyeria de Característiques com al del Grid Search.\n"
   ]
  }
 ],
 "metadata": {
  "kernelspec": {
   "display_name": "Python 3 (ipykernel)",
   "language": "python",
   "name": "python3"
  },
  "language_info": {
   "codemirror_mode": {
    "name": "ipython",
    "version": 3
   },
   "file_extension": ".py",
   "mimetype": "text/x-python",
   "name": "python",
   "nbconvert_exporter": "python",
   "pygments_lexer": "ipython3",
   "version": "3.9.6"
  }
 },
 "nbformat": 4,
 "nbformat_minor": 5
}
