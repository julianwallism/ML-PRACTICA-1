{
 "cells": [
  {
   "cell_type": "code",
   "execution_count": 36,
   "id": "c7dc6e88-3d56-48a1-a77e-9cabb57805a1",
   "metadata": {},
   "outputs": [],
   "source": [
    "#IMPORTS\n",
    "import pandas as pd\n",
    "from sklearn.model_selection import train_test_split\n",
    "from sklearn.linear_model import LogisticRegression\n",
    "from sklearn.linear_model import Perceptron\n",
    "from sklearn.ensemble import RandomForestClassifier"
   ]
  },
  {
   "cell_type": "code",
   "execution_count": 30,
   "id": "1e5ee3a4",
   "metadata": {},
   "outputs": [],
   "source": [
    "def load_data(df):\n",
    "    y=df.quality\n",
    "    X=df.drop('quality',1)\n",
    "    return X, y"
   ]
  },
  {
   "cell_type": "code",
   "execution_count": 31,
   "id": "45c4b23d-1f27-4596-9b1c-eed4d8cbd32e",
   "metadata": {},
   "outputs": [
    {
     "name": "stderr",
     "output_type": "stream",
     "text": [
      "C:\\Users\\walli\\AppData\\Local\\Temp/ipykernel_1576/4001844796.py:3: FutureWarning: In a future version of pandas all arguments of DataFrame.drop except for the argument 'labels' will be keyword-only\n",
      "  X=df.drop('quality',1)\n"
     ]
    }
   ],
   "source": [
    "#CREATE AND MERGE DATAFRAMES\n",
    "dfRed=pd.read_csv(\"winequality-red.csv\", sep=\";\")\n",
    "dfWhite=pd.read_csv(\"winequality-white.csv\", sep=\";\")\n",
    "\n",
    "#TODO: Perque no ens deixa posar red i white\n",
    "dfRed['Type']=\"0\" #Red  \n",
    "dfWhite['Type']=\"1\" #White\n",
    "df=pd.concat([dfRed,dfWhite])\n",
    "df.sample(frac=1)\n",
    "\n",
    "X, y = load_data(df)\n",
    "X_train, X_test, y_train, y_test = train_test_split(X, y, test_size=0.25, random_state=1)"
   ]
  },
  {
   "cell_type": "code",
   "execution_count": 32,
   "id": "6d4978fa",
   "metadata": {},
   "outputs": [
    {
     "name": "stdout",
     "output_type": "stream",
     "text": [
      "<bound method NDFrame.head of       Real  Prediction\n",
      "2173     5           5\n",
      "4410     5           6\n",
      "1865     6           6\n",
      "1518     5           6\n",
      "2162     6           5\n",
      "...    ...         ...\n",
      "2677     6           6\n",
      "3683     6           6\n",
      "2255     6           6\n",
      "1759     5           5\n",
      "4267     7           6\n",
      "\n",
      "[1625 rows x 2 columns]>\n",
      "training_accuracy: 0.47311165845648606\n",
      "testing_accuracy: 0.4775384615384615\n"
     ]
    },
    {
     "name": "stderr",
     "output_type": "stream",
     "text": [
      "C:\\Users\\walli\\miniconda3\\envs\\ml-environment\\lib\\site-packages\\sklearn\\linear_model\\_logistic.py:814: ConvergenceWarning: lbfgs failed to converge (status=1):\n",
      "STOP: TOTAL NO. of ITERATIONS REACHED LIMIT.\n",
      "\n",
      "Increase the number of iterations (max_iter) or scale the data as shown in:\n",
      "    https://scikit-learn.org/stable/modules/preprocessing.html\n",
      "Please also refer to the documentation for alternative solver options:\n",
      "    https://scikit-learn.org/stable/modules/linear_model.html#logistic-regression\n",
      "  n_iter_i = _check_optimize_result(\n"
     ]
    }
   ],
   "source": [
    "#LOGISTIC REGRESSION\n",
    "\n",
    "logreg = LogisticRegression()\n",
    "logreg.fit(X_train,y_train)\n",
    "\n",
    "y_predict = logreg.predict(X_test)\n",
    "\n",
    "dfLogReg=pd.DataFrame()\n",
    "dfLogReg['Real'] = y_test\n",
    "dfLogReg['Prediction']=y_predict\n",
    "print(dfLogReg.head)\n",
    "\n",
    "training_accuracy = logreg.score(X_train,y_train)\n",
    "print('training_accuracy:',training_accuracy)\n",
    "\n",
    "testing_accuracy = logreg.score(X_test,y_test)\n",
    "print('testing_accuracy:',testing_accuracy)\n",
    "\n",
    "#TODO: Perquè dona aquells warnings?"
   ]
  },
  {
   "cell_type": "code",
   "execution_count": 33,
   "id": "eee48c24",
   "metadata": {},
   "outputs": [
    {
     "name": "stdout",
     "output_type": "stream",
     "text": [
      "<bound method NDFrame.head of       Real  Prediction\n",
      "2173     5           6\n",
      "4410     5           6\n",
      "1865     6           6\n",
      "1518     5           6\n",
      "2162     6           6\n",
      "...    ...         ...\n",
      "2677     6           6\n",
      "3683     6           6\n",
      "2255     6           6\n",
      "1759     5           6\n",
      "4267     7           6\n",
      "\n",
      "[1625 rows x 2 columns]>\n",
      "training_accuracy: 0.4351395730706076\n",
      "testing_accuracy: 0.43815384615384617\n"
     ]
    }
   ],
   "source": [
    "#PERCEPTRON\n",
    "perceptron = Perceptron()\n",
    "perceptron.fit(X_train, y_train)\n",
    "\n",
    "y_predict=perceptron.predict(X_test)\n",
    "\n",
    "dfPerceptron=pd.DataFrame()\n",
    "dfPerceptron['Real'] = y_test\n",
    "dfPerceptron['Prediction']=y_predict\n",
    "print(dfPerceptron.head)\n",
    "\n",
    "training_accuracy = perceptron.score(X_train,y_train)\n",
    "print('training_accuracy:',training_accuracy)\n",
    "\n",
    "testing_accuracy = perceptron.score(X_test,y_test)\n",
    "print('testing_accuracy:',testing_accuracy)"
   ]
  },
  {
   "cell_type": "code",
   "execution_count": 37,
   "metadata": {},
   "outputs": [
    {
     "name": "stdout",
     "output_type": "stream",
     "text": [
      "<bound method NDFrame.head of       Real  Prediction\n",
      "2173     5           5\n",
      "4410     5           5\n",
      "1865     6           5\n",
      "1518     5           6\n",
      "2162     6           5\n",
      "...    ...         ...\n",
      "2677     6           6\n",
      "3683     6           6\n",
      "2255     6           6\n",
      "1759     5           5\n",
      "4267     7           6\n",
      "\n",
      "[1625 rows x 2 columns]>\n",
      "training_accuracy: 1.0\n",
      "testing_accuracy: 0.6750769230769231\n"
     ]
    }
   ],
   "source": [
    "#RANDOM FOREST\n",
    "rf = RandomForestClassifier()\n",
    "rf.fit(X_train, y_train)\n",
    "\n",
    "y_predict=rf.predict(X_test)\n",
    "\n",
    "dfRF=pd.DataFrame()\n",
    "dfRF['Real'] = y_test\n",
    "dfRF['Prediction']=y_predict\n",
    "print(dfRF.head)\n",
    "\n",
    "training_accuracy = rf.score(X_train,y_train)\n",
    "print('training_accuracy:',training_accuracy)\n",
    "\n",
    "testing_accuracy = rf.score(X_test,y_test)\n",
    "print('testing_accuracy:',testing_accuracy)"
   ]
  }
 ],
 "metadata": {
  "kernelspec": {
   "display_name": "Python 3 (ipykernel)",
   "language": "python",
   "name": "python3"
  },
  "language_info": {
   "codemirror_mode": {
    "name": "ipython",
    "version": 3
   },
   "file_extension": ".py",
   "mimetype": "text/x-python",
   "name": "python",
   "nbconvert_exporter": "python",
   "pygments_lexer": "ipython3",
   "version": "3.9.7"
  }
 },
 "nbformat": 4,
 "nbformat_minor": 5
}
