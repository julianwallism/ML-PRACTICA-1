{
 "cells": [
  {
   "cell_type": "markdown",
   "id": "d4c6ab79",
   "metadata": {},
   "source": [
    "# Winequality dataset"
   ]
  },
  {
   "cell_type": "markdown",
   "id": "df3878f4",
   "metadata": {},
   "source": [
    "## Feim els imports"
   ]
  },
  {
   "cell_type": "code",
   "execution_count": 1,
   "id": "c7dc6e88-3d56-48a1-a77e-9cabb57805a1",
   "metadata": {},
   "outputs": [],
   "source": [
    "#IMPORTS\n",
    "import pandas as pd\n",
    "import matplotlib.pyplot as plt\n",
    "import numpy as np\n",
    "import seaborn as sns\n",
    "\n",
    "from sklearn import preprocessing\n",
    "from sklearn.model_selection import train_test_split\n",
    "from sklearn.linear_model import LogisticRegression, Perceptron, RidgeCV\n",
    "from sklearn.ensemble import RandomForestClassifier\n",
    "from sklearn.metrics import classification_report\n",
    "from sklearn.feature_selection import SequentialFeatureSelector, SelectKBest, f_regression, RFE\n",
    "\n",
    "from feature_engine.creation import MathematicalCombination, CombineWithReferenceFeature"
   ]
  },
  {
   "cell_type": "markdown",
   "id": "d10d2f9a",
   "metadata": {},
   "source": [
    "## Preparam el dataset"
   ]
  },
  {
   "cell_type": "markdown",
   "id": "cc4f7622",
   "metadata": {},
   "source": [
    "Funció que separa les features i les etiquetes, escalant les dades"
   ]
  },
  {
   "cell_type": "code",
   "execution_count": 2,
   "id": "1e5ee3a4",
   "metadata": {},
   "outputs": [],
   "source": [
    "def load_data(df):\n",
    "    y=df.quality\n",
    "    X=df.drop('quality',axis=1)\n",
    "    X = min_max_scaler.fit_transform(X)\n",
    "    return X, y"
   ]
  },
  {
   "cell_type": "markdown",
   "id": "6eb9892f",
   "metadata": {},
   "source": [
    "Carregam els datasets a dos dataframes a partir dels fitxers csv: winequality-red.csv i winequality-white.csv\n",
    "\n",
    "Afegim una nova columna que indiqui el tipus de vi a cada dataset i juntam els dos datasets en un de nou"
   ]
  },
  {
   "cell_type": "code",
   "execution_count": 3,
   "id": "45c4b23d-1f27-4596-9b1c-eed4d8cbd32e",
   "metadata": {},
   "outputs": [],
   "source": [
    "#CREATE AND MERGE DATAFRAMES\n",
    "dfRed=pd.read_csv(\"winequality-red.csv\", sep=\";\")\n",
    "dfWhite=pd.read_csv(\"winequality-white.csv\", sep=\";\")\n",
    "\n",
    "dfRed['type']=\"Red\"\n",
    "dfWhite['type']=\"White\"\n",
    "df = pd.concat([dfRed,dfWhite])"
   ]
  },
  {
   "cell_type": "markdown",
   "id": "c0f6b22c",
   "metadata": {},
   "source": [
    "Consultam les files del dataframe amb valors absents i les eliminam"
   ]
  },
  {
   "cell_type": "code",
   "execution_count": 4,
   "id": "10383ee8",
   "metadata": {},
   "outputs": [],
   "source": [
    "df[df.isna().any(axis=1)]\n",
    "df.dropna(inplace=True)"
   ]
  },
  {
   "cell_type": "markdown",
   "id": "d79bef95",
   "metadata": {},
   "source": [
    "Convertim els valors categòrics en númerics"
   ]
  },
  {
   "cell_type": "code",
   "execution_count": 5,
   "id": "2b734f3b",
   "metadata": {},
   "outputs": [],
   "source": [
    "labelencoder = preprocessing.LabelEncoder()\n",
    "\n",
    "df['type']=labelencoder.fit_transform(df['type'])"
   ]
  },
  {
   "cell_type": "markdown",
   "id": "2fba46ec",
   "metadata": {},
   "source": [
    "Recolocam les columnes"
   ]
  },
  {
   "cell_type": "code",
   "execution_count": 6,
   "id": "f8df7875",
   "metadata": {},
   "outputs": [],
   "source": [
    "df = df.reindex(columns=['fixed acidity', 'volatile acidity', 'citric acid', \n",
    "                       'residual sugar', 'chlorides', 'free sulfur dioxide',\n",
    "                       'total sulfur dioxide', 'density', 'pH', 'sulphates', \n",
    "                       'alcohol', 'type', 'quality'])"
   ]
  },
  {
   "cell_type": "code",
   "execution_count": 7,
   "id": "ca795771",
   "metadata": {},
   "outputs": [
    {
     "name": "stdout",
     "output_type": "stream",
     "text": [
      "<class 'pandas.core.frame.DataFrame'>\n",
      "Int64Index: 6497 entries, 0 to 4897\n",
      "Data columns (total 13 columns):\n",
      " #   Column                Non-Null Count  Dtype  \n",
      "---  ------                --------------  -----  \n",
      " 0   fixed acidity         6497 non-null   float64\n",
      " 1   volatile acidity      6497 non-null   float64\n",
      " 2   citric acid           6497 non-null   float64\n",
      " 3   residual sugar        6497 non-null   float64\n",
      " 4   chlorides             6497 non-null   float64\n",
      " 5   free sulfur dioxide   6497 non-null   float64\n",
      " 6   total sulfur dioxide  6497 non-null   float64\n",
      " 7   density               6497 non-null   float64\n",
      " 8   pH                    6497 non-null   float64\n",
      " 9   sulphates             6497 non-null   float64\n",
      " 10  alcohol               6497 non-null   float64\n",
      " 11  type                  6497 non-null   int32  \n",
      " 12  quality               6497 non-null   int64  \n",
      "dtypes: float64(11), int32(1), int64(1)\n",
      "memory usage: 685.2 KB\n"
     ]
    }
   ],
   "source": [
    "df.info()"
   ]
  },
  {
   "cell_type": "code",
   "execution_count": 8,
   "id": "c076feeb",
   "metadata": {},
   "outputs": [
    {
     "data": {
      "text/html": [
       "<div>\n",
       "<style scoped>\n",
       "    .dataframe tbody tr th:only-of-type {\n",
       "        vertical-align: middle;\n",
       "    }\n",
       "\n",
       "    .dataframe tbody tr th {\n",
       "        vertical-align: top;\n",
       "    }\n",
       "\n",
       "    .dataframe thead th {\n",
       "        text-align: right;\n",
       "    }\n",
       "</style>\n",
       "<table border=\"1\" class=\"dataframe\">\n",
       "  <thead>\n",
       "    <tr style=\"text-align: right;\">\n",
       "      <th></th>\n",
       "      <th>fixed acidity</th>\n",
       "      <th>volatile acidity</th>\n",
       "      <th>citric acid</th>\n",
       "      <th>residual sugar</th>\n",
       "      <th>chlorides</th>\n",
       "      <th>free sulfur dioxide</th>\n",
       "      <th>total sulfur dioxide</th>\n",
       "      <th>density</th>\n",
       "      <th>pH</th>\n",
       "      <th>sulphates</th>\n",
       "      <th>alcohol</th>\n",
       "      <th>type</th>\n",
       "      <th>quality</th>\n",
       "    </tr>\n",
       "  </thead>\n",
       "  <tbody>\n",
       "    <tr>\n",
       "      <th>0</th>\n",
       "      <td>7.4</td>\n",
       "      <td>0.70</td>\n",
       "      <td>0.00</td>\n",
       "      <td>1.9</td>\n",
       "      <td>0.076</td>\n",
       "      <td>11.0</td>\n",
       "      <td>34.0</td>\n",
       "      <td>0.9978</td>\n",
       "      <td>3.51</td>\n",
       "      <td>0.56</td>\n",
       "      <td>9.4</td>\n",
       "      <td>0</td>\n",
       "      <td>5</td>\n",
       "    </tr>\n",
       "    <tr>\n",
       "      <th>1</th>\n",
       "      <td>7.8</td>\n",
       "      <td>0.88</td>\n",
       "      <td>0.00</td>\n",
       "      <td>2.6</td>\n",
       "      <td>0.098</td>\n",
       "      <td>25.0</td>\n",
       "      <td>67.0</td>\n",
       "      <td>0.9968</td>\n",
       "      <td>3.20</td>\n",
       "      <td>0.68</td>\n",
       "      <td>9.8</td>\n",
       "      <td>0</td>\n",
       "      <td>5</td>\n",
       "    </tr>\n",
       "    <tr>\n",
       "      <th>2</th>\n",
       "      <td>7.8</td>\n",
       "      <td>0.76</td>\n",
       "      <td>0.04</td>\n",
       "      <td>2.3</td>\n",
       "      <td>0.092</td>\n",
       "      <td>15.0</td>\n",
       "      <td>54.0</td>\n",
       "      <td>0.9970</td>\n",
       "      <td>3.26</td>\n",
       "      <td>0.65</td>\n",
       "      <td>9.8</td>\n",
       "      <td>0</td>\n",
       "      <td>5</td>\n",
       "    </tr>\n",
       "    <tr>\n",
       "      <th>3</th>\n",
       "      <td>11.2</td>\n",
       "      <td>0.28</td>\n",
       "      <td>0.56</td>\n",
       "      <td>1.9</td>\n",
       "      <td>0.075</td>\n",
       "      <td>17.0</td>\n",
       "      <td>60.0</td>\n",
       "      <td>0.9980</td>\n",
       "      <td>3.16</td>\n",
       "      <td>0.58</td>\n",
       "      <td>9.8</td>\n",
       "      <td>0</td>\n",
       "      <td>6</td>\n",
       "    </tr>\n",
       "    <tr>\n",
       "      <th>4</th>\n",
       "      <td>7.4</td>\n",
       "      <td>0.70</td>\n",
       "      <td>0.00</td>\n",
       "      <td>1.9</td>\n",
       "      <td>0.076</td>\n",
       "      <td>11.0</td>\n",
       "      <td>34.0</td>\n",
       "      <td>0.9978</td>\n",
       "      <td>3.51</td>\n",
       "      <td>0.56</td>\n",
       "      <td>9.4</td>\n",
       "      <td>0</td>\n",
       "      <td>5</td>\n",
       "    </tr>\n",
       "  </tbody>\n",
       "</table>\n",
       "</div>"
      ],
      "text/plain": [
       "   fixed acidity  volatile acidity  citric acid  residual sugar  chlorides  \\\n",
       "0            7.4              0.70         0.00             1.9      0.076   \n",
       "1            7.8              0.88         0.00             2.6      0.098   \n",
       "2            7.8              0.76         0.04             2.3      0.092   \n",
       "3           11.2              0.28         0.56             1.9      0.075   \n",
       "4            7.4              0.70         0.00             1.9      0.076   \n",
       "\n",
       "   free sulfur dioxide  total sulfur dioxide  density    pH  sulphates  \\\n",
       "0                 11.0                  34.0   0.9978  3.51       0.56   \n",
       "1                 25.0                  67.0   0.9968  3.20       0.68   \n",
       "2                 15.0                  54.0   0.9970  3.26       0.65   \n",
       "3                 17.0                  60.0   0.9980  3.16       0.58   \n",
       "4                 11.0                  34.0   0.9978  3.51       0.56   \n",
       "\n",
       "   alcohol  type  quality  \n",
       "0      9.4     0        5  \n",
       "1      9.8     0        5  \n",
       "2      9.8     0        5  \n",
       "3      9.8     0        6  \n",
       "4      9.4     0        5  "
      ]
     },
     "execution_count": 8,
     "metadata": {},
     "output_type": "execute_result"
    }
   ],
   "source": [
    "df.head()"
   ]
  },
  {
   "cell_type": "markdown",
   "id": "e6485ed9",
   "metadata": {},
   "source": [
    "Mesclam el dataframe i carregam les dades a les variables *features* (característiques) i *labels* (etiquetes)"
   ]
  },
  {
   "cell_type": "code",
   "execution_count": 9,
   "id": "d0244528",
   "metadata": {},
   "outputs": [],
   "source": [
    "min_max_scaler = preprocessing.MinMaxScaler()\n",
    "df = df.sample(frac=1)\n",
    "\n",
    "features, labels = load_data(df)"
   ]
  },
  {
   "cell_type": "markdown",
   "id": "9e676eb3",
   "metadata": {},
   "source": [
    "### Separació del conjunt d'entrenament i el de test\n",
    "Per separar les dades en els conjunts d'entrenament i de test hem emprat la funció train_test_split\n",
    "\n",
    "Hem decidit emprar un 80% entrenament i un 20% de test ja que  amb un valor més baix d'entrenament el model de regressió logistica i el del perceptró presentaven underfiting \n"
   ]
  },
  {
   "cell_type": "code",
   "execution_count": 10,
   "id": "4c90c2f1",
   "metadata": {},
   "outputs": [],
   "source": [
    "X_train, X_test, y_train, y_test = train_test_split(features, labels, test_size=0.2, random_state=42)"
   ]
  },
  {
   "cell_type": "markdown",
   "id": "d860288f",
   "metadata": {},
   "source": [
    "## Visualització de les dades"
   ]
  },
  {
   "cell_type": "markdown",
   "id": "23a3a0ae",
   "metadata": {},
   "source": [
    "Aquí podem observar les correlacions entre els distints atributs"
   ]
  },
  {
   "cell_type": "code",
   "execution_count": 11,
   "id": "47f322ac",
   "metadata": {},
   "outputs": [
    {
     "data": {
      "text/plain": [
       "<AxesSubplot:>"
      ]
     },
     "execution_count": 11,
     "metadata": {},
     "output_type": "execute_result"
    },
    {
     "data": {
      "image/png": "[encoded data removed]",
      "text/plain": [
       "<Figure size 432x288 with 2 Axes>"
      ]
     },
     "metadata": {
      "needs_background": "light"
     },
     "output_type": "display_data"
    }
   ],
   "source": [
    "corr = df.corr() #Abs?\n",
    "\n",
    "sns.heatmap(corr, \n",
    "        xticklabels=corr.columns,\n",
    "        yticklabels=corr.columns,\n",
    "        square=True,\n",
    "        cmap=\"magma\")"
   ]
  },
  {
   "cell_type": "markdown",
   "id": "871b84f2",
   "metadata": {},
   "source": [
    "Graficam el valor que prenen les característiques númeriques del dataframe mitjançant un histograma"
   ]
  },
  {
   "cell_type": "code",
   "execution_count": 12,
   "id": "401c3257",
   "metadata": {},
   "outputs": [
    {
     "data": {
      "text/plain": [
       "array([[<AxesSubplot:title={'center':'fixed acidity'}>,\n",
       "        <AxesSubplot:title={'center':'volatile acidity'}>,\n",
       "        <AxesSubplot:title={'center':'citric acid'}>],\n",
       "       [<AxesSubplot:title={'center':'residual sugar'}>,\n",
       "        <AxesSubplot:title={'center':'chlorides'}>,\n",
       "        <AxesSubplot:title={'center':'free sulfur dioxide'}>],\n",
       "       [<AxesSubplot:title={'center':'total sulfur dioxide'}>,\n",
       "        <AxesSubplot:title={'center':'density'}>,\n",
       "        <AxesSubplot:title={'center':'pH'}>],\n",
       "       [<AxesSubplot:title={'center':'sulphates'}>,\n",
       "        <AxesSubplot:title={'center':'alcohol'}>,\n",
       "        <AxesSubplot:title={'center':'quality'}>]], dtype=object)"
      ]
     },
     "execution_count": 12,
     "metadata": {},
     "output_type": "execute_result"
    },
    {
     "data": {
      "image/png": "[encoded data removed]",
      "text/plain": [
       "<Figure size 720x720 with 12 Axes>"
      ]
     },
     "metadata": {
      "needs_background": "light"
     },
     "output_type": "display_data"
    }
   ],
   "source": [
    "df.drop(\"type\", axis=1).hist(figsize=(10,10), grid=False)"
   ]
  },
  {
   "cell_type": "markdown",
   "id": "62a9a3cf",
   "metadata": {},
   "source": [
    "Gràfic cirular amb el que podem veure la proporció de vi blanc i vermell"
   ]
  },
  {
   "cell_type": "code",
   "execution_count": 13,
   "id": "2fa060d5",
   "metadata": {},
   "outputs": [
    {
     "name": "stdout",
     "output_type": "stream",
     "text": [
      "1    75.388641\n",
      "0    24.611359\n",
      "Name: type, dtype: float64\n"
     ]
    },
    {
     "data": {
      "image/png": "[encoded data removed]",
      "text/plain": [
       "<Figure size 432x288 with 1 Axes>"
      ]
     },
     "metadata": {},
     "output_type": "display_data"
    }
   ],
   "source": [
    "plt.pie(df['type'].value_counts(), labels = [\"White\",\"Red\"], colors=[\"khaki\",\"Maroon\"])\n",
    "print(df['type'].value_counts(normalize=True)*100)"
   ]
  },
  {
   "cell_type": "markdown",
   "id": "eaf550f3",
   "metadata": {},
   "source": [
    "# **Classificadors**"
   ]
  },
  {
   "cell_type": "markdown",
   "id": "77ffd632",
   "metadata": {},
   "source": [
    "Per a cada model imprimim el seu classification report, la precisió de training i la de testing. A més, guardam aquests dos valors dins dos dataframes externs per a després poder comparar les modificacions que farem al dataframe original\n",
    "\n",
    "Hem decidit fer els models dins funcions per poder cridar-les des de l'apartat de [Enginyeria de característiques/Proves](#Proves) fora haver de reescriure el codi."
   ]
  },
  {
   "cell_type": "code",
   "execution_count": 14,
   "id": "d77cb30c",
   "metadata": {},
   "outputs": [],
   "source": [
    "dfTrain = pd.DataFrame(columns=['Regressió Logística','Perceptró','Random Forest'])\n",
    "dfTest = pd.DataFrame(columns=['Regressió Logística','Perceptró','Random Forest'])"
   ]
  },
  {
   "cell_type": "markdown",
   "id": "4833d93f",
   "metadata": {},
   "source": [
    "## Regressió Logística"
   ]
  },
  {
   "cell_type": "markdown",
   "id": "3641aa45",
   "metadata": {},
   "source": [
    "Hem decidit donar-li valor al hiperparàmetre max_iters perquè amb el valor per defecte no arribava a convergir."
   ]
  },
  {
   "cell_type": "code",
   "execution_count": 15,
   "id": "6d4978fa",
   "metadata": {},
   "outputs": [
    {
     "name": "stdout",
     "output_type": "stream",
     "text": [
      "\n",
      "Regressio Logísitca:\n",
      "              precision    recall  f1-score   support\n",
      "\n",
      "           3       1.00      0.00      0.00         5\n",
      "           4       1.00      0.03      0.05        39\n",
      "           5       0.59      0.60      0.60       424\n",
      "           6       0.51      0.74      0.60       563\n",
      "           7       0.53      0.15      0.23       226\n",
      "           8       1.00      0.00      0.00        42\n",
      "           9       1.00      0.00      0.00         1\n",
      "\n",
      "    accuracy                           0.54      1300\n",
      "   macro avg       0.81      0.22      0.21      1300\n",
      "weighted avg       0.57      0.54      0.50      1300\n",
      "\n",
      "training_accuracy: 53.99268808928228\n",
      "testing_accuracy: 54.07692307692308\n"
     ]
    }
   ],
   "source": [
    "def RegressioLogisitca(df, nom):\n",
    "    features, labels = load_data(df)\n",
    "    X_train, X_test, y_train, y_test = train_test_split(features, labels, test_size=0.2, random_state=42)\n",
    "    \n",
    "    logreg = LogisticRegression(max_iter=5000)\n",
    "    logreg.fit(X_train,y_train)\n",
    "\n",
    "    y_predict = logreg.predict(X_test)\n",
    "\n",
    "    print(\"\\nRegressio Logísitca:\")\n",
    "    print(classification_report(y_test, y_predict,zero_division=1))\n",
    "    \n",
    "    training_accuracy = logreg.score(X_train,y_train)\n",
    "    print('training_accuracy:',training_accuracy*100)\n",
    "\n",
    "    testing_accuracy = logreg.score(X_test,y_test)\n",
    "    print('testing_accuracy:',testing_accuracy*100)\n",
    "    \n",
    "    #Afegim les dades a dos dataframes externs per després poder fer comparacions\n",
    "    dfTrain.at[nom,'Regressió Logística']=training_accuracy*100\n",
    "    dfTest.at[nom,'Regressió Logística']=testing_accuracy*100 \n",
    "RegressioLogisitca(df, \"Original\")"
   ]
  },
  {
   "cell_type": "markdown",
   "id": "26c53817",
   "metadata": {},
   "source": [
    "## Perceptró"
   ]
  },
  {
   "cell_type": "code",
   "execution_count": 16,
   "id": "eee48c24",
   "metadata": {},
   "outputs": [
    {
     "name": "stdout",
     "output_type": "stream",
     "text": [
      "\n",
      "Perceptró:\n",
      "              precision    recall  f1-score   support\n",
      "\n",
      "           3       1.00      0.00      0.00         5\n",
      "           4       1.00      0.00      0.00        39\n",
      "           5       0.60      0.44      0.50       424\n",
      "           6       0.47      0.83      0.60       563\n",
      "           7       0.00      0.00      0.00       226\n",
      "           8       1.00      0.00      0.00        42\n",
      "           9       1.00      0.00      0.00         1\n",
      "\n",
      "    accuracy                           0.50      1300\n",
      "   macro avg       0.72      0.18      0.16      1300\n",
      "weighted avg       0.47      0.50      0.42      1300\n",
      "\n",
      "training_accuracy: 50.70232826630748\n",
      "testing_accuracy: 50.0\n"
     ]
    }
   ],
   "source": [
    "def Perceptro(df, nom):\n",
    "    features, labels = load_data(df)\n",
    "    X_train, X_test, y_train, y_test = train_test_split(features, labels, test_size=0.2, random_state=42)\n",
    "    \n",
    "    perceptron = Perceptron()\n",
    "    perceptron.fit(X_train, y_train)\n",
    "\n",
    "    y_predict=perceptron.predict(X_test)\n",
    "\n",
    "    print(\"\\nPerceptró:\")\n",
    "    print(classification_report(y_test, y_predict,zero_division=1))\n",
    "    \n",
    "    training_accuracy = perceptron.score(X_train,y_train)\n",
    "    print('training_accuracy:',training_accuracy*100)\n",
    "\n",
    "    testing_accuracy = perceptron.score(X_test,y_test)\n",
    "    print('testing_accuracy:',testing_accuracy*100)\n",
    "    \n",
    "    #Afegim les dades a dos dataframes externs per després poder fer comparacions\n",
    "    dfTrain.at[nom,'Perceptró']=training_accuracy*100\n",
    "    dfTest.at[nom,'Perceptró']=testing_accuracy*100     \n",
    "Perceptro(df, \"Original\")"
   ]
  },
  {
   "cell_type": "markdown",
   "id": "70b8b61e",
   "metadata": {},
   "source": [
    "## Random Forest"
   ]
  },
  {
   "cell_type": "markdown",
   "id": "16f27cad",
   "metadata": {},
   "source": [
    "Hem decidit donar-li valor al hiperparàmetre max_depth perquè amb el valor per defecte teniem overfitting."
   ]
  },
  {
   "cell_type": "code",
   "execution_count": 17,
   "id": "b2cebbdb",
   "metadata": {},
   "outputs": [
    {
     "name": "stdout",
     "output_type": "stream",
     "text": [
      "\n",
      "Random Forest:\n",
      "              precision    recall  f1-score   support\n",
      "\n",
      "           3       1.00      0.00      0.00         5\n",
      "           4       0.60      0.08      0.14        39\n",
      "           5       0.75      0.72      0.74       424\n",
      "           6       0.66      0.83      0.73       563\n",
      "           7       0.75      0.54      0.62       226\n",
      "           8       0.83      0.36      0.50        42\n",
      "           9       1.00      0.00      0.00         1\n",
      "\n",
      "    accuracy                           0.70      1300\n",
      "   macro avg       0.80      0.36      0.39      1300\n",
      "weighted avg       0.71      0.70      0.69      1300\n",
      "\n",
      "training_accuracy: 97.92187800654224\n",
      "testing_accuracy: 70.07692307692308\n"
     ]
    }
   ],
   "source": [
    "def RandomForest(df, nom):\n",
    "    features, labels = load_data(df)\n",
    "    X_train, X_test, y_train, y_test = train_test_split(features, labels, test_size=0.2, random_state=42)\n",
    "    \n",
    "    rf = RandomForestClassifier(max_depth=14)\n",
    "    rf.fit(X_train, y_train)\n",
    "\n",
    "    y_predict=rf.predict(X_test)\n",
    "\n",
    "    print(\"\\nRandom Forest:\")\n",
    "    print(classification_report(y_test, y_predict,zero_division=1))\n",
    "    \n",
    "    training_accuracy = rf.score(X_train,y_train)\n",
    "    print('training_accuracy:',training_accuracy*100)\n",
    "\n",
    "    testing_accuracy = rf.score(X_test,y_test)\n",
    "    print('testing_accuracy:',testing_accuracy*100)\n",
    "    \n",
    "    #Afegim les dades a dos dataframes externs per després poder fer comparacions\n",
    "    dfTrain.at[nom,'Random Forest']=training_accuracy*100\n",
    "    dfTest.at[nom,'Random Forest']=testing_accuracy*100         \n",
    "RandomForest(df, \"Original\")"
   ]
  },
  {
   "cell_type": "markdown",
   "id": "96654cb7",
   "metadata": {},
   "source": [
    "## Conclusions\n"
   ]
  },
  {
   "cell_type": "markdown",
   "id": "c840f50a",
   "metadata": {},
   "source": [
    "Blablabla"
   ]
  },
  {
   "cell_type": "markdown",
   "id": "86af37b7",
   "metadata": {},
   "source": [
    "# **Enginyeria de característiques**"
   ]
  },
  {
   "cell_type": "markdown",
   "id": "8cb56851",
   "metadata": {},
   "source": [
    "L'enginyeria de característiques (feature engineering) és el procés de selecció, extracció, creació i transformació de les característiques d'un dataset amb l'objectiu de millorar l'eficacia d'un model predictiu.\n",
    "\n",
    "Per a dur a terme l'enginyeria de característiques nosaltres hem duit a terme els següents apartats: \n",
    "- **Feature importances dels models**: Ens permet saber la importancia de cada característica dins cada model amb el fi de després eliminar les característiques menys importants\n",
    "- **Correlacions màximes i mínimes**: Ens permet saber quines caracterísitiques tenen major correlació entre elles. També ens permet saber quines caracteístiques tenen menys correlació amb la qualitat del vi per després poder eliminarles\n",
    "- **Feature Selection**: Selecció de les característiques més i menys importantes. Nosaltres implementarem els:\n",
    "   1. Sequential Feature Selection\n",
    "   2. Univariate Feature Selection amb Kbest\n",
    "   3. Recursive Feature Elimination"
   ]
  },
  {
   "cell_type": "markdown",
   "id": "267594fc",
   "metadata": {},
   "source": [
    "## Feature importances de cada model"
   ]
  },
  {
   "cell_type": "code",
   "execution_count": 18,
   "id": "2f37afa4",
   "metadata": {},
   "outputs": [],
   "source": [
    "dfWquality=df.drop(\"quality\", axis=1)"
   ]
  },
  {
   "cell_type": "markdown",
   "id": "cffe9dfd",
   "metadata": {},
   "source": [
    "### Regressió logística <a id='Regressio-Logistica'></a>"
   ]
  },
  {
   "cell_type": "code",
   "execution_count": 19,
   "id": "222cce99",
   "metadata": {},
   "outputs": [
    {
     "data": {
      "image/png": "[encoded data removed]",
      "text/plain": [
       "<Figure size 432x288 with 1 Axes>"
      ]
     },
     "metadata": {
      "needs_background": "light"
     },
     "output_type": "display_data"
    }
   ],
   "source": [
    "logreg = LogisticRegression(max_iter=5000)\n",
    "logreg.fit(X_train,y_train)\n",
    "\n",
    "logreg_odds = np.exp(logreg.coef_[0])\n",
    "indices=np.argsort(logreg_odds)\n",
    "\n",
    "fig, ax = plt.subplots()\n",
    "ax.set_title(\"Feature importances for Logisitc Regression\")\n",
    "ax.barh(range(len(logreg_odds)), logreg_odds[indices])\n",
    "ax.set_yticks(range(len(logreg_odds)))\n",
    "_ = ax.set_yticklabels(np.array(dfWquality.columns)[indices])"
   ]
  },
  {
   "cell_type": "markdown",
   "id": "32d8dcd5",
   "metadata": {},
   "source": [
    "### Perceptró <a id='Perceptro'></a>"
   ]
  },
  {
   "cell_type": "code",
   "execution_count": 20,
   "id": "65baa0f6",
   "metadata": {},
   "outputs": [
    {
     "data": {
      "image/png": "[encoded data removed]",
      "text/plain": [
       "<Figure size 432x288 with 1 Axes>"
      ]
     },
     "metadata": {
      "needs_background": "light"
     },
     "output_type": "display_data"
    }
   ],
   "source": [
    "perceptron = Perceptron()\n",
    "perceptron.fit(X_train, y_train)\n",
    "\n",
    "perceptron_odds = np.exp(perceptron.coef_[0])\n",
    "indices=np.argsort(perceptron_odds)\n",
    "\n",
    "fig, ax = plt.subplots()\n",
    "ax.set_title(\"Feature importances for Perceptron\")\n",
    "ax.barh(range(len(perceptron_odds)), perceptron_odds[indices])\n",
    "ax.set_yticks(range(len(perceptron_odds)))\n",
    "_ = ax.set_yticklabels(np.array(dfWquality.columns)[indices])"
   ]
  },
  {
   "cell_type": "markdown",
   "id": "6a2a8e7f",
   "metadata": {},
   "source": [
    "### Random Forest <a id='Random-Forest'></a>"
   ]
  },
  {
   "cell_type": "code",
   "execution_count": 21,
   "id": "a6d4358f",
   "metadata": {},
   "outputs": [
    {
     "data": {
      "image/png": "[encoded data removed]",
      "text/plain": [
       "<Figure size 432x288 with 1 Axes>"
      ]
     },
     "metadata": {
      "needs_background": "light"
     },
     "output_type": "display_data"
    }
   ],
   "source": [
    "rf = RandomForestClassifier(max_depth=14)\n",
    "rf.fit(X_train, y_train)\n",
    "\n",
    "importancesRF = rf.feature_importances_\n",
    "indices = np.argsort(importancesRF)\n",
    "\n",
    "fig, ax = plt.subplots()\n",
    "ax.set_title(\"Feature importances for Random forest\")\n",
    "ax.barh(range(len(importancesRF)), importancesRF[indices])\n",
    "ax.set_yticks(range(len(importancesRF)))\n",
    "_ = ax.set_yticklabels(np.array(dfWquality.columns)[indices])"
   ]
  },
  {
   "cell_type": "markdown",
   "id": "3fabb9b6",
   "metadata": {},
   "source": [
    "### \n",
    "| Model | Millor característica | Pitjor característica |\n",
    "| ----------- | ----------- | ----------- |\n",
    "| Regressió Logística | Volatile Acidity | Alcohol |\n",
    "| Perceptró | Free Sulphure Dioxide | Sulphates |\n",
    "| Random Forest | Alcohol | Type |\n",
    "\n",
    "És curiós que la pitjor característica de la regressió logística sigui la millor del Random forest\n",
    "\n",
    "Els resultats poden variar depenent de la execució, aquests valors son els obtinguts a una execució"
   ]
  },
  {
   "cell_type": "markdown",
   "id": "7161be23",
   "metadata": {},
   "source": [
    "## Correlacions màximes i mínimes <a id='Correlacions-Minimes'></a>"
   ]
  },
  {
   "cell_type": "code",
   "execution_count": 22,
   "id": "6f48d0e6",
   "metadata": {},
   "outputs": [
    {
     "name": "stdout",
     "output_type": "stream",
     "text": [
      "free sulfur dioxide   total sulfur dioxide    0.720934\n",
      "total sulfur dioxide  free sulfur dioxide     0.720934\n",
      "type                  total sulfur dioxide    0.700357\n",
      "total sulfur dioxide  type                    0.700357\n",
      "density               alcohol                 0.686745\n",
      "alcohol               density                 0.686745\n",
      "volatile acidity      type                    0.653036\n",
      "type                  volatile acidity        0.653036\n",
      "residual sugar        density                 0.552517\n",
      "density               residual sugar          0.552517\n",
      "dtype: float64\n",
      "-------------\n",
      "free sulfur dioxide     0.055463\n",
      "total sulfur dioxide    0.041385\n",
      "sulphates               0.038485\n",
      "residual sugar          0.036980\n",
      "pH                      0.019506\n",
      "dtype: float64\n"
     ]
    }
   ],
   "source": [
    "c = df.corr().abs()\n",
    "s = c.unstack()\n",
    "so = s.sort_values(kind=\"quicksort\", ascending=False)\n",
    "\n",
    "print(so[13:23]) #Les 12 primeres son autocorrelacions\n",
    "print(\"-------------\")\n",
    "print(so['quality'][8:13])\n"
   ]
  },
  {
   "cell_type": "markdown",
   "id": "8f8e52a5",
   "metadata": {},
   "source": [
    "Les característiques amb major correlació son el *Free sulfur dioxide* i el *Total sulfur dioxide*\\\n",
    "Les característiques amb menor correlació amb la qualitat son el *pH*, *residual sugars* i *sulphates*"
   ]
  },
  {
   "cell_type": "markdown",
   "id": "4ebea7d9",
   "metadata": {},
   "source": [
    "## [Feature Selection](https://www.scikit-learn.org/stable/modules/feature_selection.html)"
   ]
  },
  {
   "cell_type": "markdown",
   "id": "4374fac7",
   "metadata": {},
   "source": [
    "### [Sequential Feature Selector](https://scikit-learn.org/stable/auto_examples/feature_selection/plot_select_from_model_diabetes.html#sphx-glr-auto-examples-feature-selection-plot-select-from-model-diabetes-py) <a id='Sequential-Feature-Selector'></a>\n"
   ]
  },
  {
   "cell_type": "code",
   "execution_count": 23,
   "id": "57b757cb",
   "metadata": {},
   "outputs": [],
   "source": [
    "feature_names = np.array(dfWquality.columns)\n",
    "ridge = RidgeCV(alphas=np.logspace(-6, 6, num=5)).fit(X_train, y_train)"
   ]
  },
  {
   "cell_type": "code",
   "execution_count": 24,
   "id": "c0c0c2ea",
   "metadata": {},
   "outputs": [
    {
     "name": "stdout",
     "output_type": "stream",
     "text": [
      "Features selected by forward sequential selection: ['fixed acidity' 'volatile acidity' 'residual sugar' 'chlorides'\n",
      " 'free sulfur dioxide' 'density' 'pH' 'sulphates' 'alcohol' 'type']\n",
      "Features not selected by forward sequential selection: Index(['citric acid', 'total sulfur dioxide'], dtype='object')\n",
      "\n",
      "Features selected by backward sequential selection: ['fixed acidity' 'volatile acidity' 'residual sugar' 'free sulfur dioxide'\n",
      " 'total sulfur dioxide' 'density' 'pH' 'sulphates' 'alcohol' 'type']\n",
      "Features not selected by forward sequential selection: Index(['chlorides', 'citric acid'], dtype='object')\n"
     ]
    }
   ],
   "source": [
    "sfs_forward = SequentialFeatureSelector(\n",
    "    ridge, n_features_to_select=10, direction=\"forward\"\n",
    ").fit(X_train, y_train)\n",
    "\n",
    "\n",
    "sfs_backward = SequentialFeatureSelector(\n",
    "    ridge, n_features_to_select=10, direction=\"backward\"\n",
    ").fit(X_train, y_train)\n",
    "\n",
    "\n",
    "print(\n",
    "    \"Features selected by forward sequential selection: \"\n",
    "    f\"{feature_names[sfs_forward.get_support()]}\"\n",
    "    \"\\nFeatures not selected by forward sequential selection: \"\n",
    "    f\"{dfWquality.columns.difference(feature_names[sfs_forward.get_support()])}\\n\"\n",
    ")\n",
    "\n",
    "print(\n",
    "    \"Features selected by backward sequential selection: \"\n",
    "    f\"{feature_names[sfs_backward.get_support()]}\"\n",
    "    \"\\nFeatures not selected by forward sequential selection: \"\n",
    "    f\"{dfWquality.columns.difference(feature_names[sfs_backward.get_support()])}\"\n",
    ")"
   ]
  },
  {
   "cell_type": "markdown",
   "id": "4165dfbc",
   "metadata": {},
   "source": [
    "### [Univariate Feature selection with Kbest](https://scikit-learn.org/stable/modules/generated/sklearn.feature_selection.GenericUnivariateSelect.html#sklearn.feature_selection.GenericUnivariateSelect) <a id='Univariate-feature-selection'></a> \n"
   ]
  },
  {
   "cell_type": "code",
   "execution_count": 25,
   "id": "e0b9139e",
   "metadata": {},
   "outputs": [
    {
     "name": "stdout",
     "output_type": "stream",
     "text": [
      "Best features Index(['fixed acidity', 'volatile acidity', 'citric acid', 'residual sugar',\n",
      "       'chlorides', 'free sulfur dioxide', 'total sulfur dioxide', 'density',\n",
      "       'alcohol', 'type'],\n",
      "      dtype='object')\n",
      "Worst features Index(['pH', 'sulphates'], dtype='object')\n"
     ]
    }
   ],
   "source": [
    "mask = SelectKBest(f_regression, k=10).fit(X_train, y_train).get_support()\n",
    "best_features = dfWquality.columns[mask]\n",
    "worst_features = dfWquality.columns.difference(best_features)\n",
    "print(\"Best features\", best_features)\n",
    "print(\"Worst features\", worst_features)\n"
   ]
  },
  {
   "cell_type": "markdown",
   "id": "cd6c9db6",
   "metadata": {},
   "source": [
    "### [Recursive Feature Elimination](https://scikit-learn.org/stable/modules/generated/sklearn.feature_selection.RFE.html#sklearn.feature_selection.RFE) <a id='Recursive-feature-elimination'></a> \n"
   ]
  },
  {
   "cell_type": "code",
   "execution_count": 26,
   "id": "5bbcffae",
   "metadata": {},
   "outputs": [],
   "source": [
    "feature_names = np.array(dfWquality.columns)\n",
    "ridge = RidgeCV(alphas=np.logspace(-6, 6, num=5)).fit(X_train, y_train)"
   ]
  },
  {
   "cell_type": "code",
   "execution_count": 27,
   "id": "317b7d97",
   "metadata": {},
   "outputs": [
    {
     "name": "stdout",
     "output_type": "stream",
     "text": [
      "Features selected by recursive feature elimination: ['fixed acidity' 'volatile acidity' 'residual sugar' 'chlorides'\n",
      " 'free sulfur dioxide' 'total sulfur dioxide' 'density' 'pH' 'sulphates'\n",
      " 'alcohol']\n",
      "Features not selected by recursive feature elimination: Index(['citric acid', 'type'], dtype='object')\n",
      "\n"
     ]
    }
   ],
   "source": [
    "rfe_selector = RFE(ridge, n_features_to_select=10).fit(X_train, y_train)\n",
    "\n",
    "print(\n",
    "    \"Features selected by recursive feature elimination: \"\n",
    "    f\"{feature_names[rfe_selector.get_support()]}\"\n",
    "    \"\\nFeatures not selected by recursive feature elimination: \"\n",
    "    f\"{dfWquality.columns.difference(feature_names[rfe_selector.get_support()])}\\n\"\n",
    ")"
   ]
  },
  {
   "cell_type": "markdown",
   "id": "62d2584e",
   "metadata": {},
   "source": [
    "### \n",
    "| Tipus | 1ra Pitjor Caract. | 2na Pitjor Caract.|\n",
    "| ----------- | ----------- | ----------- |\n",
    "| Sequential Feature Selection - Forward| Free sulfur dioxide | Total sulfur dioxide |\n",
    "| Sequential Feature Selection - backward| Chloride | Citric Acid |\n",
    "| Univariate Feature Selection | pH | Sulphates |\n",
    "| Recursive Feature Elimination | Citric Acid | Type |"
   ]
  },
  {
   "cell_type": "markdown",
   "id": "954c64a1",
   "metadata": {},
   "source": [
    "## Proves <a id='Proves'></a>"
   ]
  },
  {
   "cell_type": "markdown",
   "id": "481dd688",
   "metadata": {},
   "source": [
    "### Eliminam features"
   ]
  },
  {
   "cell_type": "markdown",
   "id": "eca265ff",
   "metadata": {},
   "source": [
    "#### Fora alcohol"
   ]
  },
  {
   "cell_type": "markdown",
   "id": "bd112d94",
   "metadata": {},
   "source": [
    "Provam de llevar la característica de l'*alcohol* ja que com hem vist [aquí](#Regressio-Logistica), el Feature Selection de la Regressio Logístic ens diu que és la característica amb menys importancia"
   ]
  },
  {
   "cell_type": "code",
   "execution_count": 28,
   "id": "06941778",
   "metadata": {},
   "outputs": [
    {
     "name": "stdout",
     "output_type": "stream",
     "text": [
      "\n",
      "Regressio Logísitca:\n",
      "              precision    recall  f1-score   support\n",
      "\n",
      "           3       1.00      0.00      0.00         5\n",
      "           4       1.00      0.03      0.05        39\n",
      "           5       0.56      0.47      0.51       424\n",
      "           6       0.48      0.80      0.60       563\n",
      "           7       0.00      0.00      0.00       226\n",
      "           8       1.00      0.00      0.00        42\n",
      "           9       1.00      0.00      0.00         1\n",
      "\n",
      "    accuracy                           0.50      1300\n",
      "   macro avg       0.72      0.18      0.17      1300\n",
      "weighted avg       0.46      0.50      0.43      1300\n",
      "\n",
      "training_accuracy: 51.14489128343275\n",
      "testing_accuracy: 50.0\n",
      "\n",
      "Perceptró:\n",
      "              precision    recall  f1-score   support\n",
      "\n",
      "           3       1.00      0.00      0.00         5\n",
      "           4       0.27      0.10      0.15        39\n",
      "           5       0.54      0.52      0.53       424\n",
      "           6       0.48      0.66      0.56       563\n",
      "           7       0.43      0.18      0.25       226\n",
      "           8       1.00      0.00      0.00        42\n",
      "           9       1.00      0.00      0.00         1\n",
      "\n",
      "    accuracy                           0.49      1300\n",
      "   macro avg       0.67      0.21      0.21      1300\n",
      "weighted avg       0.50      0.49      0.46      1300\n",
      "\n",
      "training_accuracy: 49.54781604771984\n",
      "testing_accuracy: 49.07692307692308\n",
      "\n",
      "Random Forest:\n",
      "              precision    recall  f1-score   support\n",
      "\n",
      "           3       1.00      0.00      0.00         5\n",
      "           4       0.67      0.10      0.18        39\n",
      "           5       0.74      0.70      0.72       424\n",
      "           6       0.64      0.81      0.72       563\n",
      "           7       0.71      0.51      0.59       226\n",
      "           8       0.83      0.36      0.50        42\n",
      "           9       1.00      0.00      0.00         1\n",
      "\n",
      "    accuracy                           0.68      1300\n",
      "   macro avg       0.80      0.35      0.39      1300\n",
      "weighted avg       0.70      0.68      0.67      1300\n",
      "\n",
      "training_accuracy: 98.13353857994997\n",
      "testing_accuracy: 68.46153846153847\n"
     ]
    }
   ],
   "source": [
    "dfWalcohol = df.drop('alcohol',axis=1)\n",
    "\n",
    "RegressioLogisitca(dfWalcohol, \"Fora alcohol\")\n",
    "Perceptro(dfWalcohol, \"Fora alcohol\")\n",
    "RandomForest(dfWalcohol, \"Fora alcohol\")"
   ]
  },
  {
   "cell_type": "markdown",
   "id": "eca265ff",
   "metadata": {},
   "source": [
    "#### Fora sulphates"
   ]
  },
  {
   "cell_type": "markdown",
   "id": "3d7c3aac",
   "metadata": {},
   "source": [
    "Provam de llevar la característica de sulphates ja que com hem vist [aquí](#Perceptro), el Feature Selection del Perceptro ens diu que és la característica amb menys importancia"
   ]
  },
  {
   "cell_type": "code",
   "execution_count": 29,
   "id": "06941778",
   "metadata": {},
   "outputs": [
    {
     "name": "stdout",
     "output_type": "stream",
     "text": [
      "\n",
      "Regressio Logísitca:\n",
      "              precision    recall  f1-score   support\n",
      "\n",
      "           3       1.00      0.00      0.00         5\n",
      "           4       1.00      0.03      0.05        39\n",
      "           5       0.59      0.60      0.60       424\n",
      "           6       0.51      0.73      0.60       563\n",
      "           7       0.47      0.12      0.20       226\n",
      "           8       1.00      0.00      0.00        42\n",
      "           9       1.00      0.00      0.00         1\n",
      "\n",
      "    accuracy                           0.54      1300\n",
      "   macro avg       0.80      0.21      0.21      1300\n",
      "weighted avg       0.56      0.54      0.49      1300\n",
      "\n",
      "training_accuracy: 53.72330190494517\n",
      "testing_accuracy: 53.53846153846153\n",
      "\n",
      "Perceptró:\n",
      "              precision    recall  f1-score   support\n",
      "\n",
      "           3       0.00      0.00      0.00         5\n",
      "           4       1.00      0.00      0.00        39\n",
      "           5       0.77      0.05      0.09       424\n",
      "           6       0.44      0.99      0.61       563\n",
      "           7       0.00      0.00      0.00       226\n",
      "           8       1.00      0.00      0.00        42\n",
      "           9       1.00      0.00      0.00         1\n",
      "\n",
      "    accuracy                           0.44      1300\n",
      "   macro avg       0.60      0.15      0.10      1300\n",
      "weighted avg       0.50      0.44      0.29      1300\n",
      "\n",
      "training_accuracy: 44.52568789686357\n",
      "testing_accuracy: 44.38461538461539\n",
      "\n",
      "Random Forest:\n",
      "              precision    recall  f1-score   support\n",
      "\n",
      "           3       1.00      0.00      0.00         5\n",
      "           4       0.71      0.13      0.22        39\n",
      "           5       0.73      0.71      0.72       424\n",
      "           6       0.64      0.79      0.71       563\n",
      "           7       0.70      0.53      0.60       226\n",
      "           8       0.93      0.31      0.46        42\n",
      "           9       1.00      0.00      0.00         1\n",
      "\n",
      "    accuracy                           0.68      1300\n",
      "   macro avg       0.82      0.35      0.39      1300\n",
      "weighted avg       0.69      0.68      0.67      1300\n",
      "\n",
      "training_accuracy: 97.63324995189532\n",
      "testing_accuracy: 68.15384615384616\n"
     ]
    }
   ],
   "source": [
    "dfWsulphates = df.drop('sulphates',axis=1)\n",
    "\n",
    "RegressioLogisitca(dfWsulphates, \"Fora sulphates\")\n",
    "Perceptro(dfWsulphates, \"Fora sulphates\")\n",
    "RandomForest(dfWsulphates, \"Fora sulphates\")"
   ]
  },
  {
   "cell_type": "markdown",
   "id": "eca265ff",
   "metadata": {},
   "source": [
    "#### Fora type"
   ]
  },
  {
   "cell_type": "markdown",
   "id": "4cd19d2a",
   "metadata": {},
   "source": [
    "Provam de llevar la característica de Type ja que com hem vist [aquí](#Random-Forest), el Feature Selection del Random Forest ens diu que és la característica amb menys importancia"
   ]
  },
  {
   "cell_type": "code",
   "execution_count": 30,
   "id": "06941778",
   "metadata": {},
   "outputs": [
    {
     "name": "stdout",
     "output_type": "stream",
     "text": [
      "\n",
      "Regressio Logísitca:\n",
      "              precision    recall  f1-score   support\n",
      "\n",
      "           3       1.00      0.00      0.00         5\n",
      "           4       1.00      0.00      0.00        39\n",
      "           5       0.59      0.61      0.60       424\n",
      "           6       0.51      0.73      0.60       563\n",
      "           7       0.52      0.15      0.23       226\n",
      "           8       1.00      0.00      0.00        42\n",
      "           9       1.00      0.00      0.00         1\n",
      "\n",
      "    accuracy                           0.54      1300\n",
      "   macro avg       0.80      0.21      0.20      1300\n",
      "weighted avg       0.57      0.54      0.50      1300\n",
      "\n",
      "training_accuracy: 53.973446218972484\n",
      "testing_accuracy: 54.07692307692308\n",
      "\n",
      "Perceptró:\n",
      "              precision    recall  f1-score   support\n",
      "\n",
      "           3       1.00      0.00      0.00         5\n",
      "           4       1.00      0.00      0.00        39\n",
      "           5       0.45      0.93      0.61       424\n",
      "           6       1.00      0.00      0.00       563\n",
      "           7       0.39      0.63      0.48       226\n",
      "           8       0.04      0.07      0.06        42\n",
      "           9       1.00      0.00      0.00         1\n",
      "\n",
      "    accuracy                           0.41      1300\n",
      "   macro avg       0.70      0.23      0.16      1300\n",
      "weighted avg       0.68      0.41      0.28      1300\n",
      "\n",
      "training_accuracy: 40.33096016932846\n",
      "testing_accuracy: 41.46153846153846\n",
      "\n",
      "Random Forest:\n",
      "              precision    recall  f1-score   support\n",
      "\n",
      "           3       1.00      0.00      0.00         5\n",
      "           4       0.60      0.08      0.14        39\n",
      "           5       0.75      0.72      0.74       424\n",
      "           6       0.66      0.81      0.72       563\n",
      "           7       0.72      0.56      0.63       226\n",
      "           8       0.94      0.36      0.52        42\n",
      "           9       1.00      0.00      0.00         1\n",
      "\n",
      "    accuracy                           0.70      1300\n",
      "   macro avg       0.81      0.36      0.39      1300\n",
      "weighted avg       0.71      0.70      0.68      1300\n",
      "\n",
      "training_accuracy: 97.97960361747162\n",
      "testing_accuracy: 69.76923076923077\n"
     ]
    }
   ],
   "source": [
    "dfWtype = df.drop('type',axis=1)\n",
    "\n",
    "RegressioLogisitca(dfWtype, \"Fora type\")\n",
    "Perceptro(dfWtype, \"Fora type\")\n",
    "RandomForest(dfWtype, \"Fora type\")"
   ]
  },
  {
   "cell_type": "markdown",
   "id": "eca265ff",
   "metadata": {},
   "source": [
    "#### Fora pH, sulfats i sucres residuals"
   ]
  },
  {
   "cell_type": "markdown",
   "id": "cdc7d1e9",
   "metadata": {},
   "source": [
    "Provam de llevar les característiques del pH, els sulfats i els sucres residuals ja que com hem vist [aquí](#Correlacions-Minimes), son les tres característiques menys correlacionades amb la qualitat."
   ]
  },
  {
   "cell_type": "code",
   "execution_count": 31,
   "id": "00482efb",
   "metadata": {},
   "outputs": [
    {
     "name": "stdout",
     "output_type": "stream",
     "text": [
      "\n",
      "Regressio Logísitca:\n",
      "              precision    recall  f1-score   support\n",
      "\n",
      "           3       1.00      0.00      0.00         5\n",
      "           4       1.00      0.03      0.05        39\n",
      "           5       0.59      0.60      0.59       424\n",
      "           6       0.51      0.72      0.59       563\n",
      "           7       0.46      0.13      0.21       226\n",
      "           8       1.00      0.00      0.00        42\n",
      "           9       1.00      0.00      0.00         1\n",
      "\n",
      "    accuracy                           0.53      1300\n",
      "   macro avg       0.79      0.21      0.21      1300\n",
      "weighted avg       0.56      0.53      0.49      1300\n",
      "\n",
      "training_accuracy: 53.22301327689052\n",
      "testing_accuracy: 53.07692307692308\n",
      "\n",
      "Perceptró:\n",
      "              precision    recall  f1-score   support\n",
      "\n",
      "           3       1.00      0.00      0.00         5\n",
      "           4       1.00      0.00      0.00        39\n",
      "           5       0.64      0.21      0.31       424\n",
      "           6       0.45      0.93      0.61       563\n",
      "           7       1.00      0.00      0.00       226\n",
      "           8       1.00      0.00      0.00        42\n",
      "           9       1.00      0.00      0.00         1\n",
      "\n",
      "    accuracy                           0.47      1300\n",
      "   macro avg       0.87      0.16      0.13      1300\n",
      "weighted avg       0.64      0.47      0.37      1300\n",
      "\n",
      "training_accuracy: 47.96998268231672\n",
      "testing_accuracy: 47.07692307692308\n",
      "\n",
      "Random Forest:\n",
      "              precision    recall  f1-score   support\n",
      "\n",
      "           3       1.00      0.00      0.00         5\n",
      "           4       0.71      0.13      0.22        39\n",
      "           5       0.72      0.71      0.72       424\n",
      "           6       0.65      0.80      0.71       563\n",
      "           7       0.73      0.53      0.62       226\n",
      "           8       0.93      0.31      0.46        42\n",
      "           9       1.00      0.00      0.00         1\n",
      "\n",
      "    accuracy                           0.68      1300\n",
      "   macro avg       0.82      0.35      0.39      1300\n",
      "weighted avg       0.70      0.68      0.67      1300\n",
      "\n",
      "training_accuracy: 97.0559938426015\n",
      "testing_accuracy: 68.46153846153847\n"
     ]
    }
   ],
   "source": [
    "dfWpH_Sulf_ResSug = df.drop('pH',axis=1)\n",
    "dfWpH_Sulf_ResSug = dfWpH_Sulf_ResSug.drop('sulphates',axis=1)\n",
    "dfWpH_Sulf_ResSug = dfWpH_Sulf_ResSug.drop('residual sugar',axis=1)\n",
    "\n",
    "RegressioLogisitca(dfWpH_Sulf_ResSug, \"Fora pH_Sulf_ResSug\")\n",
    "Perceptro(dfWpH_Sulf_ResSug, \"Fora pH_Sulf_ResSug\")\n",
    "RandomForest(dfWpH_Sulf_ResSug, \"Fora pH_Sulf_ResSug\")"
   ]
  },
  {
   "cell_type": "markdown",
   "id": "eca265ff",
   "metadata": {},
   "source": [
    "#### Fora free sulfur dioxide i total sulfur dioxide"
   ]
  },
  {
   "cell_type": "markdown",
   "id": "e6036be3",
   "metadata": {},
   "source": [
    "Provam de llevar les característiques del free and total sulfur dioxide acid ja que com hem vist [aquí](#Sequential-Feature-Selector), ja que el Forward Feature Selection ens ha dit que son les dues pitjors característiques "
   ]
  },
  {
   "cell_type": "code",
   "execution_count": 32,
   "id": "5dfc97b9",
   "metadata": {},
   "outputs": [
    {
     "name": "stdout",
     "output_type": "stream",
     "text": [
      "\n",
      "Regressio Logísitca:\n",
      "              precision    recall  f1-score   support\n",
      "\n",
      "           3       1.00      0.00      0.00         5\n",
      "           4       1.00      0.03      0.05        39\n",
      "           5       0.59      0.59      0.59       424\n",
      "           6       0.51      0.72      0.60       563\n",
      "           7       0.54      0.16      0.25       226\n",
      "           8       1.00      0.00      0.00        42\n",
      "           9       1.00      0.00      0.00         1\n",
      "\n",
      "    accuracy                           0.54      1300\n",
      "   macro avg       0.80      0.21      0.21      1300\n",
      "weighted avg       0.57      0.54      0.50      1300\n",
      "\n",
      "training_accuracy: 53.87723686742352\n",
      "testing_accuracy: 53.61538461538462\n",
      "\n",
      "Perceptró:\n",
      "              precision    recall  f1-score   support\n",
      "\n",
      "           3       0.00      0.00      0.00         5\n",
      "           4       0.31      0.21      0.25        39\n",
      "           5       0.58      0.07      0.13       424\n",
      "           6       0.45      0.96      0.61       563\n",
      "           7       0.71      0.02      0.04       226\n",
      "           8       1.00      0.00      0.00        42\n",
      "           9       1.00      0.00      0.00         1\n",
      "\n",
      "    accuracy                           0.45      1300\n",
      "   macro avg       0.58      0.18      0.15      1300\n",
      "weighted avg       0.55      0.45      0.32      1300\n",
      "\n",
      "training_accuracy: 45.77640946700019\n",
      "testing_accuracy: 44.84615384615385\n",
      "\n",
      "Random Forest:\n",
      "              precision    recall  f1-score   support\n",
      "\n",
      "           3       1.00      0.00      0.00         5\n",
      "           4       0.67      0.05      0.10        39\n",
      "           5       0.75      0.72      0.73       424\n",
      "           6       0.64      0.80      0.72       563\n",
      "           7       0.69      0.53      0.60       226\n",
      "           8       0.93      0.33      0.49        42\n",
      "           9       1.00      0.00      0.00         1\n",
      "\n",
      "    accuracy                           0.69      1300\n",
      "   macro avg       0.81      0.35      0.38      1300\n",
      "weighted avg       0.70      0.69      0.67      1300\n",
      "\n",
      "training_accuracy: 97.53704060034636\n",
      "testing_accuracy: 68.61538461538461\n"
     ]
    }
   ],
   "source": [
    "dfWSO2 = df.drop('free sulfur dioxide',axis=1)\n",
    "dfWSO2 = dfWSO2.drop('total sulfur dioxide',axis=1)\n",
    "\n",
    "RegressioLogisitca(dfWSO2, \"Fora SO2\")\n",
    "Perceptro(dfWSO2, \"Fora SO2\")\n",
    "RandomForest(dfWSO2, \"Fora SO2\")"
   ]
  },
  {
   "cell_type": "markdown",
   "id": "eca265ff",
   "metadata": {},
   "source": [
    "#### Fora chloride i citric acid"
   ]
  },
  {
   "cell_type": "markdown",
   "id": "f9006612",
   "metadata": {},
   "source": [
    "Provam de llevar les característiques del chloride i citric acid ja que com hem vist [aquí](#Sequential-Feature-Selector), el Backward Feature Selection ens ha dit que son les dues pitjors característiques "
   ]
  },
  {
   "cell_type": "code",
   "execution_count": 33,
   "id": "06941778",
   "metadata": {},
   "outputs": [
    {
     "name": "stdout",
     "output_type": "stream",
     "text": [
      "\n",
      "Regressio Logísitca:\n",
      "              precision    recall  f1-score   support\n",
      "\n",
      "           3       1.00      0.00      0.00         5\n",
      "           4       1.00      0.03      0.05        39\n",
      "           5       0.59      0.60      0.59       424\n",
      "           6       0.51      0.73      0.60       563\n",
      "           7       0.55      0.16      0.25       226\n",
      "           8       1.00      0.00      0.00        42\n",
      "           9       1.00      0.00      0.00         1\n",
      "\n",
      "    accuracy                           0.54      1300\n",
      "   macro avg       0.81      0.22      0.21      1300\n",
      "weighted avg       0.58      0.54      0.50      1300\n",
      "\n",
      "training_accuracy: 54.03117182990187\n",
      "testing_accuracy: 54.0\n",
      "\n",
      "Perceptró:\n",
      "              precision    recall  f1-score   support\n",
      "\n",
      "           3       1.00      0.00      0.00         5\n",
      "           4       0.38      0.13      0.19        39\n",
      "           5       0.66      0.27      0.38       424\n",
      "           6       0.46      0.91      0.61       563\n",
      "           7       0.00      0.00      0.00       226\n",
      "           8       1.00      0.00      0.00        42\n",
      "           9       1.00      0.00      0.00         1\n",
      "\n",
      "    accuracy                           0.49      1300\n",
      "   macro avg       0.64      0.19      0.17      1300\n",
      "weighted avg       0.46      0.49      0.40      1300\n",
      "\n",
      "training_accuracy: 49.105253030594575\n",
      "testing_accuracy: 48.769230769230774\n",
      "\n",
      "Random Forest:\n",
      "              precision    recall  f1-score   support\n",
      "\n",
      "           3       1.00      0.00      0.00         5\n",
      "           4       0.71      0.13      0.22        39\n",
      "           5       0.74      0.76      0.75       424\n",
      "           6       0.66      0.79      0.72       563\n",
      "           7       0.71      0.54      0.61       226\n",
      "           8       0.87      0.31      0.46        42\n",
      "           9       1.00      0.00      0.00         1\n",
      "\n",
      "    accuracy                           0.70      1300\n",
      "   macro avg       0.81      0.36      0.39      1300\n",
      "weighted avg       0.71      0.70      0.68      1300\n",
      "\n",
      "training_accuracy: 97.13296132384068\n",
      "testing_accuracy: 69.76923076923077\n"
     ]
    }
   ],
   "source": [
    "dfWchlo_CA = df.drop('chlorides',axis=1)\n",
    "dfWchlo_CA = dfWchlo_CA.drop('citric acid',axis=1)\n",
    "\n",
    "RegressioLogisitca(dfWchlo_CA, \"Fora chlo_CA\")\n",
    "Perceptro(dfWchlo_CA, \"Fora chlo_CA\")\n",
    "RandomForest(dfWchlo_CA, \"Fora chlo_CA\")"
   ]
  },
  {
   "cell_type": "markdown",
   "id": "eca265ff",
   "metadata": {},
   "source": [
    "#### Fora pH i sulfats"
   ]
  },
  {
   "cell_type": "markdown",
   "metadata": {},
   "source": [
    "Provam de llevar les característiques del pH i dels sulfats ja que com hem vist [aquí](#Univariate-feature-selection), el SelectKBest ens ha dit que son les dues pitjors característiques "
   ]
  },
  {
   "cell_type": "code",
   "execution_count": 34,
   "id": "06941778",
   "metadata": {},
   "outputs": [
    {
     "name": "stdout",
     "output_type": "stream",
     "text": [
      "\n",
      "Regressio Logísitca:\n",
      "              precision    recall  f1-score   support\n",
      "\n",
      "           3       1.00      0.00      0.00         5\n",
      "           4       1.00      0.03      0.05        39\n",
      "           5       0.60      0.60      0.60       424\n",
      "           6       0.51      0.73      0.60       563\n",
      "           7       0.44      0.12      0.19       226\n",
      "           8       1.00      0.00      0.00        42\n",
      "           9       1.00      0.00      0.00         1\n",
      "\n",
      "    accuracy                           0.53      1300\n",
      "   macro avg       0.79      0.21      0.21      1300\n",
      "weighted avg       0.56      0.53      0.49      1300\n",
      "\n",
      "training_accuracy: 53.29998075812969\n",
      "testing_accuracy: 53.46153846153846\n",
      "\n",
      "Perceptró:\n",
      "              precision    recall  f1-score   support\n",
      "\n",
      "           3       1.00      0.00      0.00         5\n",
      "           4       1.00      0.00      0.00        39\n",
      "           5       0.58      0.59      0.59       424\n",
      "           6       0.49      0.75      0.59       563\n",
      "           7       0.50      0.01      0.02       226\n",
      "           8       1.00      0.00      0.00        42\n",
      "           9       1.00      0.00      0.00         1\n",
      "\n",
      "    accuracy                           0.52      1300\n",
      "   macro avg       0.80      0.19      0.17      1300\n",
      "weighted avg       0.56      0.52      0.45      1300\n",
      "\n",
      "training_accuracy: 52.087742928612656\n",
      "testing_accuracy: 52.0\n",
      "\n",
      "Random Forest:\n",
      "              precision    recall  f1-score   support\n",
      "\n",
      "           3       1.00      0.00      0.00         5\n",
      "           4       0.50      0.08      0.13        39\n",
      "           5       0.73      0.72      0.72       424\n",
      "           6       0.64      0.79      0.71       563\n",
      "           7       0.71      0.53      0.61       226\n",
      "           8       0.93      0.33      0.49        42\n",
      "           9       1.00      0.00      0.00         1\n",
      "\n",
      "    accuracy                           0.68      1300\n",
      "   macro avg       0.79      0.35      0.38      1300\n",
      "weighted avg       0.69      0.68      0.67      1300\n",
      "\n",
      "training_accuracy: 97.4215893784876\n",
      "testing_accuracy: 68.07692307692308\n"
     ]
    }
   ],
   "source": [
    "dfWpH_Sulf = df.drop('pH',axis=1)\n",
    "dfWpH_Sulf = dfWpH_Sulf.drop('sulphates',axis=1)\n",
    "\n",
    "RegressioLogisitca(dfWpH_Sulf, \"Fora pH_Sulf\")\n",
    "Perceptro(dfWpH_Sulf, \"Fora pH_Sulf\")\n",
    "RandomForest(dfWpH_Sulf, \"Fora pH_Sulf\")"
   ]
  },
  {
   "cell_type": "markdown",
   "id": "eca265ff",
   "metadata": {},
   "source": [
    "#### Fora citric acid i type"
   ]
  },
  {
   "cell_type": "markdown",
   "metadata": {},
   "source": [
    "Provam de llevar les característiques de l'àcid cítric i el type ja que com hem vist [aquí](#Recursive-feature-elimination), el Recursive Feature Elimination ens ha dit que son les dues pitjors característiques "
   ]
  },
  {
   "cell_type": "code",
   "execution_count": 35,
   "id": "06941778",
   "metadata": {},
   "outputs": [
    {
     "name": "stdout",
     "output_type": "stream",
     "text": [
      "\n",
      "Regressio Logísitca:\n",
      "              precision    recall  f1-score   support\n",
      "\n",
      "           3       1.00      0.00      0.00         5\n",
      "           4       1.00      0.00      0.00        39\n",
      "           5       0.59      0.61      0.60       424\n",
      "           6       0.52      0.74      0.61       563\n",
      "           7       0.55      0.15      0.24       226\n",
      "           8       1.00      0.00      0.00        42\n",
      "           9       1.00      0.00      0.00         1\n",
      "\n",
      "    accuracy                           0.54      1300\n",
      "   macro avg       0.81      0.21      0.21      1300\n",
      "weighted avg       0.58      0.54      0.50      1300\n",
      "\n",
      "training_accuracy: 54.2620742736194\n",
      "testing_accuracy: 54.38461538461539\n",
      "\n",
      "Perceptró:\n",
      "              precision    recall  f1-score   support\n",
      "\n",
      "           3       1.00      0.00      0.00         5\n",
      "           4       0.25      0.03      0.05        39\n",
      "           5       0.67      0.09      0.16       424\n",
      "           6       0.45      0.99      0.62       563\n",
      "           7       0.00      0.00      0.00       226\n",
      "           8       1.00      0.00      0.00        42\n",
      "           9       1.00      0.00      0.00         1\n",
      "\n",
      "    accuracy                           0.46      1300\n",
      "   macro avg       0.62      0.16      0.12      1300\n",
      "weighted avg       0.46      0.46      0.32      1300\n",
      "\n",
      "training_accuracy: 46.007311910717725\n",
      "testing_accuracy: 45.69230769230769\n",
      "\n",
      "Random Forest:\n",
      "              precision    recall  f1-score   support\n",
      "\n",
      "           3       1.00      0.00      0.00         5\n",
      "           4       0.67      0.10      0.18        39\n",
      "           5       0.73      0.74      0.74       424\n",
      "           6       0.66      0.80      0.72       563\n",
      "           7       0.73      0.54      0.62       226\n",
      "           8       0.93      0.33      0.49        42\n",
      "           9       1.00      0.00      0.00         1\n",
      "\n",
      "    accuracy                           0.69      1300\n",
      "   macro avg       0.82      0.36      0.39      1300\n",
      "weighted avg       0.71      0.69      0.68      1300\n",
      "\n",
      "training_accuracy: 97.59476621127574\n",
      "testing_accuracy: 69.46153846153847\n"
     ]
    }
   ],
   "source": [
    "dfWCA_Type = df.drop('citric acid',axis=1)\n",
    "dfWCA_Type = dfWCA_Type.drop('type',axis=1)\n",
    "\n",
    "RegressioLogisitca(dfWCA_Type, \"Fora CA_Type\")\n",
    "Perceptro(dfWCA_Type, \"Fora CA_Type\")\n",
    "RandomForest(dfWCA_Type, \"Fora CA_Type\")"
   ]
  },
  {
   "cell_type": "markdown",
   "id": "113c15c6",
   "metadata": {},
   "source": [
    "### Cream features"
   ]
  },
  {
   "cell_type": "markdown",
   "id": "eca265ff",
   "metadata": {},
   "source": [
    "#### Acids totals"
   ]
  },
  {
   "cell_type": "code",
   "execution_count": 36,
   "id": "b6c244ad",
   "metadata": {
    "execution": {
     "iopub.execute_input": "2021-01-23T12:18:46.123152Z",
     "iopub.status.busy": "2021-01-23T12:18:46.122063Z",
     "iopub.status.idle": "2021-01-23T12:18:46.150621Z",
     "shell.execute_reply": "2021-01-23T12:18:46.151096Z"
    },
    "papermill": {
     "duration": 0.092392,
     "end_time": "2021-01-23T12:18:46.151244",
     "exception": false,
     "start_time": "2021-01-23T12:18:46.058852",
     "status": "completed"
    },
    "tags": []
   },
   "outputs": [
    {
     "name": "stdout",
     "output_type": "stream",
     "text": [
      "\n",
      "Regressio Logísitca:\n",
      "              precision    recall  f1-score   support\n",
      "\n",
      "           3       1.00      0.00      0.00         5\n",
      "           4       1.00      0.03      0.05        39\n",
      "           5       0.59      0.60      0.60       424\n",
      "           6       0.51      0.74      0.61       563\n",
      "           7       0.53      0.15      0.23       226\n",
      "           8       1.00      0.00      0.00        42\n",
      "           9       1.00      0.00      0.00         1\n",
      "\n",
      "    accuracy                           0.54      1300\n",
      "   macro avg       0.81      0.22      0.21      1300\n",
      "weighted avg       0.58      0.54      0.50      1300\n",
      "\n",
      "training_accuracy: 53.95420434866269\n",
      "testing_accuracy: 54.15384615384615\n",
      "\n",
      "Perceptró:\n",
      "              precision    recall  f1-score   support\n",
      "\n",
      "           3       1.00      0.00      0.00         5\n",
      "           4       1.00      0.00      0.00        39\n",
      "           5       0.66      0.27      0.38       424\n",
      "           6       0.46      0.92      0.62       563\n",
      "           7       1.00      0.00      0.00       226\n",
      "           8       1.00      0.00      0.00        42\n",
      "           9       1.00      0.00      0.00         1\n",
      "\n",
      "    accuracy                           0.49      1300\n",
      "   macro avg       0.87      0.17      0.14      1300\n",
      "weighted avg       0.66      0.49      0.39      1300\n",
      "\n",
      "training_accuracy: 49.97113719453531\n",
      "testing_accuracy: 48.84615384615385\n",
      "\n",
      "Random Forest:\n",
      "              precision    recall  f1-score   support\n",
      "\n",
      "           3       1.00      0.00      0.00         5\n",
      "           4       0.60      0.08      0.14        39\n",
      "           5       0.74      0.71      0.72       424\n",
      "           6       0.64      0.81      0.72       563\n",
      "           7       0.72      0.49      0.58       226\n",
      "           8       0.93      0.33      0.49        42\n",
      "           9       1.00      0.00      0.00         1\n",
      "\n",
      "    accuracy                           0.68      1300\n",
      "   macro avg       0.80      0.35      0.38      1300\n",
      "weighted avg       0.70      0.68      0.67      1300\n",
      "\n",
      "training_accuracy: 97.94111987685203\n",
      "testing_accuracy: 68.3076923076923\n"
     ]
    }
   ],
   "source": [
    "combinator_Acid_Tot = MathematicalCombination(\n",
    "    variables_to_combine=['fixed acidity', 'volatile acidity'],\n",
    "    math_operations = ['sum'],\n",
    "    new_variables_names = ['total_acidity']\n",
    ")\n",
    "\n",
    "df_Acid_Tot = combinator_Acid_Tot.fit_transform(df)\n",
    "\n",
    "RegressioLogisitca(df_Acid_Tot, \"Acid Totals\")\n",
    "Perceptro(df_Acid_Tot, \"Acid Totals\")\n",
    "RandomForest(df_Acid_Tot, \"Acid Totals\")"
   ]
  },
  {
   "cell_type": "markdown",
   "id": "3af6e25d",
   "metadata": {},
   "source": [
    "#### Percentatge de Acid cítric respecte a l'acidesa fixada"
   ]
  },
  {
   "cell_type": "code",
   "execution_count": 37,
   "id": "1456e24b",
   "metadata": {},
   "outputs": [
    {
     "name": "stdout",
     "output_type": "stream",
     "text": [
      "\n",
      "Regressio Logísitca:\n",
      "              precision    recall  f1-score   support\n",
      "\n",
      "           3       1.00      0.00      0.00         5\n",
      "           4       1.00      0.03      0.05        39\n",
      "           5       0.59      0.60      0.60       424\n",
      "           6       0.51      0.74      0.61       563\n",
      "           7       0.53      0.15      0.23       226\n",
      "           8       1.00      0.00      0.00        42\n",
      "           9       1.00      0.00      0.00         1\n",
      "\n",
      "    accuracy                           0.54      1300\n",
      "   macro avg       0.81      0.22      0.21      1300\n",
      "weighted avg       0.58      0.54      0.50      1300\n",
      "\n",
      "training_accuracy: 54.069655570521455\n",
      "testing_accuracy: 54.230769230769226\n",
      "\n",
      "Perceptró:\n",
      "              precision    recall  f1-score   support\n",
      "\n",
      "           3       0.00      0.00      0.00         5\n",
      "           4       1.00      0.00      0.00        39\n",
      "           5       0.75      0.05      0.09       424\n",
      "           6       0.44      0.98      0.61       563\n",
      "           7       0.50      0.02      0.03       226\n",
      "           8       1.00      0.00      0.00        42\n",
      "           9       1.00      0.00      0.00         1\n",
      "\n",
      "    accuracy                           0.45      1300\n",
      "   macro avg       0.67      0.15      0.11      1300\n",
      "weighted avg       0.59      0.45      0.30      1300\n",
      "\n",
      "training_accuracy: 45.02597652491822\n",
      "testing_accuracy: 44.53846153846154\n",
      "\n",
      "Random Forest:\n",
      "              precision    recall  f1-score   support\n",
      "\n",
      "           3       1.00      0.00      0.00         5\n",
      "           4       0.67      0.10      0.18        39\n",
      "           5       0.76      0.73      0.74       424\n",
      "           6       0.65      0.82      0.72       563\n",
      "           7       0.73      0.53      0.61       226\n",
      "           8       0.93      0.31      0.46        42\n",
      "           9       1.00      0.00      0.00         1\n",
      "\n",
      "    accuracy                           0.70      1300\n",
      "   macro avg       0.82      0.35      0.39      1300\n",
      "weighted avg       0.71      0.70      0.68      1300\n",
      "\n",
      "training_accuracy: 97.7487011737541\n",
      "testing_accuracy: 69.53846153846153\n"
     ]
    }
   ],
   "source": [
    "combinator_PercAC = CombineWithReferenceFeature(\n",
    "    variables_to_combine=['citric acid'],\n",
    "    reference_variables=['fixed acidity'],\n",
    "    operations=['div'],   \n",
    "    new_variables_names=['percentage_citric_acid'])\n",
    "\n",
    "df_PercAC = combinator_PercAC.fit_transform(df)\n",
    "\n",
    "RegressioLogisitca(df_PercAC, \"Perc. acid citric\")\n",
    "Perceptro(df_PercAC, \"Perc. acid citric\")\n",
    "RandomForest(df_PercAC, \"Perc. acid citric\")"
   ]
  },
  {
   "cell_type": "markdown",
   "id": "eca265ff",
   "metadata": {},
   "source": [
    "#### Minerals totals"
   ]
  },
  {
   "cell_type": "code",
   "execution_count": 38,
   "id": "9f0bfd90",
   "metadata": {
    "execution": {
     "iopub.execute_input": "2021-01-23T12:18:46.246874Z",
     "iopub.status.busy": "2021-01-23T12:18:46.243175Z",
     "iopub.status.idle": "2021-01-23T12:18:46.287760Z",
     "shell.execute_reply": "2021-01-23T12:18:46.288288Z"
    },
    "papermill": {
     "duration": 0.094764,
     "end_time": "2021-01-23T12:18:46.288441",
     "exception": false,
     "start_time": "2021-01-23T12:18:46.193677",
     "status": "completed"
    },
    "tags": []
   },
   "outputs": [
    {
     "name": "stdout",
     "output_type": "stream",
     "text": [
      "\n",
      "Regressio Logísitca:\n",
      "              precision    recall  f1-score   support\n",
      "\n",
      "           3       1.00      0.00      0.00         5\n",
      "           4       1.00      0.03      0.05        39\n",
      "           5       0.59      0.60      0.60       424\n",
      "           6       0.51      0.74      0.61       563\n",
      "           7       0.53      0.15      0.23       226\n",
      "           8       1.00      0.00      0.00        42\n",
      "           9       1.00      0.00      0.00         1\n",
      "\n",
      "    accuracy                           0.54      1300\n",
      "   macro avg       0.81      0.22      0.21      1300\n",
      "weighted avg       0.58      0.54      0.50      1300\n",
      "\n",
      "training_accuracy: 53.99268808928228\n",
      "testing_accuracy: 54.15384615384615\n",
      "\n",
      "Perceptró:\n",
      "              precision    recall  f1-score   support\n",
      "\n",
      "           3       1.00      0.00      0.00         5\n",
      "           4       0.17      0.13      0.15        39\n",
      "           5       1.00      0.00      0.00       424\n",
      "           6       0.44      0.99      0.61       563\n",
      "           7       0.33      0.00      0.01       226\n",
      "           8       1.00      0.00      0.00        42\n",
      "           9       1.00      0.00      0.00         1\n",
      "\n",
      "    accuracy                           0.43      1300\n",
      "   macro avg       0.71      0.16      0.11      1300\n",
      "weighted avg       0.62      0.43      0.27      1300\n",
      "\n",
      "training_accuracy: 43.65980373292284\n",
      "testing_accuracy: 43.230769230769226\n",
      "\n",
      "Random Forest:\n",
      "              precision    recall  f1-score   support\n",
      "\n",
      "           3       1.00      0.00      0.00         5\n",
      "           4       0.60      0.08      0.14        39\n",
      "           5       0.76      0.73      0.74       424\n",
      "           6       0.65      0.82      0.73       563\n",
      "           7       0.71      0.52      0.60       226\n",
      "           8       0.93      0.33      0.49        42\n",
      "           9       1.00      0.00      0.00         1\n",
      "\n",
      "    accuracy                           0.70      1300\n",
      "   macro avg       0.81      0.35      0.39      1300\n",
      "weighted avg       0.71      0.70      0.68      1300\n",
      "\n",
      "training_accuracy: 97.57552434096594\n",
      "testing_accuracy: 69.61538461538461\n"
     ]
    }
   ],
   "source": [
    "combinator_Minerals_Totals = MathematicalCombination(\n",
    "    variables_to_combine=['chlorides', 'sulphates'],\n",
    "    math_operations = ['sum'],\n",
    "    new_variables_names = ['total_minerals']\n",
    ")\n",
    "\n",
    "df_Minerals_Totals = combinator_Minerals_Totals.fit_transform(df)\n",
    "\n",
    "RegressioLogisitca(df_Minerals_Totals, \"Minerals totals\")\n",
    "Perceptro(df_Minerals_Totals, \"Minerals totals\")\n",
    "RandomForest(df_Minerals_Totals, \"Minerals totals\")"
   ]
  },
  {
   "cell_type": "markdown",
   "id": "d1e5bd8d",
   "metadata": {},
   "source": [
    "#### Percentatge de Diòxid de sofre lliure"
   ]
  },
  {
   "cell_type": "code",
   "execution_count": 39,
   "id": "d9e667ba",
   "metadata": {
    "execution": {
     "iopub.execute_input": "2021-01-23T12:18:46.377854Z",
     "iopub.status.busy": "2021-01-23T12:18:46.377089Z",
     "iopub.status.idle": "2021-01-23T12:18:46.409562Z",
     "shell.execute_reply": "2021-01-23T12:18:46.408992Z"
    },
    "papermill": {
     "duration": 0.078286,
     "end_time": "2021-01-23T12:18:46.409696",
     "exception": false,
     "start_time": "2021-01-23T12:18:46.331410",
     "status": "completed"
    },
    "tags": []
   },
   "outputs": [
    {
     "name": "stdout",
     "output_type": "stream",
     "text": [
      "\n",
      "Regressio Logísitca:\n",
      "              precision    recall  f1-score   support\n",
      "\n",
      "           3       1.00      0.00      0.00         5\n",
      "           4       1.00      0.03      0.05        39\n",
      "           5       0.60      0.61      0.61       424\n",
      "           6       0.52      0.74      0.61       563\n",
      "           7       0.52      0.15      0.23       226\n",
      "           8       1.00      0.00      0.00        42\n",
      "           9       1.00      0.00      0.00         1\n",
      "\n",
      "    accuracy                           0.55      1300\n",
      "   macro avg       0.81      0.22      0.21      1300\n",
      "weighted avg       0.58      0.55      0.50      1300\n",
      "\n",
      "training_accuracy: 54.37752549547816\n",
      "testing_accuracy: 54.61538461538461\n",
      "\n",
      "Perceptró:\n",
      "              precision    recall  f1-score   support\n",
      "\n",
      "           3       0.00      0.00      0.00         5\n",
      "           4       1.00      0.00      0.00        39\n",
      "           5       0.67      0.02      0.05       424\n",
      "           6       0.44      0.99      0.61       563\n",
      "           7       0.69      0.04      0.08       226\n",
      "           8       1.00      0.00      0.00        42\n",
      "           9       1.00      0.00      0.00         1\n",
      "\n",
      "    accuracy                           0.44      1300\n",
      "   macro avg       0.69      0.15      0.10      1300\n",
      "weighted avg       0.59      0.44      0.29      1300\n",
      "\n",
      "training_accuracy: 44.31402732345584\n",
      "testing_accuracy: 44.30769230769231\n",
      "\n",
      "Random Forest:\n",
      "              precision    recall  f1-score   support\n",
      "\n",
      "           3       1.00      0.00      0.00         5\n",
      "           4       0.57      0.10      0.17        39\n",
      "           5       0.76      0.73      0.75       424\n",
      "           6       0.65      0.83      0.73       563\n",
      "           7       0.76      0.51      0.61       226\n",
      "           8       0.94      0.40      0.57        42\n",
      "           9       1.00      0.00      0.00         1\n",
      "\n",
      "    accuracy                           0.70      1300\n",
      "   macro avg       0.81      0.37      0.40      1300\n",
      "weighted avg       0.72      0.70      0.69      1300\n",
      "\n",
      "training_accuracy: 97.61400808158554\n",
      "testing_accuracy: 70.38461538461539\n"
     ]
    }
   ],
   "source": [
    "combinator_PercSO2 = CombineWithReferenceFeature(\n",
    "    variables_to_combine=['free sulfur dioxide'],\n",
    "    reference_variables=['total sulfur dioxide'],\n",
    "    operations=['div'],   \n",
    "    new_variables_names=['percentage_free_sulfur'])\n",
    "\n",
    "df_PercSO2 = combinator_PercSO2.fit_transform(df)\n",
    "\n",
    "RegressioLogisitca(df_PercSO2, \"Perc. SO2 lliure\")\n",
    "Perceptro(df_PercSO2, \"Perc. SO2 lliure\")\n",
    "RandomForest(df_PercSO2, \"Perc. SO2 lliure\")"
   ]
  },
  {
   "cell_type": "markdown",
   "id": "da68c40f",
   "metadata": {},
   "source": [
    "#### Diòxid de sofre no lliure"
   ]
  },
  {
   "cell_type": "code",
   "execution_count": 40,
   "id": "ec296257",
   "metadata": {},
   "outputs": [
    {
     "name": "stdout",
     "output_type": "stream",
     "text": [
      "\n",
      "Regressio Logísitca:\n",
      "              precision    recall  f1-score   support\n",
      "\n",
      "           3       1.00      0.00      0.00         5\n",
      "           4       1.00      0.03      0.05        39\n",
      "           5       0.60      0.61      0.60       424\n",
      "           6       0.52      0.74      0.61       563\n",
      "           7       0.53      0.15      0.23       226\n",
      "           8       1.00      0.00      0.00        42\n",
      "           9       1.00      0.00      0.00         1\n",
      "\n",
      "    accuracy                           0.55      1300\n",
      "   macro avg       0.81      0.22      0.21      1300\n",
      "weighted avg       0.58      0.55      0.50      1300\n",
      "\n",
      "training_accuracy: 54.08889744083125\n",
      "testing_accuracy: 54.61538461538461\n",
      "\n",
      "Perceptró:\n",
      "              precision    recall  f1-score   support\n",
      "\n",
      "           3       1.00      0.00      0.00         5\n",
      "           4       0.06      0.08      0.07        39\n",
      "           5       0.53      0.75      0.62       424\n",
      "           6       0.50      0.58      0.54       563\n",
      "           7       0.33      0.00      0.01       226\n",
      "           8       1.00      0.00      0.00        42\n",
      "           9       1.00      0.00      0.00         1\n",
      "\n",
      "    accuracy                           0.50      1300\n",
      "   macro avg       0.63      0.20      0.18      1300\n",
      "weighted avg       0.49      0.50      0.44      1300\n",
      "\n",
      "training_accuracy: 48.75889936501828\n",
      "testing_accuracy: 49.84615384615385\n",
      "\n",
      "Random Forest:\n",
      "              precision    recall  f1-score   support\n",
      "\n",
      "           3       1.00      0.00      0.00         5\n",
      "           4       0.71      0.13      0.22        39\n",
      "           5       0.76      0.74      0.75       424\n",
      "           6       0.66      0.82      0.73       563\n",
      "           7       0.71      0.51      0.60       226\n",
      "           8       1.00      0.36      0.53        42\n",
      "           9       1.00      0.00      0.00         1\n",
      "\n",
      "    accuracy                           0.70      1300\n",
      "   macro avg       0.83      0.37      0.40      1300\n",
      "weighted avg       0.71      0.70      0.69      1300\n",
      "\n",
      "training_accuracy: 97.92187800654224\n",
      "testing_accuracy: 70.15384615384616\n"
     ]
    }
   ],
   "source": [
    "combinator_No_FreeSO2 = CombineWithReferenceFeature(\n",
    "    variables_to_combine=['total sulfur dioxide'],\n",
    "    reference_variables=['free sulfur dioxide'],\n",
    "    operations=['sub'],\n",
    "    new_variables_names=['non_free_sulfur_dioxide']\n",
    ")\n",
    "\n",
    "df_No_FreeSO2 = combinator_No_FreeSO2.fit_transform(df)\n",
    "\n",
    "RegressioLogisitca(df_No_FreeSO2, \"S02 no lliure\")\n",
    "Perceptro(df_No_FreeSO2, \"S02 no lliure\")\n",
    "RandomForest(df_No_FreeSO2, \"S02 no lliure\")\n"
   ]
  },
  {
   "cell_type": "markdown",
   "id": "bf522b53",
   "metadata": {},
   "source": [
    "#### Dels diòxid de sofre quin percentatge és una sal"
   ]
  },
  {
   "cell_type": "code",
   "execution_count": 41,
   "id": "e916172c",
   "metadata": {
    "execution": {
     "iopub.execute_input": "2021-01-23T12:18:46.629772Z",
     "iopub.status.busy": "2021-01-23T12:18:46.628994Z",
     "iopub.status.idle": "2021-01-23T12:18:46.662853Z",
     "shell.execute_reply": "2021-01-23T12:18:46.663344Z"
    },
    "papermill": {
     "duration": 0.083621,
     "end_time": "2021-01-23T12:18:46.663516",
     "exception": false,
     "start_time": "2021-01-23T12:18:46.579895",
     "status": "completed"
    },
    "tags": []
   },
   "outputs": [
    {
     "name": "stdout",
     "output_type": "stream",
     "text": [
      "\n",
      "Regressio Logísitca:\n",
      "              precision    recall  f1-score   support\n",
      "\n",
      "           3       1.00      0.00      0.00         5\n",
      "           4       1.00      0.03      0.05        39\n",
      "           5       0.59      0.60      0.60       424\n",
      "           6       0.51      0.74      0.61       563\n",
      "           7       0.53      0.15      0.23       226\n",
      "           8       1.00      0.00      0.00        42\n",
      "           9       1.00      0.00      0.00         1\n",
      "\n",
      "    accuracy                           0.54      1300\n",
      "   macro avg       0.81      0.22      0.21      1300\n",
      "weighted avg       0.58      0.54      0.50      1300\n",
      "\n",
      "training_accuracy: 53.99268808928228\n",
      "testing_accuracy: 54.15384615384615\n",
      "\n",
      "Perceptró:\n",
      "              precision    recall  f1-score   support\n",
      "\n",
      "           3       0.00      0.00      0.00         5\n",
      "           4       1.00      0.00      0.00        39\n",
      "           5       0.72      0.04      0.08       424\n",
      "           6       0.44      0.99      0.61       563\n",
      "           7       0.78      0.03      0.06       226\n",
      "           8       1.00      0.00      0.00        42\n",
      "           9       1.00      0.00      0.00         1\n",
      "\n",
      "    accuracy                           0.45      1300\n",
      "   macro avg       0.71      0.15      0.11      1300\n",
      "weighted avg       0.62      0.45      0.30      1300\n",
      "\n",
      "training_accuracy: 44.48720415624399\n",
      "testing_accuracy: 44.76923076923077\n",
      "\n",
      "Random Forest:\n",
      "              precision    recall  f1-score   support\n",
      "\n",
      "           3       1.00      0.00      0.00         5\n",
      "           4       0.57      0.10      0.17        39\n",
      "           5       0.75      0.73      0.74       424\n",
      "           6       0.65      0.80      0.72       563\n",
      "           7       0.70      0.52      0.59       226\n",
      "           8       0.95      0.43      0.59        42\n",
      "           9       1.00      0.00      0.00         1\n",
      "\n",
      "    accuracy                           0.69      1300\n",
      "   macro avg       0.80      0.37      0.40      1300\n",
      "weighted avg       0.70      0.69      0.68      1300\n",
      "\n",
      "training_accuracy: 97.90263613623245\n",
      "testing_accuracy: 69.46153846153847\n"
     ]
    }
   ],
   "source": [
    "combinator_Sulfurs_Sals = CombineWithReferenceFeature(\n",
    "    variables_to_combine=['sulphates'],\n",
    "    reference_variables=['free sulfur dioxide'],\n",
    "    operations=['div'],\n",
    "    new_variables_names=['percentage_salt_sulfur']\n",
    ")\n",
    "\n",
    "df_Sulfurs_Sals = combinator_Sulfurs_Sals.fit_transform(df)\n",
    "\n",
    "RegressioLogisitca(df_Sulfurs_Sals, \"Sulfurs Sals\")\n",
    "Perceptro(df_Sulfurs_Sals, \"Sulfurs Sals\")\n",
    "RandomForest(df_Sulfurs_Sals, \"Sulfurs Sals\")\n"
   ]
  },
  {
   "cell_type": "markdown",
   "id": "26f07039",
   "metadata": {},
   "source": [
    "#### Unim totes les creacions"
   ]
  },
  {
   "cell_type": "code",
   "execution_count": 42,
   "id": "12d48fa7",
   "metadata": {},
   "outputs": [
    {
     "name": "stdout",
     "output_type": "stream",
     "text": [
      "      fixed acidity  volatile acidity  citric acid  residual sugar  chlorides  \\\n",
      "1907            7.9              0.37         0.30             2.7      0.029   \n",
      "95              4.7              0.60         0.17             2.3      0.058   \n",
      "1488            5.6              0.54         0.04             1.7      0.049   \n",
      "1230            7.7              0.18         0.34             2.7      0.066   \n",
      "1990            6.4              0.43         0.27             1.1      0.054   \n",
      "...             ...               ...          ...             ...        ...   \n",
      "1211            7.3              0.27         0.39             6.7      0.064   \n",
      "1203            5.0              0.33         0.16             1.5      0.049   \n",
      "1269            5.5              0.49         0.03             1.8      0.044   \n",
      "4696            6.1              0.15         0.40             1.2      0.030   \n",
      "1844            6.1              0.34         0.46             4.7      0.029   \n",
      "\n",
      "      free sulfur dioxide  total sulfur dioxide  density    pH  sulphates  \\\n",
      "1907                 64.0                 158.0  0.99160  3.12       0.59   \n",
      "95                   17.0                 106.0  0.99320  3.85       0.60   \n",
      "1488                  5.0                  13.0  0.99420  3.72       0.58   \n",
      "1230                 15.0                  58.0  0.99470  3.37       0.78   \n",
      "1990                  5.0                 110.0  0.99390  3.24       0.52   \n",
      "...                   ...                   ...      ...   ...        ...   \n",
      "1211                 28.0                 188.0  0.99580  3.29       0.30   \n",
      "1203                 10.0                  97.0  0.99170  3.48       0.44   \n",
      "1269                 28.0                  87.0  0.99080  3.50       0.82   \n",
      "4696                 19.0                  84.0  0.98926  3.19       0.96   \n",
      "1844                 21.0                  94.0  0.99100  3.29       0.62   \n",
      "\n",
      "      alcohol  type  quality  total_acidity  total_minerals  \\\n",
      "1907     12.0     1        7           8.27           0.619   \n",
      "95       12.9     0        6           5.30           0.658   \n",
      "1488     11.4     0        5           6.14           0.629   \n",
      "1230     11.8     0        6           7.88           0.846   \n",
      "1990      9.1     1        4           6.83           0.574   \n",
      "...       ...   ...      ...            ...             ...   \n",
      "1211      9.7     1        5           7.57           0.364   \n",
      "1203     10.7     1        6           5.33           0.489   \n",
      "1269     14.0     0        8           5.99           0.864   \n",
      "4696     13.0     1        6           6.25           0.990   \n",
      "1844     12.3     1        6           6.44           0.649   \n",
      "\n",
      "      percentage_citric_acid  non_free_sulfur_dioxide  percentage_free_sulfur  \\\n",
      "1907                0.037975                     94.0                0.405063   \n",
      "95                  0.036170                     89.0                0.160377   \n",
      "1488                0.007143                      8.0                0.384615   \n",
      "1230                0.044156                     43.0                0.258621   \n",
      "1990                0.042188                    105.0                0.045455   \n",
      "...                      ...                      ...                     ...   \n",
      "1211                0.053425                    160.0                0.148936   \n",
      "1203                0.032000                     87.0                0.103093   \n",
      "1269                0.005455                     59.0                0.321839   \n",
      "4696                0.065574                     65.0                0.226190   \n",
      "1844                0.075410                     73.0                0.223404   \n",
      "\n",
      "      percentage_salt_sulfur  \n",
      "1907                0.009219  \n",
      "95                  0.035294  \n",
      "1488                0.116000  \n",
      "1230                0.052000  \n",
      "1990                0.104000  \n",
      "...                      ...  \n",
      "1211                0.010714  \n",
      "1203                0.044000  \n",
      "1269                0.029286  \n",
      "4696                0.050526  \n",
      "1844                0.029524  \n",
      "\n",
      "[6497 rows x 19 columns]\n",
      "\n",
      "Regressio Logísitca:\n",
      "              precision    recall  f1-score   support\n",
      "\n",
      "           3       1.00      0.00      0.00         5\n",
      "           4       0.50      0.03      0.05        39\n",
      "           5       0.60      0.61      0.61       424\n",
      "           6       0.52      0.74      0.61       563\n",
      "           7       0.51      0.15      0.24       226\n",
      "           8       1.00      0.00      0.00        42\n",
      "           9       1.00      0.00      0.00         1\n",
      "\n",
      "    accuracy                           0.55      1300\n",
      "   macro avg       0.73      0.22      0.21      1300\n",
      "weighted avg       0.56      0.55      0.50      1300\n",
      "\n",
      "training_accuracy: 54.5699441985761\n",
      "testing_accuracy: 54.69230769230769\n",
      "\n",
      "Perceptró:\n",
      "              precision    recall  f1-score   support\n",
      "\n",
      "           3       0.00      0.00      0.00         5\n",
      "           4       1.00      0.00      0.00        39\n",
      "           5       0.57      0.01      0.02       424\n",
      "           6       0.44      0.99      0.61       563\n",
      "           7       0.67      0.03      0.05       226\n",
      "           8       1.00      0.00      0.00        42\n",
      "           9       1.00      0.00      0.00         1\n",
      "\n",
      "    accuracy                           0.44      1300\n",
      "   macro avg       0.67      0.15      0.10      1300\n",
      "weighted avg       0.55      0.44      0.28      1300\n",
      "\n",
      "training_accuracy: 44.102366750048105\n",
      "testing_accuracy: 43.769230769230774\n",
      "\n",
      "Random Forest:\n",
      "              precision    recall  f1-score   support\n",
      "\n",
      "           3       1.00      0.00      0.00         5\n",
      "           4       0.57      0.10      0.17        39\n",
      "           5       0.75      0.74      0.74       424\n",
      "           6       0.66      0.81      0.73       563\n",
      "           7       0.73      0.54      0.62       226\n",
      "           8       1.00      0.38      0.55        42\n",
      "           9       1.00      0.00      0.00         1\n",
      "\n",
      "    accuracy                           0.70      1300\n",
      "   macro avg       0.82      0.37      0.40      1300\n",
      "weighted avg       0.71      0.70      0.69      1300\n",
      "\n",
      "training_accuracy: 98.24898980180873\n",
      "testing_accuracy: 70.07692307692308\n"
     ]
    }
   ],
   "source": [
    "df_Unió = combinator_Acid_Tot.fit_transform(df)\n",
    "df_Unió = combinator_Minerals_Totals.fit_transform(df_Unió)\n",
    "df_Unió = combinator_PercAC.fit_transform(df_Unió)\n",
    "df_Unió = combinator_No_FreeSO2.fit_transform(df_Unió)\n",
    "df_Unió = combinator_PercSO2.fit_transform(df_Unió)\n",
    "df_Unió = combinator_Sulfurs_Sals.fit_transform(df_Unió)\n",
    "\n",
    "print(df_Unió)\n",
    "RegressioLogisitca(df_Unió, \"Totes creacions\")\n",
    "Perceptro(df_Unió, \"Totes creacions\")\n",
    "RandomForest(df_Unió, \"Totes creacions\")"
   ]
  },
  {
   "cell_type": "markdown",
   "id": "cb6b55b3",
   "metadata": {},
   "source": [
    "### Comparam les precisions"
   ]
  },
  {
   "cell_type": "code",
   "execution_count": 43,
   "id": "0cbc05c7",
   "metadata": {},
   "outputs": [
    {
     "name": "stdout",
     "output_type": "stream",
     "text": [
      "Training accuracy for each model and each dataframe\n",
      "                     Regressió Logística  Perceptró Random Forest\n",
      "Original                      53.992688  50.702328     97.921878\n",
      "Fora alcohol                  51.144891  49.547816     98.133539\n",
      "Fora sulphates                53.723302  44.525688      97.63325\n",
      "Fora type                     53.973446   40.33096     97.979604\n",
      "Fora pH_Sulf_ResSug           53.223013  47.969983     97.055994\n",
      "Fora SO2                      53.877237  45.776409     97.537041\n",
      "Fora chlo_CA                  54.031172  49.105253     97.132961\n",
      "Fora pH_Sulf                  53.299981  52.087743     97.421589\n",
      "Fora CA_Type                  54.262074  46.007312     97.594766\n",
      "Acid Totals                   53.954204  49.971137      97.94112\n",
      "Perc. acid citric             54.069656  45.025977     97.748701\n",
      "Minerals totals               53.992688  43.659804     97.575524\n",
      "Perc. SO2 lliure              54.377525  44.314027     97.614008\n",
      "S02 no lliure                 54.088897  48.758899     97.921878\n",
      "Sulfurs Sals                  53.992688  44.487204     97.902636\n",
      "Totes creacions               54.569944  44.102367      98.24899\n",
      "\n",
      "Testing accuracy for each model and each dataframe\n",
      "                     Regressió Logística  Perceptró Random Forest\n",
      "Original                      54.076923       50.0     70.076923\n",
      "Fora alcohol                       50.0  49.076923     68.461538\n",
      "Fora sulphates                53.538462  44.384615     68.153846\n",
      "Fora type                     54.076923  41.461538     69.769231\n",
      "Fora pH_Sulf_ResSug           53.076923  47.076923     68.461538\n",
      "Fora SO2                      53.615385  44.846154     68.615385\n",
      "Fora chlo_CA                       54.0  48.769231     69.769231\n",
      "Fora pH_Sulf                  53.461538       52.0     68.076923\n",
      "Fora CA_Type                  54.384615  45.692308     69.461538\n",
      "Acid Totals                   54.153846  48.846154     68.307692\n",
      "Perc. acid citric             54.230769  44.538462     69.538462\n",
      "Minerals totals               54.153846  43.230769     69.615385\n",
      "Perc. SO2 lliure              54.615385  44.307692     70.384615\n",
      "S02 no lliure                 54.615385  49.846154     70.153846\n",
      "Sulfurs Sals                  54.153846  44.769231     69.461538\n",
      "Totes creacions               54.692308  43.769231     70.076923\n"
     ]
    }
   ],
   "source": [
    "print(\"Training accuracy for each model and each dataframe\\n\", dfTrain)\n",
    "print(\"\\nTesting accuracy for each model and each dataframe\\n\", dfTest)"
   ]
  },
  {
   "cell_type": "markdown",
   "id": "b554cb79",
   "metadata": {},
   "source": [
    "# **Grid Search CV**"
   ]
  }
 ],
 "metadata": {
  "kernelspec": {
   "display_name": "Python 3 (ipykernel)",
   "language": "python",
   "name": "python3"
  },
  "language_info": {
   "codemirror_mode": {
    "name": "ipython",
    "version": 3
   },
   "file_extension": ".py",
   "mimetype": "text/x-python",
   "name": "python",
   "nbconvert_exporter": "python",
   "pygments_lexer": "ipython3",
   "version": "3.9.7"
  }
 },
 "nbformat": 4,
 "nbformat_minor": 5
}
