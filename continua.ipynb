{
 "cells": [
  {
   "cell_type": "markdown",
   "id": "d4c6ab79",
   "metadata": {},
   "source": [
    "# Winequality dataset"
   ]
  },
  {
   "cell_type": "markdown",
   "id": "df3878f4",
   "metadata": {},
   "source": [
    "## Feim els imports"
   ]
  },
  {
   "cell_type": "code",
   "execution_count": 170,
   "id": "c7dc6e88-3d56-48a1-a77e-9cabb57805a1",
   "metadata": {},
   "outputs": [],
   "source": [
    "#IMPORTS\n",
    "import pandas as pd\n",
    "import matplotlib.pyplot as plt\n",
    "import numpy as np\n",
    "import seaborn as sns\n",
    "import math\n",
    "from sklearn.preprocessing import LabelEncoder\n",
    "from sklearn import preprocessing\n",
    "from sklearn.model_selection import train_test_split\n",
    "from sklearn.linear_model import LogisticRegression\n",
    "from sklearn.linear_model import Perceptron\n",
    "from sklearn.ensemble import RandomForestClassifier\n",
    "from sklearn.metrics import classification_report"
   ]
  },
  {
   "cell_type": "markdown",
   "id": "d10d2f9a",
   "metadata": {},
   "source": [
    "## Preparam el dataset"
   ]
  },
  {
   "cell_type": "markdown",
   "id": "cc4f7622",
   "metadata": {},
   "source": [
    "Funció que separa les features i les etiquetes, escalant les dades"
   ]
  },
  {
   "cell_type": "code",
   "execution_count": 171,
   "id": "1e5ee3a4",
   "metadata": {},
   "outputs": [],
   "source": [
    "def load_data(df):\n",
    "    y=df.quality\n",
    "    X=df.drop('quality',axis=1)\n",
    "    X = min_max_scaler.fit_transform(X)\n",
    "    return X, y"
   ]
  },
  {
   "cell_type": "markdown",
   "id": "6eb9892f",
   "metadata": {},
   "source": [
    "Carregam els datasets a dos dataframes a partir dels fitxers csv: winequality-red.csv i winequality-white.csv\n",
    "\n",
    "Afegim una nova columna que indiqui el tipus de vi a cada dataset i juntam els dos datasets en un de nou"
   ]
  },
  {
   "cell_type": "code",
   "execution_count": 172,
   "id": "45c4b23d-1f27-4596-9b1c-eed4d8cbd32e",
   "metadata": {},
   "outputs": [],
   "source": [
    "#CREATE AND MERGE DATAFRAMES\n",
    "dfRed=pd.read_csv(\"winequality-red.csv\", sep=\";\")\n",
    "dfWhite=pd.read_csv(\"winequality-white.csv\", sep=\";\")\n",
    "\n",
    "dfRed['type']=\"Red\"\n",
    "dfWhite['type']=\"White\"\n",
    "df=pd.concat([dfRed,dfWhite])"
   ]
  },
  {
   "cell_type": "markdown",
   "id": "c0f6b22c",
   "metadata": {},
   "source": [
    "Consultam les files del dataframe amb valors absents i les eliminam"
   ]
  },
  {
   "cell_type": "code",
   "execution_count": 173,
   "id": "10383ee8",
   "metadata": {},
   "outputs": [],
   "source": [
    "df[df.isna().any(axis=1)]\n",
    "df.dropna(inplace=True)"
   ]
  },
  {
   "cell_type": "markdown",
   "id": "d79bef95",
   "metadata": {},
   "source": [
    "Convertim els valors categòrics en númerics"
   ]
  },
  {
   "cell_type": "code",
   "execution_count": 174,
   "id": "2b734f3b",
   "metadata": {},
   "outputs": [],
   "source": [
    "labelencoder = LabelEncoder()\n",
    "\n",
    "df['type']=labelencoder.fit_transform(df['type'])\n"
   ]
  },
  {
   "cell_type": "markdown",
   "id": "2fba46ec",
   "metadata": {},
   "source": [
    "Recolocam les columnes"
   ]
  },
  {
   "cell_type": "code",
   "execution_count": 175,
   "id": "f8df7875",
   "metadata": {},
   "outputs": [],
   "source": [
    "df=df.reindex(columns=['fixed acidity', 'volatile acidity', 'citric acid', \n",
    "                       'residual sugar', 'chlorides', 'free sulfur dioxide',\n",
    "                       'total sulfur dioxide', 'density', 'pH', 'sulphates', \n",
    "                       'alcohol', 'type', 'quality'])"
   ]
  },
  {
   "cell_type": "code",
   "execution_count": 176,
   "id": "ca795771",
   "metadata": {},
   "outputs": [
    {
     "name": "stdout",
     "output_type": "stream",
     "text": [
      "<class 'pandas.core.frame.DataFrame'>\n",
      "Int64Index: 6497 entries, 0 to 4897\n",
      "Data columns (total 13 columns):\n",
      " #   Column                Non-Null Count  Dtype  \n",
      "---  ------                --------------  -----  \n",
      " 0   fixed acidity         6497 non-null   float64\n",
      " 1   volatile acidity      6497 non-null   float64\n",
      " 2   citric acid           6497 non-null   float64\n",
      " 3   residual sugar        6497 non-null   float64\n",
      " 4   chlorides             6497 non-null   float64\n",
      " 5   free sulfur dioxide   6497 non-null   float64\n",
      " 6   total sulfur dioxide  6497 non-null   float64\n",
      " 7   density               6497 non-null   float64\n",
      " 8   pH                    6497 non-null   float64\n",
      " 9   sulphates             6497 non-null   float64\n",
      " 10  alcohol               6497 non-null   float64\n",
      " 11  type                  6497 non-null   int32  \n",
      " 12  quality               6497 non-null   int64  \n",
      "dtypes: float64(11), int32(1), int64(1)\n",
      "memory usage: 685.2 KB\n"
     ]
    }
   ],
   "source": [
    "df.info()"
   ]
  },
  {
   "cell_type": "code",
   "execution_count": 177,
   "id": "c076feeb",
   "metadata": {},
   "outputs": [
    {
     "data": {
      "text/html": [
       "<div>\n",
       "<style scoped>\n",
       "    .dataframe tbody tr th:only-of-type {\n",
       "        vertical-align: middle;\n",
       "    }\n",
       "\n",
       "    .dataframe tbody tr th {\n",
       "        vertical-align: top;\n",
       "    }\n",
       "\n",
       "    .dataframe thead th {\n",
       "        text-align: right;\n",
       "    }\n",
       "</style>\n",
       "<table border=\"1\" class=\"dataframe\">\n",
       "  <thead>\n",
       "    <tr style=\"text-align: right;\">\n",
       "      <th></th>\n",
       "      <th>fixed acidity</th>\n",
       "      <th>volatile acidity</th>\n",
       "      <th>citric acid</th>\n",
       "      <th>residual sugar</th>\n",
       "      <th>chlorides</th>\n",
       "      <th>free sulfur dioxide</th>\n",
       "      <th>total sulfur dioxide</th>\n",
       "      <th>density</th>\n",
       "      <th>pH</th>\n",
       "      <th>sulphates</th>\n",
       "      <th>alcohol</th>\n",
       "      <th>type</th>\n",
       "      <th>quality</th>\n",
       "    </tr>\n",
       "  </thead>\n",
       "  <tbody>\n",
       "    <tr>\n",
       "      <th>0</th>\n",
       "      <td>7.4</td>\n",
       "      <td>0.70</td>\n",
       "      <td>0.00</td>\n",
       "      <td>1.9</td>\n",
       "      <td>0.076</td>\n",
       "      <td>11.0</td>\n",
       "      <td>34.0</td>\n",
       "      <td>0.9978</td>\n",
       "      <td>3.51</td>\n",
       "      <td>0.56</td>\n",
       "      <td>9.4</td>\n",
       "      <td>0</td>\n",
       "      <td>5</td>\n",
       "    </tr>\n",
       "    <tr>\n",
       "      <th>1</th>\n",
       "      <td>7.8</td>\n",
       "      <td>0.88</td>\n",
       "      <td>0.00</td>\n",
       "      <td>2.6</td>\n",
       "      <td>0.098</td>\n",
       "      <td>25.0</td>\n",
       "      <td>67.0</td>\n",
       "      <td>0.9968</td>\n",
       "      <td>3.20</td>\n",
       "      <td>0.68</td>\n",
       "      <td>9.8</td>\n",
       "      <td>0</td>\n",
       "      <td>5</td>\n",
       "    </tr>\n",
       "    <tr>\n",
       "      <th>2</th>\n",
       "      <td>7.8</td>\n",
       "      <td>0.76</td>\n",
       "      <td>0.04</td>\n",
       "      <td>2.3</td>\n",
       "      <td>0.092</td>\n",
       "      <td>15.0</td>\n",
       "      <td>54.0</td>\n",
       "      <td>0.9970</td>\n",
       "      <td>3.26</td>\n",
       "      <td>0.65</td>\n",
       "      <td>9.8</td>\n",
       "      <td>0</td>\n",
       "      <td>5</td>\n",
       "    </tr>\n",
       "    <tr>\n",
       "      <th>3</th>\n",
       "      <td>11.2</td>\n",
       "      <td>0.28</td>\n",
       "      <td>0.56</td>\n",
       "      <td>1.9</td>\n",
       "      <td>0.075</td>\n",
       "      <td>17.0</td>\n",
       "      <td>60.0</td>\n",
       "      <td>0.9980</td>\n",
       "      <td>3.16</td>\n",
       "      <td>0.58</td>\n",
       "      <td>9.8</td>\n",
       "      <td>0</td>\n",
       "      <td>6</td>\n",
       "    </tr>\n",
       "    <tr>\n",
       "      <th>4</th>\n",
       "      <td>7.4</td>\n",
       "      <td>0.70</td>\n",
       "      <td>0.00</td>\n",
       "      <td>1.9</td>\n",
       "      <td>0.076</td>\n",
       "      <td>11.0</td>\n",
       "      <td>34.0</td>\n",
       "      <td>0.9978</td>\n",
       "      <td>3.51</td>\n",
       "      <td>0.56</td>\n",
       "      <td>9.4</td>\n",
       "      <td>0</td>\n",
       "      <td>5</td>\n",
       "    </tr>\n",
       "  </tbody>\n",
       "</table>\n",
       "</div>"
      ],
      "text/plain": [
       "   fixed acidity  volatile acidity  citric acid  residual sugar  chlorides  \\\n",
       "0            7.4              0.70         0.00             1.9      0.076   \n",
       "1            7.8              0.88         0.00             2.6      0.098   \n",
       "2            7.8              0.76         0.04             2.3      0.092   \n",
       "3           11.2              0.28         0.56             1.9      0.075   \n",
       "4            7.4              0.70         0.00             1.9      0.076   \n",
       "\n",
       "   free sulfur dioxide  total sulfur dioxide  density    pH  sulphates  \\\n",
       "0                 11.0                  34.0   0.9978  3.51       0.56   \n",
       "1                 25.0                  67.0   0.9968  3.20       0.68   \n",
       "2                 15.0                  54.0   0.9970  3.26       0.65   \n",
       "3                 17.0                  60.0   0.9980  3.16       0.58   \n",
       "4                 11.0                  34.0   0.9978  3.51       0.56   \n",
       "\n",
       "   alcohol  type  quality  \n",
       "0      9.4     0        5  \n",
       "1      9.8     0        5  \n",
       "2      9.8     0        5  \n",
       "3      9.8     0        6  \n",
       "4      9.4     0        5  "
      ]
     },
     "execution_count": 177,
     "metadata": {},
     "output_type": "execute_result"
    }
   ],
   "source": [
    "df.head()"
   ]
  },
  {
   "cell_type": "markdown",
   "id": "e6485ed9",
   "metadata": {},
   "source": [
    "Mesclam el dataframe i carregam les dades a les variables *features* (característiques) i *labels* (etiquetes)"
   ]
  },
  {
   "cell_type": "code",
   "execution_count": 178,
   "id": "d0244528",
   "metadata": {},
   "outputs": [],
   "source": [
    "min_max_scaler = preprocessing.MinMaxScaler()\n",
    "df = df.sample(frac=1)\n",
    "\n",
    "features, labels = load_data(df)\n"
   ]
  },
  {
   "cell_type": "markdown",
   "id": "9e676eb3",
   "metadata": {},
   "source": [
    "### Separació del conjunt d'entrenament i el de test\n",
    "Per separar les dades en els conjunts d'entrenament i de test hem emprat la funció train_test_split\n",
    "\n",
    "Hem decidit emprar un 80% entrenament i un 20% de test ja que  amb un valor més baix d'entrenament el model de regressió logistica i el del perceptró presentaven underfiting \n"
   ]
  },
  {
   "cell_type": "code",
   "execution_count": 179,
   "id": "4c90c2f1",
   "metadata": {},
   "outputs": [],
   "source": [
    "X_train, X_test, y_train, y_test = train_test_split(features, labels, test_size=0.2, random_state=1)"
   ]
  },
  {
   "cell_type": "markdown",
   "id": "d860288f",
   "metadata": {},
   "source": [
    "## Visualització de les dades"
   ]
  },
  {
   "cell_type": "markdown",
   "id": "23a3a0ae",
   "metadata": {},
   "source": [
    "Aquí podem observar les correlacions entre els distints atributs"
   ]
  },
  {
   "cell_type": "code",
   "execution_count": 180,
   "id": "47f322ac",
   "metadata": {},
   "outputs": [
    {
     "data": {
      "text/plain": [
       "<AxesSubplot:>"
      ]
     },
     "execution_count": 180,
     "metadata": {},
     "output_type": "execute_result"
    },
    {
     "data": {
      "image/png": "[encoded data removed]",
      "text/plain": [
       "<Figure size 432x288 with 2 Axes>"
      ]
     },
     "metadata": {
      "needs_background": "light"
     },
     "output_type": "display_data"
    }
   ],
   "source": [
    "# dfwithoutType = df.drop('Type', 1)\n",
    "\n",
    "corr = df.corr()\n",
    "\n",
    "sns.heatmap(corr, \n",
    "        xticklabels=corr.columns,\n",
    "        yticklabels=corr.columns,\n",
    "        square=True,\n",
    "        cmap=\"magma\")\n"
   ]
  },
  {
   "cell_type": "markdown",
   "id": "871b84f2",
   "metadata": {},
   "source": [
    "Graficam el valor que prenen les característiques númeriques del dataframe mitjançant un histograma"
   ]
  },
  {
   "cell_type": "code",
   "execution_count": 181,
   "id": "401c3257",
   "metadata": {},
   "outputs": [
    {
     "data": {
      "text/plain": [
       "array([[<AxesSubplot:title={'center':'fixed acidity'}>,\n",
       "        <AxesSubplot:title={'center':'volatile acidity'}>,\n",
       "        <AxesSubplot:title={'center':'citric acid'}>],\n",
       "       [<AxesSubplot:title={'center':'residual sugar'}>,\n",
       "        <AxesSubplot:title={'center':'chlorides'}>,\n",
       "        <AxesSubplot:title={'center':'free sulfur dioxide'}>],\n",
       "       [<AxesSubplot:title={'center':'total sulfur dioxide'}>,\n",
       "        <AxesSubplot:title={'center':'density'}>,\n",
       "        <AxesSubplot:title={'center':'pH'}>],\n",
       "       [<AxesSubplot:title={'center':'sulphates'}>,\n",
       "        <AxesSubplot:title={'center':'alcohol'}>,\n",
       "        <AxesSubplot:title={'center':'quality'}>]], dtype=object)"
      ]
     },
     "execution_count": 181,
     "metadata": {},
     "output_type": "execute_result"
    },
    {
     "data": {
      "image/png": "[encoded data removed]",
      "text/plain": [
       "<Figure size 720x720 with 12 Axes>"
      ]
     },
     "metadata": {
      "needs_background": "light"
     },
     "output_type": "display_data"
    }
   ],
   "source": [
    "df.drop(\"type\", axis=1).hist(figsize=(10,10), grid=False)\n"
   ]
  },
  {
   "cell_type": "markdown",
   "id": "62a9a3cf",
   "metadata": {},
   "source": [
    "Gràfic cirular amb el que podem veure la proporció de vi blanc i vermell"
   ]
  },
  {
   "cell_type": "code",
   "execution_count": 182,
   "id": "2fa060d5",
   "metadata": {},
   "outputs": [
    {
     "name": "stdout",
     "output_type": "stream",
     "text": [
      "1    75.388641\n",
      "0    24.611359\n",
      "Name: type, dtype: float64\n"
     ]
    },
    {
     "data": {
      "image/png": "[encoded data removed]",
      "text/plain": [
       "<Figure size 432x288 with 1 Axes>"
      ]
     },
     "metadata": {},
     "output_type": "display_data"
    }
   ],
   "source": [
    "plt.pie(df['type'].value_counts(), labels = [\"White\",\"Red\"], colors=[\"khaki\",\"Maroon\"])\n",
    "print(df['type'].value_counts(normalize=True)*100)\n"
   ]
  },
  {
   "cell_type": "markdown",
   "id": "eaf550f3",
   "metadata": {},
   "source": [
    "# Classificadors"
   ]
  },
  {
   "cell_type": "markdown",
   "id": "4833d93f",
   "metadata": {},
   "source": [
    "## Regressió Logística"
   ]
  },
  {
   "cell_type": "markdown",
   "id": "3641aa45",
   "metadata": {},
   "source": [
    "Hem decidit donar-li valor al hiperparàmetre max_iters perquè amb el valor per defecte no arribava a convergir."
   ]
  },
  {
   "cell_type": "code",
   "execution_count": 183,
   "id": "6d4978fa",
   "metadata": {},
   "outputs": [
    {
     "name": "stdout",
     "output_type": "stream",
     "text": [
      "              precision    recall  f1-score   support\n",
      "\n",
      "           3       0.00      0.00      0.00         8\n",
      "           4       0.00      0.00      0.00        43\n",
      "           5       0.61      0.59      0.60       456\n",
      "           6       0.49      0.72      0.59       541\n",
      "           7       0.47      0.15      0.23       209\n",
      "           8       0.00      0.00      0.00        42\n",
      "           9       0.00      0.00      0.00         1\n",
      "\n",
      "    accuracy                           0.53      1300\n",
      "   macro avg       0.22      0.21      0.20      1300\n",
      "weighted avg       0.49      0.53      0.49      1300\n",
      "\n",
      "training_accuracy: 0.5449297671733693\n",
      "testing_accuracy: 0.5307692307692308\n"
     ]
    },
    {
     "name": "stderr",
     "output_type": "stream",
     "text": [
      "C:\\Users\\walli\\miniconda3\\envs\\ml-environment\\lib\\site-packages\\sklearn\\metrics\\_classification.py:1308: UndefinedMetricWarning: Precision and F-score are ill-defined and being set to 0.0 in labels with no predicted samples. Use `zero_division` parameter to control this behavior.\n",
      "  _warn_prf(average, modifier, msg_start, len(result))\n",
      "C:\\Users\\walli\\miniconda3\\envs\\ml-environment\\lib\\site-packages\\sklearn\\metrics\\_classification.py:1308: UndefinedMetricWarning: Precision and F-score are ill-defined and being set to 0.0 in labels with no predicted samples. Use `zero_division` parameter to control this behavior.\n",
      "  _warn_prf(average, modifier, msg_start, len(result))\n",
      "C:\\Users\\walli\\miniconda3\\envs\\ml-environment\\lib\\site-packages\\sklearn\\metrics\\_classification.py:1308: UndefinedMetricWarning: Precision and F-score are ill-defined and being set to 0.0 in labels with no predicted samples. Use `zero_division` parameter to control this behavior.\n",
      "  _warn_prf(average, modifier, msg_start, len(result))\n"
     ]
    }
   ],
   "source": [
    "logreg = LogisticRegression(max_iter=5000)\n",
    "logreg.fit(X_train,y_train)\n",
    "\n",
    "y_predict = logreg.predict(X_test)\n",
    "\n",
    "print(classification_report(y_test, y_predict))\n",
    "\n",
    "training_accuracy = logreg.score(X_train,y_train)\n",
    "print('training_accuracy:',training_accuracy)\n",
    "\n",
    "testing_accuracy = logreg.score(X_test,y_test)\n",
    "print('testing_accuracy:',testing_accuracy)"
   ]
  },
  {
   "cell_type": "markdown",
   "id": "26c53817",
   "metadata": {},
   "source": [
    "## Perceptró"
   ]
  },
  {
   "cell_type": "code",
   "execution_count": 184,
   "id": "eee48c24",
   "metadata": {},
   "outputs": [
    {
     "name": "stdout",
     "output_type": "stream",
     "text": [
      "              precision    recall  f1-score   support\n",
      "\n",
      "           3       0.00      0.00      0.00         8\n",
      "           4       0.00      0.00      0.00        43\n",
      "           5       0.54      0.75      0.63       456\n",
      "           6       0.00      0.00      0.00       541\n",
      "           7       0.26      0.84      0.40       209\n",
      "           8       0.00      0.00      0.00        42\n",
      "           9       0.00      0.00      0.00         1\n",
      "\n",
      "    accuracy                           0.40      1300\n",
      "   macro avg       0.11      0.23      0.15      1300\n",
      "weighted avg       0.23      0.40      0.28      1300\n",
      "\n",
      "training_accuracy: 0.3934962478352896\n",
      "testing_accuracy: 0.3976923076923077\n"
     ]
    },
    {
     "name": "stderr",
     "output_type": "stream",
     "text": [
      "C:\\Users\\walli\\miniconda3\\envs\\ml-environment\\lib\\site-packages\\sklearn\\metrics\\_classification.py:1308: UndefinedMetricWarning: Precision and F-score are ill-defined and being set to 0.0 in labels with no predicted samples. Use `zero_division` parameter to control this behavior.\n",
      "  _warn_prf(average, modifier, msg_start, len(result))\n",
      "C:\\Users\\walli\\miniconda3\\envs\\ml-environment\\lib\\site-packages\\sklearn\\metrics\\_classification.py:1308: UndefinedMetricWarning: Precision and F-score are ill-defined and being set to 0.0 in labels with no predicted samples. Use `zero_division` parameter to control this behavior.\n",
      "  _warn_prf(average, modifier, msg_start, len(result))\n",
      "C:\\Users\\walli\\miniconda3\\envs\\ml-environment\\lib\\site-packages\\sklearn\\metrics\\_classification.py:1308: UndefinedMetricWarning: Precision and F-score are ill-defined and being set to 0.0 in labels with no predicted samples. Use `zero_division` parameter to control this behavior.\n",
      "  _warn_prf(average, modifier, msg_start, len(result))\n"
     ]
    }
   ],
   "source": [
    "perceptron = Perceptron()\n",
    "perceptron.fit(X_train, y_train)\n",
    "\n",
    "y_predict=perceptron.predict(X_test)\n",
    "\n",
    "print(classification_report(y_test, y_predict))\n",
    "\n",
    "training_accuracy = perceptron.score(X_train,y_train)\n",
    "print('training_accuracy:',training_accuracy)\n",
    "\n",
    "testing_accuracy = perceptron.score(X_test,y_test)\n",
    "print('testing_accuracy:',testing_accuracy)"
   ]
  },
  {
   "cell_type": "markdown",
   "id": "70b8b61e",
   "metadata": {},
   "source": [
    "## Random Forest"
   ]
  },
  {
   "cell_type": "markdown",
   "id": "16f27cad",
   "metadata": {},
   "source": [
    "Hem decidit donar-li valor al hiperparàmetre max_depth perquè amb el valor per defecte teniem overfitting."
   ]
  },
  {
   "cell_type": "code",
   "execution_count": 185,
   "id": "b2cebbdb",
   "metadata": {},
   "outputs": [
    {
     "name": "stdout",
     "output_type": "stream",
     "text": [
      "              precision    recall  f1-score   support\n",
      "\n",
      "           3       0.00      0.00      0.00         8\n",
      "           4       0.88      0.16      0.27        43\n",
      "           5       0.74      0.73      0.74       456\n",
      "           6       0.62      0.78      0.69       541\n",
      "           7       0.66      0.46      0.54       209\n",
      "           8       1.00      0.29      0.44        42\n",
      "           9       0.00      0.00      0.00         1\n",
      "\n",
      "    accuracy                           0.67      1300\n",
      "   macro avg       0.56      0.35      0.38      1300\n",
      "weighted avg       0.69      0.67      0.66      1300\n",
      "\n",
      "training_accuracy: 0.977102174331345\n",
      "testing_accuracy: 0.6715384615384615\n"
     ]
    },
    {
     "name": "stderr",
     "output_type": "stream",
     "text": [
      "C:\\Users\\walli\\miniconda3\\envs\\ml-environment\\lib\\site-packages\\sklearn\\metrics\\_classification.py:1308: UndefinedMetricWarning: Precision and F-score are ill-defined and being set to 0.0 in labels with no predicted samples. Use `zero_division` parameter to control this behavior.\n",
      "  _warn_prf(average, modifier, msg_start, len(result))\n",
      "C:\\Users\\walli\\miniconda3\\envs\\ml-environment\\lib\\site-packages\\sklearn\\metrics\\_classification.py:1308: UndefinedMetricWarning: Precision and F-score are ill-defined and being set to 0.0 in labels with no predicted samples. Use `zero_division` parameter to control this behavior.\n",
      "  _warn_prf(average, modifier, msg_start, len(result))\n",
      "C:\\Users\\walli\\miniconda3\\envs\\ml-environment\\lib\\site-packages\\sklearn\\metrics\\_classification.py:1308: UndefinedMetricWarning: Precision and F-score are ill-defined and being set to 0.0 in labels with no predicted samples. Use `zero_division` parameter to control this behavior.\n",
      "  _warn_prf(average, modifier, msg_start, len(result))\n"
     ]
    }
   ],
   "source": [
    "rf = RandomForestClassifier(max_depth=14)\n",
    "rf.fit(X_train, y_train)\n",
    "\n",
    "y_predict=rf.predict(X_test)\n",
    "\n",
    "print(classification_report(y_test, y_predict))\n",
    "\n",
    "training_accuracy = rf.score(X_train,y_train)\n",
    "print('training_accuracy:',training_accuracy)\n",
    "\n",
    "testing_accuracy = rf.score(X_test,y_test)\n",
    "print('testing_accuracy:',testing_accuracy)"
   ]
  },
  {
   "cell_type": "markdown",
   "id": "96654cb7",
   "metadata": {},
   "source": [
    "## Conclusions\n",
    "Blablabla"
   ]
  },
  {
   "cell_type": "markdown",
   "id": "86af37b7",
   "metadata": {},
   "source": [
    "# Enginyeria de característiques"
   ]
  },
  {
   "cell_type": "code",
   "execution_count": 186,
   "id": "2f37afa4",
   "metadata": {},
   "outputs": [],
   "source": [
    "dfWquality=df.drop(\"quality\", axis=1)"
   ]
  },
  {
   "cell_type": "code",
   "execution_count": 187,
   "id": "222cce99",
   "metadata": {},
   "outputs": [
    {
     "data": {
      "image/png": "[encoded data removed]",
      "text/plain": [
       "<Figure size 432x288 with 1 Axes>"
      ]
     },
     "metadata": {
      "needs_background": "light"
     },
     "output_type": "display_data"
    }
   ],
   "source": [
    "logreg_odds = np.exp(logreg.coef_[0])\n",
    "indices=np.argsort(logreg_odds)\n",
    "\n",
    "fig, ax = plt.subplots()\n",
    "ax.set_title(\"Feature importances for Logisitc Regression\")\n",
    "ax.barh(range(len(logreg_odds)), logreg_odds[indices])\n",
    "ax.set_yticks(range(len(logreg_odds)))\n",
    "_ = ax.set_yticklabels(np.array(dfWquality.columns)[indices])"
   ]
  },
  {
   "cell_type": "code",
   "execution_count": 188,
   "id": "65baa0f6",
   "metadata": {},
   "outputs": [
    {
     "data": {
      "image/png": "[encoded data removed]",
      "text/plain": [
       "<Figure size 432x288 with 1 Axes>"
      ]
     },
     "metadata": {
      "needs_background": "light"
     },
     "output_type": "display_data"
    }
   ],
   "source": [
    "perceptron_odds = np.exp(perceptron.coef_[0])\n",
    "indices=np.argsort(perceptron_odds)\n",
    "\n",
    "fig, ax = plt.subplots()\n",
    "ax.set_title(\"Feature importances for Perceptron\")\n",
    "ax.barh(range(len(perceptron_odds)), perceptron_odds[indices])\n",
    "ax.set_yticks(range(len(perceptron_odds)))\n",
    "_ = ax.set_yticklabels(np.array(dfWquality.columns)[indices])"
   ]
  },
  {
   "cell_type": "code",
   "execution_count": 189,
   "id": "a6d4358f",
   "metadata": {},
   "outputs": [
    {
     "data": {
      "image/png": "[encoded data removed]",
      "text/plain": [
       "<Figure size 432x288 with 1 Axes>"
      ]
     },
     "metadata": {
      "needs_background": "light"
     },
     "output_type": "display_data"
    }
   ],
   "source": [
    "importancesRF = rf.feature_importances_\n",
    "indices = np.argsort(importancesRF)\n",
    "\n",
    "fig, ax = plt.subplots()\n",
    "ax.set_title(\"Feature importances for Random forest\")\n",
    "ax.barh(range(len(importancesRF)), importancesRF[indices])\n",
    "ax.set_yticks(range(len(importancesRF)))\n",
    "_ = ax.set_yticklabels(np.array(dfWquality.columns)[indices])"
   ]
  },
  {
   "cell_type": "code",
   "execution_count": 207,
   "id": "6f48d0e6",
   "metadata": {},
   "outputs": [
    {
     "name": "stdout",
     "output_type": "stream",
     "text": [
      "free sulfur dioxide   total sulfur dioxide    0.720934\n",
      "total sulfur dioxide  free sulfur dioxide     0.720934\n",
      "type                  total sulfur dioxide    0.700357\n",
      "total sulfur dioxide  type                    0.700357\n",
      "density               alcohol                 0.686745\n",
      "alcohol               density                 0.686745\n",
      "volatile acidity      type                    0.653036\n",
      "type                  volatile acidity        0.653036\n",
      "residual sugar        density                 0.552517\n",
      "density               residual sugar          0.552517\n",
      "dtype: float64\n"
     ]
    }
   ],
   "source": [
    "c = df.corr().abs()\n",
    "s = c.unstack()\n",
    "so = s.sort_values(kind=\"quicksort\", ascending=False)\n",
    "\n",
    "print(so[13:23]) #Les 12 primeres son autocorrelacions"
   ]
  }
 ],
 "metadata": {
  "kernelspec": {
   "display_name": "Python 3 (ipykernel)",
   "language": "python",
   "name": "python3"
  },
  "language_info": {
   "codemirror_mode": {
    "name": "ipython",
    "version": 3
   },
   "file_extension": ".py",
   "mimetype": "text/x-python",
   "name": "python",
   "nbconvert_exporter": "python",
   "pygments_lexer": "ipython3",
   "version": "3.9.7"
  }
 },
 "nbformat": 4,
 "nbformat_minor": 5
}
