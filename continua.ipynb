{
 "cells": [
  {
   "cell_type": "markdown",
   "id": "d4c6ab79",
   "metadata": {},
   "source": [
    "# Winequality dataset"
   ]
  },
  {
   "cell_type": "markdown",
   "id": "df3878f4",
   "metadata": {},
   "source": [
    "## Feim els imports"
   ]
  },
  {
   "cell_type": "code",
   "execution_count": null,
   "id": "c7dc6e88-3d56-48a1-a77e-9cabb57805a1",
   "metadata": {},
   "outputs": [],
   "source": [
    "#IMPORTS\n",
    "import pandas as pd\n",
    "import matplotlib.pyplot as plt\n",
    "import numpy as np\n",
    "import seaborn as sns\n",
    "import math\n",
    "from sklearn.preprocessing import LabelEncoder\n",
    "from sklearn import preprocessing\n",
    "from sklearn.model_selection import train_test_split\n",
    "from sklearn.linear_model import LogisticRegression\n",
    "from sklearn.linear_model import Perceptron\n",
    "from sklearn.ensemble import RandomForestClassifier\n",
    "from sklearn.metrics import classification_report"
   ]
  },
  {
   "cell_type": "markdown",
   "id": "d10d2f9a",
   "metadata": {},
   "source": [
    "## Preparam el dataset"
   ]
  },
  {
   "cell_type": "markdown",
   "id": "cc4f7622",
   "metadata": {},
   "source": [
    "Funció que separa les features i les etiquetes, escalant les dades"
   ]
  },
  {
   "cell_type": "code",
   "execution_count": null,
   "id": "1e5ee3a4",
   "metadata": {},
   "outputs": [],
   "source": [
    "def load_data(df):\n",
    "    y=df.quality\n",
    "    X=df.drop('quality',axis=1)\n",
    "    X = min_max_scaler.fit_transform(X)\n",
    "    return X, y"
   ]
  },
  {
   "cell_type": "markdown",
   "id": "6eb9892f",
   "metadata": {},
   "source": [
    "Carregam els datasets a dos dataframes a partir dels fitxers csv: winequality-red.csv i winequality-white.csv\n",
    "\n",
    "Afegim una nova columna que indiqui el tipus de vi a cada dataset i juntam els dos datasets en un de nou"
   ]
  },
  {
   "cell_type": "code",
   "execution_count": null,
   "id": "45c4b23d-1f27-4596-9b1c-eed4d8cbd32e",
   "metadata": {},
   "outputs": [],
   "source": [
    "#CREATE AND MERGE DATAFRAMES\n",
    "dfRed=pd.read_csv(\"winequality-red.csv\", sep=\";\")\n",
    "dfWhite=pd.read_csv(\"winequality-white.csv\", sep=\";\")\n",
    "\n",
    "dfRed['type']=\"Red\"\n",
    "dfWhite['type']=\"White\"\n",
    "df=pd.concat([dfRed,dfWhite])"
   ]
  },
  {
   "cell_type": "markdown",
   "id": "c0f6b22c",
   "metadata": {},
   "source": [
    "Consultam les files del dataframe amb valors absents i les eliminam"
   ]
  },
  {
   "cell_type": "code",
   "execution_count": null,
   "id": "10383ee8",
   "metadata": {},
   "outputs": [],
   "source": [
    "df[df.isna().any(axis=1)]\n",
    "df.dropna(inplace=True)"
   ]
  },
  {
   "cell_type": "markdown",
   "id": "d79bef95",
   "metadata": {},
   "source": [
    "Convertim els valors categòrics en númerics"
   ]
  },
  {
   "cell_type": "code",
   "execution_count": null,
   "id": "2b734f3b",
   "metadata": {},
   "outputs": [],
   "source": [
    "labelencoder = LabelEncoder()\n",
    "\n",
    "df['type']=labelencoder.fit_transform(df['type'])\n"
   ]
  },
  {
   "cell_type": "markdown",
   "id": "2fba46ec",
   "metadata": {},
   "source": [
    "Recolocam les columnes"
   ]
  },
  {
   "cell_type": "code",
   "execution_count": null,
   "id": "f8df7875",
   "metadata": {},
   "outputs": [],
   "source": [
    "df=df.reindex(columns=['fixed acidity', 'volatile acidity', 'citric acid', \n",
    "                       'residual sugar', 'chlorides', 'free sulfur dioxide',\n",
    "                       'total sulfur dioxide', 'density', 'pH', 'sulphates', \n",
    "                       'alcohol', 'type', 'quality'])"
   ]
  },
  {
   "cell_type": "code",
   "execution_count": null,
   "id": "ca795771",
   "metadata": {},
   "outputs": [],
   "source": [
    "df.info()"
   ]
  },
  {
   "cell_type": "code",
   "execution_count": null,
   "id": "c076feeb",
   "metadata": {},
   "outputs": [],
   "source": [
    "df.head()"
   ]
  },
  {
   "cell_type": "markdown",
   "id": "e6485ed9",
   "metadata": {},
   "source": [
    "Mesclam el dataframe i carregam les dades a les variables *features* (característiques) i *labels* (etiquetes)"
   ]
  },
  {
   "cell_type": "code",
   "execution_count": null,
   "id": "d0244528",
   "metadata": {},
   "outputs": [],
   "source": [
    "min_max_scaler = preprocessing.MinMaxScaler()\n",
    "df = df.sample(frac=1)\n",
    "\n",
    "features, labels = load_data(df)\n"
   ]
  },
  {
   "cell_type": "markdown",
   "id": "9e676eb3",
   "metadata": {},
   "source": [
    "### Separació del conjunt d'entrenament i el de test\n",
    "Per separar les dades en els conjunts d'entrenament i de test hem emprat la funció train_test_split\n",
    "\n",
    "Hem decidit emprar un 80% entrenament i un 20% de test ja que  amb un valor més baix d'entrenament el model de regressió logistica i el del perceptró presentaven underfiting \n"
   ]
  },
  {
   "cell_type": "code",
   "execution_count": null,
   "id": "4c90c2f1",
   "metadata": {},
   "outputs": [],
   "source": [
    "X_train, X_test, y_train, y_test = train_test_split(features, labels, test_size=0.2, random_state=1)"
   ]
  },
  {
   "cell_type": "markdown",
   "id": "d860288f",
   "metadata": {},
   "source": [
    "## Visualització de les dades"
   ]
  },
  {
   "cell_type": "markdown",
   "id": "23a3a0ae",
   "metadata": {},
   "source": [
    "Aquí podem observar les correlacions entre els distints atributs"
   ]
  },
  {
   "cell_type": "code",
   "execution_count": null,
   "id": "47f322ac",
   "metadata": {},
   "outputs": [],
   "source": [
    "# dfwithoutType = df.drop('Type', 1)\n",
    "\n",
    "corr = df.corr()\n",
    "\n",
    "sns.heatmap(corr, \n",
    "        xticklabels=corr.columns,\n",
    "        yticklabels=corr.columns,\n",
    "        square=True,\n",
    "        cmap=\"magma\")\n"
   ]
  },
  {
   "cell_type": "markdown",
   "id": "871b84f2",
   "metadata": {},
   "source": [
    "Graficam el valor que prenen les característiques númeriques del dataframe mitjançant un histograma"
   ]
  },
  {
   "cell_type": "code",
   "execution_count": null,
   "id": "401c3257",
   "metadata": {},
   "outputs": [],
   "source": [
    "df.drop(\"type\", axis=1).hist(figsize=(10,10), grid=False)\n"
   ]
  },
  {
   "cell_type": "markdown",
   "id": "62a9a3cf",
   "metadata": {},
   "source": [
    "Gràfic cirular amb el que podem veure la proporció de vi blanc i vermell"
   ]
  },
  {
   "cell_type": "code",
   "execution_count": null,
   "id": "2fa060d5",
   "metadata": {},
   "outputs": [],
   "source": [
    "plt.pie(df['type'].value_counts(), labels = [\"White\",\"Red\"], colors=[\"khaki\",\"Maroon\"])\n",
    "print(df['type'].value_counts(normalize=True)*100)\n"
   ]
  },
  {
   "cell_type": "markdown",
   "id": "eaf550f3",
   "metadata": {},
   "source": [
    "# Classificadors"
   ]
  },
  {
   "cell_type": "markdown",
   "id": "4833d93f",
   "metadata": {},
   "source": [
    "## Regressió Logística"
   ]
  },
  {
   "cell_type": "markdown",
   "id": "3641aa45",
   "metadata": {},
   "source": [
    "Hem decidit donar-li valor al hiperparàmetre max_iters perquè amb el valor per defecte no arribava a convergir."
   ]
  },
  {
   "cell_type": "code",
   "execution_count": null,
   "id": "6d4978fa",
   "metadata": {},
   "outputs": [],
   "source": [
    "logreg = LogisticRegression(max_iter=5000)\n",
    "logreg.fit(X_train,y_train)\n",
    "\n",
    "y_predict = logreg.predict(X_test)\n",
    "\n",
    "print(classification_report(y_test, y_predict))\n",
    "\n",
    "training_accuracy = logreg.score(X_train,y_train)\n",
    "print('training_accuracy:',training_accuracy)\n",
    "\n",
    "testing_accuracy = logreg.score(X_test,y_test)\n",
    "print('testing_accuracy:',testing_accuracy)"
   ]
  },
  {
   "cell_type": "markdown",
   "id": "26c53817",
   "metadata": {},
   "source": [
    "## Perceptró"
   ]
  },
  {
   "cell_type": "code",
   "execution_count": null,
   "id": "eee48c24",
   "metadata": {},
   "outputs": [],
   "source": [
    "perceptron = Perceptron()\n",
    "perceptron.fit(X_train, y_train)\n",
    "\n",
    "y_predict=perceptron.predict(X_test)\n",
    "\n",
    "print(classification_report(y_test, y_predict))\n",
    "\n",
    "training_accuracy = perceptron.score(X_train,y_train)\n",
    "print('training_accuracy:',training_accuracy)\n",
    "\n",
    "testing_accuracy = perceptron.score(X_test,y_test)\n",
    "print('testing_accuracy:',testing_accuracy)"
   ]
  },
  {
   "cell_type": "markdown",
   "id": "70b8b61e",
   "metadata": {},
   "source": [
    "## Random Forest"
   ]
  },
  {
   "cell_type": "markdown",
   "id": "16f27cad",
   "metadata": {},
   "source": [
    "Hem decidit donar-li valor al hiperparàmetre max_depth perquè amb el valor per defecte teniem overfitting."
   ]
  },
  {
   "cell_type": "code",
   "execution_count": null,
   "id": "b2cebbdb",
   "metadata": {},
   "outputs": [],
   "source": [
    "rf = RandomForestClassifier(max_depth=14)\n",
    "rf.fit(X_train, y_train)\n",
    "\n",
    "y_predict=rf.predict(X_test)\n",
    "\n",
    "print(classification_report(y_test, y_predict))\n",
    "\n",
    "training_accuracy = rf.score(X_train,y_train)\n",
    "print('training_accuracy:',training_accuracy)\n",
    "\n",
    "testing_accuracy = rf.score(X_test,y_test)\n",
    "print('testing_accuracy:',testing_accuracy)"
   ]
  },
  {
   "cell_type": "markdown",
   "id": "96654cb7",
   "metadata": {},
   "source": [
    "## Conclusions\n",
    "Blablabla"
   ]
  },
  {
   "cell_type": "markdown",
   "id": "86af37b7",
   "metadata": {},
   "source": [
    "# Enginyeria de característiques"
   ]
  },
  {
   "cell_type": "code",
   "execution_count": 157,
   "id": "222cce99",
   "metadata": {},
   "outputs": [
    {
     "data": {
      "image/png": "[encoded data removed]",
      "text/plain": [
       "<Figure size 432x288 with 1 Axes>"
      ]
     },
     "metadata": {
      "needs_background": "light"
     },
     "output_type": "display_data"
    }
   ],
   "source": [
    "odds = np.exp(logreg.coef_[0])\n",
    "odds_importances = pd.Series(odds, index=df.drop(\"quality\",axis=1).columns)\n",
    "fig, ax = plt.subplots()\n",
    "odds_importances.plot.bar(ax=ax)\n",
    "ax.set_title(\"Feature importances using MDI\")\n",
    "fig.tight_layout()"
   ]
  },
  {
   "cell_type": "code",
   "execution_count": 155,
   "id": "4eaeafe2",
   "metadata": {},
   "outputs": [
    {
     "name": "stdout",
     "output_type": "stream",
     "text": [
      "<class 'pandas.core.series.Series'>\n"
     ]
    },
    {
     "data": {
      "image/png": "[encoded data removed]",
      "text/plain": [
       "<Figure size 432x288 with 1 Axes>"
      ]
     },
     "metadata": {
      "needs_background": "light"
     },
     "output_type": "display_data"
    }
   ],
   "source": [
    "importances = rf.feature_importances_\n",
    "std = np.std([tree.feature_importances_ for tree in rf.estimators_], axis=0)\n",
    "forest_importances = pd.Series(importances, index=df.drop(\"quality\",axis=1).columns)\n",
    "\n",
    "fig, ax = plt.subplots()\n",
    "forest_importances.plot.bar(yerr=std, ax=ax)\n",
    "ax.set_title(\"Feature importances using MDI\")\n",
    "fig.tight_layout()"
   ]
  }
 ],
 "metadata": {
  "kernelspec": {
   "display_name": "Python 3 (ipykernel)",
   "language": "python",
   "name": "python3"
  },
  "language_info": {
   "codemirror_mode": {
    "name": "ipython",
    "version": 3
   },
   "file_extension": ".py",
   "mimetype": "text/x-python",
   "name": "python",
   "nbconvert_exporter": "python",
   "pygments_lexer": "ipython3",
   "version": "3.9.7"
  }
 },
 "nbformat": 4,
 "nbformat_minor": 5
}
