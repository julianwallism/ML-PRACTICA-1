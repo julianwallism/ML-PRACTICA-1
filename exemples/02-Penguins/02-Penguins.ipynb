{
 "cells": [
  {
   "cell_type": "markdown",
   "id": "d341d245-1048-453b-81d5-2ca0b48bb2db",
   "metadata": {},
   "source": [
    "# Palmer Penguins dataset"
   ]
  },
  {
   "cell_type": "code",
   "execution_count": 2,
   "id": "99ba5f74-7756-49dd-b85c-bd54b7de9dbb",
   "metadata": {},
   "outputs": [],
   "source": [
    "import numpy as np\n",
    "import pandas as pd\n",
    "import matplotlib.pyplot as plt"
   ]
  },
  {
   "cell_type": "markdown",
   "id": "355dddee-2919-45f7-a28c-5fbf7b3fd51d",
   "metadata": {},
   "source": [
    "# El dataset"
   ]
  },
  {
   "cell_type": "markdown",
   "id": "9b4d153b-7f9d-4a1e-9daa-074e8b85108c",
   "metadata": {},
   "source": [
    "Carregam el dataset a un dataframe a partir del fitxer csv: \"penguins_lter.csv\"."
   ]
  },
  {
   "cell_type": "code",
   "execution_count": 3,
   "id": "b60cc40f-8923-4d3c-bc54-2946636eefe4",
   "metadata": {},
   "outputs": [
    {
     "data": {
      "text/html": [
       "<div>\n",
       "<style scoped>\n",
       "    .dataframe tbody tr th:only-of-type {\n",
       "        vertical-align: middle;\n",
       "    }\n",
       "\n",
       "    .dataframe tbody tr th {\n",
       "        vertical-align: top;\n",
       "    }\n",
       "\n",
       "    .dataframe thead th {\n",
       "        text-align: right;\n",
       "    }\n",
       "</style>\n",
       "<table border=\"1\" class=\"dataframe\">\n",
       "  <thead>\n",
       "    <tr style=\"text-align: right;\">\n",
       "      <th></th>\n",
       "      <th>studyName</th>\n",
       "      <th>Sample Number</th>\n",
       "      <th>Species</th>\n",
       "      <th>Region</th>\n",
       "      <th>Island</th>\n",
       "      <th>Stage</th>\n",
       "      <th>Individual ID</th>\n",
       "      <th>Clutch Completion</th>\n",
       "      <th>Date Egg</th>\n",
       "      <th>Culmen Length (mm)</th>\n",
       "      <th>Culmen Depth (mm)</th>\n",
       "      <th>Flipper Length (mm)</th>\n",
       "      <th>Body Mass (g)</th>\n",
       "      <th>Sex</th>\n",
       "      <th>Delta 15 N (o/oo)</th>\n",
       "      <th>Delta 13 C (o/oo)</th>\n",
       "      <th>Comments</th>\n",
       "    </tr>\n",
       "  </thead>\n",
       "  <tbody>\n",
       "    <tr>\n",
       "      <th>0</th>\n",
       "      <td>PAL0708</td>\n",
       "      <td>1</td>\n",
       "      <td>Adelie Penguin (Pygoscelis adeliae)</td>\n",
       "      <td>Anvers</td>\n",
       "      <td>Torgersen</td>\n",
       "      <td>Adult, 1 Egg Stage</td>\n",
       "      <td>N1A1</td>\n",
       "      <td>Yes</td>\n",
       "      <td>11/11/07</td>\n",
       "      <td>39.1</td>\n",
       "      <td>18.7</td>\n",
       "      <td>181.0</td>\n",
       "      <td>3750.0</td>\n",
       "      <td>MALE</td>\n",
       "      <td>NaN</td>\n",
       "      <td>NaN</td>\n",
       "      <td>Not enough blood for isotopes.</td>\n",
       "    </tr>\n",
       "    <tr>\n",
       "      <th>1</th>\n",
       "      <td>PAL0708</td>\n",
       "      <td>2</td>\n",
       "      <td>Adelie Penguin (Pygoscelis adeliae)</td>\n",
       "      <td>Anvers</td>\n",
       "      <td>Torgersen</td>\n",
       "      <td>Adult, 1 Egg Stage</td>\n",
       "      <td>N1A2</td>\n",
       "      <td>Yes</td>\n",
       "      <td>11/11/07</td>\n",
       "      <td>39.5</td>\n",
       "      <td>17.4</td>\n",
       "      <td>186.0</td>\n",
       "      <td>3800.0</td>\n",
       "      <td>FEMALE</td>\n",
       "      <td>8.94956</td>\n",
       "      <td>-24.69454</td>\n",
       "      <td>NaN</td>\n",
       "    </tr>\n",
       "    <tr>\n",
       "      <th>2</th>\n",
       "      <td>PAL0708</td>\n",
       "      <td>3</td>\n",
       "      <td>Adelie Penguin (Pygoscelis adeliae)</td>\n",
       "      <td>Anvers</td>\n",
       "      <td>Torgersen</td>\n",
       "      <td>Adult, 1 Egg Stage</td>\n",
       "      <td>N2A1</td>\n",
       "      <td>Yes</td>\n",
       "      <td>11/16/07</td>\n",
       "      <td>40.3</td>\n",
       "      <td>18.0</td>\n",
       "      <td>195.0</td>\n",
       "      <td>3250.0</td>\n",
       "      <td>FEMALE</td>\n",
       "      <td>8.36821</td>\n",
       "      <td>-25.33302</td>\n",
       "      <td>NaN</td>\n",
       "    </tr>\n",
       "    <tr>\n",
       "      <th>3</th>\n",
       "      <td>PAL0708</td>\n",
       "      <td>4</td>\n",
       "      <td>Adelie Penguin (Pygoscelis adeliae)</td>\n",
       "      <td>Anvers</td>\n",
       "      <td>Torgersen</td>\n",
       "      <td>Adult, 1 Egg Stage</td>\n",
       "      <td>N2A2</td>\n",
       "      <td>Yes</td>\n",
       "      <td>11/16/07</td>\n",
       "      <td>NaN</td>\n",
       "      <td>NaN</td>\n",
       "      <td>NaN</td>\n",
       "      <td>NaN</td>\n",
       "      <td>NaN</td>\n",
       "      <td>NaN</td>\n",
       "      <td>NaN</td>\n",
       "      <td>Adult not sampled.</td>\n",
       "    </tr>\n",
       "    <tr>\n",
       "      <th>4</th>\n",
       "      <td>PAL0708</td>\n",
       "      <td>5</td>\n",
       "      <td>Adelie Penguin (Pygoscelis adeliae)</td>\n",
       "      <td>Anvers</td>\n",
       "      <td>Torgersen</td>\n",
       "      <td>Adult, 1 Egg Stage</td>\n",
       "      <td>N3A1</td>\n",
       "      <td>Yes</td>\n",
       "      <td>11/16/07</td>\n",
       "      <td>36.7</td>\n",
       "      <td>19.3</td>\n",
       "      <td>193.0</td>\n",
       "      <td>3450.0</td>\n",
       "      <td>FEMALE</td>\n",
       "      <td>8.76651</td>\n",
       "      <td>-25.32426</td>\n",
       "      <td>NaN</td>\n",
       "    </tr>\n",
       "  </tbody>\n",
       "</table>\n",
       "</div>"
      ],
      "text/plain": [
       "  studyName  Sample Number                              Species  Region  \\\n",
       "0   PAL0708              1  Adelie Penguin (Pygoscelis adeliae)  Anvers   \n",
       "1   PAL0708              2  Adelie Penguin (Pygoscelis adeliae)  Anvers   \n",
       "2   PAL0708              3  Adelie Penguin (Pygoscelis adeliae)  Anvers   \n",
       "3   PAL0708              4  Adelie Penguin (Pygoscelis adeliae)  Anvers   \n",
       "4   PAL0708              5  Adelie Penguin (Pygoscelis adeliae)  Anvers   \n",
       "\n",
       "      Island               Stage Individual ID Clutch Completion  Date Egg  \\\n",
       "0  Torgersen  Adult, 1 Egg Stage          N1A1               Yes  11/11/07   \n",
       "1  Torgersen  Adult, 1 Egg Stage          N1A2               Yes  11/11/07   \n",
       "2  Torgersen  Adult, 1 Egg Stage          N2A1               Yes  11/16/07   \n",
       "3  Torgersen  Adult, 1 Egg Stage          N2A2               Yes  11/16/07   \n",
       "4  Torgersen  Adult, 1 Egg Stage          N3A1               Yes  11/16/07   \n",
       "\n",
       "   Culmen Length (mm)  Culmen Depth (mm)  Flipper Length (mm)  Body Mass (g)  \\\n",
       "0                39.1               18.7                181.0         3750.0   \n",
       "1                39.5               17.4                186.0         3800.0   \n",
       "2                40.3               18.0                195.0         3250.0   \n",
       "3                 NaN                NaN                  NaN            NaN   \n",
       "4                36.7               19.3                193.0         3450.0   \n",
       "\n",
       "      Sex  Delta 15 N (o/oo)  Delta 13 C (o/oo)  \\\n",
       "0    MALE                NaN                NaN   \n",
       "1  FEMALE            8.94956          -24.69454   \n",
       "2  FEMALE            8.36821          -25.33302   \n",
       "3     NaN                NaN                NaN   \n",
       "4  FEMALE            8.76651          -25.32426   \n",
       "\n",
       "                         Comments  \n",
       "0  Not enough blood for isotopes.  \n",
       "1                             NaN  \n",
       "2                             NaN  \n",
       "3              Adult not sampled.  \n",
       "4                             NaN  "
      ]
     },
     "execution_count": 3,
     "metadata": {},
     "output_type": "execute_result"
    }
   ],
   "source": [
    "df = pd.read_csv(\"penguins_lter.csv\")\n",
    "df.head()"
   ]
  },
  {
   "cell_type": "code",
   "execution_count": 4,
   "id": "f99bbd34-ba6e-42ad-9380-49871f39ddbd",
   "metadata": {},
   "outputs": [
    {
     "data": {
      "text/plain": [
       "(344, 17)"
      ]
     },
     "execution_count": 4,
     "metadata": {},
     "output_type": "execute_result"
    }
   ],
   "source": [
    "df.shape"
   ]
  },
  {
   "cell_type": "code",
   "execution_count": 5,
   "id": "011c2ef7-8a13-40c4-acca-78061246170f",
   "metadata": {},
   "outputs": [
    {
     "data": {
      "text/html": [
       "<div>\n",
       "<style scoped>\n",
       "    .dataframe tbody tr th:only-of-type {\n",
       "        vertical-align: middle;\n",
       "    }\n",
       "\n",
       "    .dataframe tbody tr th {\n",
       "        vertical-align: top;\n",
       "    }\n",
       "\n",
       "    .dataframe thead th {\n",
       "        text-align: right;\n",
       "    }\n",
       "</style>\n",
       "<table border=\"1\" class=\"dataframe\">\n",
       "  <thead>\n",
       "    <tr style=\"text-align: right;\">\n",
       "      <th></th>\n",
       "      <th>Sample Number</th>\n",
       "      <th>Culmen Length (mm)</th>\n",
       "      <th>Culmen Depth (mm)</th>\n",
       "      <th>Flipper Length (mm)</th>\n",
       "      <th>Body Mass (g)</th>\n",
       "      <th>Delta 15 N (o/oo)</th>\n",
       "      <th>Delta 13 C (o/oo)</th>\n",
       "    </tr>\n",
       "  </thead>\n",
       "  <tbody>\n",
       "    <tr>\n",
       "      <th>count</th>\n",
       "      <td>344.000000</td>\n",
       "      <td>342.000000</td>\n",
       "      <td>342.000000</td>\n",
       "      <td>342.000000</td>\n",
       "      <td>342.000000</td>\n",
       "      <td>330.000000</td>\n",
       "      <td>331.000000</td>\n",
       "    </tr>\n",
       "    <tr>\n",
       "      <th>mean</th>\n",
       "      <td>63.151163</td>\n",
       "      <td>43.921930</td>\n",
       "      <td>17.151170</td>\n",
       "      <td>200.915205</td>\n",
       "      <td>4201.754386</td>\n",
       "      <td>8.733382</td>\n",
       "      <td>-25.686292</td>\n",
       "    </tr>\n",
       "    <tr>\n",
       "      <th>std</th>\n",
       "      <td>40.430199</td>\n",
       "      <td>5.459584</td>\n",
       "      <td>1.974793</td>\n",
       "      <td>14.061714</td>\n",
       "      <td>801.954536</td>\n",
       "      <td>0.551770</td>\n",
       "      <td>0.793961</td>\n",
       "    </tr>\n",
       "    <tr>\n",
       "      <th>min</th>\n",
       "      <td>1.000000</td>\n",
       "      <td>32.100000</td>\n",
       "      <td>13.100000</td>\n",
       "      <td>172.000000</td>\n",
       "      <td>2700.000000</td>\n",
       "      <td>7.632200</td>\n",
       "      <td>-27.018540</td>\n",
       "    </tr>\n",
       "    <tr>\n",
       "      <th>25%</th>\n",
       "      <td>29.000000</td>\n",
       "      <td>39.225000</td>\n",
       "      <td>15.600000</td>\n",
       "      <td>190.000000</td>\n",
       "      <td>3550.000000</td>\n",
       "      <td>8.299890</td>\n",
       "      <td>-26.320305</td>\n",
       "    </tr>\n",
       "    <tr>\n",
       "      <th>50%</th>\n",
       "      <td>58.000000</td>\n",
       "      <td>44.450000</td>\n",
       "      <td>17.300000</td>\n",
       "      <td>197.000000</td>\n",
       "      <td>4050.000000</td>\n",
       "      <td>8.652405</td>\n",
       "      <td>-25.833520</td>\n",
       "    </tr>\n",
       "    <tr>\n",
       "      <th>75%</th>\n",
       "      <td>95.250000</td>\n",
       "      <td>48.500000</td>\n",
       "      <td>18.700000</td>\n",
       "      <td>213.000000</td>\n",
       "      <td>4750.000000</td>\n",
       "      <td>9.172123</td>\n",
       "      <td>-25.062050</td>\n",
       "    </tr>\n",
       "    <tr>\n",
       "      <th>max</th>\n",
       "      <td>152.000000</td>\n",
       "      <td>59.600000</td>\n",
       "      <td>21.500000</td>\n",
       "      <td>231.000000</td>\n",
       "      <td>6300.000000</td>\n",
       "      <td>10.025440</td>\n",
       "      <td>-23.787670</td>\n",
       "    </tr>\n",
       "  </tbody>\n",
       "</table>\n",
       "</div>"
      ],
      "text/plain": [
       "       Sample Number  Culmen Length (mm)  Culmen Depth (mm)  \\\n",
       "count     344.000000          342.000000         342.000000   \n",
       "mean       63.151163           43.921930          17.151170   \n",
       "std        40.430199            5.459584           1.974793   \n",
       "min         1.000000           32.100000          13.100000   \n",
       "25%        29.000000           39.225000          15.600000   \n",
       "50%        58.000000           44.450000          17.300000   \n",
       "75%        95.250000           48.500000          18.700000   \n",
       "max       152.000000           59.600000          21.500000   \n",
       "\n",
       "       Flipper Length (mm)  Body Mass (g)  Delta 15 N (o/oo)  \\\n",
       "count           342.000000     342.000000         330.000000   \n",
       "mean            200.915205    4201.754386           8.733382   \n",
       "std              14.061714     801.954536           0.551770   \n",
       "min             172.000000    2700.000000           7.632200   \n",
       "25%             190.000000    3550.000000           8.299890   \n",
       "50%             197.000000    4050.000000           8.652405   \n",
       "75%             213.000000    4750.000000           9.172123   \n",
       "max             231.000000    6300.000000          10.025440   \n",
       "\n",
       "       Delta 13 C (o/oo)  \n",
       "count         331.000000  \n",
       "mean          -25.686292  \n",
       "std             0.793961  \n",
       "min           -27.018540  \n",
       "25%           -26.320305  \n",
       "50%           -25.833520  \n",
       "75%           -25.062050  \n",
       "max           -23.787670  "
      ]
     },
     "execution_count": 5,
     "metadata": {},
     "output_type": "execute_result"
    }
   ],
   "source": [
    "df.describe()"
   ]
  },
  {
   "cell_type": "code",
   "execution_count": 6,
   "id": "777189f6-5946-4087-b846-251f6068833d",
   "metadata": {},
   "outputs": [
    {
     "name": "stdout",
     "output_type": "stream",
     "text": [
      "<class 'pandas.core.frame.DataFrame'>\n",
      "RangeIndex: 344 entries, 0 to 343\n",
      "Data columns (total 17 columns):\n",
      " #   Column               Non-Null Count  Dtype  \n",
      "---  ------               --------------  -----  \n",
      " 0   studyName            344 non-null    object \n",
      " 1   Sample Number        344 non-null    int64  \n",
      " 2   Species              344 non-null    object \n",
      " 3   Region               344 non-null    object \n",
      " 4   Island               344 non-null    object \n",
      " 5   Stage                344 non-null    object \n",
      " 6   Individual ID        344 non-null    object \n",
      " 7   Clutch Completion    344 non-null    object \n",
      " 8   Date Egg             344 non-null    object \n",
      " 9   Culmen Length (mm)   342 non-null    float64\n",
      " 10  Culmen Depth (mm)    342 non-null    float64\n",
      " 11  Flipper Length (mm)  342 non-null    float64\n",
      " 12  Body Mass (g)        342 non-null    float64\n",
      " 13  Sex                  334 non-null    object \n",
      " 14  Delta 15 N (o/oo)    330 non-null    float64\n",
      " 15  Delta 13 C (o/oo)    331 non-null    float64\n",
      " 16  Comments             26 non-null     object \n",
      "dtypes: float64(6), int64(1), object(10)\n",
      "memory usage: 45.8+ KB\n"
     ]
    }
   ],
   "source": [
    "df.info()"
   ]
  },
  {
   "cell_type": "markdown",
   "id": "36f1b259-6135-4d85-9129-b330738bcd92",
   "metadata": {},
   "source": [
    "A l'anàlisi anterior hem pogut veure que hi ha diverses columnes amb un valor únic per a cada mostra: \"Individual ID\" i \"Sample number\". Aquestes columnes no aporten cap informació que caracteritzi a la mostra per això es poden eliminar.\n",
    "\n",
    "La columna \"Comments\" tampoc aporta cap informació rellevant ja que només té 26 valors no nuls. Tot i que es podria utilitzar per extreure noves característiques amb el contingut del text, per aquest exercici d'exemple també l'eliminarem.\n",
    "\n",
    "A continuació eliminam les columnes \"Comments\", \"Individual ID\" i \"Sample number\"."
   ]
  },
  {
   "cell_type": "code",
   "execution_count": 7,
   "id": "cda684f2-bc13-4421-8697-d9728743e7b4",
   "metadata": {},
   "outputs": [],
   "source": [
    "df.drop(\"Comments\", axis=1, inplace=True)\n",
    "\n",
    "df.drop(\"Individual ID\", axis=1, inplace=True)\n",
    "df.drop(\"Sample Number\", axis=1, inplace=True)"
   ]
  },
  {
   "cell_type": "markdown",
   "id": "c85a1042-5998-46dc-9d8c-08007f52350b",
   "metadata": {},
   "source": [
    "## Anàlisi i neteja de dades"
   ]
  },
  {
   "cell_type": "markdown",
   "id": "c594a832-f27e-4ad6-b524-a91cf71e8789",
   "metadata": {},
   "source": [
    "En aquesta secció analitzarem el contingut de les dades del dataset carregat a la secció anterior.\n",
    "El dataset disposa de 14 columnes (17 menys les 3 que hem eliminat), de les quals volem analitzar el seu contingut."
   ]
  },
  {
   "cell_type": "markdown",
   "id": "9ad116fb-329b-4af1-9f08-ce49ebbd48c2",
   "metadata": {},
   "source": [
    "### Valors absents"
   ]
  },
  {
   "cell_type": "markdown",
   "id": "409c7612-a977-4e6d-8389-e932de399e72",
   "metadata": {},
   "source": [
    "Amb la següent comanda consultam totes les files del dataframe amb valors absents:"
   ]
  },
  {
   "cell_type": "code",
   "execution_count": 8,
   "id": "544bfa2d-2ed9-4068-af88-fe6d43fb46ed",
   "metadata": {},
   "outputs": [
    {
     "data": {
      "text/html": [
       "<div>\n",
       "<style scoped>\n",
       "    .dataframe tbody tr th:only-of-type {\n",
       "        vertical-align: middle;\n",
       "    }\n",
       "\n",
       "    .dataframe tbody tr th {\n",
       "        vertical-align: top;\n",
       "    }\n",
       "\n",
       "    .dataframe thead th {\n",
       "        text-align: right;\n",
       "    }\n",
       "</style>\n",
       "<table border=\"1\" class=\"dataframe\">\n",
       "  <thead>\n",
       "    <tr style=\"text-align: right;\">\n",
       "      <th></th>\n",
       "      <th>studyName</th>\n",
       "      <th>Species</th>\n",
       "      <th>Region</th>\n",
       "      <th>Island</th>\n",
       "      <th>Stage</th>\n",
       "      <th>Clutch Completion</th>\n",
       "      <th>Date Egg</th>\n",
       "      <th>Culmen Length (mm)</th>\n",
       "      <th>Culmen Depth (mm)</th>\n",
       "      <th>Flipper Length (mm)</th>\n",
       "      <th>Body Mass (g)</th>\n",
       "      <th>Sex</th>\n",
       "      <th>Delta 15 N (o/oo)</th>\n",
       "      <th>Delta 13 C (o/oo)</th>\n",
       "    </tr>\n",
       "  </thead>\n",
       "  <tbody>\n",
       "    <tr>\n",
       "      <th>0</th>\n",
       "      <td>PAL0708</td>\n",
       "      <td>Adelie Penguin (Pygoscelis adeliae)</td>\n",
       "      <td>Anvers</td>\n",
       "      <td>Torgersen</td>\n",
       "      <td>Adult, 1 Egg Stage</td>\n",
       "      <td>Yes</td>\n",
       "      <td>11/11/07</td>\n",
       "      <td>39.1</td>\n",
       "      <td>18.7</td>\n",
       "      <td>181.0</td>\n",
       "      <td>3750.0</td>\n",
       "      <td>MALE</td>\n",
       "      <td>NaN</td>\n",
       "      <td>NaN</td>\n",
       "    </tr>\n",
       "    <tr>\n",
       "      <th>3</th>\n",
       "      <td>PAL0708</td>\n",
       "      <td>Adelie Penguin (Pygoscelis adeliae)</td>\n",
       "      <td>Anvers</td>\n",
       "      <td>Torgersen</td>\n",
       "      <td>Adult, 1 Egg Stage</td>\n",
       "      <td>Yes</td>\n",
       "      <td>11/16/07</td>\n",
       "      <td>NaN</td>\n",
       "      <td>NaN</td>\n",
       "      <td>NaN</td>\n",
       "      <td>NaN</td>\n",
       "      <td>NaN</td>\n",
       "      <td>NaN</td>\n",
       "      <td>NaN</td>\n",
       "    </tr>\n",
       "    <tr>\n",
       "      <th>8</th>\n",
       "      <td>PAL0708</td>\n",
       "      <td>Adelie Penguin (Pygoscelis adeliae)</td>\n",
       "      <td>Anvers</td>\n",
       "      <td>Torgersen</td>\n",
       "      <td>Adult, 1 Egg Stage</td>\n",
       "      <td>Yes</td>\n",
       "      <td>11/9/07</td>\n",
       "      <td>34.1</td>\n",
       "      <td>18.1</td>\n",
       "      <td>193.0</td>\n",
       "      <td>3475.0</td>\n",
       "      <td>NaN</td>\n",
       "      <td>NaN</td>\n",
       "      <td>NaN</td>\n",
       "    </tr>\n",
       "    <tr>\n",
       "      <th>9</th>\n",
       "      <td>PAL0708</td>\n",
       "      <td>Adelie Penguin (Pygoscelis adeliae)</td>\n",
       "      <td>Anvers</td>\n",
       "      <td>Torgersen</td>\n",
       "      <td>Adult, 1 Egg Stage</td>\n",
       "      <td>Yes</td>\n",
       "      <td>11/9/07</td>\n",
       "      <td>42.0</td>\n",
       "      <td>20.2</td>\n",
       "      <td>190.0</td>\n",
       "      <td>4250.0</td>\n",
       "      <td>NaN</td>\n",
       "      <td>9.13362</td>\n",
       "      <td>-25.09368</td>\n",
       "    </tr>\n",
       "    <tr>\n",
       "      <th>10</th>\n",
       "      <td>PAL0708</td>\n",
       "      <td>Adelie Penguin (Pygoscelis adeliae)</td>\n",
       "      <td>Anvers</td>\n",
       "      <td>Torgersen</td>\n",
       "      <td>Adult, 1 Egg Stage</td>\n",
       "      <td>Yes</td>\n",
       "      <td>11/9/07</td>\n",
       "      <td>37.8</td>\n",
       "      <td>17.1</td>\n",
       "      <td>186.0</td>\n",
       "      <td>3300.0</td>\n",
       "      <td>NaN</td>\n",
       "      <td>8.63243</td>\n",
       "      <td>-25.21315</td>\n",
       "    </tr>\n",
       "    <tr>\n",
       "      <th>11</th>\n",
       "      <td>PAL0708</td>\n",
       "      <td>Adelie Penguin (Pygoscelis adeliae)</td>\n",
       "      <td>Anvers</td>\n",
       "      <td>Torgersen</td>\n",
       "      <td>Adult, 1 Egg Stage</td>\n",
       "      <td>Yes</td>\n",
       "      <td>11/9/07</td>\n",
       "      <td>37.8</td>\n",
       "      <td>17.3</td>\n",
       "      <td>180.0</td>\n",
       "      <td>3700.0</td>\n",
       "      <td>NaN</td>\n",
       "      <td>NaN</td>\n",
       "      <td>NaN</td>\n",
       "    </tr>\n",
       "    <tr>\n",
       "      <th>12</th>\n",
       "      <td>PAL0708</td>\n",
       "      <td>Adelie Penguin (Pygoscelis adeliae)</td>\n",
       "      <td>Anvers</td>\n",
       "      <td>Torgersen</td>\n",
       "      <td>Adult, 1 Egg Stage</td>\n",
       "      <td>Yes</td>\n",
       "      <td>11/15/07</td>\n",
       "      <td>41.1</td>\n",
       "      <td>17.6</td>\n",
       "      <td>182.0</td>\n",
       "      <td>3200.0</td>\n",
       "      <td>FEMALE</td>\n",
       "      <td>NaN</td>\n",
       "      <td>NaN</td>\n",
       "    </tr>\n",
       "    <tr>\n",
       "      <th>13</th>\n",
       "      <td>PAL0708</td>\n",
       "      <td>Adelie Penguin (Pygoscelis adeliae)</td>\n",
       "      <td>Anvers</td>\n",
       "      <td>Torgersen</td>\n",
       "      <td>Adult, 1 Egg Stage</td>\n",
       "      <td>Yes</td>\n",
       "      <td>11/15/07</td>\n",
       "      <td>38.6</td>\n",
       "      <td>21.2</td>\n",
       "      <td>191.0</td>\n",
       "      <td>3800.0</td>\n",
       "      <td>MALE</td>\n",
       "      <td>NaN</td>\n",
       "      <td>NaN</td>\n",
       "    </tr>\n",
       "    <tr>\n",
       "      <th>15</th>\n",
       "      <td>PAL0708</td>\n",
       "      <td>Adelie Penguin (Pygoscelis adeliae)</td>\n",
       "      <td>Anvers</td>\n",
       "      <td>Torgersen</td>\n",
       "      <td>Adult, 1 Egg Stage</td>\n",
       "      <td>Yes</td>\n",
       "      <td>11/16/07</td>\n",
       "      <td>36.6</td>\n",
       "      <td>17.8</td>\n",
       "      <td>185.0</td>\n",
       "      <td>3700.0</td>\n",
       "      <td>FEMALE</td>\n",
       "      <td>NaN</td>\n",
       "      <td>NaN</td>\n",
       "    </tr>\n",
       "    <tr>\n",
       "      <th>39</th>\n",
       "      <td>PAL0708</td>\n",
       "      <td>Adelie Penguin (Pygoscelis adeliae)</td>\n",
       "      <td>Anvers</td>\n",
       "      <td>Dream</td>\n",
       "      <td>Adult, 1 Egg Stage</td>\n",
       "      <td>No</td>\n",
       "      <td>11/13/07</td>\n",
       "      <td>39.8</td>\n",
       "      <td>19.1</td>\n",
       "      <td>184.0</td>\n",
       "      <td>4650.0</td>\n",
       "      <td>MALE</td>\n",
       "      <td>NaN</td>\n",
       "      <td>NaN</td>\n",
       "    </tr>\n",
       "    <tr>\n",
       "      <th>41</th>\n",
       "      <td>PAL0708</td>\n",
       "      <td>Adelie Penguin (Pygoscelis adeliae)</td>\n",
       "      <td>Anvers</td>\n",
       "      <td>Dream</td>\n",
       "      <td>Adult, 1 Egg Stage</td>\n",
       "      <td>Yes</td>\n",
       "      <td>11/16/07</td>\n",
       "      <td>40.8</td>\n",
       "      <td>18.4</td>\n",
       "      <td>195.0</td>\n",
       "      <td>3900.0</td>\n",
       "      <td>MALE</td>\n",
       "      <td>NaN</td>\n",
       "      <td>NaN</td>\n",
       "    </tr>\n",
       "    <tr>\n",
       "      <th>46</th>\n",
       "      <td>PAL0708</td>\n",
       "      <td>Adelie Penguin (Pygoscelis adeliae)</td>\n",
       "      <td>Anvers</td>\n",
       "      <td>Dream</td>\n",
       "      <td>Adult, 1 Egg Stage</td>\n",
       "      <td>Yes</td>\n",
       "      <td>11/13/07</td>\n",
       "      <td>41.1</td>\n",
       "      <td>19.0</td>\n",
       "      <td>182.0</td>\n",
       "      <td>3425.0</td>\n",
       "      <td>MALE</td>\n",
       "      <td>NaN</td>\n",
       "      <td>NaN</td>\n",
       "    </tr>\n",
       "    <tr>\n",
       "      <th>47</th>\n",
       "      <td>PAL0708</td>\n",
       "      <td>Adelie Penguin (Pygoscelis adeliae)</td>\n",
       "      <td>Anvers</td>\n",
       "      <td>Dream</td>\n",
       "      <td>Adult, 1 Egg Stage</td>\n",
       "      <td>Yes</td>\n",
       "      <td>11/13/07</td>\n",
       "      <td>37.5</td>\n",
       "      <td>18.9</td>\n",
       "      <td>179.0</td>\n",
       "      <td>2975.0</td>\n",
       "      <td>NaN</td>\n",
       "      <td>NaN</td>\n",
       "      <td>NaN</td>\n",
       "    </tr>\n",
       "    <tr>\n",
       "      <th>212</th>\n",
       "      <td>PAL0910</td>\n",
       "      <td>Chinstrap penguin (Pygoscelis antarctica)</td>\n",
       "      <td>Anvers</td>\n",
       "      <td>Dream</td>\n",
       "      <td>Adult, 1 Egg Stage</td>\n",
       "      <td>Yes</td>\n",
       "      <td>11/27/09</td>\n",
       "      <td>51.9</td>\n",
       "      <td>19.5</td>\n",
       "      <td>206.0</td>\n",
       "      <td>3950.0</td>\n",
       "      <td>MALE</td>\n",
       "      <td>NaN</td>\n",
       "      <td>-23.78767</td>\n",
       "    </tr>\n",
       "    <tr>\n",
       "      <th>246</th>\n",
       "      <td>PAL0708</td>\n",
       "      <td>Gentoo penguin (Pygoscelis papua)</td>\n",
       "      <td>Anvers</td>\n",
       "      <td>Biscoe</td>\n",
       "      <td>Adult, 1 Egg Stage</td>\n",
       "      <td>Yes</td>\n",
       "      <td>11/29/07</td>\n",
       "      <td>44.5</td>\n",
       "      <td>14.3</td>\n",
       "      <td>216.0</td>\n",
       "      <td>4100.0</td>\n",
       "      <td>NaN</td>\n",
       "      <td>7.96621</td>\n",
       "      <td>-25.69327</td>\n",
       "    </tr>\n",
       "    <tr>\n",
       "      <th>250</th>\n",
       "      <td>PAL0708</td>\n",
       "      <td>Gentoo penguin (Pygoscelis papua)</td>\n",
       "      <td>Anvers</td>\n",
       "      <td>Biscoe</td>\n",
       "      <td>Adult, 1 Egg Stage</td>\n",
       "      <td>Yes</td>\n",
       "      <td>11/29/07</td>\n",
       "      <td>47.3</td>\n",
       "      <td>15.3</td>\n",
       "      <td>222.0</td>\n",
       "      <td>5250.0</td>\n",
       "      <td>MALE</td>\n",
       "      <td>NaN</td>\n",
       "      <td>NaN</td>\n",
       "    </tr>\n",
       "    <tr>\n",
       "      <th>286</th>\n",
       "      <td>PAL0809</td>\n",
       "      <td>Gentoo penguin (Pygoscelis papua)</td>\n",
       "      <td>Anvers</td>\n",
       "      <td>Biscoe</td>\n",
       "      <td>Adult, 1 Egg Stage</td>\n",
       "      <td>Yes</td>\n",
       "      <td>11/9/08</td>\n",
       "      <td>46.2</td>\n",
       "      <td>14.4</td>\n",
       "      <td>214.0</td>\n",
       "      <td>4650.0</td>\n",
       "      <td>NaN</td>\n",
       "      <td>8.24253</td>\n",
       "      <td>-26.81540</td>\n",
       "    </tr>\n",
       "    <tr>\n",
       "      <th>324</th>\n",
       "      <td>PAL0910</td>\n",
       "      <td>Gentoo penguin (Pygoscelis papua)</td>\n",
       "      <td>Anvers</td>\n",
       "      <td>Biscoe</td>\n",
       "      <td>Adult, 1 Egg Stage</td>\n",
       "      <td>Yes</td>\n",
       "      <td>12/1/09</td>\n",
       "      <td>47.3</td>\n",
       "      <td>13.8</td>\n",
       "      <td>216.0</td>\n",
       "      <td>4725.0</td>\n",
       "      <td>NaN</td>\n",
       "      <td>8.25818</td>\n",
       "      <td>-26.23886</td>\n",
       "    </tr>\n",
       "    <tr>\n",
       "      <th>339</th>\n",
       "      <td>PAL0910</td>\n",
       "      <td>Gentoo penguin (Pygoscelis papua)</td>\n",
       "      <td>Anvers</td>\n",
       "      <td>Biscoe</td>\n",
       "      <td>Adult, 1 Egg Stage</td>\n",
       "      <td>No</td>\n",
       "      <td>12/1/09</td>\n",
       "      <td>NaN</td>\n",
       "      <td>NaN</td>\n",
       "      <td>NaN</td>\n",
       "      <td>NaN</td>\n",
       "      <td>NaN</td>\n",
       "      <td>NaN</td>\n",
       "      <td>NaN</td>\n",
       "    </tr>\n",
       "  </tbody>\n",
       "</table>\n",
       "</div>"
      ],
      "text/plain": [
       "    studyName                                    Species  Region     Island  \\\n",
       "0     PAL0708        Adelie Penguin (Pygoscelis adeliae)  Anvers  Torgersen   \n",
       "3     PAL0708        Adelie Penguin (Pygoscelis adeliae)  Anvers  Torgersen   \n",
       "8     PAL0708        Adelie Penguin (Pygoscelis adeliae)  Anvers  Torgersen   \n",
       "9     PAL0708        Adelie Penguin (Pygoscelis adeliae)  Anvers  Torgersen   \n",
       "10    PAL0708        Adelie Penguin (Pygoscelis adeliae)  Anvers  Torgersen   \n",
       "11    PAL0708        Adelie Penguin (Pygoscelis adeliae)  Anvers  Torgersen   \n",
       "12    PAL0708        Adelie Penguin (Pygoscelis adeliae)  Anvers  Torgersen   \n",
       "13    PAL0708        Adelie Penguin (Pygoscelis adeliae)  Anvers  Torgersen   \n",
       "15    PAL0708        Adelie Penguin (Pygoscelis adeliae)  Anvers  Torgersen   \n",
       "39    PAL0708        Adelie Penguin (Pygoscelis adeliae)  Anvers      Dream   \n",
       "41    PAL0708        Adelie Penguin (Pygoscelis adeliae)  Anvers      Dream   \n",
       "46    PAL0708        Adelie Penguin (Pygoscelis adeliae)  Anvers      Dream   \n",
       "47    PAL0708        Adelie Penguin (Pygoscelis adeliae)  Anvers      Dream   \n",
       "212   PAL0910  Chinstrap penguin (Pygoscelis antarctica)  Anvers      Dream   \n",
       "246   PAL0708          Gentoo penguin (Pygoscelis papua)  Anvers     Biscoe   \n",
       "250   PAL0708          Gentoo penguin (Pygoscelis papua)  Anvers     Biscoe   \n",
       "286   PAL0809          Gentoo penguin (Pygoscelis papua)  Anvers     Biscoe   \n",
       "324   PAL0910          Gentoo penguin (Pygoscelis papua)  Anvers     Biscoe   \n",
       "339   PAL0910          Gentoo penguin (Pygoscelis papua)  Anvers     Biscoe   \n",
       "\n",
       "                  Stage Clutch Completion  Date Egg  Culmen Length (mm)  \\\n",
       "0    Adult, 1 Egg Stage               Yes  11/11/07                39.1   \n",
       "3    Adult, 1 Egg Stage               Yes  11/16/07                 NaN   \n",
       "8    Adult, 1 Egg Stage               Yes   11/9/07                34.1   \n",
       "9    Adult, 1 Egg Stage               Yes   11/9/07                42.0   \n",
       "10   Adult, 1 Egg Stage               Yes   11/9/07                37.8   \n",
       "11   Adult, 1 Egg Stage               Yes   11/9/07                37.8   \n",
       "12   Adult, 1 Egg Stage               Yes  11/15/07                41.1   \n",
       "13   Adult, 1 Egg Stage               Yes  11/15/07                38.6   \n",
       "15   Adult, 1 Egg Stage               Yes  11/16/07                36.6   \n",
       "39   Adult, 1 Egg Stage                No  11/13/07                39.8   \n",
       "41   Adult, 1 Egg Stage               Yes  11/16/07                40.8   \n",
       "46   Adult, 1 Egg Stage               Yes  11/13/07                41.1   \n",
       "47   Adult, 1 Egg Stage               Yes  11/13/07                37.5   \n",
       "212  Adult, 1 Egg Stage               Yes  11/27/09                51.9   \n",
       "246  Adult, 1 Egg Stage               Yes  11/29/07                44.5   \n",
       "250  Adult, 1 Egg Stage               Yes  11/29/07                47.3   \n",
       "286  Adult, 1 Egg Stage               Yes   11/9/08                46.2   \n",
       "324  Adult, 1 Egg Stage               Yes   12/1/09                47.3   \n",
       "339  Adult, 1 Egg Stage                No   12/1/09                 NaN   \n",
       "\n",
       "     Culmen Depth (mm)  Flipper Length (mm)  Body Mass (g)     Sex  \\\n",
       "0                 18.7                181.0         3750.0    MALE   \n",
       "3                  NaN                  NaN            NaN     NaN   \n",
       "8                 18.1                193.0         3475.0     NaN   \n",
       "9                 20.2                190.0         4250.0     NaN   \n",
       "10                17.1                186.0         3300.0     NaN   \n",
       "11                17.3                180.0         3700.0     NaN   \n",
       "12                17.6                182.0         3200.0  FEMALE   \n",
       "13                21.2                191.0         3800.0    MALE   \n",
       "15                17.8                185.0         3700.0  FEMALE   \n",
       "39                19.1                184.0         4650.0    MALE   \n",
       "41                18.4                195.0         3900.0    MALE   \n",
       "46                19.0                182.0         3425.0    MALE   \n",
       "47                18.9                179.0         2975.0     NaN   \n",
       "212               19.5                206.0         3950.0    MALE   \n",
       "246               14.3                216.0         4100.0     NaN   \n",
       "250               15.3                222.0         5250.0    MALE   \n",
       "286               14.4                214.0         4650.0     NaN   \n",
       "324               13.8                216.0         4725.0     NaN   \n",
       "339                NaN                  NaN            NaN     NaN   \n",
       "\n",
       "     Delta 15 N (o/oo)  Delta 13 C (o/oo)  \n",
       "0                  NaN                NaN  \n",
       "3                  NaN                NaN  \n",
       "8                  NaN                NaN  \n",
       "9              9.13362          -25.09368  \n",
       "10             8.63243          -25.21315  \n",
       "11                 NaN                NaN  \n",
       "12                 NaN                NaN  \n",
       "13                 NaN                NaN  \n",
       "15                 NaN                NaN  \n",
       "39                 NaN                NaN  \n",
       "41                 NaN                NaN  \n",
       "46                 NaN                NaN  \n",
       "47                 NaN                NaN  \n",
       "212                NaN          -23.78767  \n",
       "246            7.96621          -25.69327  \n",
       "250                NaN                NaN  \n",
       "286            8.24253          -26.81540  \n",
       "324            8.25818          -26.23886  \n",
       "339                NaN                NaN  "
      ]
     },
     "execution_count": 8,
     "metadata": {},
     "output_type": "execute_result"
    }
   ],
   "source": [
    "df[df.isna().any(axis=1)]"
   ]
  },
  {
   "cell_type": "code",
   "execution_count": 9,
   "id": "d95468f5-f0d8-4c1f-a691-1182511bc70c",
   "metadata": {},
   "outputs": [
    {
     "data": {
      "text/plain": [
       "19"
      ]
     },
     "execution_count": 9,
     "metadata": {},
     "output_type": "execute_result"
    }
   ],
   "source": [
    "df[df.isna().any(axis=1)].shape[0]"
   ]
  },
  {
   "cell_type": "markdown",
   "id": "a0096f24-4c89-4aa5-af5b-585bd16940c5",
   "metadata": {},
   "source": [
    "La solució més facil per a afrontar el problema dels valors absents és eliminar totes les files amb algun valor absent, i així ho feim a continuació:"
   ]
  },
  {
   "cell_type": "code",
   "execution_count": 10,
   "id": "f22a10f5-fea2-4763-a214-5a46c08f1276",
   "metadata": {},
   "outputs": [],
   "source": [
    "df.dropna(inplace=True)"
   ]
  },
  {
   "cell_type": "markdown",
   "id": "7a917f55-3da6-4f1b-ae98-8acdac18a390",
   "metadata": {},
   "source": [
    "### Visualització de les dades"
   ]
  },
  {
   "cell_type": "markdown",
   "id": "22ddff4e-b9f7-4275-8274-8b30703f939f",
   "metadata": {},
   "source": [
    "En aquesta secció visualitzarem com es distribueixen els valors de les dades a l'espai i com es separen en funció de les distintes classes.\n",
    "\n",
    "Amb aquest fi, a continuació dibuixam el valor que prenen les diverses característiques numèriques del dataset en forma d'histogrames:"
   ]
  },
  {
   "cell_type": "code",
   "execution_count": 11,
   "id": "79e4fb07-4f92-4917-a3d6-604396a20c66",
   "metadata": {},
   "outputs": [
    {
     "data": {
      "image/png": "[encoded data removed]",
      "text/plain": [
       "<Figure size 720x720 with 6 Axes>"
      ]
     },
     "metadata": {
      "needs_background": "light"
     },
     "output_type": "display_data"
    }
   ],
   "source": [
    "df.hist(figsize=(10, 10));"
   ]
  },
  {
   "cell_type": "markdown",
   "id": "2d245c6d-8679-4eca-ab27-e6b7a1aa1ab4",
   "metadata": {},
   "source": [
    "També podem realitzar histogrames de les variables categòriques:"
   ]
  },
  {
   "cell_type": "code",
   "execution_count": 12,
   "id": "fb64b663-aff9-4806-80ab-bb1c0678f422",
   "metadata": {},
   "outputs": [
    {
     "data": {
      "image/png": "[encoded data removed]",
      "text/plain": [
       "<Figure size 432x288 with 1 Axes>"
      ]
     },
     "metadata": {
      "needs_background": "light"
     },
     "output_type": "display_data"
    }
   ],
   "source": [
    "plt.hist(df['Species']);\n",
    "plt.xticks(rotation='vertical');"
   ]
  },
  {
   "cell_type": "markdown",
   "id": "0ca64f84-ada9-4ed2-8490-6336aa1b0714",
   "metadata": {},
   "source": [
    "Finalment, un altre tipus de gràfics molt interessants son els \"scatter plots\". Aquests gràfics ens serveixen per a dibuixar la relació entre dues variables, dibuixant una variable a l'eix $x$ i l'altre a l'eix $y$."
   ]
  },
  {
   "cell_type": "code",
   "execution_count": 13,
   "id": "daf7013e-920b-49d2-a30d-3c757cc6b699",
   "metadata": {},
   "outputs": [
    {
     "data": {
      "image/png": "[encoded data removed]",
      "text/plain": [
       "<Figure size 432x288 with 1 Axes>"
      ]
     },
     "metadata": {
      "needs_background": "light"
     },
     "output_type": "display_data"
    }
   ],
   "source": [
    "plt.scatter(df[\"Culmen Length (mm)\"], df[\"Sex\"]);"
   ]
  },
  {
   "cell_type": "markdown",
   "id": "b27c2022-f14b-4a04-8fc0-593a62a90fc3",
   "metadata": {},
   "source": [
    "Al següent gràfic dibuixam les dues variables que fan referència a la mida del Culmen dels pingüins marcant cada mostra en funció del sexe del pingüí. Aquest gràfic és molt útil per a saber com de bé separen aquestes dues variables els exemples del dataset en funció del sexe."
   ]
  },
  {
   "cell_type": "code",
   "execution_count": 14,
   "id": "52cf6fb1-6787-4c3c-9d6b-2fa4af8d3a00",
   "metadata": {},
   "outputs": [
    {
     "data": {
      "image/png": "[encoded data removed]",
      "text/plain": [
       "<Figure size 1008x576 with 1 Axes>"
      ]
     },
     "metadata": {
      "needs_background": "light"
     },
     "output_type": "display_data"
    }
   ],
   "source": [
    "plt.figure(figsize=(14,8))\n",
    "\n",
    "plt.scatter(df.loc[df[\"Sex\"] == \"MALE\", \"Culmen Length (mm)\"], df.loc[df[\"Sex\"] == \"MALE\", \"Culmen Depth (mm)\"]);\n",
    "plt.scatter(df.loc[df[\"Sex\"] == \"FEMALE\", \"Culmen Length (mm)\"], df.loc[df[\"Sex\"] == \"FEMALE\", \"Culmen Depth (mm)\"]);\n",
    "\n",
    "plt.xlabel(\"Culmen Length (mm)\");\n",
    "plt.ylabel(\"Culmen Depth (mm)\");"
   ]
  },
  {
   "cell_type": "markdown",
   "id": "453f6481-1a69-48f0-953f-354ebcdd5449",
   "metadata": {},
   "source": [
    "Al següent exemple dibuixam el mateix gràfic, però en aquest cas en lloc de marcar els exemples en funció del sexe els marcam segons la raça del pingüí. Podem veure com segons la raça les tres classes estan quasi perfectament separades just amb la mida del Culmen."
   ]
  },
  {
   "cell_type": "code",
   "execution_count": 15,
   "id": "9eb62abd-704f-45b7-9ada-0670828d3f7c",
   "metadata": {},
   "outputs": [
    {
     "data": {
      "image/png": "[encoded data removed]",
      "text/plain": [
       "<Figure size 1008x576 with 1 Axes>"
      ]
     },
     "metadata": {
      "needs_background": "light"
     },
     "output_type": "display_data"
    }
   ],
   "source": [
    "plt.figure(figsize=(14,8))\n",
    "\n",
    "adelie_name = \"Adelie Penguin (Pygoscelis adeliae)\"\n",
    "plt.scatter(df.loc[df[\"Species\"] == adelie_name, \"Culmen Length (mm)\"], \n",
    "            df.loc[df[\"Species\"] == adelie_name, \"Culmen Depth (mm)\"],\n",
    "            label=adelie_name);\n",
    "\n",
    "chinstrap_name = \"Chinstrap penguin (Pygoscelis antarctica)\"\n",
    "plt.scatter(df.loc[df[\"Species\"] == chinstrap_name, \"Culmen Length (mm)\"], \n",
    "            df.loc[df[\"Species\"] == chinstrap_name, \"Culmen Depth (mm)\"],\n",
    "            label=chinstrap_name);\n",
    "\n",
    "gentoo_name = \"Gentoo penguin (Pygoscelis papua)\"\n",
    "plt.scatter(df.loc[df[\"Species\"] == gentoo_name, \"Culmen Length (mm)\"], \n",
    "            df.loc[df[\"Species\"] == gentoo_name, \"Culmen Depth (mm)\"],\n",
    "            label=gentoo_name);\n",
    "\n",
    "plt.legend()\n",
    "plt.xlabel(\"Culmen Length (mm)\");\n",
    "plt.ylabel(\"Culmen Depth (mm)\");"
   ]
  },
  {
   "cell_type": "markdown",
   "id": "04de6e45-9c78-4562-a1c8-71c880a7e988",
   "metadata": {},
   "source": [
    "Com que la separació de les dades en funció de la raça del pingüí és un problema molt fàcil intentarem crear un classificador que identifiqui el sexe dels pingüins."
   ]
  },
  {
   "cell_type": "markdown",
   "id": "e396c613-1e15-4f65-92d0-56132fb54c34",
   "metadata": {
    "tags": []
   },
   "source": [
    "### Codificació etiquetes"
   ]
  },
  {
   "cell_type": "markdown",
   "id": "1a6fad81-f221-4e19-b28e-8a336a33faac",
   "metadata": {},
   "source": [
    "Amb el següent codi convertim tots els valors categòrics del dataset en valors numèrics."
   ]
  },
  {
   "cell_type": "code",
   "execution_count": 16,
   "id": "df060d08-1dce-40a1-97ca-c9bd97b75f6e",
   "metadata": {},
   "outputs": [],
   "source": [
    "from sklearn.preprocessing import LabelEncoder \n",
    "labelencoder= LabelEncoder()\n",
    "df['studyName'] = labelencoder.fit_transform(df['studyName'])\n",
    "df['Species'] = labelencoder.fit_transform(df['Species'])\n",
    "df['Region'] = labelencoder.fit_transform(df['Region'])\n",
    "df['Island'] = labelencoder.fit_transform(df['Island'])\n",
    "df['Stage'] = labelencoder.fit_transform(df['Stage'])\n",
    "df['Clutch Completion'] = labelencoder.fit_transform(df['Clutch Completion'])\n",
    "df['Date Egg'] = labelencoder.fit_transform(df['Date Egg'])\n",
    "df['Sex'] = labelencoder.fit_transform(df['Sex'])"
   ]
  },
  {
   "cell_type": "code",
   "execution_count": 17,
   "id": "b690533b-5050-4643-91e6-657b031bca50",
   "metadata": {},
   "outputs": [
    {
     "name": "stdout",
     "output_type": "stream",
     "text": [
      "<class 'pandas.core.frame.DataFrame'>\n",
      "Int64Index: 325 entries, 1 to 343\n",
      "Data columns (total 14 columns):\n",
      " #   Column               Non-Null Count  Dtype  \n",
      "---  ------               --------------  -----  \n",
      " 0   studyName            325 non-null    int32  \n",
      " 1   Species              325 non-null    int32  \n",
      " 2   Region               325 non-null    int32  \n",
      " 3   Island               325 non-null    int32  \n",
      " 4   Stage                325 non-null    int32  \n",
      " 5   Clutch Completion    325 non-null    int32  \n",
      " 6   Date Egg             325 non-null    int32  \n",
      " 7   Culmen Length (mm)   325 non-null    float64\n",
      " 8   Culmen Depth (mm)    325 non-null    float64\n",
      " 9   Flipper Length (mm)  325 non-null    float64\n",
      " 10  Body Mass (g)        325 non-null    float64\n",
      " 11  Sex                  325 non-null    int32  \n",
      " 12  Delta 15 N (o/oo)    325 non-null    float64\n",
      " 13  Delta 13 C (o/oo)    325 non-null    float64\n",
      "dtypes: float64(6), int32(8)\n",
      "memory usage: 27.9 KB\n"
     ]
    }
   ],
   "source": [
    "df.info()"
   ]
  },
  {
   "cell_type": "code",
   "execution_count": 18,
   "id": "c5f72c3e-c429-4a35-a23c-745246597ed1",
   "metadata": {},
   "outputs": [
    {
     "data": {
      "text/html": [
       "<div>\n",
       "<style scoped>\n",
       "    .dataframe tbody tr th:only-of-type {\n",
       "        vertical-align: middle;\n",
       "    }\n",
       "\n",
       "    .dataframe tbody tr th {\n",
       "        vertical-align: top;\n",
       "    }\n",
       "\n",
       "    .dataframe thead th {\n",
       "        text-align: right;\n",
       "    }\n",
       "</style>\n",
       "<table border=\"1\" class=\"dataframe\">\n",
       "  <thead>\n",
       "    <tr style=\"text-align: right;\">\n",
       "      <th></th>\n",
       "      <th>studyName</th>\n",
       "      <th>Species</th>\n",
       "      <th>Region</th>\n",
       "      <th>Island</th>\n",
       "      <th>Stage</th>\n",
       "      <th>Clutch Completion</th>\n",
       "      <th>Date Egg</th>\n",
       "      <th>Culmen Length (mm)</th>\n",
       "      <th>Culmen Depth (mm)</th>\n",
       "      <th>Flipper Length (mm)</th>\n",
       "      <th>Body Mass (g)</th>\n",
       "      <th>Sex</th>\n",
       "      <th>Delta 15 N (o/oo)</th>\n",
       "      <th>Delta 13 C (o/oo)</th>\n",
       "    </tr>\n",
       "  </thead>\n",
       "  <tbody>\n",
       "    <tr>\n",
       "      <th>1</th>\n",
       "      <td>0</td>\n",
       "      <td>0</td>\n",
       "      <td>0</td>\n",
       "      <td>2</td>\n",
       "      <td>0</td>\n",
       "      <td>1</td>\n",
       "      <td>3</td>\n",
       "      <td>39.5</td>\n",
       "      <td>17.4</td>\n",
       "      <td>186.0</td>\n",
       "      <td>3800.0</td>\n",
       "      <td>1</td>\n",
       "      <td>8.94956</td>\n",
       "      <td>-24.69454</td>\n",
       "    </tr>\n",
       "    <tr>\n",
       "      <th>2</th>\n",
       "      <td>0</td>\n",
       "      <td>0</td>\n",
       "      <td>0</td>\n",
       "      <td>2</td>\n",
       "      <td>0</td>\n",
       "      <td>1</td>\n",
       "      <td>15</td>\n",
       "      <td>40.3</td>\n",
       "      <td>18.0</td>\n",
       "      <td>195.0</td>\n",
       "      <td>3250.0</td>\n",
       "      <td>1</td>\n",
       "      <td>8.36821</td>\n",
       "      <td>-25.33302</td>\n",
       "    </tr>\n",
       "    <tr>\n",
       "      <th>4</th>\n",
       "      <td>0</td>\n",
       "      <td>0</td>\n",
       "      <td>0</td>\n",
       "      <td>2</td>\n",
       "      <td>0</td>\n",
       "      <td>1</td>\n",
       "      <td>15</td>\n",
       "      <td>36.7</td>\n",
       "      <td>19.3</td>\n",
       "      <td>193.0</td>\n",
       "      <td>3450.0</td>\n",
       "      <td>1</td>\n",
       "      <td>8.76651</td>\n",
       "      <td>-25.32426</td>\n",
       "    </tr>\n",
       "    <tr>\n",
       "      <th>5</th>\n",
       "      <td>0</td>\n",
       "      <td>0</td>\n",
       "      <td>0</td>\n",
       "      <td>2</td>\n",
       "      <td>0</td>\n",
       "      <td>1</td>\n",
       "      <td>15</td>\n",
       "      <td>39.3</td>\n",
       "      <td>20.6</td>\n",
       "      <td>190.0</td>\n",
       "      <td>3650.0</td>\n",
       "      <td>2</td>\n",
       "      <td>8.66496</td>\n",
       "      <td>-25.29805</td>\n",
       "    </tr>\n",
       "    <tr>\n",
       "      <th>6</th>\n",
       "      <td>0</td>\n",
       "      <td>0</td>\n",
       "      <td>0</td>\n",
       "      <td>2</td>\n",
       "      <td>0</td>\n",
       "      <td>0</td>\n",
       "      <td>12</td>\n",
       "      <td>38.9</td>\n",
       "      <td>17.8</td>\n",
       "      <td>181.0</td>\n",
       "      <td>3625.0</td>\n",
       "      <td>1</td>\n",
       "      <td>9.18718</td>\n",
       "      <td>-25.21799</td>\n",
       "    </tr>\n",
       "  </tbody>\n",
       "</table>\n",
       "</div>"
      ],
      "text/plain": [
       "   studyName  Species  Region  Island  Stage  Clutch Completion  Date Egg  \\\n",
       "1          0        0       0       2      0                  1         3   \n",
       "2          0        0       0       2      0                  1        15   \n",
       "4          0        0       0       2      0                  1        15   \n",
       "5          0        0       0       2      0                  1        15   \n",
       "6          0        0       0       2      0                  0        12   \n",
       "\n",
       "   Culmen Length (mm)  Culmen Depth (mm)  Flipper Length (mm)  Body Mass (g)  \\\n",
       "1                39.5               17.4                186.0         3800.0   \n",
       "2                40.3               18.0                195.0         3250.0   \n",
       "4                36.7               19.3                193.0         3450.0   \n",
       "5                39.3               20.6                190.0         3650.0   \n",
       "6                38.9               17.8                181.0         3625.0   \n",
       "\n",
       "   Sex  Delta 15 N (o/oo)  Delta 13 C (o/oo)  \n",
       "1    1            8.94956          -24.69454  \n",
       "2    1            8.36821          -25.33302  \n",
       "4    1            8.76651          -25.32426  \n",
       "5    2            8.66496          -25.29805  \n",
       "6    1            9.18718          -25.21799  "
      ]
     },
     "execution_count": 18,
     "metadata": {},
     "output_type": "execute_result"
    }
   ],
   "source": [
    "df.head()"
   ]
  },
  {
   "cell_type": "markdown",
   "id": "59837b5e-9ee1-4ece-af19-12b96520b8ab",
   "metadata": {},
   "source": [
    "### Correlacions"
   ]
  },
  {
   "cell_type": "markdown",
   "id": "b362c6d3-7bae-49d9-958a-a1a1ed77b4bf",
   "metadata": {},
   "source": [
    "A continuació mostram com dibuixar la matriu de correlacions de les columnes d'un dataframe facilment. Per a aconseguir gràfics més elegants s'aconsella utilitzar la llibrería [seaborn](https://seaborn.pydata.org/)."
   ]
  },
  {
   "cell_type": "code",
   "execution_count": 19,
   "id": "de0adb93-d374-42ff-ad24-4b3db221b166",
   "metadata": {},
   "outputs": [
    {
     "data": {
      "text/plain": [
       "[Text(0, 0, 'studyName'),\n",
       " Text(0, 1, 'Species'),\n",
       " Text(0, 2, 'Region'),\n",
       " Text(0, 3, 'Island'),\n",
       " Text(0, 4, 'Stage'),\n",
       " Text(0, 5, 'Clutch Completion'),\n",
       " Text(0, 6, 'Date Egg'),\n",
       " Text(0, 7, 'Culmen Length (mm)'),\n",
       " Text(0, 8, 'Culmen Depth (mm)'),\n",
       " Text(0, 9, 'Flipper Length (mm)'),\n",
       " Text(0, 10, 'Body Mass (g)'),\n",
       " Text(0, 11, 'Sex'),\n",
       " Text(0, 12, 'Delta 15 N (o/oo)'),\n",
       " Text(0, 13, 'Delta 13 C (o/oo)')]"
      ]
     },
     "execution_count": 19,
     "metadata": {},
     "output_type": "execute_result"
    },
    {
     "data": {
      "image/png": "[encoded data removed]",
      "text/plain": [
       "<Figure size 1008x576 with 2 Axes>"
      ]
     },
     "metadata": {
      "needs_background": "light"
     },
     "output_type": "display_data"
    }
   ],
   "source": [
    "import numpy as np\n",
    "import matplotlib.pyplot as plt\n",
    "\n",
    "fig = plt.figure(figsize=(14,8))\n",
    "ax = fig.add_subplot(111)\n",
    "cax = ax.matshow(df.corr())\n",
    "fig.colorbar(cax)\n",
    "\n",
    "ax.xaxis.set_ticks(np.arange(len(df.columns)))\n",
    "ax.yaxis.set_ticks(np.arange(len(df.columns)))\n",
    "ax.set_xticklabels([item[:10] for item in df.columns], rotation=45)\n",
    "ax.set_yticklabels(df.columns)"
   ]
  },
  {
   "cell_type": "markdown",
   "id": "10641181-4c4e-4a61-80d9-187cbf7d627d",
   "metadata": {},
   "source": [
    "La informació trivial que podem extreure de la matriu de correlacions anterior és que les columnes \"Region\" i \"Stage\" no aporten cap informació al dataset. Segurament es poden eliminar, per a verificar-ho anem a veure quins valors contenen:"
   ]
  },
  {
   "cell_type": "code",
   "execution_count": 20,
   "id": "f2a330e5-fb34-4f45-8604-5a8affe76068",
   "metadata": {},
   "outputs": [
    {
     "data": {
      "text/plain": [
       "array([0])"
      ]
     },
     "execution_count": 20,
     "metadata": {},
     "output_type": "execute_result"
    }
   ],
   "source": [
    "np.unique(df['Region'])"
   ]
  },
  {
   "cell_type": "code",
   "execution_count": 21,
   "id": "7021e114-357c-4e83-b0e8-2c10c01137ad",
   "metadata": {},
   "outputs": [
    {
     "data": {
      "text/plain": [
       "array([0])"
      ]
     },
     "execution_count": 21,
     "metadata": {},
     "output_type": "execute_result"
    }
   ],
   "source": [
    "np.unique(df['Stage'])"
   ]
  },
  {
   "cell_type": "markdown",
   "id": "9f4450e8-bf4d-4308-ad4a-9eda32ccb580",
   "metadata": {},
   "source": [
    "Com que tots els elements de les dues columnes prenen el valor 0 les podrem eliminar."
   ]
  },
  {
   "cell_type": "markdown",
   "id": "15c690c4-a8c5-427e-ac0e-542d08b8ccbf",
   "metadata": {},
   "source": [
    "## Preparació de les dades"
   ]
  },
  {
   "cell_type": "markdown",
   "id": "39e44ffa-0859-4a30-bd5b-d676c1e67244",
   "metadata": {},
   "source": [
    "### Eliminació features irrellevants"
   ]
  },
  {
   "cell_type": "code",
   "execution_count": 22,
   "id": "37fbcbef-ff05-4280-8db7-9bba9176ce80",
   "metadata": {},
   "outputs": [],
   "source": [
    "df.drop(\"Region\", axis=1, inplace=True)\n",
    "df.drop(\"Stage\", axis=1, inplace=True)"
   ]
  },
  {
   "cell_type": "markdown",
   "id": "2d4b6af8-eaed-42f1-a9c6-ec9eb123e81c",
   "metadata": {},
   "source": [
    "### Separació features i etiquetes"
   ]
  },
  {
   "cell_type": "code",
   "execution_count": 23,
   "id": "3dfdf3ea-4aac-489e-afe9-c89f943e2e27",
   "metadata": {},
   "outputs": [],
   "source": [
    "y = df[\"Sex\"]\n",
    "df.drop(\"Sex\", axis=1, inplace=True)\n",
    "X = df.values "
   ]
  },
  {
   "cell_type": "markdown",
   "id": "29f42c9f-64bc-41fa-95e7-40a598090ff0",
   "metadata": {},
   "source": [
    "### Escalat de les dades"
   ]
  },
  {
   "cell_type": "code",
   "execution_count": 24,
   "id": "1f666750-b802-4b68-8a3c-e20672977aa9",
   "metadata": {},
   "outputs": [],
   "source": [
    "from sklearn import preprocessing\n",
    "\n",
    "min_max_scaler = preprocessing.MinMaxScaler()\n",
    "X = min_max_scaler.fit_transform(X)"
   ]
  },
  {
   "cell_type": "markdown",
   "id": "5e54943b-c23e-4fed-ba15-534061917639",
   "metadata": {},
   "source": [
    "### Separació conjunt d'entrenament i de test"
   ]
  },
  {
   "cell_type": "markdown",
   "id": "74612347-15cf-4ca5-825c-4b7803ff4a39",
   "metadata": {},
   "source": [
    "Una vegada tenim les dades preprocessades, hem de dividir les dades en un conjunt d'entrenament i un de validació. Cada un amb la seva finalitat:\n",
    "* Conjunt d'entrenament: Conjunt de dades utilitzat per a ajustar els paràmetres del model. (Entrenament)\n",
    "* Conjunt de validació: Conjunt de dades utilitzat per a optimitzar/ajustar els hyper-paràmetres del model.\n",
    "\n",
    "Sovint, també es divideix en un conjunt extra:\n",
    "* Conjunt de test: Conjunt per a verificar que els resultats són generalitzables a dades noves.\n",
    "\n",
    "\n",
    "[Explicació wikipedia](https://en.wikipedia.org/wiki/Training,_validation,_and_test_sets)"
   ]
  },
  {
   "cell_type": "code",
   "execution_count": 25,
   "id": "bdfb9f8e-b4eb-4230-8751-cf8f421f7fef",
   "metadata": {},
   "outputs": [],
   "source": [
    "from sklearn.model_selection import train_test_split\n",
    "\n",
    "X_train, X_test, y_train, y_test = train_test_split(\n",
    "    X, y, test_size=0.33, random_state=42)"
   ]
  },
  {
   "cell_type": "code",
   "execution_count": 26,
   "id": "b473a240-b4a4-42eb-8265-6c8b4fc98fbf",
   "metadata": {},
   "outputs": [
    {
     "data": {
      "text/plain": [
       "(217, 11)"
      ]
     },
     "execution_count": 26,
     "metadata": {},
     "output_type": "execute_result"
    }
   ],
   "source": [
    "X_train.shape"
   ]
  },
  {
   "cell_type": "code",
   "execution_count": 27,
   "id": "4e33b084-c9aa-4b1b-992a-8efbf7316455",
   "metadata": {},
   "outputs": [
    {
     "data": {
      "text/plain": [
       "(108, 11)"
      ]
     },
     "execution_count": 27,
     "metadata": {},
     "output_type": "execute_result"
    }
   ],
   "source": [
    "X_test.shape"
   ]
  },
  {
   "cell_type": "markdown",
   "id": "fedba20c-6826-41a8-a28d-00d65e0c8ba5",
   "metadata": {},
   "source": [
    "## Construcció del classificador"
   ]
  },
  {
   "cell_type": "code",
   "execution_count": 28,
   "id": "40eb9c44-0eca-44fe-af18-78b9063a7f02",
   "metadata": {},
   "outputs": [],
   "source": [
    "from sklearn.linear_model import LogisticRegression\n"
   ]
  },
  {
   "cell_type": "code",
   "execution_count": 29,
   "id": "b701ed81-7e47-4719-9840-59a693a5a05d",
   "metadata": {},
   "outputs": [],
   "source": [
    "clf = LogisticRegression(random_state=0).fit(X_train, y_train)"
   ]
  },
  {
   "cell_type": "code",
   "execution_count": 30,
   "id": "f327808f-7a52-4be4-ab4c-59e88dd3c144",
   "metadata": {},
   "outputs": [],
   "source": [
    "y_hat = clf.predict(X_test)"
   ]
  },
  {
   "cell_type": "markdown",
   "id": "169ffed9-0ada-4de4-b0d2-7c377b96965f",
   "metadata": {},
   "source": [
    "## Avaluació del classificador"
   ]
  },
  {
   "cell_type": "code",
   "execution_count": 31,
   "id": "fc75414e-48a5-4761-8c5c-ac06c2f7be41",
   "metadata": {},
   "outputs": [
    {
     "name": "stdout",
     "output_type": "stream",
     "text": [
      "              precision    recall  f1-score   support\n",
      "\n",
      "        MALE       0.94      0.92      0.93        51\n",
      "      FEMALE       0.93      0.95      0.94        57\n",
      "\n",
      "    accuracy                           0.94       108\n",
      "   macro avg       0.94      0.93      0.93       108\n",
      "weighted avg       0.94      0.94      0.94       108\n",
      "\n"
     ]
    }
   ],
   "source": [
    "from sklearn.metrics import classification_report\n",
    "print(classification_report(y_test, y_hat, target_names=[\"MALE\", \"FEMALE\"]))"
   ]
  },
  {
   "cell_type": "markdown",
   "id": "a0108230-424f-424d-b6f2-cbbf46ab995c",
   "metadata": {},
   "source": [
    "### RDF"
   ]
  },
  {
   "cell_type": "code",
   "execution_count": 32,
   "id": "5076b3e8-4f6c-4785-be03-8fd777416882",
   "metadata": {},
   "outputs": [
    {
     "name": "stdout",
     "output_type": "stream",
     "text": [
      "              precision    recall  f1-score   support\n",
      "\n",
      "        MALE       0.92      0.96      0.94        51\n",
      "      FEMALE       0.96      0.93      0.95        57\n",
      "\n",
      "    accuracy                           0.94       108\n",
      "   macro avg       0.94      0.95      0.94       108\n",
      "weighted avg       0.95      0.94      0.94       108\n",
      "\n"
     ]
    }
   ],
   "source": [
    "from sklearn.ensemble import RandomForestClassifier\n",
    "clf = RandomForestClassifier(random_state=0).fit(X_train, y_train)\n",
    "y_hat = clf.predict(X_test)\n",
    "print(classification_report(y_test, y_hat, target_names=[\"MALE\", \"FEMALE\"]))"
   ]
  },
  {
   "cell_type": "markdown",
   "id": "baa0b934-d7aa-465a-bba2-a2033391b574",
   "metadata": {},
   "source": [
    "### Perceptró"
   ]
  },
  {
   "cell_type": "code",
   "execution_count": 33,
   "id": "92924d18-57e2-4110-a6f9-5c21bdb86f0b",
   "metadata": {},
   "outputs": [
    {
     "name": "stdout",
     "output_type": "stream",
     "text": [
      "              precision    recall  f1-score   support\n",
      "\n",
      "        MALE       0.83      0.96      0.89        51\n",
      "      FEMALE       0.96      0.82      0.89        57\n",
      "\n",
      "    accuracy                           0.89       108\n",
      "   macro avg       0.89      0.89      0.89       108\n",
      "weighted avg       0.90      0.89      0.89       108\n",
      "\n"
     ]
    }
   ],
   "source": [
    "from sklearn.linear_model import Perceptron\n",
    "clf = Perceptron(random_state=0).fit(X_train, y_train)\n",
    "y_hat = clf.predict(X_test)\n",
    "print(classification_report(y_test, y_hat, target_names=[\"MALE\", \"FEMALE\"]))"
   ]
  }
 ],
 "metadata": {
  "kernelspec": {
   "display_name": "Python 3",
   "language": "python",
   "name": "python3"
  },
  "language_info": {
   "codemirror_mode": {
    "name": "ipython",
    "version": 3
   },
   "file_extension": ".py",
   "mimetype": "text/x-python",
   "name": "python",
   "nbconvert_exporter": "python",
   "pygments_lexer": "ipython3",
   "version": "3.9.7"
  }
 },
 "nbformat": 4,
 "nbformat_minor": 5
}
