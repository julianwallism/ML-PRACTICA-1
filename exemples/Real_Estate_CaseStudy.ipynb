{
 "cells": [
  {
   "cell_type": "markdown",
   "metadata": {},
   "source": [
    "# 1. Business Problem\n",
    "## 1.1 Problem Context\n",
    "\n",
    "Our client is a large Real Estate Investment Trust (REIT).\n",
    "* They invest in houses, apartments, and condos(complex of buildings) within a small county in New York state.\n",
    "* As part of their business, they try to predict the fair transaction price of a property before it's sold.\n",
    "* They do so to calibrate their internal pricing models and keep a pulse on the market.\n",
    "\n",
    "## 1.2 Problem Statement\n",
    "The REIT has hired us to find a data-driven approach to valuing properties.\n",
    "* They currently have an untapped dataset of transaction prices for previous properties on the market.\n",
    "* The data was collected in 2016.\n",
    "* Our task is to build a real-estate pricing model using that dataset.\n",
    "* If we can build a model to predict transaction prices with an average error of under US Dollars 70,000, then our client will be very satisfied with the our resultant model.\n",
    "\n",
    "## 1.3 Business Objectives and Constraints\n",
    "* Deliverable: Trained model file\n",
    "* Win condition: Avg. prediction error < \\$70,000\n",
    "* Model Interpretability will be useful\n",
    "* No latency requirement"
   ]
  },
  {
   "cell_type": "markdown",
   "metadata": {},
   "source": [
    "# 2. Machine Learning Problem\n",
    "## 2.1 Data Overview\n",
    "\n",
    "For this project:\n",
    "1. The dataset has 1883 observations in the county where the REIT operates.\n",
    "2. Each observation is for the transaction of one property only.\n",
    "3. Each transaction was between \\$200,000 and \\$800,000.\n",
    "\n",
    "#### Target Variable\n",
    "* 'tx_price' - Transaction price in USD\n",
    "\n",
    "#### Features of the data:\n",
    "\n",
    "Public records:\n",
    "* 'tx_year' - Year the transaction took place\n",
    "* 'property_tax' - Monthly property tax\n",
    "* 'insurance' - Cost of monthly homeowner's insurance\n",
    "\n",
    "Property characteristics:\n",
    "* 'beds' - Number of bedrooms\n",
    "* 'baths' - Number of bathrooms\n",
    "* 'sqft' - Total floor area in squared feet\n",
    "* 'lot_size' - Total outside area in squared feet\n",
    "* 'year_built' - Year property was built\n",
    "* 'active_life' - Number of gyms, yoga studios, and sports venues within 1 mile\n",
    "* 'basement' - Does the property have a basement?\n",
    "* 'exterior_walls' - The material used for constructing walls of the house\n",
    "* 'roof' - The material used for constructing the roof\n",
    "\n",
    "Location convenience scores:\n",
    "* 'restaurants' - Number of restaurants within 1 mile\n",
    "* 'groceries' - Number of grocery stores within 1 mile\n",
    "* 'nightlife' - Number of nightlife venues within 1 mile\n",
    "* 'cafes' - Number of cafes within 1 mile\n",
    "* 'shopping' - Number of stores within 1 mile\n",
    "* 'arts_entertainment' - Number of arts and entertainment venues within 1 mile\n",
    "* 'beauty_spas' - Number of beauty and spa locations within 1 mile\n",
    "* 'active_life' - Number of gyms, yoga studios, and sports venues within 1 mile\n",
    "\n",
    "Neighborhood demographics:\n",
    "* 'median_age' - Median age of the neighborhood\n",
    "* 'married' - Percent of neighborhood who are married\n",
    "* 'college_grad' - Percent of neighborhood who graduated college\n",
    "\n",
    "Schools:\n",
    "* 'num_schools' - Number of public schools within district\n",
    "* 'median_school' - Median score of the public schools within district, on the range 1 - 10\n",
    "\n",
    "## 2.2 Mapping business problem to ML problem\n",
    "### 2.2.1 Type of Machine Learning Problem\n",
    "It is a regression problem, where given the above set of features, we need to predict the transaction price of the house.\n",
    "\n",
    "### 2.2.2 Performance Metric (KPI)\n",
    "**Since it is a regression problem, we will use the following regression metrics:**\n",
    "#### 2.2.2.1 Root Mean Squared Error (RMSE)"
   ]
  },
  {
   "cell_type": "markdown",
   "metadata": {},
   "source": [
    "![title](Images/rmse.gif)"
   ]
  },
  {
   "cell_type": "markdown",
   "metadata": {},
   "source": [
    "#### 2.2.2.2 R-squared\n",
    "![title](Images/r_squared.png)\n",
    "\n",
    "Just remember the value of R suared must be at least greater than 0 and 1 in the best case"
   ]
  },
  {
   "cell_type": "markdown",
   "metadata": {},
   "source": [
    "#### 2.2.2.3 Mean Absolute Error (MAE):\n",
    "![title](Images/mae.png)\n",
    "\n",
    "* Remember, our win-condition for this project is predicting within \\$70,000 of true transaction prices, on average.\n",
    "* Mean absolute error (or MAE) is the average absolute difference between predicted and actual values for our target variable. That exactly aligns with the terms of our win condition!\n",
    "* So we're aiming to get MAE below 70,000"
   ]
  },
  {
   "cell_type": "markdown",
   "metadata": {},
   "source": [
    "## Train-Test Splits\n",
    "**80-20**"
   ]
  },
  {
   "cell_type": "markdown",
   "metadata": {},
   "source": [
    "# Exploratory data analysis"
   ]
  },
  {
   "cell_type": "markdown",
   "metadata": {},
   "source": [
    "#### Import the libraries"
   ]
  },
  {
   "cell_type": "code",
   "execution_count": 7,
   "metadata": {},
   "outputs": [],
   "source": [
    "# for numerical computing\n",
    "import numpy as np\n",
    "\n",
    "# for dataframes\n",
    "import pandas as pd\n",
    "\n",
    "# for easier visualization\n",
    "import seaborn as sns\n",
    "\n",
    "# for visualization and to display plots\n",
    "from matplotlib import pyplot as plt\n",
    "%matplotlib inline\n",
    "\n",
    "# import color maps\n",
    "from matplotlib.colors import ListedColormap\n",
    "\n",
    "# Ignore Warnings\n",
    "import warnings\n",
    "warnings.filterwarnings(\"ignore\")\n",
    "\n",
    "from math import sqrt\n",
    "\n",
    "# to split train and test set\n",
    "from sklearn.model_selection import train_test_split\n",
    "\n",
    "# to perform hyperparameter tuning\n",
    "from sklearn.model_selection import GridSearchCV\n",
    "from sklearn.model_selection import RandomizedSearchCV\n",
    "\n",
    "from sklearn.linear_model import Ridge  # Linear Regression + L2 regularization\n",
    "from sklearn.linear_model import Lasso  # Linear Regression + L1 regularization\n",
    "from sklearn.svm import SVR # Support Vector Regressor\n",
    "from sklearn.ensemble import RandomForestRegressor\n",
    "from sklearn.neighbors import KNeighborsRegressor \n",
    "from sklearn.cross_validation import cross_val_score\n",
    "from sklearn.tree import DecisionTreeRegressor\n",
    "\n",
    "# Evaluation Metrics\n",
    "from sklearn.metrics import mean_squared_error as mse\n",
    "from sklearn.metrics import r2_score as rs\n",
    "from sklearn.metrics import mean_absolute_error as mae\n",
    "\n",
    "#import xgboost\n",
    "import os\n",
    "mingw_path = 'C:\\\\Program Files\\\\mingw-w64\\\\x86_64-7.2.0-posix-seh-rt_v5-rev0\\\\mingw64\\\\bin'\n",
    "os.environ['PATH'] = mingw_path + ';' + os.environ['PATH']\n",
    "from xgboost import XGBRegressor\n",
    "from xgboost import plot_importance  # to plot feature importance\n",
    "\n",
    "# to save the final model on disk\n",
    "from sklearn.externals import joblib"
   ]
  },
  {
   "cell_type": "code",
   "execution_count": 3,
   "metadata": {
    "collapsed": true
   },
   "outputs": [],
   "source": [
    "np.set_printoptions(precision=2, suppress=True) #for printing floating point numbers upto  precision 2"
   ]
  },
  {
   "cell_type": "markdown",
   "metadata": {},
   "source": [
    "Load real estate data from CSV"
   ]
  },
  {
   "cell_type": "code",
   "execution_count": 96,
   "metadata": {
    "collapsed": true
   },
   "outputs": [],
   "source": [
    "df = pd.read_csv('Files/real_estate_data.csv')"
   ]
  },
  {
   "cell_type": "markdown",
   "metadata": {},
   "source": [
    "Display the dimensions of the dataset."
   ]
  },
  {
   "cell_type": "code",
   "execution_count": 97,
   "metadata": {},
   "outputs": [
    {
     "data": {
      "text/plain": [
       "(1883, 26)"
      ]
     },
     "execution_count": 97,
     "metadata": {},
     "output_type": "execute_result"
    }
   ],
   "source": [
    "df.shape"
   ]
  },
  {
   "cell_type": "markdown",
   "metadata": {},
   "source": [
    "Columns of the dataset"
   ]
  },
  {
   "cell_type": "code",
   "execution_count": 98,
   "metadata": {},
   "outputs": [
    {
     "data": {
      "text/plain": [
       "Index(['tx_price', 'beds', 'baths', 'sqft', 'year_built', 'lot_size',\n",
       "       'property_type', 'exterior_walls', 'roof', 'basement', 'restaurants',\n",
       "       'groceries', 'nightlife', 'cafes', 'shopping', 'arts_entertainment',\n",
       "       'beauty_spas', 'active_life', 'median_age', 'married', 'college_grad',\n",
       "       'property_tax', 'insurance', 'median_school', 'num_schools', 'tx_year'],\n",
       "      dtype='object')"
      ]
     },
     "execution_count": 98,
     "metadata": {},
     "output_type": "execute_result"
    }
   ],
   "source": [
    "df.columns"
   ]
  },
  {
   "cell_type": "markdown",
   "metadata": {},
   "source": [
    "Display the first 5 rows to see example observations."
   ]
  },
  {
   "cell_type": "code",
   "execution_count": 99,
   "metadata": {},
   "outputs": [
    {
     "data": {
      "text/html": [
       "<div>\n",
       "<style>\n",
       "    .dataframe thead tr:only-child th {\n",
       "        text-align: right;\n",
       "    }\n",
       "\n",
       "    .dataframe thead th {\n",
       "        text-align: left;\n",
       "    }\n",
       "\n",
       "    .dataframe tbody tr th {\n",
       "        vertical-align: top;\n",
       "    }\n",
       "</style>\n",
       "<table border=\"1\" class=\"dataframe\">\n",
       "  <thead>\n",
       "    <tr style=\"text-align: right;\">\n",
       "      <th></th>\n",
       "      <th>tx_price</th>\n",
       "      <th>beds</th>\n",
       "      <th>baths</th>\n",
       "      <th>sqft</th>\n",
       "      <th>year_built</th>\n",
       "      <th>lot_size</th>\n",
       "      <th>property_type</th>\n",
       "      <th>exterior_walls</th>\n",
       "      <th>roof</th>\n",
       "      <th>basement</th>\n",
       "      <th>...</th>\n",
       "      <th>beauty_spas</th>\n",
       "      <th>active_life</th>\n",
       "      <th>median_age</th>\n",
       "      <th>married</th>\n",
       "      <th>college_grad</th>\n",
       "      <th>property_tax</th>\n",
       "      <th>insurance</th>\n",
       "      <th>median_school</th>\n",
       "      <th>num_schools</th>\n",
       "      <th>tx_year</th>\n",
       "    </tr>\n",
       "  </thead>\n",
       "  <tbody>\n",
       "    <tr>\n",
       "      <th>0</th>\n",
       "      <td>295850</td>\n",
       "      <td>1</td>\n",
       "      <td>1</td>\n",
       "      <td>584</td>\n",
       "      <td>2013</td>\n",
       "      <td>0</td>\n",
       "      <td>Apartment / Condo / Townhouse</td>\n",
       "      <td>Wood Siding</td>\n",
       "      <td>NaN</td>\n",
       "      <td>NaN</td>\n",
       "      <td>...</td>\n",
       "      <td>47</td>\n",
       "      <td>58</td>\n",
       "      <td>33.0</td>\n",
       "      <td>65.0</td>\n",
       "      <td>84.0</td>\n",
       "      <td>234.0</td>\n",
       "      <td>81.0</td>\n",
       "      <td>9.0</td>\n",
       "      <td>3.0</td>\n",
       "      <td>2013</td>\n",
       "    </tr>\n",
       "    <tr>\n",
       "      <th>1</th>\n",
       "      <td>216500</td>\n",
       "      <td>1</td>\n",
       "      <td>1</td>\n",
       "      <td>612</td>\n",
       "      <td>1965</td>\n",
       "      <td>0</td>\n",
       "      <td>Apartment / Condo / Townhouse</td>\n",
       "      <td>Brick</td>\n",
       "      <td>Composition Shingle</td>\n",
       "      <td>1.0</td>\n",
       "      <td>...</td>\n",
       "      <td>26</td>\n",
       "      <td>14</td>\n",
       "      <td>39.0</td>\n",
       "      <td>73.0</td>\n",
       "      <td>69.0</td>\n",
       "      <td>169.0</td>\n",
       "      <td>51.0</td>\n",
       "      <td>3.0</td>\n",
       "      <td>3.0</td>\n",
       "      <td>2006</td>\n",
       "    </tr>\n",
       "    <tr>\n",
       "      <th>2</th>\n",
       "      <td>279900</td>\n",
       "      <td>1</td>\n",
       "      <td>1</td>\n",
       "      <td>615</td>\n",
       "      <td>1963</td>\n",
       "      <td>0</td>\n",
       "      <td>Apartment / Condo / Townhouse</td>\n",
       "      <td>Wood Siding</td>\n",
       "      <td>NaN</td>\n",
       "      <td>NaN</td>\n",
       "      <td>...</td>\n",
       "      <td>74</td>\n",
       "      <td>62</td>\n",
       "      <td>28.0</td>\n",
       "      <td>15.0</td>\n",
       "      <td>86.0</td>\n",
       "      <td>216.0</td>\n",
       "      <td>74.0</td>\n",
       "      <td>8.0</td>\n",
       "      <td>3.0</td>\n",
       "      <td>2012</td>\n",
       "    </tr>\n",
       "    <tr>\n",
       "      <th>3</th>\n",
       "      <td>379900</td>\n",
       "      <td>1</td>\n",
       "      <td>1</td>\n",
       "      <td>618</td>\n",
       "      <td>2000</td>\n",
       "      <td>33541</td>\n",
       "      <td>Apartment / Condo / Townhouse</td>\n",
       "      <td>Wood Siding</td>\n",
       "      <td>NaN</td>\n",
       "      <td>NaN</td>\n",
       "      <td>...</td>\n",
       "      <td>72</td>\n",
       "      <td>83</td>\n",
       "      <td>36.0</td>\n",
       "      <td>25.0</td>\n",
       "      <td>91.0</td>\n",
       "      <td>265.0</td>\n",
       "      <td>92.0</td>\n",
       "      <td>9.0</td>\n",
       "      <td>3.0</td>\n",
       "      <td>2005</td>\n",
       "    </tr>\n",
       "    <tr>\n",
       "      <th>4</th>\n",
       "      <td>340000</td>\n",
       "      <td>1</td>\n",
       "      <td>1</td>\n",
       "      <td>634</td>\n",
       "      <td>1992</td>\n",
       "      <td>0</td>\n",
       "      <td>Apartment / Condo / Townhouse</td>\n",
       "      <td>Brick</td>\n",
       "      <td>NaN</td>\n",
       "      <td>NaN</td>\n",
       "      <td>...</td>\n",
       "      <td>50</td>\n",
       "      <td>73</td>\n",
       "      <td>37.0</td>\n",
       "      <td>20.0</td>\n",
       "      <td>75.0</td>\n",
       "      <td>88.0</td>\n",
       "      <td>30.0</td>\n",
       "      <td>9.0</td>\n",
       "      <td>3.0</td>\n",
       "      <td>2002</td>\n",
       "    </tr>\n",
       "  </tbody>\n",
       "</table>\n",
       "<p>5 rows × 26 columns</p>\n",
       "</div>"
      ],
      "text/plain": [
       "   tx_price  beds  baths  sqft  year_built  lot_size  \\\n",
       "0    295850     1      1   584        2013         0   \n",
       "1    216500     1      1   612        1965         0   \n",
       "2    279900     1      1   615        1963         0   \n",
       "3    379900     1      1   618        2000     33541   \n",
       "4    340000     1      1   634        1992         0   \n",
       "\n",
       "                   property_type exterior_walls                 roof  \\\n",
       "0  Apartment / Condo / Townhouse    Wood Siding                  NaN   \n",
       "1  Apartment / Condo / Townhouse          Brick  Composition Shingle   \n",
       "2  Apartment / Condo / Townhouse    Wood Siding                  NaN   \n",
       "3  Apartment / Condo / Townhouse    Wood Siding                  NaN   \n",
       "4  Apartment / Condo / Townhouse          Brick                  NaN   \n",
       "\n",
       "   basement   ...     beauty_spas  active_life  median_age  married  \\\n",
       "0       NaN   ...              47           58        33.0     65.0   \n",
       "1       1.0   ...              26           14        39.0     73.0   \n",
       "2       NaN   ...              74           62        28.0     15.0   \n",
       "3       NaN   ...              72           83        36.0     25.0   \n",
       "4       NaN   ...              50           73        37.0     20.0   \n",
       "\n",
       "   college_grad  property_tax  insurance  median_school  num_schools  tx_year  \n",
       "0          84.0         234.0       81.0            9.0          3.0     2013  \n",
       "1          69.0         169.0       51.0            3.0          3.0     2006  \n",
       "2          86.0         216.0       74.0            8.0          3.0     2012  \n",
       "3          91.0         265.0       92.0            9.0          3.0     2005  \n",
       "4          75.0          88.0       30.0            9.0          3.0     2002  \n",
       "\n",
       "[5 rows x 26 columns]"
      ]
     },
     "execution_count": 99,
     "metadata": {},
     "output_type": "execute_result"
    }
   ],
   "source": [
    "pd.set_option('display.max_columns', 20) ## display max 20 columns\n",
    "df.head()"
   ]
  },
  {
   "cell_type": "markdown",
   "metadata": {},
   "source": [
    "Some feaures are numeric and some are categorical<br>\n",
    "Filtering the categorical features:"
   ]
  },
  {
   "cell_type": "code",
   "execution_count": 100,
   "metadata": {},
   "outputs": [
    {
     "data": {
      "text/plain": [
       "property_type     object\n",
       "exterior_walls    object\n",
       "roof              object\n",
       "dtype: object"
      ]
     },
     "execution_count": 100,
     "metadata": {},
     "output_type": "execute_result"
    }
   ],
   "source": [
    "df.dtypes[df.dtypes=='object']"
   ]
  },
  {
   "cell_type": "markdown",
   "metadata": {},
   "source": [
    "## Distributions of numeric features\n",
    "One of the most enlightening data exploration tasks is plotting the distributions of your features."
   ]
  },
  {
   "cell_type": "code",
   "execution_count": 101,
   "metadata": {
    "scrolled": true
   },
   "outputs": [
    {
     "data": {
      "image/png": "[encoded data removed]",
      "text/plain": [
       "<matplotlib.figure.Figure at 0x1cf229f7438>"
      ]
     },
     "metadata": {},
     "output_type": "display_data"
    }
   ],
   "source": [
    "# Plot histogram grid\n",
    "df.hist(figsize=(16,16), xrot=-45) ## Display the labels rotated by 45 degress\n",
    "\n",
    "# Clear the text \"residue\"\n",
    "plt.show()"
   ]
  },
  {
   "cell_type": "markdown",
   "metadata": {},
   "source": [
    "**Observations:**\n",
    "We can make out quite a few observations:\n",
    "\n",
    "For example, consider the histogram for num_schools:\n",
    "* More than 1500 houses have 3 schools with a mile\n",
    "\n",
    "Consider the histogram for sqft:\n",
    "* More than 400 houses have area within 2000 sqft\n",
    "* Very few houses have area more than 5000 sqft\n",
    "\n",
    "Consider the histogram for beds:\n",
    "* Over 600 houses have 4 bedrooms, and similar number of houses have 3 bedrooms.\n",
    "* Less than 100 houses have one bedroom and so on.\n",
    "\n",
    "Also, look at the plot for the 'year_built' feature:\n",
    "* The last bin in the histogram represents the range 2010-2020.\n",
    "* Since this dataset was pulled in 2016, we should not have properties built in 2019.\n",
    "* A property built after 2016 would be a measurement error.\n",
    "* However, because of the 10-year bins, it's hard to tell if there's a measurement error just from the plot above."
   ]
  },
  {
   "cell_type": "markdown",
   "metadata": {},
   "source": [
    "Display summary statistics for the numerical features."
   ]
  },
  {
   "cell_type": "code",
   "execution_count": 9,
   "metadata": {},
   "outputs": [
    {
     "data": {
      "text/html": [
       "<div>\n",
       "<style>\n",
       "    .dataframe thead tr:only-child th {\n",
       "        text-align: right;\n",
       "    }\n",
       "\n",
       "    .dataframe thead th {\n",
       "        text-align: left;\n",
       "    }\n",
       "\n",
       "    .dataframe tbody tr th {\n",
       "        vertical-align: top;\n",
       "    }\n",
       "</style>\n",
       "<table border=\"1\" class=\"dataframe\">\n",
       "  <thead>\n",
       "    <tr style=\"text-align: right;\">\n",
       "      <th></th>\n",
       "      <th>tx_price</th>\n",
       "      <th>beds</th>\n",
       "      <th>baths</th>\n",
       "      <th>sqft</th>\n",
       "      <th>year_built</th>\n",
       "      <th>lot_size</th>\n",
       "      <th>basement</th>\n",
       "      <th>restaurants</th>\n",
       "      <th>groceries</th>\n",
       "      <th>nightlife</th>\n",
       "      <th>...</th>\n",
       "      <th>beauty_spas</th>\n",
       "      <th>active_life</th>\n",
       "      <th>median_age</th>\n",
       "      <th>married</th>\n",
       "      <th>college_grad</th>\n",
       "      <th>property_tax</th>\n",
       "      <th>insurance</th>\n",
       "      <th>median_school</th>\n",
       "      <th>num_schools</th>\n",
       "      <th>tx_year</th>\n",
       "    </tr>\n",
       "  </thead>\n",
       "  <tbody>\n",
       "    <tr>\n",
       "      <th>count</th>\n",
       "      <td>1883.000000</td>\n",
       "      <td>1883.000000</td>\n",
       "      <td>1883.000000</td>\n",
       "      <td>1883.000000</td>\n",
       "      <td>1883.000000</td>\n",
       "      <td>1.883000e+03</td>\n",
       "      <td>1657.0</td>\n",
       "      <td>1883.000000</td>\n",
       "      <td>1883.000000</td>\n",
       "      <td>1883.000000</td>\n",
       "      <td>...</td>\n",
       "      <td>1883.000000</td>\n",
       "      <td>1883.000000</td>\n",
       "      <td>1883.000000</td>\n",
       "      <td>1883.000000</td>\n",
       "      <td>1883.000000</td>\n",
       "      <td>1883.000000</td>\n",
       "      <td>1883.000000</td>\n",
       "      <td>1883.000000</td>\n",
       "      <td>1883.000000</td>\n",
       "      <td>1883.000000</td>\n",
       "    </tr>\n",
       "    <tr>\n",
       "      <th>mean</th>\n",
       "      <td>422839.807754</td>\n",
       "      <td>3.420605</td>\n",
       "      <td>2.579926</td>\n",
       "      <td>2329.398832</td>\n",
       "      <td>1982.963887</td>\n",
       "      <td>1.339262e+04</td>\n",
       "      <td>1.0</td>\n",
       "      <td>40.210303</td>\n",
       "      <td>4.505045</td>\n",
       "      <td>5.074881</td>\n",
       "      <td>...</td>\n",
       "      <td>23.416888</td>\n",
       "      <td>15.835369</td>\n",
       "      <td>38.601168</td>\n",
       "      <td>69.091875</td>\n",
       "      <td>65.085502</td>\n",
       "      <td>466.777483</td>\n",
       "      <td>140.454063</td>\n",
       "      <td>6.502921</td>\n",
       "      <td>2.793415</td>\n",
       "      <td>2007.111524</td>\n",
       "    </tr>\n",
       "    <tr>\n",
       "      <th>std</th>\n",
       "      <td>151462.593276</td>\n",
       "      <td>1.068554</td>\n",
       "      <td>0.945576</td>\n",
       "      <td>1336.991858</td>\n",
       "      <td>20.295945</td>\n",
       "      <td>4.494930e+04</td>\n",
       "      <td>0.0</td>\n",
       "      <td>46.867012</td>\n",
       "      <td>4.491029</td>\n",
       "      <td>8.464668</td>\n",
       "      <td>...</td>\n",
       "      <td>25.776916</td>\n",
       "      <td>17.667717</td>\n",
       "      <td>6.634110</td>\n",
       "      <td>19.659767</td>\n",
       "      <td>16.953165</td>\n",
       "      <td>231.656645</td>\n",
       "      <td>72.929765</td>\n",
       "      <td>1.996109</td>\n",
       "      <td>0.505358</td>\n",
       "      <td>5.196898</td>\n",
       "    </tr>\n",
       "    <tr>\n",
       "      <th>min</th>\n",
       "      <td>200000.000000</td>\n",
       "      <td>1.000000</td>\n",
       "      <td>1.000000</td>\n",
       "      <td>500.000000</td>\n",
       "      <td>1880.000000</td>\n",
       "      <td>0.000000e+00</td>\n",
       "      <td>1.0</td>\n",
       "      <td>0.000000</td>\n",
       "      <td>0.000000</td>\n",
       "      <td>0.000000</td>\n",
       "      <td>...</td>\n",
       "      <td>0.000000</td>\n",
       "      <td>0.000000</td>\n",
       "      <td>22.000000</td>\n",
       "      <td>11.000000</td>\n",
       "      <td>5.000000</td>\n",
       "      <td>88.000000</td>\n",
       "      <td>30.000000</td>\n",
       "      <td>1.000000</td>\n",
       "      <td>1.000000</td>\n",
       "      <td>1993.000000</td>\n",
       "    </tr>\n",
       "    <tr>\n",
       "      <th>25%</th>\n",
       "      <td>300000.000000</td>\n",
       "      <td>3.000000</td>\n",
       "      <td>2.000000</td>\n",
       "      <td>1345.000000</td>\n",
       "      <td>1970.000000</td>\n",
       "      <td>1.542000e+03</td>\n",
       "      <td>1.0</td>\n",
       "      <td>7.000000</td>\n",
       "      <td>1.000000</td>\n",
       "      <td>0.000000</td>\n",
       "      <td>...</td>\n",
       "      <td>4.000000</td>\n",
       "      <td>4.000000</td>\n",
       "      <td>33.000000</td>\n",
       "      <td>58.000000</td>\n",
       "      <td>54.000000</td>\n",
       "      <td>320.000000</td>\n",
       "      <td>94.000000</td>\n",
       "      <td>5.000000</td>\n",
       "      <td>3.000000</td>\n",
       "      <td>2004.000000</td>\n",
       "    </tr>\n",
       "    <tr>\n",
       "      <th>50%</th>\n",
       "      <td>392000.000000</td>\n",
       "      <td>3.000000</td>\n",
       "      <td>3.000000</td>\n",
       "      <td>1907.000000</td>\n",
       "      <td>1986.000000</td>\n",
       "      <td>6.098000e+03</td>\n",
       "      <td>1.0</td>\n",
       "      <td>23.000000</td>\n",
       "      <td>3.000000</td>\n",
       "      <td>2.000000</td>\n",
       "      <td>...</td>\n",
       "      <td>15.000000</td>\n",
       "      <td>10.000000</td>\n",
       "      <td>38.000000</td>\n",
       "      <td>73.000000</td>\n",
       "      <td>66.000000</td>\n",
       "      <td>426.000000</td>\n",
       "      <td>125.000000</td>\n",
       "      <td>7.000000</td>\n",
       "      <td>3.000000</td>\n",
       "      <td>2007.000000</td>\n",
       "    </tr>\n",
       "    <tr>\n",
       "      <th>75%</th>\n",
       "      <td>525000.000000</td>\n",
       "      <td>4.000000</td>\n",
       "      <td>3.000000</td>\n",
       "      <td>3005.000000</td>\n",
       "      <td>2000.000000</td>\n",
       "      <td>1.176100e+04</td>\n",
       "      <td>1.0</td>\n",
       "      <td>58.000000</td>\n",
       "      <td>7.000000</td>\n",
       "      <td>6.000000</td>\n",
       "      <td>...</td>\n",
       "      <td>35.000000</td>\n",
       "      <td>21.000000</td>\n",
       "      <td>43.000000</td>\n",
       "      <td>84.000000</td>\n",
       "      <td>78.000000</td>\n",
       "      <td>569.000000</td>\n",
       "      <td>169.000000</td>\n",
       "      <td>8.000000</td>\n",
       "      <td>3.000000</td>\n",
       "      <td>2011.000000</td>\n",
       "    </tr>\n",
       "    <tr>\n",
       "      <th>max</th>\n",
       "      <td>800000.000000</td>\n",
       "      <td>5.000000</td>\n",
       "      <td>6.000000</td>\n",
       "      <td>8450.000000</td>\n",
       "      <td>2015.000000</td>\n",
       "      <td>1.220551e+06</td>\n",
       "      <td>1.0</td>\n",
       "      <td>266.000000</td>\n",
       "      <td>24.000000</td>\n",
       "      <td>54.000000</td>\n",
       "      <td>...</td>\n",
       "      <td>177.000000</td>\n",
       "      <td>94.000000</td>\n",
       "      <td>69.000000</td>\n",
       "      <td>100.000000</td>\n",
       "      <td>100.000000</td>\n",
       "      <td>4508.000000</td>\n",
       "      <td>1374.000000</td>\n",
       "      <td>10.000000</td>\n",
       "      <td>4.000000</td>\n",
       "      <td>2016.000000</td>\n",
       "    </tr>\n",
       "  </tbody>\n",
       "</table>\n",
       "<p>8 rows × 23 columns</p>\n",
       "</div>"
      ],
      "text/plain": [
       "            tx_price         beds        baths         sqft   year_built  \\\n",
       "count    1883.000000  1883.000000  1883.000000  1883.000000  1883.000000   \n",
       "mean   422839.807754     3.420605     2.579926  2329.398832  1982.963887   \n",
       "std    151462.593276     1.068554     0.945576  1336.991858    20.295945   \n",
       "min    200000.000000     1.000000     1.000000   500.000000  1880.000000   \n",
       "25%    300000.000000     3.000000     2.000000  1345.000000  1970.000000   \n",
       "50%    392000.000000     3.000000     3.000000  1907.000000  1986.000000   \n",
       "75%    525000.000000     4.000000     3.000000  3005.000000  2000.000000   \n",
       "max    800000.000000     5.000000     6.000000  8450.000000  2015.000000   \n",
       "\n",
       "           lot_size  basement  restaurants    groceries    nightlife  \\\n",
       "count  1.883000e+03    1657.0  1883.000000  1883.000000  1883.000000   \n",
       "mean   1.339262e+04       1.0    40.210303     4.505045     5.074881   \n",
       "std    4.494930e+04       0.0    46.867012     4.491029     8.464668   \n",
       "min    0.000000e+00       1.0     0.000000     0.000000     0.000000   \n",
       "25%    1.542000e+03       1.0     7.000000     1.000000     0.000000   \n",
       "50%    6.098000e+03       1.0    23.000000     3.000000     2.000000   \n",
       "75%    1.176100e+04       1.0    58.000000     7.000000     6.000000   \n",
       "max    1.220551e+06       1.0   266.000000    24.000000    54.000000   \n",
       "\n",
       "          ...       beauty_spas  active_life   median_age      married  \\\n",
       "count     ...       1883.000000  1883.000000  1883.000000  1883.000000   \n",
       "mean      ...         23.416888    15.835369    38.601168    69.091875   \n",
       "std       ...         25.776916    17.667717     6.634110    19.659767   \n",
       "min       ...          0.000000     0.000000    22.000000    11.000000   \n",
       "25%       ...          4.000000     4.000000    33.000000    58.000000   \n",
       "50%       ...         15.000000    10.000000    38.000000    73.000000   \n",
       "75%       ...         35.000000    21.000000    43.000000    84.000000   \n",
       "max       ...        177.000000    94.000000    69.000000   100.000000   \n",
       "\n",
       "       college_grad  property_tax    insurance  median_school  num_schools  \\\n",
       "count   1883.000000   1883.000000  1883.000000    1883.000000  1883.000000   \n",
       "mean      65.085502    466.777483   140.454063       6.502921     2.793415   \n",
       "std       16.953165    231.656645    72.929765       1.996109     0.505358   \n",
       "min        5.000000     88.000000    30.000000       1.000000     1.000000   \n",
       "25%       54.000000    320.000000    94.000000       5.000000     3.000000   \n",
       "50%       66.000000    426.000000   125.000000       7.000000     3.000000   \n",
       "75%       78.000000    569.000000   169.000000       8.000000     3.000000   \n",
       "max      100.000000   4508.000000  1374.000000      10.000000     4.000000   \n",
       "\n",
       "           tx_year  \n",
       "count  1883.000000  \n",
       "mean   2007.111524  \n",
       "std       5.196898  \n",
       "min    1993.000000  \n",
       "25%    2004.000000  \n",
       "50%    2007.000000  \n",
       "75%    2011.000000  \n",
       "max    2016.000000  \n",
       "\n",
       "[8 rows x 23 columns]"
      ]
     },
     "execution_count": 9,
     "metadata": {},
     "output_type": "execute_result"
    }
   ],
   "source": [
    "df.describe()"
   ]
  },
  {
   "cell_type": "markdown",
   "metadata": {},
   "source": [
    "**Obeservation:**\n",
    "* Look at the 'year_built' column, we can see that its max value is 2015.\n",
    "* The 'basement' feature has some missing values, also its standard deviation is 0.0, while its min and max are both 1.0. Maybe this is a feature that should be binary consisting values 0 and 1."
   ]
  },
  {
   "cell_type": "markdown",
   "metadata": {},
   "source": [
    "## Distributions of categorical features\n",
    "Display summary statistics for categorical features."
   ]
  },
  {
   "cell_type": "code",
   "execution_count": 10,
   "metadata": {},
   "outputs": [
    {
     "data": {
      "text/html": [
       "<div>\n",
       "<style>\n",
       "    .dataframe thead tr:only-child th {\n",
       "        text-align: right;\n",
       "    }\n",
       "\n",
       "    .dataframe thead th {\n",
       "        text-align: left;\n",
       "    }\n",
       "\n",
       "    .dataframe tbody tr th {\n",
       "        vertical-align: top;\n",
       "    }\n",
       "</style>\n",
       "<table border=\"1\" class=\"dataframe\">\n",
       "  <thead>\n",
       "    <tr style=\"text-align: right;\">\n",
       "      <th></th>\n",
       "      <th>property_type</th>\n",
       "      <th>exterior_walls</th>\n",
       "      <th>roof</th>\n",
       "    </tr>\n",
       "  </thead>\n",
       "  <tbody>\n",
       "    <tr>\n",
       "      <th>count</th>\n",
       "      <td>1883</td>\n",
       "      <td>1660</td>\n",
       "      <td>1529</td>\n",
       "    </tr>\n",
       "    <tr>\n",
       "      <th>unique</th>\n",
       "      <td>2</td>\n",
       "      <td>16</td>\n",
       "      <td>16</td>\n",
       "    </tr>\n",
       "    <tr>\n",
       "      <th>top</th>\n",
       "      <td>Single-Family</td>\n",
       "      <td>Brick</td>\n",
       "      <td>Composition Shingle</td>\n",
       "    </tr>\n",
       "    <tr>\n",
       "      <th>freq</th>\n",
       "      <td>1080</td>\n",
       "      <td>687</td>\n",
       "      <td>1179</td>\n",
       "    </tr>\n",
       "  </tbody>\n",
       "</table>\n",
       "</div>"
      ],
      "text/plain": [
       "        property_type exterior_walls                 roof\n",
       "count            1883           1660                 1529\n",
       "unique              2             16                   16\n",
       "top     Single-Family          Brick  Composition Shingle\n",
       "freq             1080            687                 1179"
      ]
     },
     "execution_count": 10,
     "metadata": {},
     "output_type": "execute_result"
    }
   ],
   "source": [
    "df.describe(include=['object'])"
   ]
  },
  {
   "cell_type": "markdown",
   "metadata": {},
   "source": [
    "**Observation:**\n",
    "* 'exterior_walls' and 'roof' have missing values\n",
    "* There are 16 unique classes for 'exterior_walls' and 'roof'\n",
    "* The most frequent element for exterior_walls is 'Brick'and it has come 687 times."
   ]
  },
  {
   "cell_type": "markdown",
   "metadata": {},
   "source": [
    "### Bar plots for categorical Features"
   ]
  },
  {
   "cell_type": "markdown",
   "metadata": {},
   "source": [
    "Plot bar plot for the 'exterior_walls' feature."
   ]
  },
  {
   "cell_type": "code",
   "execution_count": 11,
   "metadata": {},
   "outputs": [
    {
     "data": {
      "text/plain": [
       "<matplotlib.axes._subplots.AxesSubplot at 0x1cf21805cf8>"
      ]
     },
     "execution_count": 11,
     "metadata": {},
     "output_type": "execute_result"
    },
    {
     "data": {
      "image/png": "[encoded data removed]",
      "text/plain": [
       "<matplotlib.figure.Figure at 0x1cf22110a58>"
      ]
     },
     "metadata": {},
     "output_type": "display_data"
    }
   ],
   "source": [
    "plt.figure(figsize=(8,8))\n",
    "sns.countplot(y='exterior_walls', data=df)"
   ]
  },
  {
   "cell_type": "markdown",
   "metadata": {},
   "source": [
    "**Observations:**\n",
    "Take a look at the frequencies of the classes.\n",
    "\n",
    "Several classes are quite prevalent in the dataset. They have long bars. Those include:\n",
    "* 'Brick' shows count of 687 as we get in features and is most frequent\n",
    "* 'Siding (Alum/Vinyl)'\n",
    "* 'Metal'\n",
    "* 'Combination'\n",
    "\n",
    "Some classes have really short bars. For example:\n",
    "* 'Concrete Block'\n",
    "* 'Concrete'\n",
    "* 'Block'\n",
    "* 'Wood Shingle'\n",
    "* others\n",
    "* These don't have many observations, and they are called sparse classes."
   ]
  },
  {
   "cell_type": "markdown",
   "metadata": {},
   "source": [
    "Similarly Plot bar plot for the 'roof' feature."
   ]
  },
  {
   "cell_type": "code",
   "execution_count": 12,
   "metadata": {},
   "outputs": [
    {
     "data": {
      "text/plain": [
       "<matplotlib.axes._subplots.AxesSubplot at 0x1cf21a37588>"
      ]
     },
     "execution_count": 12,
     "metadata": {},
     "output_type": "execute_result"
    },
    {
     "data": {
      "image/png": "[encoded data removed]",
      "text/plain": [
       "<matplotlib.figure.Figure at 0x1cf21a37c50>"
      ]
     },
     "metadata": {},
     "output_type": "display_data"
    }
   ],
   "source": [
    "plt.figure(figsize=(8,8))\n",
    "sns.countplot(y='roof', data=df)"
   ]
  },
  {
   "cell_type": "markdown",
   "metadata": {},
   "source": [
    "**Observations:**\n",
    "\n",
    "* The class which has a lasrgest count is Composition Shingle\n",
    "\n",
    "Following are the sparse classes having very small bars/observations:\n",
    "* 'Metal'\n",
    "* 'shake-shingle'\n",
    "* 'composition'"
   ]
  },
  {
   "cell_type": "code",
   "execution_count": 13,
   "metadata": {},
   "outputs": [
    {
     "data": {
      "text/plain": [
       "<matplotlib.axes._subplots.AxesSubplot at 0x1cf1cdc1780>"
      ]
     },
     "execution_count": 13,
     "metadata": {},
     "output_type": "execute_result"
    },
    {
     "data": {
      "image/png": "[encoded data removed]",
      "text/plain": [
       "<matplotlib.figure.Figure at 0x1cf218e5f28>"
      ]
     },
     "metadata": {},
     "output_type": "display_data"
    }
   ],
   "source": [
    "plt.figure(figsize=(5,2))\n",
    "sns.countplot(y='property_type', data=df)"
   ]
  },
  {
   "cell_type": "markdown",
   "metadata": {},
   "source": [
    "** Observation **:\n",
    "* Property_type having single family has maximum count greater than 1000\n",
    "* There is no sparse class in property_type"
   ]
  },
  {
   "cell_type": "markdown",
   "metadata": {},
   "source": [
    "## Sparse Classes\n",
    "Sparse classes are classes in categorical features that have a very small number of observations.\n",
    "\n",
    "They tend to be problematic when we get to building models.\n",
    "* In the best case, they don't influence the model much.\n",
    "* In the worst case, they can cause the model to be overfit.\n",
    "\n",
    "Let's make a mental note to combine or reassign some of these classes later."
   ]
  },
  {
   "cell_type": "markdown",
   "metadata": {},
   "source": [
    "From the above bar plots:\n",
    "\n",
    "**Observations:** In both 'exterior_walls' and 'roof' as well we have many sparse classes"
   ]
  },
  {
   "cell_type": "markdown",
   "metadata": {},
   "source": [
    "##  Segmentations\n",
    "Segmentations are powerful ways to cut the data to observe the relationship between categorical features and numeric features."
   ]
  },
  {
   "cell_type": "markdown",
   "metadata": {},
   "source": [
    "Segmenting the target variable by key categorical features."
   ]
  },
  {
   "cell_type": "code",
   "execution_count": 14,
   "metadata": {},
   "outputs": [
    {
     "data": {
      "text/plain": [
       "<matplotlib.axes._subplots.AxesSubplot at 0x1cf218b3b38>"
      ]
     },
     "execution_count": 14,
     "metadata": {},
     "output_type": "execute_result"
    },
    {
     "data": {
      "image/png": "[encoded data removed]",
      "text/plain": [
       "<matplotlib.figure.Figure at 0x1cf21a37e80>"
      ]
     },
     "metadata": {},
     "output_type": "display_data"
    }
   ],
   "source": [
    "sns.boxplot(y='property_type', x='tx_price', data=df)"
   ]
  },
  {
   "cell_type": "markdown",
   "metadata": {},
   "source": [
    "**Observation:** In general, it looks like single family homes are more expensive."
   ]
  },
  {
   "cell_type": "markdown",
   "metadata": {},
   "source": [
    "Let's compare the two property types across other features as well"
   ]
  },
  {
   "cell_type": "code",
   "execution_count": 15,
   "metadata": {},
   "outputs": [
    {
     "data": {
      "text/html": [
       "<div>\n",
       "<style>\n",
       "    .dataframe thead tr:only-child th {\n",
       "        text-align: right;\n",
       "    }\n",
       "\n",
       "    .dataframe thead th {\n",
       "        text-align: left;\n",
       "    }\n",
       "\n",
       "    .dataframe tbody tr th {\n",
       "        vertical-align: top;\n",
       "    }\n",
       "</style>\n",
       "<table border=\"1\" class=\"dataframe\">\n",
       "  <thead>\n",
       "    <tr style=\"text-align: right;\">\n",
       "      <th></th>\n",
       "      <th>tx_price</th>\n",
       "      <th>beds</th>\n",
       "      <th>baths</th>\n",
       "      <th>sqft</th>\n",
       "      <th>year_built</th>\n",
       "      <th>lot_size</th>\n",
       "      <th>basement</th>\n",
       "      <th>restaurants</th>\n",
       "      <th>groceries</th>\n",
       "      <th>nightlife</th>\n",
       "      <th>...</th>\n",
       "      <th>beauty_spas</th>\n",
       "      <th>active_life</th>\n",
       "      <th>median_age</th>\n",
       "      <th>married</th>\n",
       "      <th>college_grad</th>\n",
       "      <th>property_tax</th>\n",
       "      <th>insurance</th>\n",
       "      <th>median_school</th>\n",
       "      <th>num_schools</th>\n",
       "      <th>tx_year</th>\n",
       "    </tr>\n",
       "    <tr>\n",
       "      <th>property_type</th>\n",
       "      <th></th>\n",
       "      <th></th>\n",
       "      <th></th>\n",
       "      <th></th>\n",
       "      <th></th>\n",
       "      <th></th>\n",
       "      <th></th>\n",
       "      <th></th>\n",
       "      <th></th>\n",
       "      <th></th>\n",
       "      <th></th>\n",
       "      <th></th>\n",
       "      <th></th>\n",
       "      <th></th>\n",
       "      <th></th>\n",
       "      <th></th>\n",
       "      <th></th>\n",
       "      <th></th>\n",
       "      <th></th>\n",
       "      <th></th>\n",
       "      <th></th>\n",
       "    </tr>\n",
       "  </thead>\n",
       "  <tbody>\n",
       "    <tr>\n",
       "      <th>Apartment / Condo / Townhouse</th>\n",
       "      <td>366614.034869</td>\n",
       "      <td>2.601494</td>\n",
       "      <td>2.200498</td>\n",
       "      <td>1513.727273</td>\n",
       "      <td>1988.936488</td>\n",
       "      <td>3944.239103</td>\n",
       "      <td>1.0</td>\n",
       "      <td>58.418431</td>\n",
       "      <td>5.919054</td>\n",
       "      <td>7.855542</td>\n",
       "      <td>...</td>\n",
       "      <td>32.087173</td>\n",
       "      <td>22.410959</td>\n",
       "      <td>37.199253</td>\n",
       "      <td>57.534247</td>\n",
       "      <td>66.372354</td>\n",
       "      <td>346.261519</td>\n",
       "      <td>105.652553</td>\n",
       "      <td>6.382316</td>\n",
       "      <td>2.831880</td>\n",
       "      <td>2007.941469</td>\n",
       "    </tr>\n",
       "    <tr>\n",
       "      <th>Single-Family</th>\n",
       "      <td>464644.711111</td>\n",
       "      <td>4.029630</td>\n",
       "      <td>2.862037</td>\n",
       "      <td>2935.865741</td>\n",
       "      <td>1978.523148</td>\n",
       "      <td>20417.666667</td>\n",
       "      <td>1.0</td>\n",
       "      <td>26.672222</td>\n",
       "      <td>3.453704</td>\n",
       "      <td>3.007407</td>\n",
       "      <td>...</td>\n",
       "      <td>16.970370</td>\n",
       "      <td>10.946296</td>\n",
       "      <td>39.643519</td>\n",
       "      <td>77.685185</td>\n",
       "      <td>64.128704</td>\n",
       "      <td>556.383333</td>\n",
       "      <td>166.329630</td>\n",
       "      <td>6.592593</td>\n",
       "      <td>2.764815</td>\n",
       "      <td>2006.494444</td>\n",
       "    </tr>\n",
       "  </tbody>\n",
       "</table>\n",
       "<p>2 rows × 23 columns</p>\n",
       "</div>"
      ],
      "text/plain": [
       "                                    tx_price      beds     baths         sqft  \\\n",
       "property_type                                                                   \n",
       "Apartment / Condo / Townhouse  366614.034869  2.601494  2.200498  1513.727273   \n",
       "Single-Family                  464644.711111  4.029630  2.862037  2935.865741   \n",
       "\n",
       "                                year_built      lot_size  basement  \\\n",
       "property_type                                                        \n",
       "Apartment / Condo / Townhouse  1988.936488   3944.239103       1.0   \n",
       "Single-Family                  1978.523148  20417.666667       1.0   \n",
       "\n",
       "                               restaurants  groceries  nightlife     ...       \\\n",
       "property_type                                                        ...        \n",
       "Apartment / Condo / Townhouse    58.418431   5.919054   7.855542     ...        \n",
       "Single-Family                    26.672222   3.453704   3.007407     ...        \n",
       "\n",
       "                               beauty_spas  active_life  median_age  \\\n",
       "property_type                                                         \n",
       "Apartment / Condo / Townhouse    32.087173    22.410959   37.199253   \n",
       "Single-Family                    16.970370    10.946296   39.643519   \n",
       "\n",
       "                                 married  college_grad  property_tax  \\\n",
       "property_type                                                          \n",
       "Apartment / Condo / Townhouse  57.534247     66.372354    346.261519   \n",
       "Single-Family                  77.685185     64.128704    556.383333   \n",
       "\n",
       "                                insurance  median_school  num_schools  \\\n",
       "property_type                                                           \n",
       "Apartment / Condo / Townhouse  105.652553       6.382316     2.831880   \n",
       "Single-Family                  166.329630       6.592593     2.764815   \n",
       "\n",
       "                                   tx_year  \n",
       "property_type                               \n",
       "Apartment / Condo / Townhouse  2007.941469  \n",
       "Single-Family                  2006.494444  \n",
       "\n",
       "[2 rows x 23 columns]"
      ]
     },
     "execution_count": 15,
     "metadata": {},
     "output_type": "execute_result"
    }
   ],
   "source": [
    "df.groupby('property_type').mean()"
   ]
  },
  {
   "cell_type": "markdown",
   "metadata": {},
   "source": [
    "** Observations **:\n",
    "* Property having single-family is larger in sqft area.It also has more bedrooms than other property-type.\n",
    "* Apartment/townhouse has larger lots than the property having single-family.\n",
    "* Apartmenr/condo/Townhouse type of property is in areas with more restaurants,nightlife options,more grocery stores,shopping stores,active_life(gym,sports,yoga studios)\n",
    "* Property_type such as apartments,Condo,Townhouse is more crowded and so have more fascilities but smaller in sqft area so have lesser price whereas property-type having single-family are generally large in size and has lesser fascilities as less crowded. "
   ]
  },
  {
   "cell_type": "markdown",
   "metadata": {},
   "source": [
    "Segment 'sqft' by 'property_type' and plot the boxplots."
   ]
  },
  {
   "cell_type": "code",
   "execution_count": 16,
   "metadata": {},
   "outputs": [
    {
     "data": {
      "text/plain": [
       "<matplotlib.axes._subplots.AxesSubplot at 0x1cf2186c6a0>"
      ]
     },
     "execution_count": 16,
     "metadata": {},
     "output_type": "execute_result"
    },
    {
     "data": {
      "image/png": "[encoded data removed]",
      "text/plain": [
       "<matplotlib.figure.Figure at 0x1cf218a9400>"
      ]
     },
     "metadata": {},
     "output_type": "display_data"
    }
   ],
   "source": [
    "sns.boxplot(y='property_type', x='sqft', data=df)"
   ]
  },
  {
   "cell_type": "markdown",
   "metadata": {},
   "source": [
    "After producing the plot, consider these questions:\n",
    "* property-type single family is larger, on average.\n",
    "* Property-type single family has greater variance in sizes.\n",
    "* Sqft area of Apartment type property lies between 1000 to 2000 and have no much variation.It always has area lesser than single-family houses"
   ]
  },
  {
   "cell_type": "markdown",
   "metadata": {},
   "source": [
    "Segment by property_type and display the means and standard deviations within each class"
   ]
  },
  {
   "cell_type": "code",
   "execution_count": 17,
   "metadata": {},
   "outputs": [
    {
     "data": {
      "text/html": [
       "<div>\n",
       "<style>\n",
       "    .dataframe thead tr:only-child th {\n",
       "        text-align: right;\n",
       "    }\n",
       "\n",
       "    .dataframe thead th {\n",
       "        text-align: left;\n",
       "    }\n",
       "\n",
       "    .dataframe tbody tr th {\n",
       "        vertical-align: top;\n",
       "    }\n",
       "</style>\n",
       "<table border=\"1\" class=\"dataframe\">\n",
       "  <thead>\n",
       "    <tr>\n",
       "      <th></th>\n",
       "      <th colspan=\"2\" halign=\"left\">tx_price</th>\n",
       "      <th colspan=\"2\" halign=\"left\">beds</th>\n",
       "      <th colspan=\"2\" halign=\"left\">baths</th>\n",
       "      <th colspan=\"2\" halign=\"left\">sqft</th>\n",
       "      <th colspan=\"2\" halign=\"left\">year_built</th>\n",
       "      <th>...</th>\n",
       "      <th colspan=\"2\" halign=\"left\">property_tax</th>\n",
       "      <th colspan=\"2\" halign=\"left\">insurance</th>\n",
       "      <th colspan=\"2\" halign=\"left\">median_school</th>\n",
       "      <th colspan=\"2\" halign=\"left\">num_schools</th>\n",
       "      <th colspan=\"2\" halign=\"left\">tx_year</th>\n",
       "    </tr>\n",
       "    <tr>\n",
       "      <th></th>\n",
       "      <th>mean</th>\n",
       "      <th>std</th>\n",
       "      <th>mean</th>\n",
       "      <th>std</th>\n",
       "      <th>mean</th>\n",
       "      <th>std</th>\n",
       "      <th>mean</th>\n",
       "      <th>std</th>\n",
       "      <th>mean</th>\n",
       "      <th>std</th>\n",
       "      <th>...</th>\n",
       "      <th>mean</th>\n",
       "      <th>std</th>\n",
       "      <th>mean</th>\n",
       "      <th>std</th>\n",
       "      <th>mean</th>\n",
       "      <th>std</th>\n",
       "      <th>mean</th>\n",
       "      <th>std</th>\n",
       "      <th>mean</th>\n",
       "      <th>std</th>\n",
       "    </tr>\n",
       "    <tr>\n",
       "      <th>property_type</th>\n",
       "      <th></th>\n",
       "      <th></th>\n",
       "      <th></th>\n",
       "      <th></th>\n",
       "      <th></th>\n",
       "      <th></th>\n",
       "      <th></th>\n",
       "      <th></th>\n",
       "      <th></th>\n",
       "      <th></th>\n",
       "      <th></th>\n",
       "      <th></th>\n",
       "      <th></th>\n",
       "      <th></th>\n",
       "      <th></th>\n",
       "      <th></th>\n",
       "      <th></th>\n",
       "      <th></th>\n",
       "      <th></th>\n",
       "      <th></th>\n",
       "      <th></th>\n",
       "    </tr>\n",
       "  </thead>\n",
       "  <tbody>\n",
       "    <tr>\n",
       "      <th>Apartment / Condo / Townhouse</th>\n",
       "      <td>366614.034869</td>\n",
       "      <td>121784.490486</td>\n",
       "      <td>2.601494</td>\n",
       "      <td>0.810220</td>\n",
       "      <td>2.200498</td>\n",
       "      <td>0.815009</td>\n",
       "      <td>1513.727273</td>\n",
       "      <td>556.286650</td>\n",
       "      <td>1988.936488</td>\n",
       "      <td>15.513640</td>\n",
       "      <td>...</td>\n",
       "      <td>346.261519</td>\n",
       "      <td>142.292282</td>\n",
       "      <td>105.652553</td>\n",
       "      <td>47.118015</td>\n",
       "      <td>6.382316</td>\n",
       "      <td>1.941998</td>\n",
       "      <td>2.831880</td>\n",
       "      <td>0.455370</td>\n",
       "      <td>2007.941469</td>\n",
       "      <td>4.099487</td>\n",
       "    </tr>\n",
       "    <tr>\n",
       "      <th>Single-Family</th>\n",
       "      <td>464644.711111</td>\n",
       "      <td>157758.739013</td>\n",
       "      <td>4.029630</td>\n",
       "      <td>0.795639</td>\n",
       "      <td>2.862037</td>\n",
       "      <td>0.937551</td>\n",
       "      <td>2935.865741</td>\n",
       "      <td>1422.871169</td>\n",
       "      <td>1978.523148</td>\n",
       "      <td>22.210582</td>\n",
       "      <td>...</td>\n",
       "      <td>556.383333</td>\n",
       "      <td>244.351559</td>\n",
       "      <td>166.329630</td>\n",
       "      <td>77.816022</td>\n",
       "      <td>6.592593</td>\n",
       "      <td>2.031663</td>\n",
       "      <td>2.764815</td>\n",
       "      <td>0.537959</td>\n",
       "      <td>2006.494444</td>\n",
       "      <td>5.807059</td>\n",
       "    </tr>\n",
       "  </tbody>\n",
       "</table>\n",
       "<p>2 rows × 46 columns</p>\n",
       "</div>"
      ],
      "text/plain": [
       "                                    tx_price                     beds  \\\n",
       "                                        mean            std      mean   \n",
       "property_type                                                           \n",
       "Apartment / Condo / Townhouse  366614.034869  121784.490486  2.601494   \n",
       "Single-Family                  464644.711111  157758.739013  4.029630   \n",
       "\n",
       "                                            baths                   sqft  \\\n",
       "                                    std      mean       std         mean   \n",
       "property_type                                                              \n",
       "Apartment / Condo / Townhouse  0.810220  2.200498  0.815009  1513.727273   \n",
       "Single-Family                  0.795639  2.862037  0.937551  2935.865741   \n",
       "\n",
       "                                             year_built               ...     \\\n",
       "                                       std         mean        std    ...      \n",
       "property_type                                                         ...      \n",
       "Apartment / Condo / Townhouse   556.286650  1988.936488  15.513640    ...      \n",
       "Single-Family                  1422.871169  1978.523148  22.210582    ...      \n",
       "\n",
       "                              property_tax               insurance             \\\n",
       "                                      mean         std        mean        std   \n",
       "property_type                                                                   \n",
       "Apartment / Condo / Townhouse   346.261519  142.292282  105.652553  47.118015   \n",
       "Single-Family                   556.383333  244.351559  166.329630  77.816022   \n",
       "\n",
       "                              median_school           num_schools            \\\n",
       "                                       mean       std        mean       std   \n",
       "property_type                                                                 \n",
       "Apartment / Condo / Townhouse      6.382316  1.941998    2.831880  0.455370   \n",
       "Single-Family                      6.592593  2.031663    2.764815  0.537959   \n",
       "\n",
       "                                   tx_year            \n",
       "                                      mean       std  \n",
       "property_type                                         \n",
       "Apartment / Condo / Townhouse  2007.941469  4.099487  \n",
       "Single-Family                  2006.494444  5.807059  \n",
       "\n",
       "[2 rows x 46 columns]"
      ]
     },
     "execution_count": 17,
     "metadata": {},
     "output_type": "execute_result"
    }
   ],
   "source": [
    "df.groupby('property_type').agg([np.mean, np.std])"
   ]
  },
  {
   "cell_type": "markdown",
   "metadata": {},
   "source": [
    "## Correlations\n",
    "* Finally, let's take a look at the relationships between numeric features and other numeric features.\n",
    "* ***Correlation*** is a value between -1 and 1 that represents how closely values for two separate features move in unison.\n",
    "* Positive correlation means that as one feature increases, the other increases; eg. a child's age and her height.\n",
    "* Negative correlation means that as one feature increases, the other decreases; eg. hours spent studying and number of parties attended.\n",
    "* Correlations near -1 or 1 indicate a strong relationship.\n",
    "* Those closer to 0 indicate a weak relationship.\n",
    "* 0 indicates no relationship."
   ]
  },
  {
   "cell_type": "code",
   "execution_count": 18,
   "metadata": {},
   "outputs": [
    {
     "data": {
      "text/html": [
       "<div>\n",
       "<style>\n",
       "    .dataframe thead tr:only-child th {\n",
       "        text-align: right;\n",
       "    }\n",
       "\n",
       "    .dataframe thead th {\n",
       "        text-align: left;\n",
       "    }\n",
       "\n",
       "    .dataframe tbody tr th {\n",
       "        vertical-align: top;\n",
       "    }\n",
       "</style>\n",
       "<table border=\"1\" class=\"dataframe\">\n",
       "  <thead>\n",
       "    <tr style=\"text-align: right;\">\n",
       "      <th></th>\n",
       "      <th>tx_price</th>\n",
       "      <th>beds</th>\n",
       "      <th>baths</th>\n",
       "      <th>sqft</th>\n",
       "      <th>year_built</th>\n",
       "      <th>lot_size</th>\n",
       "      <th>basement</th>\n",
       "      <th>restaurants</th>\n",
       "      <th>groceries</th>\n",
       "      <th>nightlife</th>\n",
       "      <th>...</th>\n",
       "      <th>beauty_spas</th>\n",
       "      <th>active_life</th>\n",
       "      <th>median_age</th>\n",
       "      <th>married</th>\n",
       "      <th>college_grad</th>\n",
       "      <th>property_tax</th>\n",
       "      <th>insurance</th>\n",
       "      <th>median_school</th>\n",
       "      <th>num_schools</th>\n",
       "      <th>tx_year</th>\n",
       "    </tr>\n",
       "  </thead>\n",
       "  <tbody>\n",
       "    <tr>\n",
       "      <th>tx_price</th>\n",
       "      <td>1.000000</td>\n",
       "      <td>0.384046</td>\n",
       "      <td>0.389375</td>\n",
       "      <td>0.469573</td>\n",
       "      <td>0.033138</td>\n",
       "      <td>0.130558</td>\n",
       "      <td>NaN</td>\n",
       "      <td>-0.038027</td>\n",
       "      <td>-0.094314</td>\n",
       "      <td>0.009361</td>\n",
       "      <td>...</td>\n",
       "      <td>-0.054349</td>\n",
       "      <td>-0.001165</td>\n",
       "      <td>0.126335</td>\n",
       "      <td>0.200494</td>\n",
       "      <td>0.268577</td>\n",
       "      <td>0.535148</td>\n",
       "      <td>0.532947</td>\n",
       "      <td>0.175762</td>\n",
       "      <td>-0.014380</td>\n",
       "      <td>0.108782</td>\n",
       "    </tr>\n",
       "    <tr>\n",
       "      <th>beds</th>\n",
       "      <td>0.384046</td>\n",
       "      <td>1.000000</td>\n",
       "      <td>0.644572</td>\n",
       "      <td>0.691039</td>\n",
       "      <td>-0.011844</td>\n",
       "      <td>0.164399</td>\n",
       "      <td>NaN</td>\n",
       "      <td>-0.495834</td>\n",
       "      <td>-0.421412</td>\n",
       "      <td>-0.440844</td>\n",
       "      <td>...</td>\n",
       "      <td>-0.419832</td>\n",
       "      <td>-0.486957</td>\n",
       "      <td>0.133711</td>\n",
       "      <td>0.643240</td>\n",
       "      <td>-0.082354</td>\n",
       "      <td>0.547643</td>\n",
       "      <td>0.485776</td>\n",
       "      <td>0.137309</td>\n",
       "      <td>-0.124359</td>\n",
       "      <td>-0.174081</td>\n",
       "    </tr>\n",
       "    <tr>\n",
       "      <th>baths</th>\n",
       "      <td>0.389375</td>\n",
       "      <td>0.644572</td>\n",
       "      <td>1.000000</td>\n",
       "      <td>0.682060</td>\n",
       "      <td>0.206141</td>\n",
       "      <td>0.132976</td>\n",
       "      <td>NaN</td>\n",
       "      <td>-0.350210</td>\n",
       "      <td>-0.340024</td>\n",
       "      <td>-0.306686</td>\n",
       "      <td>...</td>\n",
       "      <td>-0.282008</td>\n",
       "      <td>-0.329736</td>\n",
       "      <td>0.095844</td>\n",
       "      <td>0.442225</td>\n",
       "      <td>0.016097</td>\n",
       "      <td>0.525776</td>\n",
       "      <td>0.475430</td>\n",
       "      <td>0.163365</td>\n",
       "      <td>-0.088299</td>\n",
       "      <td>-0.132110</td>\n",
       "    </tr>\n",
       "    <tr>\n",
       "      <th>sqft</th>\n",
       "      <td>0.469573</td>\n",
       "      <td>0.691039</td>\n",
       "      <td>0.682060</td>\n",
       "      <td>1.000000</td>\n",
       "      <td>0.254589</td>\n",
       "      <td>0.246016</td>\n",
       "      <td>NaN</td>\n",
       "      <td>-0.353759</td>\n",
       "      <td>-0.371167</td>\n",
       "      <td>-0.281540</td>\n",
       "      <td>...</td>\n",
       "      <td>-0.310465</td>\n",
       "      <td>-0.332663</td>\n",
       "      <td>0.109811</td>\n",
       "      <td>0.480167</td>\n",
       "      <td>0.065343</td>\n",
       "      <td>0.660264</td>\n",
       "      <td>0.594049</td>\n",
       "      <td>0.220669</td>\n",
       "      <td>-0.102032</td>\n",
       "      <td>-0.236190</td>\n",
       "    </tr>\n",
       "    <tr>\n",
       "      <th>year_built</th>\n",
       "      <td>0.033138</td>\n",
       "      <td>-0.011844</td>\n",
       "      <td>0.206141</td>\n",
       "      <td>0.254589</td>\n",
       "      <td>1.000000</td>\n",
       "      <td>0.000068</td>\n",
       "      <td>NaN</td>\n",
       "      <td>-0.106948</td>\n",
       "      <td>-0.222443</td>\n",
       "      <td>-0.080006</td>\n",
       "      <td>...</td>\n",
       "      <td>-0.163670</td>\n",
       "      <td>-0.134919</td>\n",
       "      <td>-0.237152</td>\n",
       "      <td>0.038208</td>\n",
       "      <td>-0.014204</td>\n",
       "      <td>-0.046504</td>\n",
       "      <td>-0.109521</td>\n",
       "      <td>0.155835</td>\n",
       "      <td>-0.188106</td>\n",
       "      <td>-0.043301</td>\n",
       "    </tr>\n",
       "    <tr>\n",
       "      <th>lot_size</th>\n",
       "      <td>0.130558</td>\n",
       "      <td>0.164399</td>\n",
       "      <td>0.132976</td>\n",
       "      <td>0.246016</td>\n",
       "      <td>0.000068</td>\n",
       "      <td>1.000000</td>\n",
       "      <td>NaN</td>\n",
       "      <td>-0.113887</td>\n",
       "      <td>-0.118574</td>\n",
       "      <td>-0.072224</td>\n",
       "      <td>...</td>\n",
       "      <td>-0.121075</td>\n",
       "      <td>-0.092668</td>\n",
       "      <td>0.099140</td>\n",
       "      <td>0.122028</td>\n",
       "      <td>-0.030725</td>\n",
       "      <td>0.165800</td>\n",
       "      <td>0.146579</td>\n",
       "      <td>0.096551</td>\n",
       "      <td>-0.031535</td>\n",
       "      <td>-0.048207</td>\n",
       "    </tr>\n",
       "    <tr>\n",
       "      <th>basement</th>\n",
       "      <td>NaN</td>\n",
       "      <td>NaN</td>\n",
       "      <td>NaN</td>\n",
       "      <td>NaN</td>\n",
       "      <td>NaN</td>\n",
       "      <td>NaN</td>\n",
       "      <td>NaN</td>\n",
       "      <td>NaN</td>\n",
       "      <td>NaN</td>\n",
       "      <td>NaN</td>\n",
       "      <td>...</td>\n",
       "      <td>NaN</td>\n",
       "      <td>NaN</td>\n",
       "      <td>NaN</td>\n",
       "      <td>NaN</td>\n",
       "      <td>NaN</td>\n",
       "      <td>NaN</td>\n",
       "      <td>NaN</td>\n",
       "      <td>NaN</td>\n",
       "      <td>NaN</td>\n",
       "      <td>NaN</td>\n",
       "    </tr>\n",
       "    <tr>\n",
       "      <th>restaurants</th>\n",
       "      <td>-0.038027</td>\n",
       "      <td>-0.495834</td>\n",
       "      <td>-0.350210</td>\n",
       "      <td>-0.353759</td>\n",
       "      <td>-0.106948</td>\n",
       "      <td>-0.113887</td>\n",
       "      <td>NaN</td>\n",
       "      <td>1.000000</td>\n",
       "      <td>0.701462</td>\n",
       "      <td>0.926675</td>\n",
       "      <td>...</td>\n",
       "      <td>0.867829</td>\n",
       "      <td>0.881799</td>\n",
       "      <td>-0.063816</td>\n",
       "      <td>-0.615584</td>\n",
       "      <td>0.214260</td>\n",
       "      <td>-0.100821</td>\n",
       "      <td>-0.019925</td>\n",
       "      <td>-0.068425</td>\n",
       "      <td>0.251171</td>\n",
       "      <td>0.044739</td>\n",
       "    </tr>\n",
       "    <tr>\n",
       "      <th>groceries</th>\n",
       "      <td>-0.094314</td>\n",
       "      <td>-0.421412</td>\n",
       "      <td>-0.340024</td>\n",
       "      <td>-0.371167</td>\n",
       "      <td>-0.222443</td>\n",
       "      <td>-0.118574</td>\n",
       "      <td>NaN</td>\n",
       "      <td>0.701462</td>\n",
       "      <td>1.000000</td>\n",
       "      <td>0.565003</td>\n",
       "      <td>...</td>\n",
       "      <td>0.626850</td>\n",
       "      <td>0.574532</td>\n",
       "      <td>-0.022377</td>\n",
       "      <td>-0.508793</td>\n",
       "      <td>-0.006025</td>\n",
       "      <td>-0.159506</td>\n",
       "      <td>-0.093974</td>\n",
       "      <td>-0.354553</td>\n",
       "      <td>0.272856</td>\n",
       "      <td>0.115674</td>\n",
       "    </tr>\n",
       "    <tr>\n",
       "      <th>nightlife</th>\n",
       "      <td>0.009361</td>\n",
       "      <td>-0.440844</td>\n",
       "      <td>-0.306686</td>\n",
       "      <td>-0.281540</td>\n",
       "      <td>-0.080006</td>\n",
       "      <td>-0.072224</td>\n",
       "      <td>NaN</td>\n",
       "      <td>0.926675</td>\n",
       "      <td>0.565003</td>\n",
       "      <td>1.000000</td>\n",
       "      <td>...</td>\n",
       "      <td>0.777461</td>\n",
       "      <td>0.858836</td>\n",
       "      <td>-0.028611</td>\n",
       "      <td>-0.568811</td>\n",
       "      <td>0.253717</td>\n",
       "      <td>-0.054386</td>\n",
       "      <td>0.024551</td>\n",
       "      <td>-0.036948</td>\n",
       "      <td>0.196399</td>\n",
       "      <td>0.027495</td>\n",
       "    </tr>\n",
       "    <tr>\n",
       "      <th>cafes</th>\n",
       "      <td>-0.001398</td>\n",
       "      <td>-0.464289</td>\n",
       "      <td>-0.316836</td>\n",
       "      <td>-0.300969</td>\n",
       "      <td>-0.102209</td>\n",
       "      <td>-0.098182</td>\n",
       "      <td>NaN</td>\n",
       "      <td>0.937616</td>\n",
       "      <td>0.602857</td>\n",
       "      <td>0.923901</td>\n",
       "      <td>...</td>\n",
       "      <td>0.822541</td>\n",
       "      <td>0.826648</td>\n",
       "      <td>0.026400</td>\n",
       "      <td>-0.581850</td>\n",
       "      <td>0.266652</td>\n",
       "      <td>-0.044410</td>\n",
       "      <td>0.036502</td>\n",
       "      <td>-0.027868</td>\n",
       "      <td>0.224312</td>\n",
       "      <td>0.013558</td>\n",
       "    </tr>\n",
       "    <tr>\n",
       "      <th>shopping</th>\n",
       "      <td>-0.038246</td>\n",
       "      <td>-0.388670</td>\n",
       "      <td>-0.259603</td>\n",
       "      <td>-0.275586</td>\n",
       "      <td>-0.121684</td>\n",
       "      <td>-0.116560</td>\n",
       "      <td>NaN</td>\n",
       "      <td>0.818815</td>\n",
       "      <td>0.526356</td>\n",
       "      <td>0.743321</td>\n",
       "      <td>...</td>\n",
       "      <td>0.860987</td>\n",
       "      <td>0.678515</td>\n",
       "      <td>0.032339</td>\n",
       "      <td>-0.454072</td>\n",
       "      <td>0.177383</td>\n",
       "      <td>-0.040556</td>\n",
       "      <td>0.018846</td>\n",
       "      <td>-0.048058</td>\n",
       "      <td>0.228988</td>\n",
       "      <td>-0.000324</td>\n",
       "    </tr>\n",
       "    <tr>\n",
       "      <th>arts_entertainment</th>\n",
       "      <td>-0.021076</td>\n",
       "      <td>-0.442168</td>\n",
       "      <td>-0.305885</td>\n",
       "      <td>-0.293402</td>\n",
       "      <td>-0.195141</td>\n",
       "      <td>-0.067189</td>\n",
       "      <td>NaN</td>\n",
       "      <td>0.726907</td>\n",
       "      <td>0.502837</td>\n",
       "      <td>0.703038</td>\n",
       "      <td>...</td>\n",
       "      <td>0.757860</td>\n",
       "      <td>0.800994</td>\n",
       "      <td>-0.014640</td>\n",
       "      <td>-0.554533</td>\n",
       "      <td>0.239129</td>\n",
       "      <td>-0.066346</td>\n",
       "      <td>0.015380</td>\n",
       "      <td>-0.138266</td>\n",
       "      <td>0.214163</td>\n",
       "      <td>0.034356</td>\n",
       "    </tr>\n",
       "    <tr>\n",
       "      <th>beauty_spas</th>\n",
       "      <td>-0.054349</td>\n",
       "      <td>-0.419832</td>\n",
       "      <td>-0.282008</td>\n",
       "      <td>-0.310465</td>\n",
       "      <td>-0.163670</td>\n",
       "      <td>-0.121075</td>\n",
       "      <td>NaN</td>\n",
       "      <td>0.867829</td>\n",
       "      <td>0.626850</td>\n",
       "      <td>0.777461</td>\n",
       "      <td>...</td>\n",
       "      <td>1.000000</td>\n",
       "      <td>0.785920</td>\n",
       "      <td>-0.002961</td>\n",
       "      <td>-0.510331</td>\n",
       "      <td>0.177066</td>\n",
       "      <td>-0.057293</td>\n",
       "      <td>0.010980</td>\n",
       "      <td>-0.098727</td>\n",
       "      <td>0.262651</td>\n",
       "      <td>0.008066</td>\n",
       "    </tr>\n",
       "    <tr>\n",
       "      <th>active_life</th>\n",
       "      <td>-0.001165</td>\n",
       "      <td>-0.486957</td>\n",
       "      <td>-0.329736</td>\n",
       "      <td>-0.332663</td>\n",
       "      <td>-0.134919</td>\n",
       "      <td>-0.092668</td>\n",
       "      <td>NaN</td>\n",
       "      <td>0.881799</td>\n",
       "      <td>0.574532</td>\n",
       "      <td>0.858836</td>\n",
       "      <td>...</td>\n",
       "      <td>0.785920</td>\n",
       "      <td>1.000000</td>\n",
       "      <td>-0.081159</td>\n",
       "      <td>-0.632052</td>\n",
       "      <td>0.323985</td>\n",
       "      <td>-0.057646</td>\n",
       "      <td>0.030911</td>\n",
       "      <td>0.007675</td>\n",
       "      <td>0.235246</td>\n",
       "      <td>0.028759</td>\n",
       "    </tr>\n",
       "    <tr>\n",
       "      <th>median_age</th>\n",
       "      <td>0.126335</td>\n",
       "      <td>0.133711</td>\n",
       "      <td>0.095844</td>\n",
       "      <td>0.109811</td>\n",
       "      <td>-0.237152</td>\n",
       "      <td>0.099140</td>\n",
       "      <td>NaN</td>\n",
       "      <td>-0.063816</td>\n",
       "      <td>-0.022377</td>\n",
       "      <td>-0.028611</td>\n",
       "      <td>...</td>\n",
       "      <td>-0.002961</td>\n",
       "      <td>-0.081159</td>\n",
       "      <td>1.000000</td>\n",
       "      <td>0.045555</td>\n",
       "      <td>0.169749</td>\n",
       "      <td>0.215435</td>\n",
       "      <td>0.232503</td>\n",
       "      <td>-0.002861</td>\n",
       "      <td>0.071455</td>\n",
       "      <td>-0.118490</td>\n",
       "    </tr>\n",
       "    <tr>\n",
       "      <th>married</th>\n",
       "      <td>0.200494</td>\n",
       "      <td>0.643240</td>\n",
       "      <td>0.442225</td>\n",
       "      <td>0.480167</td>\n",
       "      <td>0.038208</td>\n",
       "      <td>0.122028</td>\n",
       "      <td>NaN</td>\n",
       "      <td>-0.615584</td>\n",
       "      <td>-0.508793</td>\n",
       "      <td>-0.568811</td>\n",
       "      <td>...</td>\n",
       "      <td>-0.510331</td>\n",
       "      <td>-0.632052</td>\n",
       "      <td>0.045555</td>\n",
       "      <td>1.000000</td>\n",
       "      <td>-0.143461</td>\n",
       "      <td>0.305330</td>\n",
       "      <td>0.233701</td>\n",
       "      <td>0.169439</td>\n",
       "      <td>-0.212870</td>\n",
       "      <td>-0.134787</td>\n",
       "    </tr>\n",
       "    <tr>\n",
       "      <th>college_grad</th>\n",
       "      <td>0.268577</td>\n",
       "      <td>-0.082354</td>\n",
       "      <td>0.016097</td>\n",
       "      <td>0.065343</td>\n",
       "      <td>-0.014204</td>\n",
       "      <td>-0.030725</td>\n",
       "      <td>NaN</td>\n",
       "      <td>0.214260</td>\n",
       "      <td>-0.006025</td>\n",
       "      <td>0.253717</td>\n",
       "      <td>...</td>\n",
       "      <td>0.177066</td>\n",
       "      <td>0.323985</td>\n",
       "      <td>0.169749</td>\n",
       "      <td>-0.143461</td>\n",
       "      <td>1.000000</td>\n",
       "      <td>0.287933</td>\n",
       "      <td>0.326057</td>\n",
       "      <td>0.400306</td>\n",
       "      <td>0.049756</td>\n",
       "      <td>-0.189932</td>\n",
       "    </tr>\n",
       "    <tr>\n",
       "      <th>property_tax</th>\n",
       "      <td>0.535148</td>\n",
       "      <td>0.547643</td>\n",
       "      <td>0.525776</td>\n",
       "      <td>0.660264</td>\n",
       "      <td>-0.046504</td>\n",
       "      <td>0.165800</td>\n",
       "      <td>NaN</td>\n",
       "      <td>-0.100821</td>\n",
       "      <td>-0.159506</td>\n",
       "      <td>-0.054386</td>\n",
       "      <td>...</td>\n",
       "      <td>-0.057293</td>\n",
       "      <td>-0.057646</td>\n",
       "      <td>0.215435</td>\n",
       "      <td>0.305330</td>\n",
       "      <td>0.287933</td>\n",
       "      <td>1.000000</td>\n",
       "      <td>0.984724</td>\n",
       "      <td>0.237455</td>\n",
       "      <td>0.037342</td>\n",
       "      <td>-0.257703</td>\n",
       "    </tr>\n",
       "    <tr>\n",
       "      <th>insurance</th>\n",
       "      <td>0.532947</td>\n",
       "      <td>0.485776</td>\n",
       "      <td>0.475430</td>\n",
       "      <td>0.594049</td>\n",
       "      <td>-0.109521</td>\n",
       "      <td>0.146579</td>\n",
       "      <td>NaN</td>\n",
       "      <td>-0.019925</td>\n",
       "      <td>-0.093974</td>\n",
       "      <td>0.024551</td>\n",
       "      <td>...</td>\n",
       "      <td>0.010980</td>\n",
       "      <td>0.030911</td>\n",
       "      <td>0.232503</td>\n",
       "      <td>0.233701</td>\n",
       "      <td>0.326057</td>\n",
       "      <td>0.984724</td>\n",
       "      <td>1.000000</td>\n",
       "      <td>0.234889</td>\n",
       "      <td>0.056985</td>\n",
       "      <td>-0.254706</td>\n",
       "    </tr>\n",
       "    <tr>\n",
       "      <th>median_school</th>\n",
       "      <td>0.175762</td>\n",
       "      <td>0.137309</td>\n",
       "      <td>0.163365</td>\n",
       "      <td>0.220669</td>\n",
       "      <td>0.155835</td>\n",
       "      <td>0.096551</td>\n",
       "      <td>NaN</td>\n",
       "      <td>-0.068425</td>\n",
       "      <td>-0.354553</td>\n",
       "      <td>-0.036948</td>\n",
       "      <td>...</td>\n",
       "      <td>-0.098727</td>\n",
       "      <td>0.007675</td>\n",
       "      <td>-0.002861</td>\n",
       "      <td>0.169439</td>\n",
       "      <td>0.400306</td>\n",
       "      <td>0.237455</td>\n",
       "      <td>0.234889</td>\n",
       "      <td>1.000000</td>\n",
       "      <td>-0.145572</td>\n",
       "      <td>-0.167141</td>\n",
       "    </tr>\n",
       "    <tr>\n",
       "      <th>num_schools</th>\n",
       "      <td>-0.014380</td>\n",
       "      <td>-0.124359</td>\n",
       "      <td>-0.088299</td>\n",
       "      <td>-0.102032</td>\n",
       "      <td>-0.188106</td>\n",
       "      <td>-0.031535</td>\n",
       "      <td>NaN</td>\n",
       "      <td>0.251171</td>\n",
       "      <td>0.272856</td>\n",
       "      <td>0.196399</td>\n",
       "      <td>...</td>\n",
       "      <td>0.262651</td>\n",
       "      <td>0.235246</td>\n",
       "      <td>0.071455</td>\n",
       "      <td>-0.212870</td>\n",
       "      <td>0.049756</td>\n",
       "      <td>0.037342</td>\n",
       "      <td>0.056985</td>\n",
       "      <td>-0.145572</td>\n",
       "      <td>1.000000</td>\n",
       "      <td>0.007361</td>\n",
       "    </tr>\n",
       "    <tr>\n",
       "      <th>tx_year</th>\n",
       "      <td>0.108782</td>\n",
       "      <td>-0.174081</td>\n",
       "      <td>-0.132110</td>\n",
       "      <td>-0.236190</td>\n",
       "      <td>-0.043301</td>\n",
       "      <td>-0.048207</td>\n",
       "      <td>NaN</td>\n",
       "      <td>0.044739</td>\n",
       "      <td>0.115674</td>\n",
       "      <td>0.027495</td>\n",
       "      <td>...</td>\n",
       "      <td>0.008066</td>\n",
       "      <td>0.028759</td>\n",
       "      <td>-0.118490</td>\n",
       "      <td>-0.134787</td>\n",
       "      <td>-0.189932</td>\n",
       "      <td>-0.257703</td>\n",
       "      <td>-0.254706</td>\n",
       "      <td>-0.167141</td>\n",
       "      <td>0.007361</td>\n",
       "      <td>1.000000</td>\n",
       "    </tr>\n",
       "  </tbody>\n",
       "</table>\n",
       "<p>23 rows × 23 columns</p>\n",
       "</div>"
      ],
      "text/plain": [
       "                    tx_price      beds     baths      sqft  year_built  \\\n",
       "tx_price            1.000000  0.384046  0.389375  0.469573    0.033138   \n",
       "beds                0.384046  1.000000  0.644572  0.691039   -0.011844   \n",
       "baths               0.389375  0.644572  1.000000  0.682060    0.206141   \n",
       "sqft                0.469573  0.691039  0.682060  1.000000    0.254589   \n",
       "year_built          0.033138 -0.011844  0.206141  0.254589    1.000000   \n",
       "lot_size            0.130558  0.164399  0.132976  0.246016    0.000068   \n",
       "basement                 NaN       NaN       NaN       NaN         NaN   \n",
       "restaurants        -0.038027 -0.495834 -0.350210 -0.353759   -0.106948   \n",
       "groceries          -0.094314 -0.421412 -0.340024 -0.371167   -0.222443   \n",
       "nightlife           0.009361 -0.440844 -0.306686 -0.281540   -0.080006   \n",
       "cafes              -0.001398 -0.464289 -0.316836 -0.300969   -0.102209   \n",
       "shopping           -0.038246 -0.388670 -0.259603 -0.275586   -0.121684   \n",
       "arts_entertainment -0.021076 -0.442168 -0.305885 -0.293402   -0.195141   \n",
       "beauty_spas        -0.054349 -0.419832 -0.282008 -0.310465   -0.163670   \n",
       "active_life        -0.001165 -0.486957 -0.329736 -0.332663   -0.134919   \n",
       "median_age          0.126335  0.133711  0.095844  0.109811   -0.237152   \n",
       "married             0.200494  0.643240  0.442225  0.480167    0.038208   \n",
       "college_grad        0.268577 -0.082354  0.016097  0.065343   -0.014204   \n",
       "property_tax        0.535148  0.547643  0.525776  0.660264   -0.046504   \n",
       "insurance           0.532947  0.485776  0.475430  0.594049   -0.109521   \n",
       "median_school       0.175762  0.137309  0.163365  0.220669    0.155835   \n",
       "num_schools        -0.014380 -0.124359 -0.088299 -0.102032   -0.188106   \n",
       "tx_year             0.108782 -0.174081 -0.132110 -0.236190   -0.043301   \n",
       "\n",
       "                    lot_size  basement  restaurants  groceries  nightlife  \\\n",
       "tx_price            0.130558       NaN    -0.038027  -0.094314   0.009361   \n",
       "beds                0.164399       NaN    -0.495834  -0.421412  -0.440844   \n",
       "baths               0.132976       NaN    -0.350210  -0.340024  -0.306686   \n",
       "sqft                0.246016       NaN    -0.353759  -0.371167  -0.281540   \n",
       "year_built          0.000068       NaN    -0.106948  -0.222443  -0.080006   \n",
       "lot_size            1.000000       NaN    -0.113887  -0.118574  -0.072224   \n",
       "basement                 NaN       NaN          NaN        NaN        NaN   \n",
       "restaurants        -0.113887       NaN     1.000000   0.701462   0.926675   \n",
       "groceries          -0.118574       NaN     0.701462   1.000000   0.565003   \n",
       "nightlife          -0.072224       NaN     0.926675   0.565003   1.000000   \n",
       "cafes              -0.098182       NaN     0.937616   0.602857   0.923901   \n",
       "shopping           -0.116560       NaN     0.818815   0.526356   0.743321   \n",
       "arts_entertainment -0.067189       NaN     0.726907   0.502837   0.703038   \n",
       "beauty_spas        -0.121075       NaN     0.867829   0.626850   0.777461   \n",
       "active_life        -0.092668       NaN     0.881799   0.574532   0.858836   \n",
       "median_age          0.099140       NaN    -0.063816  -0.022377  -0.028611   \n",
       "married             0.122028       NaN    -0.615584  -0.508793  -0.568811   \n",
       "college_grad       -0.030725       NaN     0.214260  -0.006025   0.253717   \n",
       "property_tax        0.165800       NaN    -0.100821  -0.159506  -0.054386   \n",
       "insurance           0.146579       NaN    -0.019925  -0.093974   0.024551   \n",
       "median_school       0.096551       NaN    -0.068425  -0.354553  -0.036948   \n",
       "num_schools        -0.031535       NaN     0.251171   0.272856   0.196399   \n",
       "tx_year            -0.048207       NaN     0.044739   0.115674   0.027495   \n",
       "\n",
       "                      ...     beauty_spas  active_life  median_age   married  \\\n",
       "tx_price              ...       -0.054349    -0.001165    0.126335  0.200494   \n",
       "beds                  ...       -0.419832    -0.486957    0.133711  0.643240   \n",
       "baths                 ...       -0.282008    -0.329736    0.095844  0.442225   \n",
       "sqft                  ...       -0.310465    -0.332663    0.109811  0.480167   \n",
       "year_built            ...       -0.163670    -0.134919   -0.237152  0.038208   \n",
       "lot_size              ...       -0.121075    -0.092668    0.099140  0.122028   \n",
       "basement              ...             NaN          NaN         NaN       NaN   \n",
       "restaurants           ...        0.867829     0.881799   -0.063816 -0.615584   \n",
       "groceries             ...        0.626850     0.574532   -0.022377 -0.508793   \n",
       "nightlife             ...        0.777461     0.858836   -0.028611 -0.568811   \n",
       "cafes                 ...        0.822541     0.826648    0.026400 -0.581850   \n",
       "shopping              ...        0.860987     0.678515    0.032339 -0.454072   \n",
       "arts_entertainment    ...        0.757860     0.800994   -0.014640 -0.554533   \n",
       "beauty_spas           ...        1.000000     0.785920   -0.002961 -0.510331   \n",
       "active_life           ...        0.785920     1.000000   -0.081159 -0.632052   \n",
       "median_age            ...       -0.002961    -0.081159    1.000000  0.045555   \n",
       "married               ...       -0.510331    -0.632052    0.045555  1.000000   \n",
       "college_grad          ...        0.177066     0.323985    0.169749 -0.143461   \n",
       "property_tax          ...       -0.057293    -0.057646    0.215435  0.305330   \n",
       "insurance             ...        0.010980     0.030911    0.232503  0.233701   \n",
       "median_school         ...       -0.098727     0.007675   -0.002861  0.169439   \n",
       "num_schools           ...        0.262651     0.235246    0.071455 -0.212870   \n",
       "tx_year               ...        0.008066     0.028759   -0.118490 -0.134787   \n",
       "\n",
       "                    college_grad  property_tax  insurance  median_school  \\\n",
       "tx_price                0.268577      0.535148   0.532947       0.175762   \n",
       "beds                   -0.082354      0.547643   0.485776       0.137309   \n",
       "baths                   0.016097      0.525776   0.475430       0.163365   \n",
       "sqft                    0.065343      0.660264   0.594049       0.220669   \n",
       "year_built             -0.014204     -0.046504  -0.109521       0.155835   \n",
       "lot_size               -0.030725      0.165800   0.146579       0.096551   \n",
       "basement                     NaN           NaN        NaN            NaN   \n",
       "restaurants             0.214260     -0.100821  -0.019925      -0.068425   \n",
       "groceries              -0.006025     -0.159506  -0.093974      -0.354553   \n",
       "nightlife               0.253717     -0.054386   0.024551      -0.036948   \n",
       "cafes                   0.266652     -0.044410   0.036502      -0.027868   \n",
       "shopping                0.177383     -0.040556   0.018846      -0.048058   \n",
       "arts_entertainment      0.239129     -0.066346   0.015380      -0.138266   \n",
       "beauty_spas             0.177066     -0.057293   0.010980      -0.098727   \n",
       "active_life             0.323985     -0.057646   0.030911       0.007675   \n",
       "median_age              0.169749      0.215435   0.232503      -0.002861   \n",
       "married                -0.143461      0.305330   0.233701       0.169439   \n",
       "college_grad            1.000000      0.287933   0.326057       0.400306   \n",
       "property_tax            0.287933      1.000000   0.984724       0.237455   \n",
       "insurance               0.326057      0.984724   1.000000       0.234889   \n",
       "median_school           0.400306      0.237455   0.234889       1.000000   \n",
       "num_schools             0.049756      0.037342   0.056985      -0.145572   \n",
       "tx_year                -0.189932     -0.257703  -0.254706      -0.167141   \n",
       "\n",
       "                    num_schools   tx_year  \n",
       "tx_price              -0.014380  0.108782  \n",
       "beds                  -0.124359 -0.174081  \n",
       "baths                 -0.088299 -0.132110  \n",
       "sqft                  -0.102032 -0.236190  \n",
       "year_built            -0.188106 -0.043301  \n",
       "lot_size              -0.031535 -0.048207  \n",
       "basement                    NaN       NaN  \n",
       "restaurants            0.251171  0.044739  \n",
       "groceries              0.272856  0.115674  \n",
       "nightlife              0.196399  0.027495  \n",
       "cafes                  0.224312  0.013558  \n",
       "shopping               0.228988 -0.000324  \n",
       "arts_entertainment     0.214163  0.034356  \n",
       "beauty_spas            0.262651  0.008066  \n",
       "active_life            0.235246  0.028759  \n",
       "median_age             0.071455 -0.118490  \n",
       "married               -0.212870 -0.134787  \n",
       "college_grad           0.049756 -0.189932  \n",
       "property_tax           0.037342 -0.257703  \n",
       "insurance              0.056985 -0.254706  \n",
       "median_school         -0.145572 -0.167141  \n",
       "num_schools            1.000000  0.007361  \n",
       "tx_year                0.007361  1.000000  \n",
       "\n",
       "[23 rows x 23 columns]"
      ]
     },
     "execution_count": 18,
     "metadata": {},
     "output_type": "execute_result"
    }
   ],
   "source": [
    "df.corr()"
   ]
  },
  {
   "cell_type": "markdown",
   "metadata": {},
   "source": [
    "#### A lot of numbers make things difficult to read. So let's visualize this.\n",
    "But first, it's important to notice that the correlations for 'basement' all show as NaN. This is expected because right now that feature doesn't vary at all (its standard deviation is 0), as we saw all the way back in step 2. We'll fix this later."
   ]
  },
  {
   "cell_type": "code",
   "execution_count": 19,
   "metadata": {},
   "outputs": [
    {
     "data": {
      "text/plain": [
       "<matplotlib.axes._subplots.AxesSubplot at 0x1cf2228a748>"
      ]
     },
     "execution_count": 19,
     "metadata": {},
     "output_type": "execute_result"
    },
    {
     "data": {
      "image/png": "[encoded data removed]",
      "text/plain": [
       "<matplotlib.figure.Figure at 0x1cf217f9668>"
      ]
     },
     "metadata": {},
     "output_type": "display_data"
    }
   ],
   "source": [
    "plt.figure(figsize=(20,20))\n",
    "sns.heatmap(df.corr())"
   ]
  },
  {
   "cell_type": "markdown",
   "metadata": {},
   "source": [
    "**What to look for?**\n",
    "* The colorbar on the right explains the meaning of the heatmap - Dark colors indicate **strong negative correlations** and light colors indicate **strong positive correlations**.\n",
    "* Perhaps the most helpful way to interpret this correlation heatmap is to first find features that are correlated with our target variable by scanning the first column.\n",
    "* In this case, it doesn't look like many features are strongly correlated with the target variable.\n",
    "\n",
    "* Example: there is a strong negative correlation between beds and restaurants, or gloceries and median_schools.\n",
    "* There is a weak positive correlation between 'tx_price' and 'property_tax'."
   ]
  },
  {
   "cell_type": "code",
   "execution_count": 20,
   "metadata": {},
   "outputs": [
    {
     "data": {
      "image/png": "[encoded data removed]",
      "text/plain": [
       "<matplotlib.figure.Figure at 0x1cf22085b70>"
      ]
     },
     "metadata": {},
     "output_type": "display_data"
    }
   ],
   "source": [
    "mask=np.zeros_like(df.corr())\n",
    "mask[np.triu_indices_from(mask)] = True\n",
    "plt.figure(figsize=(10,10))\n",
    "with sns.axes_style(\"white\"):\n",
    "    ax = sns.heatmap(df.corr()*100, mask=mask, fmt='.0f', annot=True, lw=1, cmap=ListedColormap(['green', 'yellow', 'red','blue']))"
   ]
  },
  {
   "cell_type": "markdown",
   "metadata": {},
   "source": [
    "# Data Cleaning"
   ]
  },
  {
   "cell_type": "markdown",
   "metadata": {},
   "source": [
    "##  Dropping the duplicates (De-duplication)\n"
   ]
  },
  {
   "cell_type": "code",
   "execution_count": 102,
   "metadata": {},
   "outputs": [
    {
     "name": "stdout",
     "output_type": "stream",
     "text": [
      "(1883, 26)\n"
     ]
    }
   ],
   "source": [
    "df = df.drop_duplicates()\n",
    "print( df.shape )"
   ]
  },
  {
   "cell_type": "markdown",
   "metadata": {},
   "source": [
    "It looks like we didn't have any duplicates in our original dataset. Even so, it's a good idea to check this as an easy first step for cleaning your dataset."
   ]
  },
  {
   "cell_type": "markdown",
   "metadata": {},
   "source": [
    "## Fix structural errors\n",
    "* The basement feature has some nan values, to handle them:"
   ]
  },
  {
   "cell_type": "code",
   "execution_count": 103,
   "metadata": {},
   "outputs": [
    {
     "data": {
      "text/plain": [
       "array([ nan,   1.])"
      ]
     },
     "execution_count": 103,
     "metadata": {},
     "output_type": "execute_result"
    }
   ],
   "source": [
    "df.basement.unique()"
   ]
  },
  {
   "cell_type": "markdown",
   "metadata": {},
   "source": [
    "* Even though NaN represents \"missing\" values, those are actually meant to indicate properties without basements.\n",
    "* Fill missing 'basement' values with the value 0 to turn 'basement' into a true indicator variable."
   ]
  },
  {
   "cell_type": "code",
   "execution_count": 104,
   "metadata": {
    "collapsed": true
   },
   "outputs": [],
   "source": [
    "df.basement.fillna(0, inplace=True)"
   ]
  },
  {
   "cell_type": "code",
   "execution_count": 105,
   "metadata": {},
   "outputs": [
    {
     "data": {
      "text/plain": [
       "array([ 0.,  1.])"
      ]
     },
     "execution_count": 105,
     "metadata": {},
     "output_type": "execute_result"
    }
   ],
   "source": [
    "df.basement.unique()"
   ]
  },
  {
   "cell_type": "markdown",
   "metadata": {},
   "source": [
    "##  Typos and capitalization"
   ]
  },
  {
   "cell_type": "code",
   "execution_count": 106,
   "metadata": {},
   "outputs": [
    {
     "data": {
      "text/plain": [
       "<matplotlib.axes._subplots.AxesSubplot at 0x1cf254b9f98>"
      ]
     },
     "execution_count": 106,
     "metadata": {},
     "output_type": "execute_result"
    },
    {
     "data": {
      "image/png": "[encoded data removed]",
      "text/plain": [
       "<matplotlib.figure.Figure at 0x1cf2546fdd8>"
      ]
     },
     "metadata": {},
     "output_type": "display_data"
    }
   ],
   "source": [
    "# Class distributions for 'roof'\n",
    "sns.countplot(y='roof', data=df)"
   ]
  },
  {
   "cell_type": "markdown",
   "metadata": {},
   "source": [
    "Using this plot, we can easily catch typos and inconsistent capitalization. For example:\n",
    "* 'composition' should be 'Composition'\n",
    "* 'asphalt' should be 'Asphalt'\n",
    "* 'shake-shingle' should be 'Shake Shingle'\n",
    "* 'asphalt,shake-shingle' could probably just be 'Shake Shingle'"
   ]
  },
  {
   "cell_type": "code",
   "execution_count": 107,
   "metadata": {
    "collapsed": true
   },
   "outputs": [],
   "source": [
    "df.roof.replace('composition', 'Composition', inplace=True)\n",
    "df.roof.replace('asphalt', 'Asphalt', inplace=True)\n",
    "df.roof.replace(['shake-shingle', 'asphalt,shake-shingle'], 'Shake Shingle', inplace=True)"
   ]
  },
  {
   "cell_type": "code",
   "execution_count": 108,
   "metadata": {},
   "outputs": [
    {
     "data": {
      "text/plain": [
       "<matplotlib.axes._subplots.AxesSubplot at 0x1cf25e549b0>"
      ]
     },
     "execution_count": 108,
     "metadata": {},
     "output_type": "execute_result"
    },
    {
     "data": {
      "image/png": "[encoded data removed]",
      "text/plain": [
       "<matplotlib.figure.Figure at 0x1cf21004208>"
      ]
     },
     "metadata": {},
     "output_type": "display_data"
    }
   ],
   "source": [
    "# Class distribution for 'roof' after the modifications\n",
    "sns.countplot(y='roof', data=df)"
   ]
  },
  {
   "cell_type": "markdown",
   "metadata": {},
   "source": [
    "##  Mislabeled classes\n",
    "Finally, we'll check for classes that are labeled as separate classes when they should really be the same.\n",
    "* e.g. If 'N/A' and 'Not Applicable' appear as two separate classes, we should combine them.\n",
    "* let's plot the class distributions for 'exterior_walls':"
   ]
  },
  {
   "cell_type": "code",
   "execution_count": 109,
   "metadata": {},
   "outputs": [
    {
     "data": {
      "text/plain": [
       "<matplotlib.axes._subplots.AxesSubplot at 0x1cf2577f6d8>"
      ]
     },
     "execution_count": 109,
     "metadata": {},
     "output_type": "execute_result"
    },
    {
     "data": {
      "image/png": "[encoded data removed]",
      "text/plain": [
       "<matplotlib.figure.Figure at 0x1cf25e57f28>"
      ]
     },
     "metadata": {},
     "output_type": "display_data"
    }
   ],
   "source": [
    "sns.countplot(y='exterior_walls', data=df)"
   ]
  },
  {
   "cell_type": "markdown",
   "metadata": {},
   "source": [
    "Using that chart, we can easily catch mislabeled classes. For example\n",
    "* 'Rock, Stone' should be 'Masonry'\n",
    "* 'Concrete' and 'Block' should both just be 'Concrete Block'"
   ]
  },
  {
   "cell_type": "code",
   "execution_count": 110,
   "metadata": {},
   "outputs": [
    {
     "data": {
      "text/plain": [
       "<matplotlib.axes._subplots.AxesSubplot at 0x1cf255baa58>"
      ]
     },
     "execution_count": 110,
     "metadata": {},
     "output_type": "execute_result"
    },
    {
     "data": {
      "image/png": "[encoded data removed]",
      "text/plain": [
       "<matplotlib.figure.Figure at 0x1cf255c33c8>"
      ]
     },
     "metadata": {},
     "output_type": "display_data"
    }
   ],
   "source": [
    "df.exterior_walls.replace(['Rock, Stone'], 'Masonry', inplace=True)\n",
    "df.exterior_walls.replace(['Concrete', 'Block'], 'Concrete Block', inplace=True)\n",
    "sns.countplot(y='exterior_walls', data=df)"
   ]
  },
  {
   "cell_type": "markdown",
   "metadata": {},
   "source": [
    "## Removing Outliers\n",
    "* Outliers can cause problems with certain types of models.\n",
    "* Boxplots are a nice way to detect outliers\n",
    "* Let's start with a box plot of your target variable, since that's what you're actually trying to predict."
   ]
  },
  {
   "cell_type": "code",
   "execution_count": 111,
   "metadata": {},
   "outputs": [
    {
     "data": {
      "text/plain": [
       "<matplotlib.axes._subplots.AxesSubplot at 0x1cf2555cef0>"
      ]
     },
     "execution_count": 111,
     "metadata": {},
     "output_type": "execute_result"
    },
    {
     "data": {
      "image/png": "[encoded data removed]",
      "text/plain": [
       "<matplotlib.figure.Figure at 0x1cf255af048>"
      ]
     },
     "metadata": {},
     "output_type": "display_data"
    }
   ],
   "source": [
    "sns.boxplot(df.tx_price)"
   ]
  },
  {
   "cell_type": "markdown",
   "metadata": {},
   "source": [
    "**Interpretation**\n",
    "\n",
    "* The two vertical bars on the ends are the min and max values. All properties sold for between \\$200,000 and \\$800,000.\n",
    "* The box in the middle is the interquartile range (25th percentile to 75th percentile).\n",
    "* Half of all observations fall in that box.\n",
    "* Finally, the vertical bar in the middle of the box is the median."
   ]
  },
  {
   "cell_type": "code",
   "execution_count": 28,
   "metadata": {},
   "outputs": [
    {
     "data": {
      "text/plain": [
       "<matplotlib.axes._subplots.AxesSubplot at 0x1cf216fad68>"
      ]
     },
     "execution_count": 28,
     "metadata": {},
     "output_type": "execute_result"
    },
    {
     "data": {
      "image/png": "[encoded data removed]",
      "text/plain": [
       "<matplotlib.figure.Figure at 0x1cf219ea2e8>"
      ]
     },
     "metadata": {},
     "output_type": "display_data"
    }
   ],
   "source": [
    "## Checking outliers in number of bedrooms\n",
    "sns.boxplot(df.beds)"
   ]
  },
  {
   "cell_type": "code",
   "execution_count": 43,
   "metadata": {},
   "outputs": [
    {
     "data": {
      "text/plain": [
       "<matplotlib.axes._subplots.AxesSubplot at 0x206a06d97b8>"
      ]
     },
     "execution_count": 43,
     "metadata": {},
     "output_type": "execute_result"
    },
    {
     "data": {
      "image/png": "[encoded data removed]",
      "text/plain": [
       "<matplotlib.figure.Figure at 0x206a072d8d0>"
      ]
     },
     "metadata": {},
     "output_type": "display_data"
    }
   ],
   "source": [
    "## Checking outliers in size of the house\n",
    "sns.boxplot(df.sqft)"
   ]
  },
  {
   "cell_type": "code",
   "execution_count": 29,
   "metadata": {},
   "outputs": [
    {
     "data": {
      "text/plain": [
       "<matplotlib.axes._subplots.AxesSubplot at 0x1cf21353898>"
      ]
     },
     "execution_count": 29,
     "metadata": {},
     "output_type": "execute_result"
    },
    {
     "data": {
      "image/png": "[encoded data removed]",
      "text/plain": [
       "<matplotlib.figure.Figure at 0x1cf2133c438>"
      ]
     },
     "metadata": {},
     "output_type": "display_data"
    }
   ],
   "source": [
    "## Checking outliers in lot size\n",
    "sns.boxplot(df.lot_size)"
   ]
  },
  {
   "cell_type": "markdown",
   "metadata": {},
   "source": [
    "Look at the dot on the extreme right. This might indicate some erroneous point.\n",
    "\n",
    "Let's look at the largest 5 lot sizes just to confirm."
   ]
  },
  {
   "cell_type": "code",
   "execution_count": 112,
   "metadata": {},
   "outputs": [
    {
     "data": {
      "text/plain": [
       "102     1220551\n",
       "1111     436471\n",
       "1876     436035\n",
       "1832     436035\n",
       "1115     435600\n",
       "Name: lot_size, dtype: int64"
      ]
     },
     "execution_count": 112,
     "metadata": {},
     "output_type": "execute_result"
    }
   ],
   "source": [
    "df.lot_size.sort_values(ascending=False).head()"
   ]
  },
  {
   "cell_type": "markdown",
   "metadata": {},
   "source": [
    "The largest property has a lot_size of 1,220,551 sqft. The next largest has a lot_size of only 436,471 sqft.\n",
    "\n",
    "Because it's unlikely the REIT will ever invest in properties with lots that large, and because it's the only one in the dataset, let's remove it so it doesn't interfere with our ability to model normal size properties."
   ]
  },
  {
   "cell_type": "code",
   "execution_count": 113,
   "metadata": {},
   "outputs": [
    {
     "data": {
      "text/plain": [
       "(1882, 26)"
      ]
     },
     "execution_count": 113,
     "metadata": {},
     "output_type": "execute_result"
    }
   ],
   "source": [
    "## Remove observations with lot_size greater than 500,000 sqft.\n",
    "df = df[df.lot_size <= 500000]\n",
    "df.shape"
   ]
  },
  {
   "cell_type": "code",
   "execution_count": 47,
   "metadata": {},
   "outputs": [
    {
     "data": {
      "text/plain": [
       "<matplotlib.axes._subplots.AxesSubplot at 0x206a0e96438>"
      ]
     },
     "execution_count": 47,
     "metadata": {},
     "output_type": "execute_result"
    },
    {
     "data": {
      "image/png": "[encoded data removed]",
      "text/plain": [
       "<matplotlib.figure.Figure at 0x206a03f3588>"
      ]
     },
     "metadata": {},
     "output_type": "display_data"
    }
   ],
   "source": [
    "## Plotting the boxplot of lot size after the change\n",
    "sns.boxplot(df.lot_size)"
   ]
  },
  {
   "cell_type": "markdown",
   "metadata": {},
   "source": [
    "**Note:** Even though visually the plot looks the same but the x-axis dimensions have changed"
   ]
  },
  {
   "cell_type": "markdown",
   "metadata": {},
   "source": [
    "##  Label missing categorical data\n",
    "You cannot simply ignore missing values in your dataset. You must handle them in some way for the very practical reason that Scikit-Learn algorithms do not accept missing values."
   ]
  },
  {
   "cell_type": "code",
   "execution_count": 32,
   "metadata": {},
   "outputs": [
    {
     "data": {
      "text/plain": [
       "property_type     0\n",
       "exterior_walls    0\n",
       "roof              0\n",
       "dtype: int64"
      ]
     },
     "execution_count": 32,
     "metadata": {},
     "output_type": "execute_result"
    }
   ],
   "source": [
    "# Display number of missing values by categorical feature\n",
    "df.select_dtypes(include=['object']).isnull().sum()"
   ]
  },
  {
   "cell_type": "markdown",
   "metadata": {},
   "source": [
    "#### The best way to handle missing data for categorical features is to simply label them as 'Missing'"
   ]
  },
  {
   "cell_type": "code",
   "execution_count": 114,
   "metadata": {},
   "outputs": [
    {
     "data": {
      "text/plain": [
       "property_type     0\n",
       "exterior_walls    0\n",
       "roof              0\n",
       "dtype: int64"
      ]
     },
     "execution_count": 114,
     "metadata": {},
     "output_type": "execute_result"
    }
   ],
   "source": [
    "df['exterior_walls'] = df['exterior_walls'].fillna('Missing')\n",
    "df['roof'] = df['roof'].fillna('Missing')\n",
    "df.select_dtypes(include=['object']).isnull().sum()"
   ]
  },
  {
   "cell_type": "markdown",
   "metadata": {},
   "source": [
    "## 4.7 Flag and fill missing numeric data"
   ]
  },
  {
   "cell_type": "code",
   "execution_count": 115,
   "metadata": {},
   "outputs": [
    {
     "data": {
      "text/plain": [
       "tx_price              0\n",
       "beds                  0\n",
       "baths                 0\n",
       "sqft                  0\n",
       "year_built            0\n",
       "lot_size              0\n",
       "basement              0\n",
       "restaurants           0\n",
       "groceries             0\n",
       "nightlife             0\n",
       "cafes                 0\n",
       "shopping              0\n",
       "arts_entertainment    0\n",
       "beauty_spas           0\n",
       "active_life           0\n",
       "median_age            0\n",
       "married               0\n",
       "college_grad          0\n",
       "property_tax          0\n",
       "insurance             0\n",
       "median_school         0\n",
       "num_schools           0\n",
       "tx_year               0\n",
       "dtype: int64"
      ]
     },
     "execution_count": 115,
     "metadata": {},
     "output_type": "execute_result"
    }
   ],
   "source": [
    "# Display number of missing values by numeric feature\n",
    "df.select_dtypes(exclude=['object']).isnull().sum()"
   ]
  },
  {
   "cell_type": "markdown",
   "metadata": {},
   "source": [
    "Well, it looks like we don't have any numerical features with missing values in this dataset."
   ]
  },
  {
   "cell_type": "markdown",
   "metadata": {},
   "source": [
    "### Before we move on to the next module, let's save the new dataframe we worked hard to clean.\n",
    "This makes sure we don't have to re-do all the cleaning after clossing the session"
   ]
  },
  {
   "cell_type": "code",
   "execution_count": 118,
   "metadata": {
    "collapsed": true
   },
   "outputs": [],
   "source": [
    "# Save cleaned dataframe to new file\n",
    "df.to_csv('Files/cleaned_df.csv', index=None)"
   ]
  },
  {
   "cell_type": "markdown",
   "metadata": {},
   "source": [
    "#  Feature Engineering"
   ]
  },
  {
   "cell_type": "markdown",
   "metadata": {},
   "source": [
    "##  Indicator variables"
   ]
  },
  {
   "cell_type": "markdown",
   "metadata": {},
   "source": [
    "* For example, let's say you knew that homes with 2 bedrooms and 2 bathrooms are especially popular for investors.\n",
    "* Maybe you suspect these types of properties command premium prices. (You don't need to know for sure.)\n",
    "* Create an indicator variable to flag properties with 2 beds and 2 baths and name it 'two_and_two'."
   ]
  },
  {
   "cell_type": "code",
   "execution_count": 119,
   "metadata": {
    "collapsed": true
   },
   "outputs": [],
   "source": [
    "df['two_and_two'] = ((df.beds == 2) & (df.baths == 2)).astype(int)"
   ]
  },
  {
   "cell_type": "code",
   "execution_count": 120,
   "metadata": {},
   "outputs": [
    {
     "data": {
      "text/plain": [
       "0.09458023379383634"
      ]
     },
     "execution_count": 120,
     "metadata": {},
     "output_type": "execute_result"
    }
   ],
   "source": [
    "# Display percent of rows where two_and_two == 1\n",
    "df[df['two_and_two']==1].shape[0]/df.shape[0]"
   ]
  },
  {
   "cell_type": "markdown",
   "metadata": {},
   "source": [
    "The interpretation is that almost 9.5% of the observations in our dataset were for properties with 2 beds and 2 baths."
   ]
  },
  {
   "cell_type": "markdown",
   "metadata": {},
   "source": [
    "People might also not take much interest in old properties.Lets figure it out."
   ]
  },
  {
   "cell_type": "code",
   "execution_count": 121,
   "metadata": {
    "collapsed": true
   },
   "outputs": [],
   "source": [
    "df['old_properties'] = (df.year_built < 1980) .astype(int)"
   ]
  },
  {
   "cell_type": "code",
   "execution_count": 122,
   "metadata": {},
   "outputs": [
    {
     "data": {
      "text/plain": [
       "0.3783209351753454"
      ]
     },
     "execution_count": 122,
     "metadata": {},
     "output_type": "execute_result"
    }
   ],
   "source": [
    "# Display percent of rows where old_properties == 1\n",
    "df[df['old_properties']==1].shape[0]/df.shape[0]"
   ]
  },
  {
   "cell_type": "markdown",
   "metadata": {},
   "source": [
    "Create a new feature containing tax and insurance which a propery holder will have to pay monthly"
   ]
  },
  {
   "cell_type": "code",
   "execution_count": 123,
   "metadata": {
    "collapsed": true
   },
   "outputs": [],
   "source": [
    "df['tax_and_insurance'] = df.property_tax + df.insurance"
   ]
  },
  {
   "cell_type": "markdown",
   "metadata": {},
   "source": [
    "The interpretation is that almost 9.5% of the observations in our dataset were for properties with 2 beds and 2 baths."
   ]
  },
  {
   "cell_type": "markdown",
   "metadata": {},
   "source": [
    "### Example: housing market recession\n",
    "According to data from Zillow, the lowest housing prices were from 2010 to end of 2013 (country-wide).\n",
    "![title](Images/zillow-housing-prices.png)"
   ]
  },
  {
   "cell_type": "markdown",
   "metadata": {},
   "source": [
    "Create a new feature called 'during_recession' to indicate if a transaction falls between 2010 and 2013"
   ]
  },
  {
   "cell_type": "code",
   "execution_count": 124,
   "metadata": {
    "collapsed": true
   },
   "outputs": [],
   "source": [
    "df['during_recession'] = ((df.tx_year >= 2010) & (df.tx_year <= 2013)).astype(int)"
   ]
  },
  {
   "cell_type": "code",
   "execution_count": 125,
   "metadata": {},
   "outputs": [
    {
     "data": {
      "text/plain": [
       "0.2635494155154091"
      ]
     },
     "execution_count": 125,
     "metadata": {},
     "output_type": "execute_result"
    }
   ],
   "source": [
    "# Print percent of transactions where during_recession == 1\n",
    "df[df['during_recession']==1].shape[0]/df.shape[0]"
   ]
  },
  {
   "cell_type": "markdown",
   "metadata": {},
   "source": [
    "## Interaction features\n"
   ]
  },
  {
   "cell_type": "code",
   "execution_count": 126,
   "metadata": {
    "collapsed": true
   },
   "outputs": [],
   "source": [
    "# Create a property age feature\n",
    "df['property_age'] = df.tx_year - df.year_built"
   ]
  },
  {
   "cell_type": "markdown",
   "metadata": {},
   "source": [
    "**Note:** 'property_age' denotes the age of the property when it was sold and not how old it is today, since we want to predict the price at the time when the property is sold.\n",
    "\n",
    "Sanity Check: It's always nice to do a quick sanity check after creating a feature, which could save you headaches down the road. For example, 'property_age' should never be less than 0, right?"
   ]
  },
  {
   "cell_type": "code",
   "execution_count": 127,
   "metadata": {},
   "outputs": [
    {
     "name": "stdout",
     "output_type": "stream",
     "text": [
      "-8\n"
     ]
    }
   ],
   "source": [
    "print(df.property_age.min())"
   ]
  },
  {
   "cell_type": "markdown",
   "metadata": {},
   "source": [
    "Nice find. Something is definitely wrong. Age of property can never be negative."
   ]
  },
  {
   "cell_type": "code",
   "execution_count": 128,
   "metadata": {},
   "outputs": [
    {
     "name": "stdout",
     "output_type": "stream",
     "text": [
      "19\n"
     ]
    }
   ],
   "source": [
    "# Number of observations with 'property_age' < 0\n",
    "print(sum(df.property_age < 0))"
   ]
  },
  {
   "cell_type": "markdown",
   "metadata": {},
   "source": [
    "* On second thought, it's possible that some home owners bought houses before the construction company built them.\n",
    "* This is not uncommon, especially with single-family homes.\n",
    "* However, for this problem, **we are only interested in houses that already exist** because the REIT only buys existing ones!"
   ]
  },
  {
   "cell_type": "code",
   "execution_count": 129,
   "metadata": {},
   "outputs": [
    {
     "data": {
      "text/plain": [
       "(1863, 31)"
      ]
     },
     "execution_count": 129,
     "metadata": {},
     "output_type": "execute_result"
    }
   ],
   "source": [
    "# Remove rows where property_age is less than 0\n",
    "df = df[df.property_age >= 0]\n",
    "df.shape"
   ]
  },
  {
   "cell_type": "markdown",
   "metadata": {},
   "source": [
    "Now, let's add another interaction feature. How about the number of quality schools nearby?\n",
    "* We know the number of schools nearby \n",
    "* We also have their median quality score\n",
    "* Let's use this and create a new feature"
   ]
  },
  {
   "cell_type": "code",
   "execution_count": 130,
   "metadata": {
    "collapsed": true
   },
   "outputs": [],
   "source": [
    "# Create a school score feature that num_schools * median_school\n",
    "df['school_score'] = df.num_schools * df.median_school"
   ]
  },
  {
   "cell_type": "code",
   "execution_count": 131,
   "metadata": {},
   "outputs": [
    {
     "data": {
      "text/plain": [
       "18.0"
      ]
     },
     "execution_count": 131,
     "metadata": {},
     "output_type": "execute_result"
    }
   ],
   "source": [
    "# Display median school score\n",
    "df.school_score.median()"
   ]
  },
  {
   "cell_type": "markdown",
   "metadata": {},
   "source": [
    "*  As we can see almost all properties have basement, this feature won't affect the price of the property much, so we can remove it "
   ]
  },
  {
   "cell_type": "code",
   "execution_count": 132,
   "metadata": {},
   "outputs": [
    {
     "data": {
      "text/plain": [
       "<matplotlib.axes._subplots.AxesSubplot at 0x1cf2553f7b8>"
      ]
     },
     "execution_count": 132,
     "metadata": {},
     "output_type": "execute_result"
    },
    {
     "data": {
      "image/png": "[encoded data removed]",
      "text/plain": [
       "<matplotlib.figure.Figure at 0x1cf257b94a8>"
      ]
     },
     "metadata": {},
     "output_type": "display_data"
    }
   ],
   "source": [
    "sns.countplot(y='basement', data=df)"
   ]
  },
  {
   "cell_type": "code",
   "execution_count": 133,
   "metadata": {
    "collapsed": true
   },
   "outputs": [],
   "source": [
    "#dropping the basement column\n",
    "df = df.drop(['basement'], axis=1) "
   ]
  },
  {
   "cell_type": "markdown",
   "metadata": {},
   "source": [
    "* We can also delete some features which are less useful\n",
    "* If we looked at the histogram of nightlife, almost all properties have nightlife within a mile also it has a poor relation with price of property(refer correlation part) so this feature might not be much useful do let's drop it."
   ]
  },
  {
   "cell_type": "code",
   "execution_count": 134,
   "metadata": {
    "collapsed": true
   },
   "outputs": [],
   "source": [
    "df = df.drop(['nightlife'], axis=1) "
   ]
  },
  {
   "cell_type": "markdown",
   "metadata": {},
   "source": [
    "##  Handling Sparse Classes\n",
    "The easiest way to check for sparse classes is simply by plotting the distributions of your categorical features. We already did this during exploratory analysis, but since we've done some data cleaning since then, let's plot them again."
   ]
  },
  {
   "cell_type": "code",
   "execution_count": 135,
   "metadata": {},
   "outputs": [
    {
     "data": {
      "text/plain": [
       "<matplotlib.axes._subplots.AxesSubplot at 0x1cf2579db70>"
      ]
     },
     "execution_count": 135,
     "metadata": {},
     "output_type": "execute_result"
    },
    {
     "data": {
      "image/png": "[encoded data removed]",
      "text/plain": [
       "<matplotlib.figure.Figure at 0x1cf228289b0>"
      ]
     },
     "metadata": {},
     "output_type": "display_data"
    }
   ],
   "source": [
    "# Bar plot for exterior_walls\n",
    "sns.countplot(y='exterior_walls', data=df)"
   ]
  },
  {
   "cell_type": "markdown",
   "metadata": {},
   "source": [
    "Group 'Wood Siding', 'Wood Shingle', and 'Wood' together. Label all of them as 'Wood'."
   ]
  },
  {
   "cell_type": "code",
   "execution_count": 136,
   "metadata": {
    "collapsed": true
   },
   "outputs": [],
   "source": [
    "df.exterior_walls.replace(['Wood Siding', 'Wood Shingle', 'Wood'], 'Wood', inplace=True)"
   ]
  },
  {
   "cell_type": "markdown",
   "metadata": {},
   "source": [
    "Next, we can group the remaining sparse classes into a single 'Other' class, even though there's already an 'Other' class.<br>\n",
    "Let's label 'Stucco', 'Other', 'Asbestos shingle', 'Concrete Block', and 'Masonry' as 'Other':"
   ]
  },
  {
   "cell_type": "code",
   "execution_count": 137,
   "metadata": {
    "collapsed": true
   },
   "outputs": [],
   "source": [
    "other_exterior_walls = ['Concrete Block', 'Stucco', 'Masonry', 'Other', 'Asbestos shingle']\n",
    "df.exterior_walls.replace(other_exterior_walls, 'Other', inplace=True)"
   ]
  },
  {
   "cell_type": "markdown",
   "metadata": {},
   "source": [
    "Finally, now that we've grouped together sparse classes, let's look at the bar plot for exterior walls again."
   ]
  },
  {
   "cell_type": "code",
   "execution_count": 138,
   "metadata": {},
   "outputs": [
    {
     "data": {
      "text/plain": [
       "<matplotlib.axes._subplots.AxesSubplot at 0x1cf25515f98>"
      ]
     },
     "execution_count": 138,
     "metadata": {},
     "output_type": "execute_result"
    },
    {
     "data": {
      "image/png": "[encoded data removed]",
      "text/plain": [
       "<matplotlib.figure.Figure at 0x1cf254ffda0>"
      ]
     },
     "metadata": {},
     "output_type": "display_data"
    }
   ],
   "source": [
    "sns.countplot(y='exterior_walls', data=df)"
   ]
  },
  {
   "cell_type": "markdown",
   "metadata": {},
   "source": [
    "Similarly we check for 'roof'"
   ]
  },
  {
   "cell_type": "code",
   "execution_count": 139,
   "metadata": {},
   "outputs": [
    {
     "data": {
      "text/plain": [
       "<matplotlib.axes._subplots.AxesSubplot at 0x1cf25481c50>"
      ]
     },
     "execution_count": 139,
     "metadata": {},
     "output_type": "execute_result"
    },
    {
     "data": {
      "image/png": "[encoded data removed]",
      "text/plain": [
       "<matplotlib.figure.Figure at 0x1cf227ef7f0>"
      ]
     },
     "metadata": {},
     "output_type": "display_data"
    }
   ],
   "source": [
    "sns.countplot(y='roof', data=df)"
   ]
  },
  {
   "cell_type": "markdown",
   "metadata": {},
   "source": [
    "Group 'Composition' and 'Wood Shake/ Shingles' into the 'Composition Shingle' class."
   ]
  },
  {
   "cell_type": "code",
   "execution_count": 140,
   "metadata": {
    "collapsed": true
   },
   "outputs": [],
   "source": [
    "df.roof.replace(['Composition', 'Wood Shake/ Shingles'], 'Composition Shingle', inplace=True)"
   ]
  },
  {
   "cell_type": "markdown",
   "metadata": {},
   "source": [
    "Next, let's group remaining sparse classes into a single 'Other' class.\n",
    "\n",
    "Label 'Other', 'Gravel/Rock', 'Roll Composition', 'Slate', 'Built-up', 'Asbestos', and 'Metal' as 'Other'."
   ]
  },
  {
   "cell_type": "code",
   "execution_count": 141,
   "metadata": {
    "collapsed": true
   },
   "outputs": [],
   "source": [
    "other_roof = ['Other', 'Gravel/Rock', 'Roll Composition', 'Slate', 'Built-up', 'Asbestos', 'Metal']\n",
    "df.roof.replace(other_roof, 'Other', inplace=True)"
   ]
  },
  {
   "cell_type": "markdown",
   "metadata": {},
   "source": [
    "Finally, display bar plot again."
   ]
  },
  {
   "cell_type": "code",
   "execution_count": 142,
   "metadata": {},
   "outputs": [
    {
     "data": {
      "text/plain": [
       "<matplotlib.axes._subplots.AxesSubplot at 0x1cf25d5be48>"
      ]
     },
     "execution_count": 142,
     "metadata": {},
     "output_type": "execute_result"
    },
    {
     "data": {
      "image/png": "[encoded data removed]",
      "text/plain": [
       "<matplotlib.figure.Figure at 0x1cf25dcbe48>"
      ]
     },
     "metadata": {},
     "output_type": "display_data"
    }
   ],
   "source": [
    "sns.countplot(y='roof', data=df)"
   ]
  },
  {
   "cell_type": "markdown",
   "metadata": {},
   "source": [
    "**Now these plots look much nicer**"
   ]
  },
  {
   "cell_type": "markdown",
   "metadata": {},
   "source": [
    "## Encode dummy variables (One Hot Encoding)\n",
    "* Machine learning algorithms cannot directly handle categorical features. Specifically, they cannot handle text values.\n",
    "* Therefore, we need to create dummy variables for our categorical features.\n",
    "* *Dummy variables* are a set of binary (0 or 1) features that each represent a single class from a categorical feature."
   ]
  },
  {
   "cell_type": "code",
   "execution_count": 143,
   "metadata": {
    "collapsed": true
   },
   "outputs": [],
   "source": [
    "# Create a new dataframe with dummy variables for for our categorical features.\n",
    "df = pd.get_dummies(df, columns=['exterior_walls', 'roof', 'property_type'])"
   ]
  },
  {
   "cell_type": "markdown",
   "metadata": {},
   "source": [
    "**Note:** There are many ways to perform one-hot encoding, you can also use LabelEncoder and OneHotEncoder classes in SKLEARN or use the above pandas function."
   ]
  },
  {
   "cell_type": "code",
   "execution_count": 144,
   "metadata": {},
   "outputs": [
    {
     "data": {
      "text/html": [
       "<div>\n",
       "<style>\n",
       "    .dataframe thead tr:only-child th {\n",
       "        text-align: right;\n",
       "    }\n",
       "\n",
       "    .dataframe thead th {\n",
       "        text-align: left;\n",
       "    }\n",
       "\n",
       "    .dataframe tbody tr th {\n",
       "        vertical-align: top;\n",
       "    }\n",
       "</style>\n",
       "<table border=\"1\" class=\"dataframe\">\n",
       "  <thead>\n",
       "    <tr style=\"text-align: right;\">\n",
       "      <th></th>\n",
       "      <th>tx_price</th>\n",
       "      <th>beds</th>\n",
       "      <th>baths</th>\n",
       "      <th>sqft</th>\n",
       "      <th>year_built</th>\n",
       "      <th>lot_size</th>\n",
       "      <th>restaurants</th>\n",
       "      <th>groceries</th>\n",
       "      <th>cafes</th>\n",
       "      <th>shopping</th>\n",
       "      <th>...</th>\n",
       "      <th>exterior_walls_Other</th>\n",
       "      <th>exterior_walls_Siding (Alum/Vinyl)</th>\n",
       "      <th>exterior_walls_Wood</th>\n",
       "      <th>roof_Asphalt</th>\n",
       "      <th>roof_Composition Shingle</th>\n",
       "      <th>roof_Missing</th>\n",
       "      <th>roof_Other</th>\n",
       "      <th>roof_Shake Shingle</th>\n",
       "      <th>property_type_Apartment / Condo / Townhouse</th>\n",
       "      <th>property_type_Single-Family</th>\n",
       "    </tr>\n",
       "  </thead>\n",
       "  <tbody>\n",
       "    <tr>\n",
       "      <th>0</th>\n",
       "      <td>295850</td>\n",
       "      <td>1</td>\n",
       "      <td>1</td>\n",
       "      <td>584</td>\n",
       "      <td>2013</td>\n",
       "      <td>0</td>\n",
       "      <td>107</td>\n",
       "      <td>9</td>\n",
       "      <td>19</td>\n",
       "      <td>89</td>\n",
       "      <td>...</td>\n",
       "      <td>0</td>\n",
       "      <td>0</td>\n",
       "      <td>1</td>\n",
       "      <td>0</td>\n",
       "      <td>0</td>\n",
       "      <td>1</td>\n",
       "      <td>0</td>\n",
       "      <td>0</td>\n",
       "      <td>1</td>\n",
       "      <td>0</td>\n",
       "    </tr>\n",
       "    <tr>\n",
       "      <th>1</th>\n",
       "      <td>216500</td>\n",
       "      <td>1</td>\n",
       "      <td>1</td>\n",
       "      <td>612</td>\n",
       "      <td>1965</td>\n",
       "      <td>0</td>\n",
       "      <td>105</td>\n",
       "      <td>15</td>\n",
       "      <td>13</td>\n",
       "      <td>87</td>\n",
       "      <td>...</td>\n",
       "      <td>0</td>\n",
       "      <td>0</td>\n",
       "      <td>0</td>\n",
       "      <td>0</td>\n",
       "      <td>1</td>\n",
       "      <td>0</td>\n",
       "      <td>0</td>\n",
       "      <td>0</td>\n",
       "      <td>1</td>\n",
       "      <td>0</td>\n",
       "    </tr>\n",
       "    <tr>\n",
       "      <th>2</th>\n",
       "      <td>279900</td>\n",
       "      <td>1</td>\n",
       "      <td>1</td>\n",
       "      <td>615</td>\n",
       "      <td>1963</td>\n",
       "      <td>0</td>\n",
       "      <td>183</td>\n",
       "      <td>13</td>\n",
       "      <td>30</td>\n",
       "      <td>101</td>\n",
       "      <td>...</td>\n",
       "      <td>0</td>\n",
       "      <td>0</td>\n",
       "      <td>1</td>\n",
       "      <td>0</td>\n",
       "      <td>0</td>\n",
       "      <td>1</td>\n",
       "      <td>0</td>\n",
       "      <td>0</td>\n",
       "      <td>1</td>\n",
       "      <td>0</td>\n",
       "    </tr>\n",
       "    <tr>\n",
       "      <th>3</th>\n",
       "      <td>379900</td>\n",
       "      <td>1</td>\n",
       "      <td>1</td>\n",
       "      <td>618</td>\n",
       "      <td>2000</td>\n",
       "      <td>33541</td>\n",
       "      <td>198</td>\n",
       "      <td>9</td>\n",
       "      <td>25</td>\n",
       "      <td>127</td>\n",
       "      <td>...</td>\n",
       "      <td>0</td>\n",
       "      <td>0</td>\n",
       "      <td>1</td>\n",
       "      <td>0</td>\n",
       "      <td>0</td>\n",
       "      <td>1</td>\n",
       "      <td>0</td>\n",
       "      <td>0</td>\n",
       "      <td>1</td>\n",
       "      <td>0</td>\n",
       "    </tr>\n",
       "    <tr>\n",
       "      <th>4</th>\n",
       "      <td>340000</td>\n",
       "      <td>1</td>\n",
       "      <td>1</td>\n",
       "      <td>634</td>\n",
       "      <td>1992</td>\n",
       "      <td>0</td>\n",
       "      <td>149</td>\n",
       "      <td>7</td>\n",
       "      <td>20</td>\n",
       "      <td>83</td>\n",
       "      <td>...</td>\n",
       "      <td>0</td>\n",
       "      <td>0</td>\n",
       "      <td>0</td>\n",
       "      <td>0</td>\n",
       "      <td>0</td>\n",
       "      <td>1</td>\n",
       "      <td>0</td>\n",
       "      <td>0</td>\n",
       "      <td>1</td>\n",
       "      <td>0</td>\n",
       "    </tr>\n",
       "  </tbody>\n",
       "</table>\n",
       "<p>5 rows × 42 columns</p>\n",
       "</div>"
      ],
      "text/plain": [
       "   tx_price  beds  baths  sqft  year_built  lot_size  restaurants  groceries  \\\n",
       "0    295850     1      1   584        2013         0          107          9   \n",
       "1    216500     1      1   612        1965         0          105         15   \n",
       "2    279900     1      1   615        1963         0          183         13   \n",
       "3    379900     1      1   618        2000     33541          198          9   \n",
       "4    340000     1      1   634        1992         0          149          7   \n",
       "\n",
       "   cafes  shopping             ...               exterior_walls_Other  \\\n",
       "0     19        89             ...                                  0   \n",
       "1     13        87             ...                                  0   \n",
       "2     30       101             ...                                  0   \n",
       "3     25       127             ...                                  0   \n",
       "4     20        83             ...                                  0   \n",
       "\n",
       "   exterior_walls_Siding (Alum/Vinyl)  exterior_walls_Wood  roof_Asphalt  \\\n",
       "0                                   0                    1             0   \n",
       "1                                   0                    0             0   \n",
       "2                                   0                    1             0   \n",
       "3                                   0                    1             0   \n",
       "4                                   0                    0             0   \n",
       "\n",
       "   roof_Composition Shingle  roof_Missing  roof_Other  roof_Shake Shingle  \\\n",
       "0                         0             1           0                   0   \n",
       "1                         1             0           0                   0   \n",
       "2                         0             1           0                   0   \n",
       "3                         0             1           0                   0   \n",
       "4                         0             1           0                   0   \n",
       "\n",
       "   property_type_Apartment / Condo / Townhouse  property_type_Single-Family  \n",
       "0                                            1                            0  \n",
       "1                                            1                            0  \n",
       "2                                            1                            0  \n",
       "3                                            1                            0  \n",
       "4                                            1                            0  \n",
       "\n",
       "[5 rows x 42 columns]"
      ]
     },
     "execution_count": 144,
     "metadata": {},
     "output_type": "execute_result"
    }
   ],
   "source": [
    "df.head()"
   ]
  },
  {
   "cell_type": "markdown",
   "metadata": {},
   "source": [
    "##  Remove unused or redundant features\n",
    "* Redundant features would typically be those that have been **replaced by other features** that you've added.\n",
    "* For example, since we used 'tx_year' and 'year_built' to create the 'property_age' feature, we might consider removing them.\n"
   ]
  },
  {
   "cell_type": "code",
   "execution_count": 145,
   "metadata": {
    "collapsed": true
   },
   "outputs": [],
   "source": [
    "# Drop 'tx_year' and 'year_built' from the dataset\n",
    "df = df.drop(['tx_year', 'year_built'], axis=1)  ## axis=1 because we are dropping columns."
   ]
  },
  {
   "cell_type": "markdown",
   "metadata": {},
   "source": [
    "* Also remove 'property_tax' and 'insurance' as we have combined them in 'tax_and _insurance'"
   ]
  },
  {
   "cell_type": "code",
   "execution_count": 146,
   "metadata": {
    "collapsed": true
   },
   "outputs": [],
   "source": [
    "df = df.drop(['property_tax', 'insurance'], axis=1)  ## axis=1 because we are dropping columns."
   ]
  },
  {
   "cell_type": "markdown",
   "metadata": {},
   "source": [
    "Finally, before we move on to the next module, let's save our new DataFrame we that augmented through feature engineering. We'll call it the analytical base table because we'll be building our models on it.\n",
    "* Remember to set the argument index=None to save only the data."
   ]
  },
  {
   "cell_type": "code",
   "execution_count": 147,
   "metadata": {
    "collapsed": true
   },
   "outputs": [],
   "source": [
    "# Save analytical base table\n",
    "df.to_csv('Files/analytical_base_table.csv', index=None)"
   ]
  },
  {
   "cell_type": "markdown",
   "metadata": {},
   "source": [
    "# Machine Learning Models\n",
    "## Data Preparation"
   ]
  },
  {
   "cell_type": "code",
   "execution_count": 8,
   "metadata": {
    "collapsed": true
   },
   "outputs": [],
   "source": [
    "df = pd.read_csv(\"Files/analytical_base_table.csv\")"
   ]
  },
  {
   "cell_type": "code",
   "execution_count": 9,
   "metadata": {},
   "outputs": [
    {
     "name": "stdout",
     "output_type": "stream",
     "text": [
      "(1863, 38)\n"
     ]
    }
   ],
   "source": [
    "print(df.shape)"
   ]
  },
  {
   "cell_type": "markdown",
   "metadata": {},
   "source": [
    "###  Train and Test Splits\n",
    "Separate your dataframe into separate objects for the target variable (y) and the input features (X) and perform the train and test split"
   ]
  },
  {
   "cell_type": "code",
   "execution_count": 10,
   "metadata": {
    "collapsed": true
   },
   "outputs": [],
   "source": [
    "# Create separate object for target variable\n",
    "y = df.tx_price\n",
    "# Create separate object for input features\n",
    "X = df.drop('tx_price', axis=1)"
   ]
  },
  {
   "cell_type": "code",
   "execution_count": 11,
   "metadata": {
    "collapsed": true
   },
   "outputs": [],
   "source": [
    "# Split X and y into train and test sets: 80-20\n",
    "X_train, X_test, y_train, y_test = train_test_split(X, y, test_size=0.2, random_state=1234)"
   ]
  },
  {
   "cell_type": "markdown",
   "metadata": {},
   "source": [
    "Let's confirm we have the right number of observations in each subset."
   ]
  },
  {
   "cell_type": "code",
   "execution_count": 12,
   "metadata": {},
   "outputs": [
    {
     "name": "stdout",
     "output_type": "stream",
     "text": [
      "(1490, 37) (373, 37) (1490,) (373,)\n"
     ]
    }
   ],
   "source": [
    "print(X_train.shape, X_test.shape, y_train.shape, y_test.shape)"
   ]
  },
  {
   "cell_type": "markdown",
   "metadata": {},
   "source": [
    "### Data standardization\n",
    "* In Data Standardization we perform zero mean centring and unit scaling; i.e. we make the mean of all the features as zero and the standard deviation as 1.\n",
    "* Thus we use **mean** and **standard deviation** of each feature.\n",
    "* It is very important to save the **mean** and **standard deviation** for each of the feature from the **training set**, because we use the same mean and standard deviation in the test set."
   ]
  },
  {
   "cell_type": "code",
   "execution_count": 13,
   "metadata": {
    "collapsed": true
   },
   "outputs": [],
   "source": [
    "train_mean = X_train.mean()\n",
    "train_std = X_train.std()"
   ]
  },
  {
   "cell_type": "code",
   "execution_count": 14,
   "metadata": {
    "collapsed": true
   },
   "outputs": [],
   "source": [
    "## Standardize the train data set\n",
    "X_train = (X_train - train_mean) / train_std"
   ]
  },
  {
   "cell_type": "code",
   "execution_count": 15,
   "metadata": {},
   "outputs": [
    {
     "data": {
      "text/html": [
       "<div>\n",
       "<style>\n",
       "    .dataframe thead tr:only-child th {\n",
       "        text-align: right;\n",
       "    }\n",
       "\n",
       "    .dataframe thead th {\n",
       "        text-align: left;\n",
       "    }\n",
       "\n",
       "    .dataframe tbody tr th {\n",
       "        vertical-align: top;\n",
       "    }\n",
       "</style>\n",
       "<table border=\"1\" class=\"dataframe\">\n",
       "  <thead>\n",
       "    <tr style=\"text-align: right;\">\n",
       "      <th></th>\n",
       "      <th>beds</th>\n",
       "      <th>baths</th>\n",
       "      <th>sqft</th>\n",
       "      <th>lot_size</th>\n",
       "      <th>restaurants</th>\n",
       "      <th>groceries</th>\n",
       "      <th>cafes</th>\n",
       "      <th>shopping</th>\n",
       "      <th>arts_entertainment</th>\n",
       "      <th>beauty_spas</th>\n",
       "      <th>...</th>\n",
       "      <th>exterior_walls_Other</th>\n",
       "      <th>exterior_walls_Siding (Alum/Vinyl)</th>\n",
       "      <th>exterior_walls_Wood</th>\n",
       "      <th>roof_Asphalt</th>\n",
       "      <th>roof_Composition Shingle</th>\n",
       "      <th>roof_Missing</th>\n",
       "      <th>roof_Other</th>\n",
       "      <th>roof_Shake Shingle</th>\n",
       "      <th>property_type_Apartment / Condo / Townhouse</th>\n",
       "      <th>property_type_Single-Family</th>\n",
       "    </tr>\n",
       "  </thead>\n",
       "  <tbody>\n",
       "    <tr>\n",
       "      <th>count</th>\n",
       "      <td>1.490000e+03</td>\n",
       "      <td>1.490000e+03</td>\n",
       "      <td>1.490000e+03</td>\n",
       "      <td>1.490000e+03</td>\n",
       "      <td>1.490000e+03</td>\n",
       "      <td>1.490000e+03</td>\n",
       "      <td>1.490000e+03</td>\n",
       "      <td>1.490000e+03</td>\n",
       "      <td>1.490000e+03</td>\n",
       "      <td>1.490000e+03</td>\n",
       "      <td>...</td>\n",
       "      <td>1.490000e+03</td>\n",
       "      <td>1.490000e+03</td>\n",
       "      <td>1.490000e+03</td>\n",
       "      <td>1.490000e+03</td>\n",
       "      <td>1.490000e+03</td>\n",
       "      <td>1.490000e+03</td>\n",
       "      <td>1.490000e+03</td>\n",
       "      <td>1.490000e+03</td>\n",
       "      <td>1.490000e+03</td>\n",
       "      <td>1.490000e+03</td>\n",
       "    </tr>\n",
       "    <tr>\n",
       "      <th>mean</th>\n",
       "      <td>-1.902281e-16</td>\n",
       "      <td>-4.254613e-17</td>\n",
       "      <td>7.663519e-17</td>\n",
       "      <td>3.911860e-17</td>\n",
       "      <td>1.409760e-16</td>\n",
       "      <td>1.621373e-16</td>\n",
       "      <td>8.946050e-18</td>\n",
       "      <td>2.315448e-17</td>\n",
       "      <td>-2.132895e-16</td>\n",
       "      <td>1.022299e-16</td>\n",
       "      <td>...</td>\n",
       "      <td>1.184362e-16</td>\n",
       "      <td>1.359092e-16</td>\n",
       "      <td>-2.747988e-16</td>\n",
       "      <td>-8.278240e-17</td>\n",
       "      <td>-2.752459e-16</td>\n",
       "      <td>2.772577e-16</td>\n",
       "      <td>-2.613867e-16</td>\n",
       "      <td>7.708226e-17</td>\n",
       "      <td>8.941393e-17</td>\n",
       "      <td>-8.941393e-17</td>\n",
       "    </tr>\n",
       "    <tr>\n",
       "      <th>std</th>\n",
       "      <td>1.000000e+00</td>\n",
       "      <td>1.000000e+00</td>\n",
       "      <td>1.000000e+00</td>\n",
       "      <td>1.000000e+00</td>\n",
       "      <td>1.000000e+00</td>\n",
       "      <td>1.000000e+00</td>\n",
       "      <td>1.000000e+00</td>\n",
       "      <td>1.000000e+00</td>\n",
       "      <td>1.000000e+00</td>\n",
       "      <td>1.000000e+00</td>\n",
       "      <td>...</td>\n",
       "      <td>1.000000e+00</td>\n",
       "      <td>1.000000e+00</td>\n",
       "      <td>1.000000e+00</td>\n",
       "      <td>1.000000e+00</td>\n",
       "      <td>1.000000e+00</td>\n",
       "      <td>1.000000e+00</td>\n",
       "      <td>1.000000e+00</td>\n",
       "      <td>1.000000e+00</td>\n",
       "      <td>1.000000e+00</td>\n",
       "      <td>1.000000e+00</td>\n",
       "    </tr>\n",
       "    <tr>\n",
       "      <th>min</th>\n",
       "      <td>-2.268801e+00</td>\n",
       "      <td>-1.697190e+00</td>\n",
       "      <td>-1.405276e+00</td>\n",
       "      <td>-3.662250e-01</td>\n",
       "      <td>-8.405927e-01</td>\n",
       "      <td>-9.756023e-01</td>\n",
       "      <td>-6.967768e-01</td>\n",
       "      <td>-7.559221e-01</td>\n",
       "      <td>-7.162235e-01</td>\n",
       "      <td>-8.905685e-01</td>\n",
       "      <td>...</td>\n",
       "      <td>-1.975485e-01</td>\n",
       "      <td>-6.055792e-01</td>\n",
       "      <td>-2.652453e-01</td>\n",
       "      <td>-2.808475e-01</td>\n",
       "      <td>-1.343434e+00</td>\n",
       "      <td>-4.829980e-01</td>\n",
       "      <td>-2.534612e-01</td>\n",
       "      <td>-1.862765e-01</td>\n",
       "      <td>-8.497402e-01</td>\n",
       "      <td>-1.176040e+00</td>\n",
       "    </tr>\n",
       "    <tr>\n",
       "      <th>25%</th>\n",
       "      <td>-4.047185e-01</td>\n",
       "      <td>-6.224713e-01</td>\n",
       "      <td>-7.491974e-01</td>\n",
       "      <td>-3.219217e-01</td>\n",
       "      <td>-7.128947e-01</td>\n",
       "      <td>-7.532980e-01</td>\n",
       "      <td>-6.967768e-01</td>\n",
       "      <td>-6.412758e-01</td>\n",
       "      <td>-7.162235e-01</td>\n",
       "      <td>-7.350745e-01</td>\n",
       "      <td>...</td>\n",
       "      <td>-1.975485e-01</td>\n",
       "      <td>-6.055792e-01</td>\n",
       "      <td>-2.652453e-01</td>\n",
       "      <td>-2.808475e-01</td>\n",
       "      <td>-1.343434e+00</td>\n",
       "      <td>-4.829980e-01</td>\n",
       "      <td>-2.534612e-01</td>\n",
       "      <td>-1.862765e-01</td>\n",
       "      <td>-8.497402e-01</td>\n",
       "      <td>-1.176040e+00</td>\n",
       "    </tr>\n",
       "    <tr>\n",
       "      <th>50%</th>\n",
       "      <td>5.273226e-01</td>\n",
       "      <td>4.522474e-01</td>\n",
       "      <td>-3.155383e-01</td>\n",
       "      <td>-1.885809e-01</td>\n",
       "      <td>-3.936498e-01</td>\n",
       "      <td>-3.086896e-01</td>\n",
       "      <td>-2.936977e-01</td>\n",
       "      <td>-3.737676e-01</td>\n",
       "      <td>-2.901213e-01</td>\n",
       "      <td>-3.074659e-01</td>\n",
       "      <td>...</td>\n",
       "      <td>-1.975485e-01</td>\n",
       "      <td>-6.055792e-01</td>\n",
       "      <td>-2.652453e-01</td>\n",
       "      <td>-2.808475e-01</td>\n",
       "      <td>7.438617e-01</td>\n",
       "      <td>-4.829980e-01</td>\n",
       "      <td>-2.534612e-01</td>\n",
       "      <td>-1.862765e-01</td>\n",
       "      <td>-8.497402e-01</td>\n",
       "      <td>8.497402e-01</td>\n",
       "    </tr>\n",
       "    <tr>\n",
       "      <th>75%</th>\n",
       "      <td>5.273226e-01</td>\n",
       "      <td>4.522474e-01</td>\n",
       "      <td>5.334699e-01</td>\n",
       "      <td>-2.831904e-02</td>\n",
       "      <td>3.512552e-01</td>\n",
       "      <td>5.805274e-01</td>\n",
       "      <td>1.093814e-01</td>\n",
       "      <td>1.994641e-01</td>\n",
       "      <td>3.490321e-01</td>\n",
       "      <td>4.700041e-01</td>\n",
       "      <td>...</td>\n",
       "      <td>-1.975485e-01</td>\n",
       "      <td>1.650203e+00</td>\n",
       "      <td>-2.652453e-01</td>\n",
       "      <td>-2.808475e-01</td>\n",
       "      <td>7.438617e-01</td>\n",
       "      <td>-4.829980e-01</td>\n",
       "      <td>-2.534612e-01</td>\n",
       "      <td>-1.862765e-01</td>\n",
       "      <td>1.176040e+00</td>\n",
       "      <td>8.497402e-01</td>\n",
       "    </tr>\n",
       "    <tr>\n",
       "      <th>max</th>\n",
       "      <td>1.459364e+00</td>\n",
       "      <td>3.676403e+00</td>\n",
       "      <td>4.255036e+00</td>\n",
       "      <td>1.217405e+01</td>\n",
       "      <td>4.820685e+00</td>\n",
       "      <td>4.359699e+00</td>\n",
       "      <td>5.618130e+00</td>\n",
       "      <td>5.740705e+00</td>\n",
       "      <td>6.740566e+00</td>\n",
       "      <td>5.990042e+00</td>\n",
       "      <td>...</td>\n",
       "      <td>5.058652e+00</td>\n",
       "      <td>1.650203e+00</td>\n",
       "      <td>3.767565e+00</td>\n",
       "      <td>3.558261e+00</td>\n",
       "      <td>7.438617e-01</td>\n",
       "      <td>2.069013e+00</td>\n",
       "      <td>3.942729e+00</td>\n",
       "      <td>5.364762e+00</td>\n",
       "      <td>1.176040e+00</td>\n",
       "      <td>8.497402e-01</td>\n",
       "    </tr>\n",
       "  </tbody>\n",
       "</table>\n",
       "<p>8 rows × 37 columns</p>\n",
       "</div>"
      ],
      "text/plain": [
       "               beds         baths          sqft      lot_size   restaurants  \\\n",
       "count  1.490000e+03  1.490000e+03  1.490000e+03  1.490000e+03  1.490000e+03   \n",
       "mean  -1.902281e-16 -4.254613e-17  7.663519e-17  3.911860e-17  1.409760e-16   \n",
       "std    1.000000e+00  1.000000e+00  1.000000e+00  1.000000e+00  1.000000e+00   \n",
       "min   -2.268801e+00 -1.697190e+00 -1.405276e+00 -3.662250e-01 -8.405927e-01   \n",
       "25%   -4.047185e-01 -6.224713e-01 -7.491974e-01 -3.219217e-01 -7.128947e-01   \n",
       "50%    5.273226e-01  4.522474e-01 -3.155383e-01 -1.885809e-01 -3.936498e-01   \n",
       "75%    5.273226e-01  4.522474e-01  5.334699e-01 -2.831904e-02  3.512552e-01   \n",
       "max    1.459364e+00  3.676403e+00  4.255036e+00  1.217405e+01  4.820685e+00   \n",
       "\n",
       "          groceries         cafes      shopping  arts_entertainment  \\\n",
       "count  1.490000e+03  1.490000e+03  1.490000e+03        1.490000e+03   \n",
       "mean   1.621373e-16  8.946050e-18  2.315448e-17       -2.132895e-16   \n",
       "std    1.000000e+00  1.000000e+00  1.000000e+00        1.000000e+00   \n",
       "min   -9.756023e-01 -6.967768e-01 -7.559221e-01       -7.162235e-01   \n",
       "25%   -7.532980e-01 -6.967768e-01 -6.412758e-01       -7.162235e-01   \n",
       "50%   -3.086896e-01 -2.936977e-01 -3.737676e-01       -2.901213e-01   \n",
       "75%    5.805274e-01  1.093814e-01  1.994641e-01        3.490321e-01   \n",
       "max    4.359699e+00  5.618130e+00  5.740705e+00        6.740566e+00   \n",
       "\n",
       "        beauty_spas             ...               exterior_walls_Other  \\\n",
       "count  1.490000e+03             ...                       1.490000e+03   \n",
       "mean   1.022299e-16             ...                       1.184362e-16   \n",
       "std    1.000000e+00             ...                       1.000000e+00   \n",
       "min   -8.905685e-01             ...                      -1.975485e-01   \n",
       "25%   -7.350745e-01             ...                      -1.975485e-01   \n",
       "50%   -3.074659e-01             ...                      -1.975485e-01   \n",
       "75%    4.700041e-01             ...                      -1.975485e-01   \n",
       "max    5.990042e+00             ...                       5.058652e+00   \n",
       "\n",
       "       exterior_walls_Siding (Alum/Vinyl)  exterior_walls_Wood  roof_Asphalt  \\\n",
       "count                        1.490000e+03         1.490000e+03  1.490000e+03   \n",
       "mean                         1.359092e-16        -2.747988e-16 -8.278240e-17   \n",
       "std                          1.000000e+00         1.000000e+00  1.000000e+00   \n",
       "min                         -6.055792e-01        -2.652453e-01 -2.808475e-01   \n",
       "25%                         -6.055792e-01        -2.652453e-01 -2.808475e-01   \n",
       "50%                         -6.055792e-01        -2.652453e-01 -2.808475e-01   \n",
       "75%                          1.650203e+00        -2.652453e-01 -2.808475e-01   \n",
       "max                          1.650203e+00         3.767565e+00  3.558261e+00   \n",
       "\n",
       "       roof_Composition Shingle  roof_Missing    roof_Other  \\\n",
       "count              1.490000e+03  1.490000e+03  1.490000e+03   \n",
       "mean              -2.752459e-16  2.772577e-16 -2.613867e-16   \n",
       "std                1.000000e+00  1.000000e+00  1.000000e+00   \n",
       "min               -1.343434e+00 -4.829980e-01 -2.534612e-01   \n",
       "25%               -1.343434e+00 -4.829980e-01 -2.534612e-01   \n",
       "50%                7.438617e-01 -4.829980e-01 -2.534612e-01   \n",
       "75%                7.438617e-01 -4.829980e-01 -2.534612e-01   \n",
       "max                7.438617e-01  2.069013e+00  3.942729e+00   \n",
       "\n",
       "       roof_Shake Shingle  property_type_Apartment / Condo / Townhouse  \\\n",
       "count        1.490000e+03                                 1.490000e+03   \n",
       "mean         7.708226e-17                                 8.941393e-17   \n",
       "std          1.000000e+00                                 1.000000e+00   \n",
       "min         -1.862765e-01                                -8.497402e-01   \n",
       "25%         -1.862765e-01                                -8.497402e-01   \n",
       "50%         -1.862765e-01                                -8.497402e-01   \n",
       "75%         -1.862765e-01                                 1.176040e+00   \n",
       "max          5.364762e+00                                 1.176040e+00   \n",
       "\n",
       "       property_type_Single-Family  \n",
       "count                 1.490000e+03  \n",
       "mean                 -8.941393e-17  \n",
       "std                   1.000000e+00  \n",
       "min                  -1.176040e+00  \n",
       "25%                  -1.176040e+00  \n",
       "50%                   8.497402e-01  \n",
       "75%                   8.497402e-01  \n",
       "max                   8.497402e-01  \n",
       "\n",
       "[8 rows x 37 columns]"
      ]
     },
     "execution_count": 15,
     "metadata": {},
     "output_type": "execute_result"
    }
   ],
   "source": [
    "## Check for mean and std dev.\n",
    "X_train.describe()"
   ]
  },
  {
   "cell_type": "code",
   "execution_count": 16,
   "metadata": {
    "collapsed": true
   },
   "outputs": [],
   "source": [
    "## Note: We use train_mean and train_std_dev to standardize test data set\n",
    "X_test = (X_test - train_mean) / train_std"
   ]
  },
  {
   "cell_type": "code",
   "execution_count": 17,
   "metadata": {},
   "outputs": [
    {
     "data": {
      "text/html": [
       "<div>\n",
       "<style>\n",
       "    .dataframe thead tr:only-child th {\n",
       "        text-align: right;\n",
       "    }\n",
       "\n",
       "    .dataframe thead th {\n",
       "        text-align: left;\n",
       "    }\n",
       "\n",
       "    .dataframe tbody tr th {\n",
       "        vertical-align: top;\n",
       "    }\n",
       "</style>\n",
       "<table border=\"1\" class=\"dataframe\">\n",
       "  <thead>\n",
       "    <tr style=\"text-align: right;\">\n",
       "      <th></th>\n",
       "      <th>beds</th>\n",
       "      <th>baths</th>\n",
       "      <th>sqft</th>\n",
       "      <th>lot_size</th>\n",
       "      <th>restaurants</th>\n",
       "      <th>groceries</th>\n",
       "      <th>cafes</th>\n",
       "      <th>shopping</th>\n",
       "      <th>arts_entertainment</th>\n",
       "      <th>beauty_spas</th>\n",
       "      <th>...</th>\n",
       "      <th>exterior_walls_Other</th>\n",
       "      <th>exterior_walls_Siding (Alum/Vinyl)</th>\n",
       "      <th>exterior_walls_Wood</th>\n",
       "      <th>roof_Asphalt</th>\n",
       "      <th>roof_Composition Shingle</th>\n",
       "      <th>roof_Missing</th>\n",
       "      <th>roof_Other</th>\n",
       "      <th>roof_Shake Shingle</th>\n",
       "      <th>property_type_Apartment / Condo / Townhouse</th>\n",
       "      <th>property_type_Single-Family</th>\n",
       "    </tr>\n",
       "  </thead>\n",
       "  <tbody>\n",
       "    <tr>\n",
       "      <th>count</th>\n",
       "      <td>373.000000</td>\n",
       "      <td>373.000000</td>\n",
       "      <td>373.000000</td>\n",
       "      <td>373.000000</td>\n",
       "      <td>373.000000</td>\n",
       "      <td>373.000000</td>\n",
       "      <td>373.000000</td>\n",
       "      <td>373.000000</td>\n",
       "      <td>373.000000</td>\n",
       "      <td>373.000000</td>\n",
       "      <td>...</td>\n",
       "      <td>373.000000</td>\n",
       "      <td>373.000000</td>\n",
       "      <td>373.000000</td>\n",
       "      <td>373.000000</td>\n",
       "      <td>373.000000</td>\n",
       "      <td>373.000000</td>\n",
       "      <td>373.000000</td>\n",
       "      <td>373.000000</td>\n",
       "      <td>373.000000</td>\n",
       "      <td>373.000000</td>\n",
       "    </tr>\n",
       "    <tr>\n",
       "      <th>mean</th>\n",
       "      <td>-0.117360</td>\n",
       "      <td>-0.080790</td>\n",
       "      <td>-0.090918</td>\n",
       "      <td>-0.032233</td>\n",
       "      <td>0.091066</td>\n",
       "      <td>0.141283</td>\n",
       "      <td>0.109381</td>\n",
       "      <td>0.132152</td>\n",
       "      <td>0.048019</td>\n",
       "      <td>0.107741</td>\n",
       "      <td>...</td>\n",
       "      <td>-0.042540</td>\n",
       "      <td>-0.025002</td>\n",
       "      <td>-0.005761</td>\n",
       "      <td>-0.002950</td>\n",
       "      <td>0.010790</td>\n",
       "      <td>-0.004068</td>\n",
       "      <td>0.027785</td>\n",
       "      <td>-0.052337</td>\n",
       "      <td>0.111555</td>\n",
       "      <td>-0.111555</td>\n",
       "    </tr>\n",
       "    <tr>\n",
       "      <th>std</th>\n",
       "      <td>0.958651</td>\n",
       "      <td>0.989343</td>\n",
       "      <td>1.001612</td>\n",
       "      <td>1.034313</td>\n",
       "      <td>1.003586</td>\n",
       "      <td>0.996496</td>\n",
       "      <td>1.077763</td>\n",
       "      <td>1.121003</td>\n",
       "      <td>1.013148</td>\n",
       "      <td>1.018536</td>\n",
       "      <td>...</td>\n",
       "      <td>0.890424</td>\n",
       "      <td>0.987522</td>\n",
       "      <td>0.990833</td>\n",
       "      <td>0.996149</td>\n",
       "      <td>0.997703</td>\n",
       "      <td>0.997762</td>\n",
       "      <td>1.050725</td>\n",
       "      <td>0.852944</td>\n",
       "      <td>1.012934</td>\n",
       "      <td>1.012934</td>\n",
       "    </tr>\n",
       "    <tr>\n",
       "      <th>min</th>\n",
       "      <td>-2.268801</td>\n",
       "      <td>-1.697190</td>\n",
       "      <td>-1.261108</td>\n",
       "      <td>-0.366225</td>\n",
       "      <td>-0.840593</td>\n",
       "      <td>-0.975602</td>\n",
       "      <td>-0.696777</td>\n",
       "      <td>-0.755922</td>\n",
       "      <td>-0.716224</td>\n",
       "      <td>-0.890568</td>\n",
       "      <td>...</td>\n",
       "      <td>-0.197548</td>\n",
       "      <td>-0.605579</td>\n",
       "      <td>-0.265245</td>\n",
       "      <td>-0.280848</td>\n",
       "      <td>-1.343434</td>\n",
       "      <td>-0.482998</td>\n",
       "      <td>-0.253461</td>\n",
       "      <td>-0.186276</td>\n",
       "      <td>-0.849740</td>\n",
       "      <td>-1.176040</td>\n",
       "    </tr>\n",
       "    <tr>\n",
       "      <th>25%</th>\n",
       "      <td>-0.404719</td>\n",
       "      <td>-0.622471</td>\n",
       "      <td>-0.803935</td>\n",
       "      <td>-0.324824</td>\n",
       "      <td>-0.627763</td>\n",
       "      <td>-0.753298</td>\n",
       "      <td>-0.562417</td>\n",
       "      <td>-0.564845</td>\n",
       "      <td>-0.716224</td>\n",
       "      <td>-0.657327</td>\n",
       "      <td>...</td>\n",
       "      <td>-0.197548</td>\n",
       "      <td>-0.605579</td>\n",
       "      <td>-0.265245</td>\n",
       "      <td>-0.280848</td>\n",
       "      <td>-1.343434</td>\n",
       "      <td>-0.482998</td>\n",
       "      <td>-0.253461</td>\n",
       "      <td>-0.186276</td>\n",
       "      <td>-0.849740</td>\n",
       "      <td>-1.176040</td>\n",
       "    </tr>\n",
       "    <tr>\n",
       "      <th>50%</th>\n",
       "      <td>-0.404719</td>\n",
       "      <td>-0.622471</td>\n",
       "      <td>-0.386851</td>\n",
       "      <td>-0.266126</td>\n",
       "      <td>-0.287235</td>\n",
       "      <td>-0.086385</td>\n",
       "      <td>-0.293698</td>\n",
       "      <td>-0.259121</td>\n",
       "      <td>-0.290121</td>\n",
       "      <td>-0.229719</td>\n",
       "      <td>...</td>\n",
       "      <td>-0.197548</td>\n",
       "      <td>-0.605579</td>\n",
       "      <td>-0.265245</td>\n",
       "      <td>-0.280848</td>\n",
       "      <td>0.743862</td>\n",
       "      <td>-0.482998</td>\n",
       "      <td>-0.253461</td>\n",
       "      <td>-0.186276</td>\n",
       "      <td>-0.849740</td>\n",
       "      <td>0.849740</td>\n",
       "    </tr>\n",
       "    <tr>\n",
       "      <th>75%</th>\n",
       "      <td>0.527323</td>\n",
       "      <td>0.452247</td>\n",
       "      <td>0.306233</td>\n",
       "      <td>-0.062883</td>\n",
       "      <td>0.500236</td>\n",
       "      <td>0.580527</td>\n",
       "      <td>0.243741</td>\n",
       "      <td>0.333218</td>\n",
       "      <td>0.349032</td>\n",
       "      <td>0.586625</td>\n",
       "      <td>...</td>\n",
       "      <td>-0.197548</td>\n",
       "      <td>1.650203</td>\n",
       "      <td>-0.265245</td>\n",
       "      <td>-0.280848</td>\n",
       "      <td>0.743862</td>\n",
       "      <td>-0.482998</td>\n",
       "      <td>-0.253461</td>\n",
       "      <td>-0.186276</td>\n",
       "      <td>1.176040</td>\n",
       "      <td>0.849740</td>\n",
       "    </tr>\n",
       "    <tr>\n",
       "      <th>max</th>\n",
       "      <td>1.459364</td>\n",
       "      <td>3.676403</td>\n",
       "      <td>4.127830</td>\n",
       "      <td>12.149022</td>\n",
       "      <td>4.820685</td>\n",
       "      <td>3.915091</td>\n",
       "      <td>5.349410</td>\n",
       "      <td>5.740705</td>\n",
       "      <td>6.740566</td>\n",
       "      <td>5.912295</td>\n",
       "      <td>...</td>\n",
       "      <td>5.058652</td>\n",
       "      <td>1.650203</td>\n",
       "      <td>3.767565</td>\n",
       "      <td>3.558261</td>\n",
       "      <td>0.743862</td>\n",
       "      <td>2.069013</td>\n",
       "      <td>3.942729</td>\n",
       "      <td>5.364762</td>\n",
       "      <td>1.176040</td>\n",
       "      <td>0.849740</td>\n",
       "    </tr>\n",
       "  </tbody>\n",
       "</table>\n",
       "<p>8 rows × 37 columns</p>\n",
       "</div>"
      ],
      "text/plain": [
       "             beds       baths        sqft    lot_size  restaurants  \\\n",
       "count  373.000000  373.000000  373.000000  373.000000   373.000000   \n",
       "mean    -0.117360   -0.080790   -0.090918   -0.032233     0.091066   \n",
       "std      0.958651    0.989343    1.001612    1.034313     1.003586   \n",
       "min     -2.268801   -1.697190   -1.261108   -0.366225    -0.840593   \n",
       "25%     -0.404719   -0.622471   -0.803935   -0.324824    -0.627763   \n",
       "50%     -0.404719   -0.622471   -0.386851   -0.266126    -0.287235   \n",
       "75%      0.527323    0.452247    0.306233   -0.062883     0.500236   \n",
       "max      1.459364    3.676403    4.127830   12.149022     4.820685   \n",
       "\n",
       "        groceries       cafes    shopping  arts_entertainment  beauty_spas  \\\n",
       "count  373.000000  373.000000  373.000000          373.000000   373.000000   \n",
       "mean     0.141283    0.109381    0.132152            0.048019     0.107741   \n",
       "std      0.996496    1.077763    1.121003            1.013148     1.018536   \n",
       "min     -0.975602   -0.696777   -0.755922           -0.716224    -0.890568   \n",
       "25%     -0.753298   -0.562417   -0.564845           -0.716224    -0.657327   \n",
       "50%     -0.086385   -0.293698   -0.259121           -0.290121    -0.229719   \n",
       "75%      0.580527    0.243741    0.333218            0.349032     0.586625   \n",
       "max      3.915091    5.349410    5.740705            6.740566     5.912295   \n",
       "\n",
       "                  ...               exterior_walls_Other  \\\n",
       "count             ...                         373.000000   \n",
       "mean              ...                          -0.042540   \n",
       "std               ...                           0.890424   \n",
       "min               ...                          -0.197548   \n",
       "25%               ...                          -0.197548   \n",
       "50%               ...                          -0.197548   \n",
       "75%               ...                          -0.197548   \n",
       "max               ...                           5.058652   \n",
       "\n",
       "       exterior_walls_Siding (Alum/Vinyl)  exterior_walls_Wood  roof_Asphalt  \\\n",
       "count                          373.000000           373.000000    373.000000   \n",
       "mean                            -0.025002            -0.005761     -0.002950   \n",
       "std                              0.987522             0.990833      0.996149   \n",
       "min                             -0.605579            -0.265245     -0.280848   \n",
       "25%                             -0.605579            -0.265245     -0.280848   \n",
       "50%                             -0.605579            -0.265245     -0.280848   \n",
       "75%                              1.650203            -0.265245     -0.280848   \n",
       "max                              1.650203             3.767565      3.558261   \n",
       "\n",
       "       roof_Composition Shingle  roof_Missing  roof_Other  roof_Shake Shingle  \\\n",
       "count                373.000000    373.000000  373.000000          373.000000   \n",
       "mean                   0.010790     -0.004068    0.027785           -0.052337   \n",
       "std                    0.997703      0.997762    1.050725            0.852944   \n",
       "min                   -1.343434     -0.482998   -0.253461           -0.186276   \n",
       "25%                   -1.343434     -0.482998   -0.253461           -0.186276   \n",
       "50%                    0.743862     -0.482998   -0.253461           -0.186276   \n",
       "75%                    0.743862     -0.482998   -0.253461           -0.186276   \n",
       "max                    0.743862      2.069013    3.942729            5.364762   \n",
       "\n",
       "       property_type_Apartment / Condo / Townhouse  \\\n",
       "count                                   373.000000   \n",
       "mean                                      0.111555   \n",
       "std                                       1.012934   \n",
       "min                                      -0.849740   \n",
       "25%                                      -0.849740   \n",
       "50%                                      -0.849740   \n",
       "75%                                       1.176040   \n",
       "max                                       1.176040   \n",
       "\n",
       "       property_type_Single-Family  \n",
       "count                   373.000000  \n",
       "mean                     -0.111555  \n",
       "std                       1.012934  \n",
       "min                      -1.176040  \n",
       "25%                      -1.176040  \n",
       "50%                       0.849740  \n",
       "75%                       0.849740  \n",
       "max                       0.849740  \n",
       "\n",
       "[8 rows x 37 columns]"
      ]
     },
     "execution_count": 17,
     "metadata": {},
     "output_type": "execute_result"
    }
   ],
   "source": [
    "## Check for mean and std dev. - not exactly 0 and 1\n",
    "X_test.describe()"
   ]
  },
  {
   "cell_type": "markdown",
   "metadata": {},
   "source": [
    "##  Model 1 - Baseline Model\n",
    "* In this model, for every test data point, we will simply predict the average of the train labels as the output.\n",
    "* We will use this simple model to perform hypothesis testing for other complex models."
   ]
  },
  {
   "cell_type": "code",
   "execution_count": 224,
   "metadata": {
    "collapsed": true
   },
   "outputs": [],
   "source": [
    "## Predict Train results\n",
    "y_train_pred = np.ones(y_train.shape[0])*y_train.mean()"
   ]
  },
  {
   "cell_type": "code",
   "execution_count": 225,
   "metadata": {
    "collapsed": true
   },
   "outputs": [],
   "source": [
    "## Predict Test results\n",
    "y_pred = np.ones(y_test.shape[0])*y_train.mean()"
   ]
  },
  {
   "cell_type": "code",
   "execution_count": 226,
   "metadata": {},
   "outputs": [
    {
     "name": "stdout",
     "output_type": "stream",
     "text": [
      "Train Results for Baseline Model:\n",
      "*******************************\n",
      "Root mean squared error:  153791.70506675562\n",
      "R-squared:  0.0\n",
      "Mean Absolute Error:  127271.757171\n"
     ]
    }
   ],
   "source": [
    "print(\"Train Results for Baseline Model:\")\n",
    "print(\"*******************************\")\n",
    "print(\"Root mean squared error: \", sqrt(mse(y_train.values, y_train_pred)))\n",
    "print(\"R-squared: \", r2_score(y_train.values, y_train_pred))\n",
    "print(\"Mean Absolute Error: \", mae(y_train.values, y_train_pred))"
   ]
  },
  {
   "cell_type": "code",
   "execution_count": 227,
   "metadata": {},
   "outputs": [
    {
     "name": "stdout",
     "output_type": "stream",
     "text": [
      "Results for Baseline Model:\n",
      "*******************************\n",
      "Root mean squared error:  143268.37228905046\n",
      "R-squared:  -0.00731881601388\n",
      "Mean Absolute Error:  120855.475979\n"
     ]
    }
   ],
   "source": [
    "print(\"Results for Baseline Model:\")\n",
    "print(\"*******************************\")\n",
    "print(\"Root mean squared error: \", sqrt(mse(y_test, y_pred)))\n",
    "print(\"R-squared: \", r2_score(y_test, y_pred))\n",
    "print(\"Mean Absolute Error: \", mae(y_test, y_pred))"
   ]
  },
  {
   "cell_type": "markdown",
   "metadata": {},
   "source": [
    "##  Model-2 Ridge Regression"
   ]
  },
  {
   "cell_type": "code",
   "execution_count": 228,
   "metadata": {},
   "outputs": [
    {
     "data": {
      "text/plain": [
       "GridSearchCV(cv=10, error_score='raise',\n",
       "       estimator=Ridge(alpha=1.0, copy_X=True, fit_intercept=True, max_iter=None,\n",
       "   normalize=False, random_state=None, solver='auto', tol=0.001),\n",
       "       fit_params=None, iid=True, n_jobs=-1,\n",
       "       param_grid={'alpha': [0.0001, 0.001, 0.01, 0.1, 1, 10, 100, 1000, 10000, 100000]},\n",
       "       pre_dispatch='2*n_jobs', refit=True, return_train_score='warn',\n",
       "       scoring='neg_mean_absolute_error', verbose=0)"
      ]
     },
     "execution_count": 228,
     "metadata": {},
     "output_type": "execute_result"
    }
   ],
   "source": [
    "tuned_params = {'alpha': [0.0001, 0.001, 0.01, 0.1, 1, 10, 100, 1000, 10000, 100000]}\n",
    "model = GridSearchCV(Ridge(), tuned_params, scoring = 'neg_mean_absolute_error', cv=10, n_jobs=-1)\n",
    "model.fit(X_train, y_train)"
   ]
  },
  {
   "cell_type": "code",
   "execution_count": 229,
   "metadata": {},
   "outputs": [
    {
     "data": {
      "text/plain": [
       "Ridge(alpha=100, copy_X=True, fit_intercept=True, max_iter=None,\n",
       "   normalize=False, random_state=None, solver='auto', tol=0.001)"
      ]
     },
     "execution_count": 229,
     "metadata": {},
     "output_type": "execute_result"
    }
   ],
   "source": [
    "model.best_estimator_"
   ]
  },
  {
   "cell_type": "code",
   "execution_count": 230,
   "metadata": {
    "collapsed": true
   },
   "outputs": [],
   "source": [
    "## Predict Train results\n",
    "y_train_pred = model.predict(X_train)"
   ]
  },
  {
   "cell_type": "code",
   "execution_count": 231,
   "metadata": {
    "collapsed": true
   },
   "outputs": [],
   "source": [
    "## Predict Test results\n",
    "y_pred = model.predict(X_test)"
   ]
  },
  {
   "cell_type": "code",
   "execution_count": 232,
   "metadata": {},
   "outputs": [
    {
     "name": "stdout",
     "output_type": "stream",
     "text": [
      "Train Results for Ridge Regression:\n",
      "*******************************\n",
      "Root mean squared error:  118371.12102111954\n",
      "R-squared:  0.407585476155\n",
      "Mean Absolute Error:  92411.4441544\n"
     ]
    }
   ],
   "source": [
    "print(\"Train Results for Ridge Regression:\")\n",
    "print(\"*******************************\")\n",
    "print(\"Root mean squared error: \", sqrt(mse(y_train.values, y_train_pred)))\n",
    "print(\"R-squared: \", r2_score(y_train.values, y_train_pred))\n",
    "print(\"Mean Absolute Error: \", mae(y_train.values, y_train_pred))"
   ]
  },
  {
   "cell_type": "code",
   "execution_count": 233,
   "metadata": {},
   "outputs": [
    {
     "name": "stdout",
     "output_type": "stream",
     "text": [
      "Test Results for Ridge Regression:\n",
      "*******************************\n",
      "Root mean squared error:  109556.25037528694\n",
      "R-squared:  0.410965662533\n",
      "Mean Absolute Error:  85353.5798568\n"
     ]
    }
   ],
   "source": [
    "print(\"Test Results for Ridge Regression:\")\n",
    "print(\"*******************************\")\n",
    "print(\"Root mean squared error: \", sqrt(mse(y_test, y_pred)))\n",
    "print(\"R-squared: \", r2_score(y_test, y_pred))\n",
    "print(\"Mean Absolute Error: \", mae(y_test, y_pred))"
   ]
  },
  {
   "cell_type": "markdown",
   "metadata": {},
   "source": [
    "### Feature Importance"
   ]
  },
  {
   "cell_type": "code",
   "execution_count": 234,
   "metadata": {},
   "outputs": [
    {
     "data": {
      "text/plain": [
       "Ridge(alpha=100, copy_X=True, fit_intercept=True, max_iter=None,\n",
       "   normalize=False, random_state=None, solver='auto', tol=0.001)"
      ]
     },
     "execution_count": 234,
     "metadata": {},
     "output_type": "execute_result"
    }
   ],
   "source": [
    "## Building the model again with the best hyperparameters\n",
    "model = Ridge(alpha=100)\n",
    "model.fit(X_train, y_train)"
   ]
  },
  {
   "cell_type": "code",
   "execution_count": 235,
   "metadata": {},
   "outputs": [
    {
     "name": "stdout",
     "output_type": "stream",
     "text": [
      "The features in order of importance are:\n",
      "--------------------------------------------------\n",
      "tax_and_insurance\n",
      "sqft\n",
      "college_grad\n",
      "old_properties\n",
      "property_age\n",
      "baths\n",
      "beds\n",
      "cafes\n",
      "beauty_spas\n",
      "during_recession\n",
      "lot_size\n",
      "restaurants\n",
      "groceries\n",
      "shopping\n",
      "exterior_walls_Missing\n",
      "exterior_walls_Wood\n",
      "property_type_Apartment / Condo / Townhouse\n",
      "property_type_Single-Family\n",
      "active_life\n",
      "exterior_walls_Brick veneer\n",
      "exterior_walls_Brick\n",
      "exterior_walls_Combination\n",
      "school_score\n",
      "two_and_two\n",
      "num_schools\n",
      "exterior_walls_Siding (Alum/Vinyl)\n",
      "roof_Asphalt\n",
      "roof_Composition Shingle\n",
      "exterior_walls_Metal\n",
      "arts_entertainment\n",
      "married\n",
      "roof_Missing\n",
      "median_age\n",
      "roof_Shake Shingle\n",
      "exterior_walls_Other\n",
      "roof_Other\n",
      "median_school\n"
     ]
    }
   ],
   "source": [
    "indices = np.argsort(-abs(model.coef_))\n",
    "print(\"The features in order of importance are:\")\n",
    "print(50*'-')\n",
    "for feature in X.columns[indices]:\n",
    "    print(feature)"
   ]
  },
  {
   "cell_type": "markdown",
   "metadata": {},
   "source": [
    "##  Model-3 Support Vector Regression\n",
    "With an RBF Kernel"
   ]
  },
  {
   "cell_type": "code",
   "execution_count": 35,
   "metadata": {},
   "outputs": [
    {
     "data": {
      "text/plain": [
       "GridSearchCV(cv=5, error_score='raise',\n",
       "       estimator=SVR(C=1.0, cache_size=200, coef0=0.0, degree=3, epsilon=0.1, gamma='auto',\n",
       "  kernel='rbf', max_iter=-1, shrinking=True, tol=0.001, verbose=False),\n",
       "       fit_params=None, iid=True, n_jobs=-1,\n",
       "       param_grid={'C': [0.0001, 0.001, 0.01, 0.1, 1, 10, 100, 1000, 10000, 100000], 'gamma': [0.0001, 0.001, 0.01, 0.1, 1, 10, 100, 1000, 10000, 100000]},\n",
       "       pre_dispatch='2*n_jobs', refit=True, return_train_score='warn',\n",
       "       scoring='neg_mean_absolute_error', verbose=0)"
      ]
     },
     "execution_count": 35,
     "metadata": {},
     "output_type": "execute_result"
    }
   ],
   "source": [
    "tuned_params = {'C': [0.0001, 0.001, 0.01, 0.1, 1, 10, 100, 1000, 10000, 100000], 'gamma': [0.0001, 0.001, 0.01, 0.1, 1, 10, 100, 1000, 10000, 100000]}\n",
    "model = GridSearchCV(SVR(), tuned_params, scoring = 'neg_mean_absolute_error', cv=5, n_jobs=-1)\n",
    "model.fit(X_train, y_train)\n",
    "## This takes around 20 minutes"
   ]
  },
  {
   "cell_type": "code",
   "execution_count": 36,
   "metadata": {},
   "outputs": [
    {
     "data": {
      "text/plain": [
       "SVR(C=100000, cache_size=200, coef0=0.0, degree=3, epsilon=0.1, gamma=0.01,\n",
       "  kernel='rbf', max_iter=-1, shrinking=True, tol=0.001, verbose=False)"
      ]
     },
     "execution_count": 36,
     "metadata": {},
     "output_type": "execute_result"
    }
   ],
   "source": [
    "model.best_estimator_"
   ]
  },
  {
   "cell_type": "code",
   "execution_count": 37,
   "metadata": {},
   "outputs": [
    {
     "data": {
      "text/plain": [
       "SVR(C=100000, cache_size=200, coef0=0.0, degree=3, epsilon=0.1, gamma=0.01,\n",
       "  kernel='rbf', max_iter=-1, shrinking=True, tol=0.001, verbose=False)"
      ]
     },
     "execution_count": 37,
     "metadata": {},
     "output_type": "execute_result"
    }
   ],
   "source": [
    "## Building the model again with the best hyperparameters\n",
    "model = SVR(C=100000, gamma=0.01)\n",
    "model.fit(X_train, y_train)"
   ]
  },
  {
   "cell_type": "code",
   "execution_count": 38,
   "metadata": {
    "collapsed": true
   },
   "outputs": [],
   "source": [
    "## Predict Train results\n",
    "y_train_pred = model.predict(X_train)"
   ]
  },
  {
   "cell_type": "code",
   "execution_count": 39,
   "metadata": {
    "collapsed": true
   },
   "outputs": [],
   "source": [
    "## Predict Test results\n",
    "y_pred = model.predict(X_test)"
   ]
  },
  {
   "cell_type": "code",
   "execution_count": 43,
   "metadata": {},
   "outputs": [
    {
     "name": "stdout",
     "output_type": "stream",
     "text": [
      "Train Results for Support Vector Regression:\n",
      "*******************************\n",
      "Root mean squared error:  105184.79924921208\n",
      "R-squared:  0.532221624884\n",
      "Mean Absolute Error:  76724.6639426\n"
     ]
    }
   ],
   "source": [
    "print(\"Train Results for Support Vector Regression:\")\n",
    "print(\"*******************************\")\n",
    "print(\"Root mean squared error: \", sqrt(mse(y_train.values, y_train_pred)))\n",
    "print(\"R-squared: \", r2_score(y_train.values, y_train_pred))\n",
    "print(\"Mean Absolute Error: \", mae(y_train.values, y_train_pred))"
   ]
  },
  {
   "cell_type": "code",
   "execution_count": 44,
   "metadata": {},
   "outputs": [
    {
     "name": "stdout",
     "output_type": "stream",
     "text": [
      "Test Results for Support Vector Regression:\n",
      "*******************************\n",
      "Root mean squared error:  102704.2797531053\n",
      "R-squared:  0.48234146921\n",
      "Mean Absolute Error:  75297.1941401\n"
     ]
    }
   ],
   "source": [
    "print(\"Test Results for Support Vector Regression:\")\n",
    "print(\"*******************************\")\n",
    "print(\"Root mean squared error: \", sqrt(mse(y_test, y_pred)))\n",
    "print(\"R-squared: \", r2_score(y_test, y_pred))\n",
    "print(\"Mean Absolute Error: \", mae(y_test, y_pred))"
   ]
  },
  {
   "cell_type": "markdown",
   "metadata": {},
   "source": [
    "#### Unfortunately getting feature importance from RBF SVM is non trivial"
   ]
  },
  {
   "cell_type": "markdown",
   "metadata": {},
   "source": [
    "## Model-4 Random Forest Regression"
   ]
  },
  {
   "cell_type": "code",
   "execution_count": 238,
   "metadata": {},
   "outputs": [
    {
     "data": {
      "text/plain": [
       "RandomizedSearchCV(cv=5, error_score='raise',\n",
       "          estimator=RandomForestRegressor(bootstrap=True, criterion='mse', max_depth=None,\n",
       "           max_features='auto', max_leaf_nodes=None,\n",
       "           min_impurity_decrease=0.0, min_impurity_split=None,\n",
       "           min_samples_leaf=1, min_samples_split=2,\n",
       "           min_weight_fraction_leaf=0.0, n_estimators=10, n_jobs=1,\n",
       "           oob_score=False, random_state=None, verbose=0, warm_start=False),\n",
       "          fit_params=None, iid=True, n_iter=20, n_jobs=-1,\n",
       "          param_distributions={'n_estimators': [100, 200, 300, 400, 500], 'min_samples_split': [2, 5, 10], 'min_samples_leaf': [1, 2, 4]},\n",
       "          pre_dispatch='2*n_jobs', random_state=None, refit=True,\n",
       "          return_train_score='warn', scoring='neg_mean_absolute_error',\n",
       "          verbose=0)"
      ]
     },
     "execution_count": 238,
     "metadata": {},
     "output_type": "execute_result"
    }
   ],
   "source": [
    "## Reference for random search on random forest\n",
    "## https://towardsdatascience.com/hyperparameter-tuning-the-random-forest-in-python-using-scikit-learn-28d2aa77dd74\n",
    "tuned_params = {'n_estimators': [100, 200, 300, 400, 500], 'min_samples_split': [2, 5, 10], 'min_samples_leaf': [1, 2, 4]}\n",
    "model = RandomizedSearchCV(RandomForestRegressor(), tuned_params, n_iter=20, scoring = 'neg_mean_absolute_error', cv=5, n_jobs=-1)\n",
    "model.fit(X_train, y_train)\n",
    "## This takes around 15 minutes"
   ]
  },
  {
   "cell_type": "code",
   "execution_count": 239,
   "metadata": {},
   "outputs": [
    {
     "data": {
      "text/plain": [
       "RandomForestRegressor(bootstrap=True, criterion='mse', max_depth=None,\n",
       "           max_features='auto', max_leaf_nodes=None,\n",
       "           min_impurity_decrease=0.0, min_impurity_split=None,\n",
       "           min_samples_leaf=2, min_samples_split=10,\n",
       "           min_weight_fraction_leaf=0.0, n_estimators=200, n_jobs=1,\n",
       "           oob_score=False, random_state=None, verbose=0, warm_start=False)"
      ]
     },
     "execution_count": 239,
     "metadata": {},
     "output_type": "execute_result"
    }
   ],
   "source": [
    "model.best_estimator_"
   ]
  },
  {
   "cell_type": "code",
   "execution_count": 240,
   "metadata": {
    "collapsed": true
   },
   "outputs": [],
   "source": [
    "## Predict Train results\n",
    "y_train_pred = model.predict(X_train)"
   ]
  },
  {
   "cell_type": "code",
   "execution_count": 241,
   "metadata": {
    "collapsed": true
   },
   "outputs": [],
   "source": [
    "## Predict Test results\n",
    "y_pred = model.predict(X_test)"
   ]
  },
  {
   "cell_type": "code",
   "execution_count": 244,
   "metadata": {},
   "outputs": [
    {
     "name": "stdout",
     "output_type": "stream",
     "text": [
      "Train Results for Random Forest Regression:\n",
      "*******************************\n",
      "Root mean squared error:  61521.268551314184\n",
      "R-squared:  0.839976140739\n",
      "Mean Absolute Error:  45133.3009272\n"
     ]
    }
   ],
   "source": [
    "print(\"Train Results for Random Forest Regression:\")\n",
    "print(\"*******************************\")\n",
    "print(\"Root mean squared error: \", sqrt(mse(y_train.values, y_train_pred)))\n",
    "print(\"R-squared: \", r2_score(y_train.values, y_train_pred))\n",
    "print(\"Mean Absolute Error: \", mae(y_train.values, y_train_pred))"
   ]
  },
  {
   "cell_type": "code",
   "execution_count": 245,
   "metadata": {},
   "outputs": [
    {
     "name": "stdout",
     "output_type": "stream",
     "text": [
      "Test Results for Random Forest Regression:\n",
      "*******************************\n",
      "Root mean squared error:  95478.51890112278\n",
      "R-squared:  0.552618893124\n",
      "Mean Absolute Error:  70392.5334953\n"
     ]
    }
   ],
   "source": [
    "print(\"Test Results for Random Forest Regression:\")\n",
    "print(\"*******************************\")\n",
    "print(\"Root mean squared error: \", sqrt(mse(y_test, y_pred)))\n",
    "print(\"R-squared: \", r2_score(y_test, y_pred))\n",
    "print(\"Mean Absolute Error: \", mae(y_test, y_pred))"
   ]
  },
  {
   "cell_type": "markdown",
   "metadata": {},
   "source": [
    "### Feature Importance"
   ]
  },
  {
   "cell_type": "code",
   "execution_count": 30,
   "metadata": {},
   "outputs": [
    {
     "data": {
      "text/plain": [
       "RandomForestRegressor(bootstrap=True, criterion='mse', max_depth=None,\n",
       "           max_features='auto', max_leaf_nodes=None,\n",
       "           min_impurity_decrease=0.0, min_impurity_split=None,\n",
       "           min_samples_leaf=2, min_samples_split=10,\n",
       "           min_weight_fraction_leaf=0.0, n_estimators=200, n_jobs=1,\n",
       "           oob_score=False, random_state=None, verbose=0, warm_start=False)"
      ]
     },
     "execution_count": 30,
     "metadata": {},
     "output_type": "execute_result"
    }
   ],
   "source": [
    "## Building the model again with the best hyperparameters\n",
    "model = RandomForestRegressor(n_estimators=200, min_samples_split=10, min_samples_leaf=2)\n",
    "model.fit(X_train, y_train)"
   ]
  },
  {
   "cell_type": "code",
   "execution_count": 31,
   "metadata": {},
   "outputs": [
    {
     "name": "stdout",
     "output_type": "stream",
     "text": [
      "The features in order of importance are:\n",
      "--------------------------------------------------\n",
      "tax_and_insurance\n",
      "sqft\n",
      "property_age\n",
      "lot_size\n",
      "college_grad\n",
      "married\n",
      "median_age\n",
      "during_recession\n",
      "active_life\n",
      "beauty_spas\n",
      "shopping\n",
      "restaurants\n",
      "median_school\n",
      "school_score\n",
      "baths\n",
      "groceries\n",
      "arts_entertainment\n",
      "cafes\n",
      "beds\n",
      "exterior_walls_Siding (Alum/Vinyl)\n",
      "old_properties\n",
      "exterior_walls_Missing\n",
      "exterior_walls_Metal\n",
      "exterior_walls_Brick\n",
      "roof_Missing\n",
      "roof_Composition Shingle\n",
      "roof_Asphalt\n",
      "roof_Shake Shingle\n",
      "exterior_walls_Combination\n",
      "num_schools\n",
      "exterior_walls_Brick veneer\n",
      "roof_Other\n",
      "exterior_walls_Wood\n",
      "exterior_walls_Other\n",
      "two_and_two\n",
      "property_type_Apartment / Condo / Townhouse\n",
      "property_type_Single-Family\n"
     ]
    }
   ],
   "source": [
    "indices = np.argsort(-model.feature_importances_)\n",
    "print(\"The features in order of importance are:\")\n",
    "print(50*'-')\n",
    "for feature in X.columns[indices]:\n",
    "    print(feature)"
   ]
  },
  {
   "cell_type": "markdown",
   "metadata": {},
   "source": [
    "## Model-5 XGBoost Regression"
   ]
  },
  {
   "cell_type": "code",
   "execution_count": 252,
   "metadata": {},
   "outputs": [
    {
     "data": {
      "text/plain": [
       "RandomizedSearchCV(cv=5, error_score='raise',\n",
       "          estimator=XGBRegressor(base_score=0.5, booster='gbtree', colsample_bylevel=1,\n",
       "       colsample_bytree=1, gamma=0, learning_rate=0.1, max_delta_step=0,\n",
       "       max_depth=3, min_child_weight=1, missing=None, n_estimators=100,\n",
       "       n_jobs=1, nthread=None, objective='reg:linear', random_state=0,\n",
       "       reg_alpha=0, reg_lambda=1, scale_pos_weight=1, seed=None,\n",
       "       silent=True, subsample=1),\n",
       "          fit_params=None, iid=True, n_iter=20, n_jobs=-1,\n",
       "          param_distributions={'max_depth': [1, 2, 3, 4, 5], 'learning_rate': [0.01, 0.05, 0.1], 'n_estimators': [100, 200, 300, 400, 500], 'reg_lambda': [0.001, 0.1, 1.0, 10.0, 100.0]},\n",
       "          pre_dispatch='2*n_jobs', random_state=None, refit=True,\n",
       "          return_train_score='warn', scoring='neg_mean_absolute_error',\n",
       "          verbose=0)"
      ]
     },
     "execution_count": 252,
     "metadata": {},
     "output_type": "execute_result"
    }
   ],
   "source": [
    "## Reference for random search on xgboost\n",
    "## https://gist.github.com/wrwr/3f6b66bf4ee01bf48be965f60d14454d\n",
    "tuned_params = {'max_depth': [1, 2, 3, 4, 5], 'learning_rate': [0.01, 0.05, 0.1], 'n_estimators': [100, 200, 300, 400, 500], 'reg_lambda': [0.001, 0.1, 1.0, 10.0, 100.0]}\n",
    "model = RandomizedSearchCV(XGBRegressor(), tuned_params, n_iter=20, scoring = 'neg_mean_absolute_error', cv=5, n_jobs=-1)\n",
    "model.fit(X_train, y_train)"
   ]
  },
  {
   "cell_type": "code",
   "execution_count": 253,
   "metadata": {},
   "outputs": [
    {
     "data": {
      "text/plain": [
       "XGBRegressor(base_score=0.5, booster='gbtree', colsample_bylevel=1,\n",
       "       colsample_bytree=1, gamma=0, learning_rate=0.05, max_delta_step=0,\n",
       "       max_depth=2, min_child_weight=1, missing=None, n_estimators=400,\n",
       "       n_jobs=1, nthread=None, objective='reg:linear', random_state=0,\n",
       "       reg_alpha=0, reg_lambda=0.001, scale_pos_weight=1, seed=None,\n",
       "       silent=True, subsample=1)"
      ]
     },
     "execution_count": 253,
     "metadata": {},
     "output_type": "execute_result"
    }
   ],
   "source": [
    "model.best_estimator_"
   ]
  },
  {
   "cell_type": "code",
   "execution_count": 254,
   "metadata": {
    "collapsed": true
   },
   "outputs": [],
   "source": [
    "## Predict Train results\n",
    "y_train_pred = model.predict(X_train)"
   ]
  },
  {
   "cell_type": "code",
   "execution_count": 255,
   "metadata": {
    "collapsed": true
   },
   "outputs": [],
   "source": [
    "## Predict Test results\n",
    "y_pred = model.predict(X_test)"
   ]
  },
  {
   "cell_type": "code",
   "execution_count": 256,
   "metadata": {},
   "outputs": [
    {
     "name": "stdout",
     "output_type": "stream",
     "text": [
      "Train Results for XGBoost Regression:\n",
      "*******************************\n",
      "Root mean squared error:  91087.74583454759\n",
      "R-squared:  0.649204441979\n",
      "Mean Absolute Error:  68878.7502517\n"
     ]
    }
   ],
   "source": [
    "print(\"Train Results for XGBoost Regression:\")\n",
    "print(\"*******************************\")\n",
    "print(\"Root mean squared error: \", sqrt(mse(y_train.values, y_train_pred)))\n",
    "print(\"R-squared: \", rs(y_train.values, y_train_pred))\n",
    "print(\"Mean Absolute Error: \", mae(y_train.values, y_train_pred))"
   ]
  },
  {
   "cell_type": "code",
   "execution_count": 257,
   "metadata": {},
   "outputs": [
    {
     "name": "stdout",
     "output_type": "stream",
     "text": [
      "Test Results for XGBoost Regression:\n",
      "*******************************\n",
      "Root mean squared error:  97799.52471685012\n",
      "R-squared:  0.530603571097\n",
      "Mean Absolute Error:  71684.1126843\n"
     ]
    }
   ],
   "source": [
    "print(\"Test Results for XGBoost Regression:\")\n",
    "print(\"*******************************\")\n",
    "print(\"Root mean squared error: \", sqrt(mse(y_test, y_pred)))\n",
    "print(\"R-squared: \", r2_score(y_test, y_pred))\n",
    "print(\"Mean Absolute Error: \", mae(y_test, y_pred))"
   ]
  },
  {
   "cell_type": "markdown",
   "metadata": {},
   "source": [
    "### Feature Importance"
   ]
  },
  {
   "cell_type": "code",
   "execution_count": 32,
   "metadata": {},
   "outputs": [
    {
     "data": {
      "text/plain": [
       "XGBRegressor(base_score=0.5, booster='gbtree', colsample_bylevel=1,\n",
       "       colsample_bytree=1, gamma=0, learning_rate=0.05, max_delta_step=0,\n",
       "       max_depth=2, min_child_weight=1, missing=None, n_estimators=400,\n",
       "       n_jobs=1, nthread=None, objective='reg:linear', random_state=0,\n",
       "       reg_alpha=0, reg_lambda=0.001, scale_pos_weight=1, seed=None,\n",
       "       silent=True, subsample=1)"
      ]
     },
     "execution_count": 32,
     "metadata": {},
     "output_type": "execute_result"
    }
   ],
   "source": [
    "## Building the model again with the best hyperparameters\n",
    "model = XGBRegressor(max_depth=2,learning_rate=0.05,n_estimators=400, reg_lambda=0.001)\n",
    "model.fit(X_train, y_train)"
   ]
  },
  {
   "cell_type": "code",
   "execution_count": 33,
   "metadata": {
    "collapsed": true
   },
   "outputs": [],
   "source": [
    "## Function to include figsize parameter\n",
    "## Reference: https://stackoverflow.com/questions/40081888/xgboost-plot-importance-figure-size\n",
    "def my_plot_importance(booster, figsize, **kwargs): \n",
    "    from matplotlib import pyplot as plt\n",
    "    from xgboost import plot_importance\n",
    "    fig, ax = plt.subplots(1,1,figsize=figsize)\n",
    "    return plot_importance(booster=booster, ax=ax, **kwargs)"
   ]
  },
  {
   "cell_type": "code",
   "execution_count": 34,
   "metadata": {},
   "outputs": [
    {
     "data": {
      "text/plain": [
       "<matplotlib.axes._subplots.AxesSubplot at 0x221b08550f0>"
      ]
     },
     "execution_count": 34,
     "metadata": {},
     "output_type": "execute_result"
    },
    {
     "data": {
      "image/png": "[encoded data removed]",
      "text/plain": [
       "<matplotlib.figure.Figure at 0x221b0855940>"
      ]
     },
     "metadata": {},
     "output_type": "display_data"
    }
   ],
   "source": [
    "my_plot_importance(model, (10,10))"
   ]
  },
  {
   "cell_type": "markdown",
   "metadata": {},
   "source": [
    "## Model-6 Lasso Regression"
   ]
  },
  {
   "cell_type": "code",
   "execution_count": 200,
   "metadata": {},
   "outputs": [
    {
     "data": {
      "text/plain": [
       "GridSearchCV(cv=20, error_score='raise',\n",
       "       estimator=Lasso(alpha=1.0, copy_X=True, fit_intercept=True, max_iter=1000,\n",
       "   normalize=False, positive=False, precompute=False, random_state=None,\n",
       "   selection='cyclic', tol=0.0001, warm_start=False),\n",
       "       fit_params=None, iid=True, n_jobs=-1,\n",
       "       param_grid={'alpha': [0.0001, 0.001, 0.01, 0.1, 1, 10, 100, 1000, 10000, 100000]},\n",
       "       pre_dispatch='2*n_jobs', refit=True, return_train_score='warn',\n",
       "       scoring='neg_mean_absolute_error', verbose=0)"
      ]
     },
     "execution_count": 200,
     "metadata": {},
     "output_type": "execute_result"
    }
   ],
   "source": [
    "tuned_params = {'alpha': [0.0001, 0.001, 0.01, 0.1, 1, 10, 100, 1000, 10000, 100000]}\n",
    "model = GridSearchCV(Lasso(), tuned_params, scoring = 'neg_mean_absolute_error', cv=20, n_jobs=-1)\n",
    "model.fit(X_train, y_train)"
   ]
  },
  {
   "cell_type": "code",
   "execution_count": 201,
   "metadata": {},
   "outputs": [
    {
     "data": {
      "text/plain": [
       "Lasso(alpha=1000, copy_X=True, fit_intercept=True, max_iter=1000,\n",
       "   normalize=False, positive=False, precompute=False, random_state=None,\n",
       "   selection='cyclic', tol=0.0001, warm_start=False)"
      ]
     },
     "execution_count": 201,
     "metadata": {},
     "output_type": "execute_result"
    }
   ],
   "source": [
    "model.best_estimator_"
   ]
  },
  {
   "cell_type": "code",
   "execution_count": 202,
   "metadata": {
    "collapsed": true
   },
   "outputs": [],
   "source": [
    "## Predict Train results\n",
    "y_train_pred = model.predict(X_train)"
   ]
  },
  {
   "cell_type": "code",
   "execution_count": 203,
   "metadata": {
    "collapsed": true
   },
   "outputs": [],
   "source": [
    "## Predict Test results\n",
    "y_pred = model.predict(X_test)"
   ]
  },
  {
   "cell_type": "code",
   "execution_count": 206,
   "metadata": {},
   "outputs": [
    {
     "name": "stdout",
     "output_type": "stream",
     "text": [
      "Train Results for Lasso Regression:\n",
      "*******************************\n",
      "Root mean squared error:  118409.68693205657\n",
      "R-squared:  0.407199389965\n",
      "Mean Absolute Error:  92369.8665302\n"
     ]
    }
   ],
   "source": [
    "print(\"Train Results for Lasso Regression:\")\n",
    "print(\"*******************************\")\n",
    "print(\"Root mean squared error: \", sqrt(mse(y_train.values, y_train_pred)))\n",
    "print(\"R-squared: \", rs(y_train.values, y_train_pred))\n",
    "print(\"Mean Absolute Error: \", mae(y_train.values, y_train_pred))"
   ]
  },
  {
   "cell_type": "code",
   "execution_count": 207,
   "metadata": {},
   "outputs": [
    {
     "name": "stdout",
     "output_type": "stream",
     "text": [
      "Test Results for Lasso Regression:\n",
      "*******************************\n",
      "Root mean squared error:  109600.67003738803\n",
      "R-squared:  0.410487916893\n",
      "Mean Absolute Error:  85287.8118162\n"
     ]
    }
   ],
   "source": [
    "print(\"Test Results for Lasso Regression:\")\n",
    "print(\"*******************************\")\n",
    "print(\"Root mean squared error: \", sqrt(mse(y_test, y_pred)))\n",
    "print(\"R-squared: \", rs(y_test, y_pred))\n",
    "print(\"Mean Absolute Error: \", mae(y_test, y_pred))"
   ]
  },
  {
   "cell_type": "markdown",
   "metadata": {},
   "source": [
    "### Feature Importance"
   ]
  },
  {
   "cell_type": "code",
   "execution_count": 208,
   "metadata": {},
   "outputs": [
    {
     "data": {
      "text/plain": [
       "Lasso(alpha=1000, copy_X=True, fit_intercept=True, max_iter=1000,\n",
       "   normalize=False, positive=False, precompute=False, random_state=None,\n",
       "   selection='cyclic', tol=0.0001, warm_start=False)"
      ]
     },
     "execution_count": 208,
     "metadata": {},
     "output_type": "execute_result"
    }
   ],
   "source": [
    "## Building the model again with the best hyperparameters\n",
    "model = Lasso(alpha=1000)\n",
    "model.fit(X_train, y_train)"
   ]
  },
  {
   "cell_type": "code",
   "execution_count": 209,
   "metadata": {},
   "outputs": [
    {
     "name": "stdout",
     "output_type": "stream",
     "text": [
      "The features in order of importance are:\n",
      "--------------------------------------------------\n",
      "tax_and_insurance\n",
      "sqft\n",
      "old_properties\n",
      "college_grad\n",
      "property_age\n",
      "baths\n",
      "beds\n",
      "property_type_Apartment / Condo / Townhouse\n",
      "cafes\n",
      "exterior_walls_Brick\n",
      "exterior_walls_Wood\n",
      "during_recession\n",
      "groceries\n",
      "lot_size\n",
      "exterior_walls_Brick veneer\n",
      "shopping\n",
      "restaurants\n",
      "beauty_spas\n",
      "active_life\n",
      "school_score\n",
      "num_schools\n",
      "exterior_walls_Missing\n",
      "two_and_two\n",
      "exterior_walls_Combination\n",
      "roof_Composition Shingle\n",
      "roof_Asphalt\n",
      "exterior_walls_Other\n",
      "property_type_Single-Family\n",
      "median_age\n",
      "arts_entertainment\n",
      "married\n",
      "median_school\n",
      "roof_Missing\n",
      "roof_Other\n",
      "roof_Shake Shingle\n",
      "exterior_walls_Metal\n",
      "exterior_walls_Siding (Alum/Vinyl)\n"
     ]
    }
   ],
   "source": [
    "indices = np.argsort(-abs(model.coef_))\n",
    "print(\"The features in order of importance are:\")\n",
    "print(50*'-')\n",
    "for feature in X.columns[indices]:\n",
    "    print(feature)"
   ]
  },
  {
   "cell_type": "markdown",
   "metadata": {},
   "source": [
    "## Model-7 Descision Tree Regression"
   ]
  },
  {
   "cell_type": "code",
   "execution_count": 210,
   "metadata": {},
   "outputs": [
    {
     "data": {
      "text/plain": [
       "RandomizedSearchCV(cv=10, error_score='raise',\n",
       "          estimator=DecisionTreeRegressor(criterion='mse', max_depth=None, max_features=None,\n",
       "           max_leaf_nodes=None, min_impurity_decrease=0.0,\n",
       "           min_impurity_split=None, min_samples_leaf=1,\n",
       "           min_samples_split=2, min_weight_fraction_leaf=0.0,\n",
       "           presort=False, random_state=None, splitter='best'),\n",
       "          fit_params=None, iid=True, n_iter=20, n_jobs=-1,\n",
       "          param_distributions={'min_samples_split': [2, 3, 4, 5, 7], 'min_samples_leaf': [1, 2, 3, 4, 6], 'max_depth': [2, 3, 4, 5, 6, 7]},\n",
       "          pre_dispatch='2*n_jobs', random_state=None, refit=True,\n",
       "          return_train_score='warn', scoring='neg_mean_absolute_error',\n",
       "          verbose=0)"
      ]
     },
     "execution_count": 210,
     "metadata": {},
     "output_type": "execute_result"
    }
   ],
   "source": [
    "tuned_params = {'min_samples_split': [2, 3, 4, 5, 7], 'min_samples_leaf': [1, 2, 3, 4, 6], 'max_depth': [2, 3, 4, 5, 6, 7]}\n",
    "model = RandomizedSearchCV(DecisionTreeRegressor(), tuned_params, n_iter=20, scoring = 'neg_mean_absolute_error', cv=10, n_jobs=-1)\n",
    "model.fit(X_train, y_train)"
   ]
  },
  {
   "cell_type": "code",
   "execution_count": 211,
   "metadata": {},
   "outputs": [
    {
     "data": {
      "text/plain": [
       "DecisionTreeRegressor(criterion='mse', max_depth=4, max_features=None,\n",
       "           max_leaf_nodes=None, min_impurity_decrease=0.0,\n",
       "           min_impurity_split=None, min_samples_leaf=2,\n",
       "           min_samples_split=3, min_weight_fraction_leaf=0.0,\n",
       "           presort=False, random_state=None, splitter='best')"
      ]
     },
     "execution_count": 211,
     "metadata": {},
     "output_type": "execute_result"
    }
   ],
   "source": [
    "model.best_estimator_"
   ]
  },
  {
   "cell_type": "code",
   "execution_count": 212,
   "metadata": {
    "collapsed": true
   },
   "outputs": [],
   "source": [
    "## Predict Train results\n",
    "y_train_pred = model.predict(X_train)"
   ]
  },
  {
   "cell_type": "code",
   "execution_count": 213,
   "metadata": {
    "collapsed": true
   },
   "outputs": [],
   "source": [
    "## Predict Test results\n",
    "y_pred = model.predict(X_test)"
   ]
  },
  {
   "cell_type": "code",
   "execution_count": 214,
   "metadata": {},
   "outputs": [
    {
     "name": "stdout",
     "output_type": "stream",
     "text": [
      "Train Results for Decision Tree Regression:\n",
      "*******************************\n",
      "Root mean squared error:  106884.7383147663\n",
      "R-squared:  0.516979489323\n",
      "Mean Absolute Error:  81198.4313931\n"
     ]
    }
   ],
   "source": [
    "print(\"Train Results for Decision Tree Regression:\")\n",
    "print(\"*******************************\")\n",
    "print(\"Root mean squared error: \", sqrt(mse(y_train.values, y_train_pred)))\n",
    "print(\"R-squared: \", rs(y_train.values, y_train_pred))\n",
    "print(\"Mean Absolute Error: \", mae(y_train.values, y_train_pred))"
   ]
  },
  {
   "cell_type": "code",
   "execution_count": 215,
   "metadata": {},
   "outputs": [
    {
     "name": "stdout",
     "output_type": "stream",
     "text": [
      "Test Results for Decision Tree Regression:\n",
      "*******************************\n",
      "Root mean squared error:  102336.77202971975\n",
      "R-squared:  0.486039526068\n",
      "Mean Absolute Error:  76429.8248113\n"
     ]
    }
   ],
   "source": [
    "print(\"Test Results for Decision Tree Regression:\")\n",
    "print(\"*******************************\")\n",
    "print(\"Root mean squared error: \", sqrt(mse(y_test, y_pred)))\n",
    "print(\"R-squared: \", rs(y_test, y_pred))\n",
    "print(\"Mean Absolute Error: \", mae(y_test, y_pred))"
   ]
  },
  {
   "cell_type": "markdown",
   "metadata": {},
   "source": [
    "## Model-8 KN Regression"
   ]
  },
  {
   "cell_type": "code",
   "execution_count": 216,
   "metadata": {},
   "outputs": [
    {
     "name": "stdout",
     "output_type": "stream",
     "text": [
      "\n",
      "The optimal number of neighbors is 9.\n"
     ]
    }
   ],
   "source": [
    "# creating odd list of K for KNN\n",
    "neighbors = list(range(1,50,2))\n",
    "# empty list that will hold cv scores\n",
    "cv_scores = []\n",
    "\n",
    "# perform 10-fold cross validation\n",
    "for k in neighbors:\n",
    "    knn = KNeighborsRegressor(n_neighbors=k)\n",
    "    scores = cross_val_score(knn, X_train, y_train, cv=10, scoring='neg_mean_absolute_error')\n",
    "    cv_scores.append(scores.mean())\n",
    "\n",
    "# changing to misclassification error\n",
    "MSE = [1 - x for x in cv_scores]\n",
    "\n",
    "# determining best k\n",
    "optimal_k = neighbors[MSE.index(min(MSE))]\n",
    "print('\\nThe optimal number of neighbors is %d.' % optimal_k)"
   ]
  },
  {
   "cell_type": "code",
   "execution_count": 217,
   "metadata": {},
   "outputs": [
    {
     "data": {
      "text/plain": [
       "KNeighborsRegressor(algorithm='auto', leaf_size=30, metric='minkowski',\n",
       "          metric_params=None, n_jobs=1, n_neighbors=9, p=2,\n",
       "          weights='uniform')"
      ]
     },
     "execution_count": 217,
     "metadata": {},
     "output_type": "execute_result"
    }
   ],
   "source": [
    "model = KNeighborsRegressor(n_neighbors = optimal_k)\n",
    "model.fit(X_train, y_train)"
   ]
  },
  {
   "cell_type": "code",
   "execution_count": 218,
   "metadata": {
    "collapsed": true
   },
   "outputs": [],
   "source": [
    "## Predict Train results\n",
    "y_train_pred = model.predict(X_train)"
   ]
  },
  {
   "cell_type": "code",
   "execution_count": 219,
   "metadata": {
    "collapsed": true
   },
   "outputs": [],
   "source": [
    "## Predict Test results\n",
    "y_pred = model.predict(X_test)"
   ]
  },
  {
   "cell_type": "code",
   "execution_count": 220,
   "metadata": {},
   "outputs": [
    {
     "name": "stdout",
     "output_type": "stream",
     "text": [
      "Train Results for KN Regression:\n",
      "*******************************\n",
      "Root mean squared error:  115413.56596653137\n",
      "R-squared:  0.436819128314\n",
      "Mean Absolute Error:  89859.9055183\n"
     ]
    }
   ],
   "source": [
    "print(\"Train Results for KN Regression:\")\n",
    "print(\"*******************************\")\n",
    "print(\"Root mean squared error: \", sqrt(mse(y_train.values, y_train_pred)))\n",
    "print(\"R-squared: \", rs(y_train.values, y_train_pred))\n",
    "print(\"Mean Absolute Error: \", mae(y_train.values, y_train_pred))"
   ]
  },
  {
   "cell_type": "code",
   "execution_count": 221,
   "metadata": {},
   "outputs": [
    {
     "name": "stdout",
     "output_type": "stream",
     "text": [
      "Test Results for KN Regression:\n",
      "*******************************\n",
      "Root mean squared error:  113442.20051898593\n",
      "R-squared:  0.368438602203\n",
      "Mean Absolute Error:  89734.2013703\n"
     ]
    }
   ],
   "source": [
    "print(\"Test Results for KN Regression:\")\n",
    "print(\"*******************************\")\n",
    "print(\"Root mean squared error: \", sqrt(mse(y_test, y_pred)))\n",
    "print(\"R-squared: \", rs(y_test, y_pred))\n",
    "print(\"Mean Absolute Error: \", mae(y_test, y_pred))"
   ]
  },
  {
   "cell_type": "markdown",
   "metadata": {},
   "source": [
    "## Compare all models"
   ]
  },
  {
   "cell_type": "markdown",
   "metadata": {},
   "source": [
    "![title](Images/Result.png)\n",
    "\n"
   ]
  },
  {
   "cell_type": "markdown",
   "metadata": {},
   "source": [
    "**From the above table, RMSE, R-squared, MAE for Rendom Forest Regressor is better(i.e RMSE and MAE is least and R-squared is more) than other models so Random Forest is the winning Model**"
   ]
  },
  {
   "cell_type": "markdown",
   "metadata": {},
   "source": [
    "# Save the winning model to disk"
   ]
  },
  {
   "cell_type": "code",
   "execution_count": 18,
   "metadata": {},
   "outputs": [],
   "source": [
    "win_model = RandomForestRegressor(n_estimators=200, min_samples_split=10, min_samples_leaf=2)\n",
    "win_model.fit(X_train, y_train)\n",
    "with open('rfr_real_estate.pkl', 'wb') as pickle_file:\n",
    "       joblib.dump(win_model, 'rfr_real_estate.pkl') "
   ]
  }
 ],
 "metadata": {
  "kernelspec": {
   "display_name": "Python 3",
   "language": "python",
   "name": "python3"
  },
  "language_info": {
   "codemirror_mode": {
    "name": "ipython",
    "version": 3
   },
   "file_extension": ".py",
   "mimetype": "text/x-python",
   "name": "python",
   "nbconvert_exporter": "python",
   "pygments_lexer": "ipython3",
   "version": "3.6.3"
  }
 },
 "nbformat": 4,
 "nbformat_minor": 2
}
