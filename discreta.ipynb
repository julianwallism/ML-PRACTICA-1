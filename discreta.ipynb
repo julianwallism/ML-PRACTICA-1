{
 "cells": [
  {
   "cell_type": "markdown",
   "id": "d4c6ab79",
   "metadata": {},
   "source": [
    "# Winequality dataset"
   ]
  },
  {
   "cell_type": "markdown",
   "id": "df3878f4",
   "metadata": {},
   "source": [
    "## Feim els imports"
   ]
  },
  {
   "cell_type": "code",
   "execution_count": 1,
   "id": "c7dc6e88-3d56-48a1-a77e-9cabb57805a1",
   "metadata": {},
   "outputs": [],
   "source": [
    "#IMPORTS\n",
    "import pandas as pd\n",
    "import matplotlib.pyplot as plt\n",
    "import numpy as np\n",
    "import seaborn as sns\n",
    "\n",
    "from sklearn import preprocessing\n",
    "from sklearn.model_selection import train_test_split\n",
    "from sklearn.linear_model import LogisticRegression, Perceptron, RidgeCV\n",
    "from sklearn.ensemble import RandomForestClassifier\n",
    "from sklearn.metrics import classification_report, confusion_matrix, ConfusionMatrixDisplay\n",
    "from sklearn.feature_selection import SequentialFeatureSelector, SelectKBest, f_regression, RFE\n",
    "\n",
    "from feature_engine.creation import MathematicalCombination, CombineWithReferenceFeature"
   ]
  },
  {
   "cell_type": "markdown",
   "id": "d10d2f9a",
   "metadata": {},
   "source": [
    "## Preparam el dataset"
   ]
  },
  {
   "cell_type": "markdown",
   "id": "cc4f7622",
   "metadata": {},
   "source": [
    "Funció que separa les features i les etiquetes, escalant les dades"
   ]
  },
  {
   "cell_type": "code",
   "execution_count": 2,
   "id": "1e5ee3a4",
   "metadata": {},
   "outputs": [],
   "source": [
    "def load_data(df):\n",
    "    y=df.quality\n",
    "    X=df.drop('quality',axis=1)\n",
    "    X = min_max_scaler.fit_transform(X)\n",
    "    return X, y"
   ]
  },
  {
   "cell_type": "markdown",
   "id": "6eb9892f",
   "metadata": {},
   "source": [
    "Carregam els datasets a dos dataframes a partir dels fitxers csv: winequality-red.csv i winequality-white.csv\n",
    "\n",
    "Afegim una nova columna que indiqui el tipus de vi a cada dataset i juntam els dos datasets en un de nou"
   ]
  },
  {
   "cell_type": "code",
   "execution_count": 3,
   "id": "45c4b23d-1f27-4596-9b1c-eed4d8cbd32e",
   "metadata": {},
   "outputs": [],
   "source": [
    "#CREATE AND MERGE DATAFRAMES\n",
    "dfRed=pd.read_csv(\"winequality-red.csv\", sep=\";\")\n",
    "dfWhite=pd.read_csv(\"winequality-white.csv\", sep=\";\")\n",
    "\n",
    "dfRed['type']=\"Red\"\n",
    "dfWhite['type']=\"White\"\n",
    "df = pd.concat([dfRed,dfWhite])"
   ]
  },
  {
   "cell_type": "markdown",
   "id": "c0f6b22c",
   "metadata": {},
   "source": [
    "Consultam les files del dataframe amb valors absents i les eliminam"
   ]
  },
  {
   "cell_type": "code",
   "execution_count": 4,
   "id": "10383ee8",
   "metadata": {},
   "outputs": [],
   "source": [
    "df[df.isna().any(axis=1)]\n",
    "df.dropna(inplace=True)"
   ]
  },
  {
   "cell_type": "markdown",
   "id": "777436a3",
   "metadata": {},
   "source": [
    "Convertim la columna quality en una columna de valors categòrics"
   ]
  },
  {
   "cell_type": "code",
   "execution_count": 5,
   "id": "3067662b",
   "metadata": {},
   "outputs": [],
   "source": [
    "dfAux=df.copy()\n",
    "df.loc[dfAux['quality'] < 6, 'quality'] = \"Baixa\"\n",
    "df.loc[dfAux['quality'] == 6, 'quality'] = \"Mitjana\"\n",
    "df.loc[dfAux['quality'] > 6, 'quality'] = \"Alta\"\n",
    "del dfAux"
   ]
  },
  {
   "cell_type": "markdown",
   "id": "d79bef95",
   "metadata": {},
   "source": [
    "Convertim els valors categòrics en númerics"
   ]
  },
  {
   "cell_type": "code",
   "execution_count": 6,
   "id": "2b734f3b",
   "metadata": {},
   "outputs": [],
   "source": [
    "labelencoder = preprocessing.LabelEncoder()\n",
    "\n",
    "df['type']=labelencoder.fit_transform(df['type'])\n",
    "df['quality']=labelencoder.fit_transform(df['quality'])"
   ]
  },
  {
   "cell_type": "markdown",
   "id": "2fba46ec",
   "metadata": {},
   "source": [
    "Recolocam les columnes"
   ]
  },
  {
   "cell_type": "code",
   "execution_count": 7,
   "id": "f8df7875",
   "metadata": {},
   "outputs": [],
   "source": [
    "df = df.reindex(columns=['fixed acidity', 'volatile acidity', 'citric acid', \n",
    "                       'residual sugar', 'chlorides', 'free sulfur dioxide',\n",
    "                       'total sulfur dioxide', 'density', 'pH', 'sulphates', \n",
    "                       'alcohol', 'type', 'quality'])"
   ]
  },
  {
   "cell_type": "code",
   "execution_count": 8,
   "id": "ca795771",
   "metadata": {},
   "outputs": [
    {
     "name": "stdout",
     "output_type": "stream",
     "text": [
      "<class 'pandas.core.frame.DataFrame'>\n",
      "Int64Index: 6497 entries, 0 to 4897\n",
      "Data columns (total 13 columns):\n",
      " #   Column                Non-Null Count  Dtype  \n",
      "---  ------                --------------  -----  \n",
      " 0   fixed acidity         6497 non-null   float64\n",
      " 1   volatile acidity      6497 non-null   float64\n",
      " 2   citric acid           6497 non-null   float64\n",
      " 3   residual sugar        6497 non-null   float64\n",
      " 4   chlorides             6497 non-null   float64\n",
      " 5   free sulfur dioxide   6497 non-null   float64\n",
      " 6   total sulfur dioxide  6497 non-null   float64\n",
      " 7   density               6497 non-null   float64\n",
      " 8   pH                    6497 non-null   float64\n",
      " 9   sulphates             6497 non-null   float64\n",
      " 10  alcohol               6497 non-null   float64\n",
      " 11  type                  6497 non-null   int32  \n",
      " 12  quality               6497 non-null   int32  \n",
      "dtypes: float64(11), int32(2)\n",
      "memory usage: 659.9 KB\n"
     ]
    }
   ],
   "source": [
    "df.info()"
   ]
  },
  {
   "cell_type": "code",
   "execution_count": 9,
   "id": "c076feeb",
   "metadata": {},
   "outputs": [
    {
     "data": {
      "text/html": [
       "<div>\n",
       "<style scoped>\n",
       "    .dataframe tbody tr th:only-of-type {\n",
       "        vertical-align: middle;\n",
       "    }\n",
       "\n",
       "    .dataframe tbody tr th {\n",
       "        vertical-align: top;\n",
       "    }\n",
       "\n",
       "    .dataframe thead th {\n",
       "        text-align: right;\n",
       "    }\n",
       "</style>\n",
       "<table border=\"1\" class=\"dataframe\">\n",
       "  <thead>\n",
       "    <tr style=\"text-align: right;\">\n",
       "      <th></th>\n",
       "      <th>fixed acidity</th>\n",
       "      <th>volatile acidity</th>\n",
       "      <th>citric acid</th>\n",
       "      <th>residual sugar</th>\n",
       "      <th>chlorides</th>\n",
       "      <th>free sulfur dioxide</th>\n",
       "      <th>total sulfur dioxide</th>\n",
       "      <th>density</th>\n",
       "      <th>pH</th>\n",
       "      <th>sulphates</th>\n",
       "      <th>alcohol</th>\n",
       "      <th>type</th>\n",
       "      <th>quality</th>\n",
       "    </tr>\n",
       "  </thead>\n",
       "  <tbody>\n",
       "    <tr>\n",
       "      <th>0</th>\n",
       "      <td>7.4</td>\n",
       "      <td>0.70</td>\n",
       "      <td>0.00</td>\n",
       "      <td>1.9</td>\n",
       "      <td>0.076</td>\n",
       "      <td>11.0</td>\n",
       "      <td>34.0</td>\n",
       "      <td>0.9978</td>\n",
       "      <td>3.51</td>\n",
       "      <td>0.56</td>\n",
       "      <td>9.4</td>\n",
       "      <td>0</td>\n",
       "      <td>1</td>\n",
       "    </tr>\n",
       "    <tr>\n",
       "      <th>1</th>\n",
       "      <td>7.8</td>\n",
       "      <td>0.88</td>\n",
       "      <td>0.00</td>\n",
       "      <td>2.6</td>\n",
       "      <td>0.098</td>\n",
       "      <td>25.0</td>\n",
       "      <td>67.0</td>\n",
       "      <td>0.9968</td>\n",
       "      <td>3.20</td>\n",
       "      <td>0.68</td>\n",
       "      <td>9.8</td>\n",
       "      <td>0</td>\n",
       "      <td>1</td>\n",
       "    </tr>\n",
       "    <tr>\n",
       "      <th>2</th>\n",
       "      <td>7.8</td>\n",
       "      <td>0.76</td>\n",
       "      <td>0.04</td>\n",
       "      <td>2.3</td>\n",
       "      <td>0.092</td>\n",
       "      <td>15.0</td>\n",
       "      <td>54.0</td>\n",
       "      <td>0.9970</td>\n",
       "      <td>3.26</td>\n",
       "      <td>0.65</td>\n",
       "      <td>9.8</td>\n",
       "      <td>0</td>\n",
       "      <td>1</td>\n",
       "    </tr>\n",
       "    <tr>\n",
       "      <th>3</th>\n",
       "      <td>11.2</td>\n",
       "      <td>0.28</td>\n",
       "      <td>0.56</td>\n",
       "      <td>1.9</td>\n",
       "      <td>0.075</td>\n",
       "      <td>17.0</td>\n",
       "      <td>60.0</td>\n",
       "      <td>0.9980</td>\n",
       "      <td>3.16</td>\n",
       "      <td>0.58</td>\n",
       "      <td>9.8</td>\n",
       "      <td>0</td>\n",
       "      <td>2</td>\n",
       "    </tr>\n",
       "    <tr>\n",
       "      <th>4</th>\n",
       "      <td>7.4</td>\n",
       "      <td>0.70</td>\n",
       "      <td>0.00</td>\n",
       "      <td>1.9</td>\n",
       "      <td>0.076</td>\n",
       "      <td>11.0</td>\n",
       "      <td>34.0</td>\n",
       "      <td>0.9978</td>\n",
       "      <td>3.51</td>\n",
       "      <td>0.56</td>\n",
       "      <td>9.4</td>\n",
       "      <td>0</td>\n",
       "      <td>1</td>\n",
       "    </tr>\n",
       "  </tbody>\n",
       "</table>\n",
       "</div>"
      ],
      "text/plain": [
       "   fixed acidity  volatile acidity  citric acid  residual sugar  chlorides  \\\n",
       "0            7.4              0.70         0.00             1.9      0.076   \n",
       "1            7.8              0.88         0.00             2.6      0.098   \n",
       "2            7.8              0.76         0.04             2.3      0.092   \n",
       "3           11.2              0.28         0.56             1.9      0.075   \n",
       "4            7.4              0.70         0.00             1.9      0.076   \n",
       "\n",
       "   free sulfur dioxide  total sulfur dioxide  density    pH  sulphates  \\\n",
       "0                 11.0                  34.0   0.9978  3.51       0.56   \n",
       "1                 25.0                  67.0   0.9968  3.20       0.68   \n",
       "2                 15.0                  54.0   0.9970  3.26       0.65   \n",
       "3                 17.0                  60.0   0.9980  3.16       0.58   \n",
       "4                 11.0                  34.0   0.9978  3.51       0.56   \n",
       "\n",
       "   alcohol  type  quality  \n",
       "0      9.4     0        1  \n",
       "1      9.8     0        1  \n",
       "2      9.8     0        1  \n",
       "3      9.8     0        2  \n",
       "4      9.4     0        1  "
      ]
     },
     "execution_count": 9,
     "metadata": {},
     "output_type": "execute_result"
    }
   ],
   "source": [
    "df.head()"
   ]
  },
  {
   "cell_type": "markdown",
   "id": "e6485ed9",
   "metadata": {},
   "source": [
    "Mesclam el dataframe i carregam les dades a les variables *features* (característiques) i *labels* (etiquetes)"
   ]
  },
  {
   "cell_type": "code",
   "execution_count": 10,
   "id": "d0244528",
   "metadata": {},
   "outputs": [],
   "source": [
    "min_max_scaler = preprocessing.MinMaxScaler()\n",
    "df = df.sample(frac=1)\n",
    "\n",
    "features, labels = load_data(df)"
   ]
  },
  {
   "cell_type": "markdown",
   "id": "9e676eb3",
   "metadata": {},
   "source": [
    "### Separació del conjunt d'entrenament i el de test\n",
    "Per separar les dades en els conjunts d'entrenament i de test hem emprat la funció train_test_split\n",
    "\n",
    "Hem decidit emprar un 80% entrenament i un 20% de test ja que  amb un valor més baix d'entrenament el model de regressió logistica i el del perceptró presentaven underfiting \n"
   ]
  },
  {
   "cell_type": "code",
   "execution_count": 11,
   "id": "4c90c2f1",
   "metadata": {},
   "outputs": [],
   "source": [
    "X_train, X_test, y_train, y_test = train_test_split(features, labels, test_size=0.2, random_state=42)"
   ]
  },
  {
   "cell_type": "markdown",
   "id": "d860288f",
   "metadata": {},
   "source": [
    "## Visualització de les dades"
   ]
  },
  {
   "cell_type": "markdown",
   "id": "23a3a0ae",
   "metadata": {},
   "source": [
    "Aquí podem observar les correlacions entre els distints atributs"
   ]
  },
  {
   "cell_type": "code",
   "execution_count": 12,
   "id": "47f322ac",
   "metadata": {},
   "outputs": [
    {
     "data": {
      "text/plain": [
       "<AxesSubplot:>"
      ]
     },
     "execution_count": 12,
     "metadata": {},
     "output_type": "execute_result"
    },
    {
     "data": {
      "image/png": "[encoded data removed]",
      "text/plain": [
       "<Figure size 432x288 with 2 Axes>"
      ]
     },
     "metadata": {
      "needs_background": "light"
     },
     "output_type": "display_data"
    }
   ],
   "source": [
    "corr = df.corr() #Abs?\n",
    "\n",
    "sns.heatmap(corr, \n",
    "        xticklabels=corr.columns,\n",
    "        yticklabels=corr.columns,\n",
    "        square=True,\n",
    "        cmap=\"magma\")\n"
   ]
  },
  {
   "cell_type": "markdown",
   "id": "871b84f2",
   "metadata": {},
   "source": [
    "Graficam el valor que prenen les característiques númeriques del dataframe mitjançant un histograma"
   ]
  },
  {
   "cell_type": "code",
   "execution_count": 13,
   "id": "401c3257",
   "metadata": {},
   "outputs": [
    {
     "data": {
      "text/plain": [
       "array([[<AxesSubplot:title={'center':'fixed acidity'}>,\n",
       "        <AxesSubplot:title={'center':'volatile acidity'}>,\n",
       "        <AxesSubplot:title={'center':'citric acid'}>],\n",
       "       [<AxesSubplot:title={'center':'residual sugar'}>,\n",
       "        <AxesSubplot:title={'center':'chlorides'}>,\n",
       "        <AxesSubplot:title={'center':'free sulfur dioxide'}>],\n",
       "       [<AxesSubplot:title={'center':'total sulfur dioxide'}>,\n",
       "        <AxesSubplot:title={'center':'density'}>,\n",
       "        <AxesSubplot:title={'center':'pH'}>],\n",
       "       [<AxesSubplot:title={'center':'sulphates'}>,\n",
       "        <AxesSubplot:title={'center':'alcohol'}>,\n",
       "        <AxesSubplot:title={'center':'quality'}>]], dtype=object)"
      ]
     },
     "execution_count": 13,
     "metadata": {},
     "output_type": "execute_result"
    },
    {
     "data": {
      "image/png": "[encoded data removed]",
      "text/plain": [
       "<Figure size 720x720 with 12 Axes>"
      ]
     },
     "metadata": {
      "needs_background": "light"
     },
     "output_type": "display_data"
    }
   ],
   "source": [
    "df.drop(\"type\", axis=1).hist(figsize=(10,10), grid=False)"
   ]
  },
  {
   "cell_type": "markdown",
   "id": "62a9a3cf",
   "metadata": {},
   "source": [
    "Gràfic cirular amb el que podem veure la proporció de vi blanc i vermell"
   ]
  },
  {
   "cell_type": "code",
   "execution_count": 14,
   "id": "2fa060d5",
   "metadata": {},
   "outputs": [
    {
     "name": "stdout",
     "output_type": "stream",
     "text": [
      "1    75.388641\n",
      "0    24.611359\n",
      "Name: type, dtype: float64\n"
     ]
    },
    {
     "data": {
      "image/png": "[encoded data removed]",
      "text/plain": [
       "<Figure size 432x288 with 1 Axes>"
      ]
     },
     "metadata": {},
     "output_type": "display_data"
    }
   ],
   "source": [
    "plt.pie(df['type'].value_counts(), labels = [\"White\",\"Red\"], colors=[\"khaki\",\"Maroon\"])\n",
    "print(df['type'].value_counts(normalize=True)*100)"
   ]
  },
  {
   "cell_type": "markdown",
   "id": "eaf550f3",
   "metadata": {},
   "source": [
    "# **Classificadors**"
   ]
  },
  {
   "cell_type": "markdown",
   "id": "77ffd632",
   "metadata": {},
   "source": [
    "Per a cada model imprimim el seu classification report, la precisió de training i la de testing. A més, guardam aquests dos valors dins dos dataframes externs per a després poder comparar les modificacions que farem al dataframe original\n",
    "\n",
    "Hem decidit fer els models dins funcions per poder cridar-les des de l'apartat de [Enginyeria de característiques/Proves](#Proves) fora haver de reescriure el codi."
   ]
  },
  {
   "cell_type": "code",
   "execution_count": 15,
   "id": "d77cb30c",
   "metadata": {},
   "outputs": [],
   "source": [
    "dfTrainAccuracy = pd.DataFrame(columns=['Regressió Logística','Perceptró','Random Forest'])\n",
    "dfTestAccuracy = pd.DataFrame(columns=['Regressió Logística','Perceptró','Random Forest'])"
   ]
  },
  {
   "cell_type": "markdown",
   "id": "4833d93f",
   "metadata": {},
   "source": [
    "## Regressió Logística"
   ]
  },
  {
   "cell_type": "markdown",
   "id": "3641aa45",
   "metadata": {},
   "source": [
    "Hem decidit donar-li valor al hiperparàmetre max_iters perquè amb el valor per defecte no arribava a convergir."
   ]
  },
  {
   "cell_type": "code",
   "execution_count": 16,
   "id": "6d4978fa",
   "metadata": {},
   "outputs": [
    {
     "name": "stdout",
     "output_type": "stream",
     "text": [
      "\n",
      "Regressio Logísitca:\n",
      "              precision    recall  f1-score   support\n",
      "\n",
      "           0       0.57      0.28      0.38       253\n",
      "           1       0.66      0.64      0.65       476\n",
      "           2       0.54      0.66      0.59       571\n",
      "\n",
      "    accuracy                           0.58      1300\n",
      "   macro avg       0.59      0.53      0.54      1300\n",
      "weighted avg       0.59      0.58      0.57      1300\n",
      "\n",
      "training_accuracy: 57.667885318452946\n",
      "testing_accuracy: 58.30769230769231\n"
     ]
    }
   ],
   "source": [
    "def RegressioLogisitca(df, nom):\n",
    "    features, labels = load_data(df)\n",
    "    X_train, X_test, y_train, y_test = train_test_split(features, labels, test_size=0.2, random_state=42)\n",
    "    \n",
    "    logreg = LogisticRegression(max_iter=5000)\n",
    "    logreg.fit(X_train,y_train)\n",
    "\n",
    "    y_predict = logreg.predict(X_test)\n",
    "    \n",
    "\n",
    "    print(\"\\nRegressio Logísitca:\")\n",
    "    print(classification_report(y_test, y_predict,zero_division=1))\n",
    "    \n",
    "    training_accuracy = logreg.score(X_train,y_train)\n",
    "    testing_accuracy = logreg.score(X_test,y_test)\n",
    "    \n",
    "    print('training accuracy:', training_accuracy*100)    \n",
    "    print('testing accuracy:', testing_accuracy*100)\n",
    "    \n",
    "    #Afegim les dades a dos dataframes externs per després poder fer comparacions\n",
    "    dfTrainAccuracy.at[nom,'Regressió Logística']=training_accuracy*100\n",
    "    dfTestAccuracy.at[nom,'Regressió Logística']=testing_accuracy*100 \n",
    "    \n",
    "    print(\"\\nConfusion Matrix\")\n",
    "    ConfusionMatrixDisplay(confusion_matrix(y_test,y_predict, labels=logreg.classes_), display_labels=logreg.classes_).plot()\n",
    "    \n",
    "    plt.show()\n",
    "\n",
    "RegressioLogisitca(df, \"Original\")"
   ]
  },
  {
   "cell_type": "markdown",
   "id": "26c53817",
   "metadata": {},
   "source": [
    "## Perceptró"
   ]
  },
  {
   "cell_type": "code",
   "execution_count": 17,
   "id": "eee48c24",
   "metadata": {},
   "outputs": [
    {
     "name": "stdout",
     "output_type": "stream",
     "text": [
      "\n",
      "Perceptró:\n",
      "              precision    recall  f1-score   support\n",
      "\n",
      "           0       0.44      0.55      0.49       253\n",
      "           1       0.79      0.14      0.24       476\n",
      "           2       0.46      0.72      0.56       571\n",
      "\n",
      "    accuracy                           0.47      1300\n",
      "   macro avg       0.56      0.47      0.43      1300\n",
      "weighted avg       0.57      0.47      0.43      1300\n",
      "\n",
      "training_accuracy: 48.66269001346931\n",
      "testing_accuracy: 47.30769230769231\n"
     ]
    }
   ],
   "source": [
    "def Perceptro(df, nom):\n",
    "    features, labels = load_data(df)\n",
    "    X_train, X_test, y_train, y_test = train_test_split(features, labels, test_size=0.2, random_state=42)\n",
    "    \n",
    "    perceptro = Perceptron()\n",
    "    perceptro.fit(X_train,y_train)\n",
    "\n",
    "    y_predict = perceptro.predict(X_test)\n",
    "    \n",
    "    print(\"\\nPerceptró:\")\n",
    "    print(classification_report(y_test, y_predict,zero_division=1))\n",
    "    \n",
    "    training_accuracy = perceptro.score(X_train,y_train)\n",
    "    testing_accuracy = perceptro.score(X_test,y_test)\n",
    "    \n",
    "    print('training accuracy:', training_accuracy*100)    \n",
    "    print('testing accuracy:', testing_accuracy*100)\n",
    "    \n",
    "    #Afegim les dades a dos dataframes externs per després poder fer comparacions\n",
    "    dfTrainAccuracy.at[nom,'Perceptró']=training_accuracy*100\n",
    "    dfTestAccuracy.at[nom,'Perceptró']=testing_accuracy*100 \n",
    "    \n",
    "    print(\"\\nConfusion Matrix\")\n",
    "    ConfusionMatrixDisplay(confusion_matrix(y_test,y_predict, labels=perceptro.classes_), display_labels=perceptro.classes_).plot()\n",
    "    \n",
    "    plt.show()\n",
    "\n",
    "Perceptro(df, \"Original\")"
   ]
  },
  {
   "cell_type": "markdown",
   "id": "70b8b61e",
   "metadata": {},
   "source": [
    "## Random Forest"
   ]
  },
  {
   "cell_type": "markdown",
   "id": "16f27cad",
   "metadata": {},
   "source": [
    "Hem decidit donar-li valor al hiperparàmetre max_depth perquè amb el valor per defecte teniem overfitting."
   ]
  },
  {
   "cell_type": "code",
   "execution_count": 18,
   "id": "b2cebbdb",
   "metadata": {},
   "outputs": [
    {
     "name": "stdout",
     "output_type": "stream",
     "text": [
      "\n",
      "Random Forest:\n",
      "              precision    recall  f1-score   support\n",
      "\n",
      "           0       0.73      0.56      0.63       253\n",
      "           1       0.75      0.77      0.76       476\n",
      "           2       0.67      0.72      0.69       571\n",
      "\n",
      "    accuracy                           0.71      1300\n",
      "   macro avg       0.71      0.68      0.69      1300\n",
      "weighted avg       0.71      0.71      0.70      1300\n",
      "\n",
      "training_accuracy: 98.61458533769482\n",
      "testing_accuracy: 70.61538461538461\n"
     ]
    }
   ],
   "source": [
    "def RandomForest(df, nom):\n",
    "    features, labels = load_data(df)\n",
    "    X_train, X_test, y_train, y_test = train_test_split(features, labels, test_size=0.2, random_state=42)\n",
    "    \n",
    "    rf = RandomForestClassifier(max_depth=14)\n",
    "    rf.fit(X_train, y_train)\n",
    "\n",
    "    y_predict=rf.predict(X_test)\n",
    "\n",
    "    print(\"\\nRandom Forest:\")\n",
    "    print(classification_report(y_test, y_predict,zero_division=1))\n",
    "    \n",
    "    training_accuracy = rf.score(X_train,y_train)\n",
    "    testing_accuracy = rf.score(X_test,y_test)\n",
    "    \n",
    "    print('training accuracy:', training_accuracy*100)    \n",
    "    print('testing accuracy:', testing_accuracy*100)\n",
    "    \n",
    "    #Afegim les dades a dos dataframes externs per després poder fer comparacions\n",
    "    dfTrainAccuracy.at[nom,'Random Forest']=training_accuracy*100\n",
    "    dfTestAccuracy.at[nom,'Random Forest']=testing_accuracy*100\n",
    "    \n",
    "    print(\"\\nConfusion Matrix\")\n",
    "    ConfusionMatrixDisplay(confusion_matrix(y_test,y_predict, labels=rf.classes_), display_labels=rf.classes_).plot()  \n",
    "    plt.show()\n",
    "           \n",
    "RandomForest(df, \"Original\")"
   ]
  },
  {
   "cell_type": "markdown",
   "id": "96654cb7",
   "metadata": {},
   "source": [
    "## Conclusions\n"
   ]
  },
  {
   "cell_type": "markdown",
   "id": "c840f50a",
   "metadata": {},
   "source": [
    "Blablabla"
   ]
  },
  {
   "cell_type": "markdown",
   "id": "86af37b7",
   "metadata": {},
   "source": [
    "# **Enginyeria de característiques**"
   ]
  },
  {
   "cell_type": "markdown",
   "id": "8cb56851",
   "metadata": {},
   "source": [
    "L'enginyeria de característiques (feature engineering) és el procés de selecció, extracció, creació i transformació de les característiques d'un dataset amb l'objectiu de millorar l'eficacia d'un model predictiu.\n",
    "\n",
    "Per a dur a terme l'enginyeria de característiques nosaltres hem duit a terme els següents apartats: \n",
    "- **Feature importances dels models**: Ens permet saber la importancia de cada característica dins cada model amb el fi de després eliminar les característiques menys importants\n",
    "- **Correlacions màximes i mínimes**: Ens permet saber quines caracterísitiques tenen major correlació entre elles. També ens permet saber quines caracteístiques tenen menys correlació amb la qualitat del vi per després poder eliminarles\n",
    "- **Feature Selection**: Selecció de les característiques més i menys importantes. Nosaltres implementarem els:\n",
    "   1. Sequential Feature Selection\n",
    "   2. Univariate Feature Selection amb Kbest\n",
    "   3. Recursive Feature Elimination"
   ]
  },
  {
   "cell_type": "markdown",
   "id": "267594fc",
   "metadata": {},
   "source": [
    "## Feature importances de cada model"
   ]
  },
  {
   "cell_type": "code",
   "execution_count": 19,
   "id": "2f37afa4",
   "metadata": {},
   "outputs": [],
   "source": [
    "dfWquality=df.drop(\"quality\", axis=1)"
   ]
  },
  {
   "cell_type": "markdown",
   "id": "cffe9dfd",
   "metadata": {},
   "source": [
    "### Regressió logística <a id='Regressio-Logistica'></a>"
   ]
  },
  {
   "cell_type": "code",
   "execution_count": 20,
   "id": "222cce99",
   "metadata": {},
   "outputs": [
    {
     "data": {
      "image/png": "[encoded data removed]",
      "text/plain": [
       "<Figure size 432x288 with 1 Axes>"
      ]
     },
     "metadata": {
      "needs_background": "light"
     },
     "output_type": "display_data"
    }
   ],
   "source": [
    "logreg = LogisticRegression(max_iter=5000)\n",
    "logreg.fit(X_train,y_train)\n",
    "\n",
    "logreg_odds = np.exp(logreg.coef_[0])\n",
    "indices=np.argsort(logreg_odds)\n",
    "\n",
    "fig, ax = plt.subplots()\n",
    "ax.set_title(\"Feature importances for Logisitc Regression\")\n",
    "ax.barh(range(len(logreg_odds)), logreg_odds[indices])\n",
    "ax.set_yticks(range(len(logreg_odds)))\n",
    "_ = ax.set_yticklabels(np.array(dfWquality.columns)[indices])"
   ]
  },
  {
   "cell_type": "markdown",
   "id": "32d8dcd5",
   "metadata": {},
   "source": [
    "### Perceptró <a id='Perceptro'></a>"
   ]
  },
  {
   "cell_type": "code",
   "execution_count": 21,
   "id": "65baa0f6",
   "metadata": {},
   "outputs": [
    {
     "data": {
      "image/png": "[encoded data removed]",
      "text/plain": [
       "<Figure size 432x288 with 1 Axes>"
      ]
     },
     "metadata": {
      "needs_background": "light"
     },
     "output_type": "display_data"
    }
   ],
   "source": [
    "perceptron = Perceptron()\n",
    "perceptron.fit(X_train, y_train)\n",
    "\n",
    "perceptron_odds = np.exp(perceptron.coef_[0])\n",
    "indices=np.argsort(perceptron_odds)\n",
    "\n",
    "fig, ax = plt.subplots()\n",
    "ax.set_title(\"Feature importances for Perceptron\")\n",
    "ax.barh(range(len(perceptron_odds)), perceptron_odds[indices])\n",
    "ax.set_yticks(range(len(perceptron_odds)))\n",
    "_ = ax.set_yticklabels(np.array(dfWquality.columns)[indices])"
   ]
  },
  {
   "cell_type": "markdown",
   "id": "6a2a8e7f",
   "metadata": {},
   "source": [
    "### Random Forest <a id='Random-Forest'></a>"
   ]
  },
  {
   "cell_type": "code",
   "execution_count": 22,
   "id": "a6d4358f",
   "metadata": {},
   "outputs": [
    {
     "data": {
      "image/png": "[encoded data removed]",
      "text/plain": [
       "<Figure size 432x288 with 1 Axes>"
      ]
     },
     "metadata": {
      "needs_background": "light"
     },
     "output_type": "display_data"
    }
   ],
   "source": [
    "rf = RandomForestClassifier(max_depth=14)\n",
    "rf.fit(X_train, y_train)\n",
    "\n",
    "importancesRF = rf.feature_importances_\n",
    "indices = np.argsort(importancesRF)\n",
    "\n",
    "fig, ax = plt.subplots()\n",
    "ax.set_title(\"Feature importances for Random forest\")\n",
    "ax.barh(range(len(importancesRF)), importancesRF[indices])\n",
    "ax.set_yticks(range(len(importancesRF)))\n",
    "_ = ax.set_yticklabels(np.array(dfWquality.columns)[indices])"
   ]
  },
  {
   "cell_type": "markdown",
   "id": "3fabb9b6",
   "metadata": {},
   "source": [
    "### \n",
    "| Model | Millor característica | Pitjor característica |\n",
    "| ----------- | ----------- | ----------- |\n",
    "| Regressió Logística | Alcohol | Volatile Acidity |\n",
    "| Perceptró | Residual Sugar | Density |\n",
    "| Random Forest | Alcohol | Type |\n",
    "\n"
   ]
  },
  {
   "cell_type": "markdown",
   "id": "7161be23",
   "metadata": {},
   "source": [
    "## Correlacions màximes i mínimes <a id='Correlacions-Minimes'></a>"
   ]
  },
  {
   "cell_type": "code",
   "execution_count": 23,
   "id": "6f48d0e6",
   "metadata": {},
   "outputs": [
    {
     "name": "stdout",
     "output_type": "stream",
     "text": [
      "total sulfur dioxide  free sulfur dioxide     0.720934\n",
      "free sulfur dioxide   total sulfur dioxide    0.720934\n",
      "type                  total sulfur dioxide    0.700357\n",
      "total sulfur dioxide  type                    0.700357\n",
      "alcohol               density                 0.686745\n",
      "density               alcohol                 0.686745\n",
      "volatile acidity      type                    0.653036\n",
      "type                  volatile acidity        0.653036\n",
      "density               residual sugar          0.552517\n",
      "residual sugar        density                 0.552517\n",
      "dtype: float64\n",
      "-------------\n",
      "free sulfur dioxide    0.013004\n",
      "sulphates              0.012841\n",
      "volatile acidity       0.010716\n",
      "fixed acidity          0.009013\n",
      "citric acid            0.008921\n",
      "dtype: float64\n"
     ]
    }
   ],
   "source": [
    "c = df.corr().abs()\n",
    "s = c.unstack()\n",
    "so = s.sort_values(kind=\"quicksort\", ascending=False)\n",
    "\n",
    "print(so[13:23]) #Les 12 primeres son autocorrelacions\n",
    "print(\"-------------\")\n",
    "print(so['quality'][8:13])\n"
   ]
  },
  {
   "cell_type": "markdown",
   "id": "8f8e52a5",
   "metadata": {},
   "source": [
    "Les característiques amb major correlació son el *Free sulfur dioxide* i el *Total sulfur dioxide*\\\n",
    "Les característiques amb menor correlació amb la qualitat son el *citric acids*, *fixed acidity* i *volatile acidity*"
   ]
  },
  {
   "cell_type": "markdown",
   "id": "4ebea7d9",
   "metadata": {},
   "source": [
    "## [Feature Selection](https://www.scikit-learn.org/stable/modules/feature_selection.html)"
   ]
  },
  {
   "cell_type": "markdown",
   "id": "4374fac7",
   "metadata": {},
   "source": [
    "### [Sequential Feature Selector](https://scikit-learn.org/stable/auto_examples/feature_selection/plot_select_from_model_diabetes.html#sphx-glr-auto-examples-feature-selection-plot-select-from-model-diabetes-py) <a id='Sequential-Feature-Selector'></a>\n"
   ]
  },
  {
   "cell_type": "code",
   "execution_count": 24,
   "id": "57b757cb",
   "metadata": {},
   "outputs": [],
   "source": [
    "feature_names = np.array(dfWquality.columns)\n",
    "ridge = RidgeCV(alphas=np.logspace(-6, 6, num=5)).fit(X_train, y_train)"
   ]
  },
  {
   "cell_type": "code",
   "execution_count": 25,
   "id": "c0c0c2ea",
   "metadata": {},
   "outputs": [
    {
     "name": "stdout",
     "output_type": "stream",
     "text": [
      "Features selected by forward sequential selection: ['fixed acidity' 'volatile acidity' 'citric acid' 'residual sugar'\n",
      " 'chlorides' 'free sulfur dioxide' 'total sulfur dioxide' 'density'\n",
      " 'sulphates' 'alcohol']\n",
      "Features not selected by forward sequential selection: Index(['pH', 'type'], dtype='object')\n",
      "\n",
      "Features selected by backward sequential selection: ['fixed acidity' 'volatile acidity' 'citric acid' 'residual sugar'\n",
      " 'free sulfur dioxide' 'total sulfur dioxide' 'density' 'pH' 'sulphates'\n",
      " 'type']\n",
      "Features not selected by forward sequential selection: Index(['alcohol', 'chlorides'], dtype='object')\n"
     ]
    }
   ],
   "source": [
    "sfs_forward = SequentialFeatureSelector(\n",
    "    ridge, n_features_to_select=10, direction=\"forward\"\n",
    ").fit(X_train, y_train)\n",
    "\n",
    "\n",
    "sfs_backward = SequentialFeatureSelector(\n",
    "    ridge, n_features_to_select=10, direction=\"backward\"\n",
    ").fit(X_train, y_train)\n",
    "\n",
    "\n",
    "print(\n",
    "    \"Features selected by forward sequential selection: \"\n",
    "    f\"{feature_names[sfs_forward.get_support()]}\"\n",
    "    \"\\nFeatures not selected by forward sequential selection: \"\n",
    "    f\"{dfWquality.columns.difference(feature_names[sfs_forward.get_support()])}\\n\"\n",
    ")\n",
    "\n",
    "print(\n",
    "    \"Features selected by backward sequential selection: \"\n",
    "    f\"{feature_names[sfs_backward.get_support()]}\"\n",
    "    \"\\nFeatures not selected by forward sequential selection: \"\n",
    "    f\"{dfWquality.columns.difference(feature_names[sfs_backward.get_support()])}\"\n",
    ")"
   ]
  },
  {
   "cell_type": "markdown",
   "id": "4165dfbc",
   "metadata": {},
   "source": [
    "### [Univariate Feature selection with Kbest](https://scikit-learn.org/stable/modules/generated/sklearn.feature_selection.GenericUnivariateSelect.html#sklearn.feature_selection.GenericUnivariateSelect) <a id='Univariate-feature-selection'></a> \n"
   ]
  },
  {
   "cell_type": "code",
   "execution_count": 26,
   "id": "e0b9139e",
   "metadata": {},
   "outputs": [
    {
     "name": "stdout",
     "output_type": "stream",
     "text": [
      "Best features Index(['volatile acidity', 'citric acid', 'residual sugar', 'chlorides',\n",
      "       'free sulfur dioxide', 'total sulfur dioxide', 'density', 'sulphates',\n",
      "       'alcohol', 'type'],\n",
      "      dtype='object')\n",
      "Worst features Index(['fixed acidity', 'pH'], dtype='object')\n"
     ]
    }
   ],
   "source": [
    "mask = SelectKBest(f_regression, k=10).fit(X_train, y_train).get_support()\n",
    "best_features = dfWquality.columns[mask]\n",
    "worst_features = dfWquality.columns.difference(best_features)\n",
    "print(\"Best features\", best_features)\n",
    "print(\"Worst features\", worst_features)\n"
   ]
  },
  {
   "cell_type": "markdown",
   "id": "cd6c9db6",
   "metadata": {},
   "source": [
    "### [Recursive Feature Elimination](https://scikit-learn.org/stable/modules/generated/sklearn.feature_selection.RFE.html#sklearn.feature_selection.RFE) <a id='Recursive-feature-elimination'></a> \n"
   ]
  },
  {
   "cell_type": "code",
   "execution_count": 27,
   "id": "5bbcffae",
   "metadata": {},
   "outputs": [],
   "source": [
    "feature_names = np.array(dfWquality.columns)\n",
    "ridge = RidgeCV(alphas=np.logspace(-6, 6, num=5)).fit(X_train, y_train)"
   ]
  },
  {
   "cell_type": "code",
   "execution_count": 28,
   "id": "317b7d97",
   "metadata": {},
   "outputs": [
    {
     "name": "stdout",
     "output_type": "stream",
     "text": [
      "Features selected by recursive feature elimination: ['fixed acidity' 'volatile acidity' 'citric acid' 'residual sugar'\n",
      " 'chlorides' 'total sulfur dioxide' 'density' 'pH' 'sulphates' 'alcohol']\n",
      "Features not selected by recursive feature elimination: Index(['free sulfur dioxide', 'type'], dtype='object')\n",
      "\n"
     ]
    }
   ],
   "source": [
    "rfe_selector = RFE(ridge, n_features_to_select=10).fit(X_train, y_train)\n",
    "\n",
    "print(\n",
    "    \"Features selected by recursive feature elimination: \"\n",
    "    f\"{feature_names[rfe_selector.get_support()]}\"\n",
    "    \"\\nFeatures not selected by recursive feature elimination: \"\n",
    "    f\"{dfWquality.columns.difference(feature_names[rfe_selector.get_support()])}\\n\"\n",
    ")"
   ]
  },
  {
   "cell_type": "markdown",
   "id": "62d2584e",
   "metadata": {},
   "source": [
    "### \n",
    "| Tipus | 1ra Pitjor Caract. | 2na Pitjor Caract. |\n",
    "| ----------- | ----------- | ----------- |\n",
    "| Sequential Feature Selection - Forward | Free sulfur dioxide | Total sulfur dioxide |\n",
    "| Sequential Feature Selection - Backward | Alcohol | Total sulfur dioxide |\n",
    "| Univariate Feature Selection | Citric Acid | Type |\n",
    "| Recursive Feature Elimination | Alcohol | Free sulfur dioxide |\n",
    "\n",
    "Els resultats poden variar depenent de la execució, aquests valors son els obtinguts a una execució"
   ]
  },
  {
   "cell_type": "markdown",
   "id": "954c64a1",
   "metadata": {},
   "source": [
    "## Proves <a id='Proves'></a>"
   ]
  },
  {
   "cell_type": "markdown",
   "id": "481dd688",
   "metadata": {},
   "source": [
    "### Eliminam features"
   ]
  },
  {
   "cell_type": "markdown",
   "id": "eca265ff",
   "metadata": {},
   "source": [
    "#### Fora volatile acidity"
   ]
  },
  {
   "cell_type": "markdown",
   "id": "bd112d94",
   "metadata": {},
   "source": [
    "Provam de llevar la característica de la *volatile acidity* ja que com hem vist [aquí](#Regressio-Logistica), el Feature Selection de la Regressio Logístic ens diu que és la característica amb menys importancia"
   ]
  },
  {
   "cell_type": "code",
   "execution_count": 29,
   "id": "06941778",
   "metadata": {},
   "outputs": [
    {
     "name": "stdout",
     "output_type": "stream",
     "text": [
      "\n",
      "Regressio Logísitca:\n",
      "              precision    recall  f1-score   support\n",
      "\n",
      "           0       0.56      0.28      0.37       253\n",
      "           1       0.62      0.66      0.64       476\n",
      "           2       0.53      0.63      0.58       571\n",
      "\n",
      "    accuracy                           0.57      1300\n",
      "   macro avg       0.57      0.52      0.53      1300\n",
      "weighted avg       0.57      0.57      0.56      1300\n",
      "\n",
      "training_accuracy: 56.39792187800654\n",
      "testing_accuracy: 56.92307692307692\n",
      "\n",
      "Perceptró:\n",
      "              precision    recall  f1-score   support\n",
      "\n",
      "           0       0.25      0.00      0.01       253\n",
      "           1       1.00      0.00      0.00       476\n",
      "           2       0.44      0.99      0.61       571\n",
      "\n",
      "    accuracy                           0.44      1300\n",
      "   macro avg       0.56      0.33      0.21      1300\n",
      "weighted avg       0.61      0.44      0.27      1300\n",
      "\n",
      "training_accuracy: 43.544352511064076\n",
      "testing_accuracy: 43.769230769230774\n",
      "\n",
      "Random Forest:\n",
      "              precision    recall  f1-score   support\n",
      "\n",
      "           0       0.72      0.58      0.64       253\n",
      "           1       0.73      0.79      0.76       476\n",
      "           2       0.68      0.69      0.69       571\n",
      "\n",
      "    accuracy                           0.71      1300\n",
      "   macro avg       0.71      0.69      0.70      1300\n",
      "weighted avg       0.71      0.71      0.71      1300\n",
      "\n",
      "training_accuracy: 98.82624591110256\n",
      "testing_accuracy: 70.84615384615385\n"
     ]
    }
   ],
   "source": [
    "dfWvolatile_acidity = df.drop('volatile acidity',axis=1)\n",
    "\n",
    "RegressioLogisitca(dfWvolatile_acidity, \"Fora volatile acidity\")\n",
    "Perceptro(dfWvolatile_acidity, \"Fora volatile acidity\")\n",
    "RandomForest(dfWvolatile_acidity, \"Fora volatile acidity\")"
   ]
  },
  {
   "cell_type": "markdown",
   "id": "eca265ff",
   "metadata": {},
   "source": [
    "#### Fora density"
   ]
  },
  {
   "cell_type": "markdown",
   "id": "3d7c3aac",
   "metadata": {},
   "source": [
    "Provam de llevar la característica de *density* ja que com hem vist [aquí](#Perceptro), el Feature Selection del Perceptro ens diu que és la característica amb menys importancia"
   ]
  },
  {
   "cell_type": "code",
   "execution_count": 30,
   "id": "06941778",
   "metadata": {},
   "outputs": [
    {
     "name": "stdout",
     "output_type": "stream",
     "text": [
      "\n",
      "Regressio Logísitca:\n",
      "              precision    recall  f1-score   support\n",
      "\n",
      "           0       0.58      0.28      0.38       253\n",
      "           1       0.66      0.64      0.65       476\n",
      "           2       0.54      0.66      0.59       571\n",
      "\n",
      "    accuracy                           0.58      1300\n",
      "   macro avg       0.59      0.53      0.54      1300\n",
      "weighted avg       0.59      0.58      0.57      1300\n",
      "\n",
      "training_accuracy: 57.706369059072536\n",
      "testing_accuracy: 58.30769230769231\n",
      "\n",
      "Perceptró:\n",
      "              precision    recall  f1-score   support\n",
      "\n",
      "           0       0.00      0.00      0.00       253\n",
      "           1       0.72      0.19      0.30       476\n",
      "           2       0.46      0.94      0.62       571\n",
      "\n",
      "    accuracy                           0.48      1300\n",
      "   macro avg       0.39      0.38      0.31      1300\n",
      "weighted avg       0.47      0.48      0.38      1300\n",
      "\n",
      "training_accuracy: 49.85568597267655\n",
      "testing_accuracy: 48.23076923076923\n",
      "\n",
      "Random Forest:\n",
      "              precision    recall  f1-score   support\n",
      "\n",
      "           0       0.73      0.59      0.65       253\n",
      "           1       0.75      0.78      0.76       476\n",
      "           2       0.68      0.71      0.70       571\n",
      "\n",
      "    accuracy                           0.71      1300\n",
      "   macro avg       0.72      0.69      0.70      1300\n",
      "weighted avg       0.71      0.71      0.71      1300\n",
      "\n",
      "training_accuracy: 98.61458533769482\n",
      "testing_accuracy: 71.38461538461539\n"
     ]
    }
   ],
   "source": [
    "dfWdensity = df.drop('density',axis=1)\n",
    "\n",
    "RegressioLogisitca(dfWdensity, \"Fora density\")\n",
    "Perceptro(dfWdensity, \"Fora density\")\n",
    "RandomForest(dfWdensity, \"Fora density\")"
   ]
  },
  {
   "cell_type": "markdown",
   "id": "eca265ff",
   "metadata": {},
   "source": [
    "#### Fora type"
   ]
  },
  {
   "cell_type": "markdown",
   "id": "4cd19d2a",
   "metadata": {},
   "source": [
    "Provam de llevar la característica de *type* ja que com hem vist [aquí](#Random-Forest), el Feature Selection del Random Forest ens diu que és la característica amb menys importancia"
   ]
  },
  {
   "cell_type": "code",
   "execution_count": 31,
   "id": "06941778",
   "metadata": {},
   "outputs": [
    {
     "name": "stdout",
     "output_type": "stream",
     "text": [
      "\n",
      "Regressio Logísitca:\n",
      "              precision    recall  f1-score   support\n",
      "\n",
      "           0       0.57      0.29      0.38       253\n",
      "           1       0.65      0.65      0.65       476\n",
      "           2       0.54      0.66      0.59       571\n",
      "\n",
      "    accuracy                           0.58      1300\n",
      "   macro avg       0.59      0.53      0.54      1300\n",
      "weighted avg       0.59      0.58      0.57      1300\n",
      "\n",
      "training_accuracy: 57.610159707523565\n",
      "testing_accuracy: 58.23076923076923\n",
      "\n",
      "Perceptró:\n",
      "              precision    recall  f1-score   support\n",
      "\n",
      "           0       0.27      0.93      0.42       253\n",
      "           1       0.71      0.32      0.44       476\n",
      "           2       0.43      0.17      0.24       571\n",
      "\n",
      "    accuracy                           0.37      1300\n",
      "   macro avg       0.47      0.47      0.37      1300\n",
      "weighted avg       0.50      0.37      0.35      1300\n",
      "\n",
      "training_accuracy: 38.5607081008274\n",
      "testing_accuracy: 37.230769230769226\n",
      "\n",
      "Random Forest:\n",
      "              precision    recall  f1-score   support\n",
      "\n",
      "           0       0.73      0.57      0.64       253\n",
      "           1       0.75      0.77      0.76       476\n",
      "           2       0.67      0.72      0.69       571\n",
      "\n",
      "    accuracy                           0.71      1300\n",
      "   macro avg       0.71      0.68      0.70      1300\n",
      "weighted avg       0.71      0.71      0.71      1300\n",
      "\n",
      "training_accuracy: 98.78776217048298\n",
      "testing_accuracy: 70.6923076923077\n"
     ]
    }
   ],
   "source": [
    "dfWtype = df.drop('type',axis=1)\n",
    "\n",
    "RegressioLogisitca(dfWtype, \"Fora type\")\n",
    "Perceptro(dfWtype, \"Fora type\")\n",
    "RandomForest(dfWtype, \"Fora type\")"
   ]
  },
  {
   "cell_type": "markdown",
   "id": "eca265ff",
   "metadata": {},
   "source": [
    "#### Fora citric acid, fixed acidity i volatile acidity"
   ]
  },
  {
   "cell_type": "markdown",
   "id": "cdc7d1e9",
   "metadata": {},
   "source": [
    "Provam de llevar les característiques del *citric acid, fixed acidity i volatile acidity* ja que com hem vist [aquí](#Correlacions-Minimes), son les tres característiques menys correlacionades amb la qualitat."
   ]
  },
  {
   "cell_type": "code",
   "execution_count": 32,
   "id": "00482efb",
   "metadata": {},
   "outputs": [
    {
     "name": "stdout",
     "output_type": "stream",
     "text": [
      "\n",
      "Regressio Logísitca:\n",
      "              precision    recall  f1-score   support\n",
      "\n",
      "           0       0.56      0.28      0.38       253\n",
      "           1       0.62      0.65      0.63       476\n",
      "           2       0.53      0.62      0.57       571\n",
      "\n",
      "    accuracy                           0.57      1300\n",
      "   macro avg       0.57      0.52      0.53      1300\n",
      "weighted avg       0.57      0.57      0.56      1300\n",
      "\n",
      "training_accuracy: 56.8404848951318\n",
      "testing_accuracy: 56.61538461538461\n",
      "\n",
      "Perceptró:\n",
      "              precision    recall  f1-score   support\n",
      "\n",
      "           0       0.33      0.00      0.01       253\n",
      "           1       0.71      0.23      0.35       476\n",
      "           2       0.46      0.92      0.62       571\n",
      "\n",
      "    accuracy                           0.49      1300\n",
      "   macro avg       0.50      0.39      0.32      1300\n",
      "weighted avg       0.53      0.49      0.40      1300\n",
      "\n",
      "training_accuracy: 49.39388108524149\n",
      "testing_accuracy: 49.15384615384615\n",
      "\n",
      "Random Forest:\n",
      "              precision    recall  f1-score   support\n",
      "\n",
      "           0       0.72      0.57      0.63       253\n",
      "           1       0.71      0.75      0.73       476\n",
      "           2       0.65      0.68      0.66       571\n",
      "\n",
      "    accuracy                           0.68      1300\n",
      "   macro avg       0.69      0.67      0.68      1300\n",
      "weighted avg       0.68      0.68      0.68      1300\n",
      "\n",
      "training_accuracy: 98.28747354242833\n",
      "testing_accuracy: 68.23076923076923\n"
     ]
    }
   ],
   "source": [
    "dfWCA_FA_VA = df.drop('citric acid',axis=1)\n",
    "dfWCA_FA_VA = dfWCA_FA_VA.drop('volatile acidity',axis=1)\n",
    "dfWCA_FA_VA = dfWCA_FA_VA.drop('fixed acidity',axis=1)\n",
    "\n",
    "RegressioLogisitca(dfWCA_FA_VA, \"Fora CitricAc_FixedAc_VolatileAc\")\n",
    "Perceptro(dfWCA_FA_VA, \"Fora CitricAc_FixedAc_VolatileAc\")\n",
    "RandomForest(dfWCA_FA_VA, \"Fora CitricAc_FixedAc_VolatileAc\")"
   ]
  },
  {
   "cell_type": "markdown",
   "id": "eca265ff",
   "metadata": {},
   "source": [
    "#### Fora free sulfur dioxide i total sulfur dioxide"
   ]
  },
  {
   "cell_type": "markdown",
   "id": "e6036be3",
   "metadata": {},
   "source": [
    "Provam de llevar les característiques del *free and total sulfur dioxide acid* ja que com hem vist [aquí](#Sequential-Feature-Selector), ja que el Forward Feature Selection ens ha dit que son les dues pitjors característiques "
   ]
  },
  {
   "cell_type": "code",
   "execution_count": 33,
   "id": "5dfc97b9",
   "metadata": {},
   "outputs": [
    {
     "name": "stdout",
     "output_type": "stream",
     "text": [
      "\n",
      "Regressio Logísitca:\n",
      "              precision    recall  f1-score   support\n",
      "\n",
      "           0       0.56      0.28      0.37       253\n",
      "           1       0.65      0.63      0.64       476\n",
      "           2       0.53      0.65      0.58       571\n",
      "\n",
      "    accuracy                           0.57      1300\n",
      "   macro avg       0.58      0.52      0.53      1300\n",
      "weighted avg       0.58      0.57      0.56      1300\n",
      "\n",
      "training_accuracy: 57.167596690398305\n",
      "testing_accuracy: 57.230769230769226\n",
      "\n",
      "Perceptró:\n",
      "              precision    recall  f1-score   support\n",
      "\n",
      "           0       0.65      0.05      0.10       253\n",
      "           1       0.74      0.27      0.40       476\n",
      "           2       0.47      0.91      0.62       571\n",
      "\n",
      "    accuracy                           0.51      1300\n",
      "   macro avg       0.62      0.41      0.37      1300\n",
      "weighted avg       0.60      0.51      0.44      1300\n",
      "\n",
      "training_accuracy: 51.414277467769864\n",
      "testing_accuracy: 51.07692307692307\n",
      "\n",
      "Random Forest:\n",
      "              precision    recall  f1-score   support\n",
      "\n",
      "           0       0.70      0.58      0.64       253\n",
      "           1       0.75      0.76      0.76       476\n",
      "           2       0.66      0.71      0.68       571\n",
      "\n",
      "    accuracy                           0.70      1300\n",
      "   macro avg       0.71      0.68      0.69      1300\n",
      "weighted avg       0.70      0.70      0.70      1300\n",
      "\n",
      "training_accuracy: 98.46065037521647\n",
      "testing_accuracy: 70.23076923076923\n"
     ]
    }
   ],
   "source": [
    "dfWSO2 = df.drop('free sulfur dioxide',axis=1)\n",
    "dfWSO2 = dfWSO2.drop('total sulfur dioxide',axis=1)\n",
    "\n",
    "RegressioLogisitca(dfWSO2, \"Fora SO2\")\n",
    "Perceptro(dfWSO2, \"Fora SO2\")\n",
    "RandomForest(dfWSO2, \"Fora SO2\")"
   ]
  },
  {
   "cell_type": "markdown",
   "id": "eca265ff",
   "metadata": {},
   "source": [
    "#### Fora alcohol i total sulfur dioxide"
   ]
  },
  {
   "cell_type": "markdown",
   "id": "f9006612",
   "metadata": {},
   "source": [
    "Provam de llevar les característiques del *alcohol i total SO2* ja que com hem vist [aquí](#Sequential-Feature-Selector), el Backward Feature Selection ens ha dit que son les dues pitjors característiques "
   ]
  },
  {
   "cell_type": "code",
   "execution_count": 34,
   "id": "06941778",
   "metadata": {},
   "outputs": [
    {
     "name": "stdout",
     "output_type": "stream",
     "text": [
      "\n",
      "Regressio Logísitca:\n",
      "              precision    recall  f1-score   support\n",
      "\n",
      "           0       0.83      0.04      0.08       253\n",
      "           1       0.62      0.51      0.56       476\n",
      "           2       0.49      0.77      0.60       571\n",
      "\n",
      "    accuracy                           0.53      1300\n",
      "   macro avg       0.65      0.44      0.41      1300\n",
      "weighted avg       0.61      0.53      0.48      1300\n",
      "\n",
      "training_accuracy: 53.9349624783529\n",
      "testing_accuracy: 53.46153846153846\n",
      "\n",
      "Perceptró:\n",
      "              precision    recall  f1-score   support\n",
      "\n",
      "           0       0.64      0.09      0.16       253\n",
      "           1       0.90      0.02      0.04       476\n",
      "           2       0.44      0.98      0.61       571\n",
      "\n",
      "    accuracy                           0.45      1300\n",
      "   macro avg       0.66      0.36      0.27      1300\n",
      "weighted avg       0.65      0.45      0.31      1300\n",
      "\n",
      "training_accuracy: 44.660380989032134\n",
      "testing_accuracy: 45.38461538461539\n",
      "\n",
      "Random Forest:\n",
      "              precision    recall  f1-score   support\n",
      "\n",
      "           0       0.77      0.57      0.65       253\n",
      "           1       0.73      0.76      0.75       476\n",
      "           2       0.66      0.72      0.69       571\n",
      "\n",
      "    accuracy                           0.71      1300\n",
      "   macro avg       0.72      0.68      0.70      1300\n",
      "weighted avg       0.71      0.71      0.70      1300\n",
      "\n",
      "training_accuracy: 98.51837598614586\n",
      "testing_accuracy: 70.61538461538461\n"
     ]
    }
   ],
   "source": [
    "dfWalcohol_totalSO2 = df.drop('alcohol',axis=1)\n",
    "dfWalcohol_totalSO2 = dfWalcohol_totalSO2.drop('total sulfur dioxide',axis=1)\n",
    "\n",
    "RegressioLogisitca(dfWalcohol_totalSO2, \"Fora alcohol_totalSO2\")\n",
    "Perceptro(dfWalcohol_totalSO2, \"Fora alcohol_totalSO2\")\n",
    "RandomForest(dfWalcohol_totalSO2, \"Fora alcohol_totalSO2\")"
   ]
  },
  {
   "cell_type": "markdown",
   "id": "eca265ff",
   "metadata": {},
   "source": [
    "#### Fora citric acid i type"
   ]
  },
  {
   "cell_type": "markdown",
   "metadata": {},
   "source": [
    "Provam de llevar les característiques de l'àcid cítric i el type ja que com hem vist [aquí](Univariate-feature-selection), el SelectKBest ens ha dit que son les dues pitjors característiques "
   ]
  },
  {
   "cell_type": "code",
   "execution_count": 35,
   "id": "06941778",
   "metadata": {},
   "outputs": [
    {
     "name": "stdout",
     "output_type": "stream",
     "text": [
      "\n",
      "Regressio Logísitca:\n",
      "              precision    recall  f1-score   support\n",
      "\n",
      "           0       0.59      0.30      0.39       253\n",
      "           1       0.65      0.64      0.64       476\n",
      "           2       0.54      0.66      0.59       571\n",
      "\n",
      "    accuracy                           0.58      1300\n",
      "   macro avg       0.59      0.53      0.54      1300\n",
      "weighted avg       0.59      0.58      0.57      1300\n",
      "\n",
      "training_accuracy: 57.667885318452946\n",
      "testing_accuracy: 58.23076923076923\n",
      "\n",
      "Perceptró:\n",
      "              precision    recall  f1-score   support\n",
      "\n",
      "           0       0.64      0.11      0.18       253\n",
      "           1       0.92      0.03      0.05       476\n",
      "           2       0.45      0.98      0.61       571\n",
      "\n",
      "    accuracy                           0.46      1300\n",
      "   macro avg       0.67      0.37      0.28      1300\n",
      "weighted avg       0.66      0.46      0.32      1300\n",
      "\n",
      "training_accuracy: 45.295362709255336\n",
      "testing_accuracy: 45.84615384615385\n",
      "\n",
      "Random Forest:\n",
      "              precision    recall  f1-score   support\n",
      "\n",
      "           0       0.72      0.56      0.63       253\n",
      "           1       0.75      0.78      0.76       476\n",
      "           2       0.66      0.71      0.69       571\n",
      "\n",
      "    accuracy                           0.70      1300\n",
      "   macro avg       0.71      0.68      0.69      1300\n",
      "weighted avg       0.71      0.70      0.70      1300\n",
      "\n",
      "training_accuracy: 98.34519915335771\n",
      "testing_accuracy: 70.38461538461539\n"
     ]
    }
   ],
   "source": [
    "dfWCA_Type = df.drop('citric acid',axis=1)\n",
    "dfWCA_Type = dfWCA_Type.drop('type',axis=1)\n",
    "\n",
    "RegressioLogisitca(dfWCA_Type, \"Fora CA_Type\")\n",
    "Perceptro(dfWCA_Type, \"Fora CA_Type\")\n",
    "RandomForest(dfWCA_Type, \"Fora CA_Type\")"
   ]
  },
  {
   "cell_type": "markdown",
   "id": "eca265ff",
   "metadata": {},
   "source": [
    "#### Fora alochol i free sulfur dioxide"
   ]
  },
  {
   "cell_type": "markdown",
   "metadata": {},
   "source": [
    "Provam de llevar les característiques del *alochol i free sulfur dioxide* ja que com hem vist [aquí](#Recursive-feature-elimination), el Recursive Feature Elimination ens ha dit que son les dues pitjors característiques "
   ]
  },
  {
   "cell_type": "code",
   "execution_count": 36,
   "id": "06941778",
   "metadata": {},
   "outputs": [
    {
     "name": "stdout",
     "output_type": "stream",
     "text": [
      "\n",
      "Regressio Logísitca:\n",
      "              precision    recall  f1-score   support\n",
      "\n",
      "           0       0.70      0.06      0.12       253\n",
      "           1       0.63      0.57      0.60       476\n",
      "           2       0.51      0.76      0.61       571\n",
      "\n",
      "    accuracy                           0.55      1300\n",
      "   macro avg       0.61      0.46      0.44      1300\n",
      "weighted avg       0.59      0.55      0.51      1300\n",
      "\n",
      "training_accuracy: 54.185106792380225\n",
      "testing_accuracy: 55.230769230769226\n",
      "\n",
      "Perceptró:\n",
      "              precision    recall  f1-score   support\n",
      "\n",
      "           0       0.41      0.72      0.52       253\n",
      "           1       0.88      0.03      0.06       476\n",
      "           2       0.42      0.62      0.50       571\n",
      "\n",
      "    accuracy                           0.42      1300\n",
      "   macro avg       0.57      0.46      0.36      1300\n",
      "weighted avg       0.59      0.42      0.34      1300\n",
      "\n",
      "training_accuracy: 42.793919568982105\n",
      "testing_accuracy: 42.30769230769231\n",
      "\n",
      "Random Forest:\n",
      "              precision    recall  f1-score   support\n",
      "\n",
      "           0       0.76      0.55      0.64       253\n",
      "           1       0.75      0.75      0.75       476\n",
      "           2       0.65      0.73      0.69       571\n",
      "\n",
      "    accuracy                           0.70      1300\n",
      "   macro avg       0.72      0.68      0.69      1300\n",
      "weighted avg       0.71      0.70      0.70      1300\n",
      "\n",
      "training_accuracy: 98.32595728304791\n",
      "testing_accuracy: 70.23076923076923\n"
     ]
    }
   ],
   "source": [
    "dfWalcohol_freeSO2 = df.drop('alcohol',axis=1)\n",
    "dfWalcohol_freeSO2 = dfWalcohol_freeSO2.drop('free sulfur dioxide',axis=1)\n",
    "\n",
    "RegressioLogisitca(dfWalcohol_freeSO2, \"Fora alcohol_freeSO2\")\n",
    "Perceptro(dfWalcohol_freeSO2, \"Fora alcohol_freeSO2\")\n",
    "RandomForest(dfWalcohol_freeSO2, \"Fora alcohol_freeSO2\")"
   ]
  },
  {
   "cell_type": "markdown",
   "id": "113c15c6",
   "metadata": {},
   "source": [
    "### Cream features"
   ]
  },
  {
   "cell_type": "markdown",
   "id": "eca265ff",
   "metadata": {},
   "source": [
    "#### Acids totals"
   ]
  },
  {
   "cell_type": "code",
   "execution_count": 37,
   "id": "b6c244ad",
   "metadata": {
    "execution": {
     "iopub.execute_input": "2021-01-23T12:18:46.123152Z",
     "iopub.status.busy": "2021-01-23T12:18:46.122063Z",
     "iopub.status.idle": "2021-01-23T12:18:46.150621Z",
     "shell.execute_reply": "2021-01-23T12:18:46.151096Z"
    },
    "papermill": {
     "duration": 0.092392,
     "end_time": "2021-01-23T12:18:46.151244",
     "exception": false,
     "start_time": "2021-01-23T12:18:46.058852",
     "status": "completed"
    },
    "tags": []
   },
   "outputs": [
    {
     "name": "stdout",
     "output_type": "stream",
     "text": [
      "\n",
      "Regressio Logísitca:\n",
      "              precision    recall  f1-score   support\n",
      "\n",
      "           0       0.57      0.28      0.38       253\n",
      "           1       0.66      0.65      0.65       476\n",
      "           2       0.54      0.66      0.59       571\n",
      "\n",
      "    accuracy                           0.58      1300\n",
      "   macro avg       0.59      0.53      0.54      1300\n",
      "weighted avg       0.59      0.58      0.57      1300\n",
      "\n",
      "training_accuracy: 57.667885318452946\n",
      "testing_accuracy: 58.38461538461538\n",
      "\n",
      "Perceptró:\n",
      "              precision    recall  f1-score   support\n",
      "\n",
      "           0       0.53      0.37      0.43       253\n",
      "           1       0.54      0.82      0.65       476\n",
      "           2       0.54      0.39      0.45       571\n",
      "\n",
      "    accuracy                           0.54      1300\n",
      "   macro avg       0.54      0.52      0.51      1300\n",
      "weighted avg       0.54      0.54      0.52      1300\n",
      "\n",
      "training_accuracy: 55.12795843756013\n",
      "testing_accuracy: 54.0\n",
      "\n",
      "Random Forest:\n",
      "              precision    recall  f1-score   support\n",
      "\n",
      "           0       0.72      0.56      0.63       253\n",
      "           1       0.76      0.78      0.77       476\n",
      "           2       0.67      0.72      0.69       571\n",
      "\n",
      "    accuracy                           0.71      1300\n",
      "   macro avg       0.72      0.69      0.70      1300\n",
      "weighted avg       0.71      0.71      0.71      1300\n",
      "\n",
      "training_accuracy: 98.53761785645565\n",
      "testing_accuracy: 71.07692307692308\n"
     ]
    }
   ],
   "source": [
    "combinator_Acid_Tot = MathematicalCombination(\n",
    "    variables_to_combine=['fixed acidity', 'volatile acidity'],\n",
    "    math_operations = ['sum'],\n",
    "    new_variables_names = ['total_acidity']\n",
    ")\n",
    "\n",
    "df_Acid_Tot = combinator_Acid_Tot.fit_transform(df)\n",
    "\n",
    "RegressioLogisitca(df_Acid_Tot, \"Acid Totals\")\n",
    "Perceptro(df_Acid_Tot, \"Acid Totals\")\n",
    "RandomForest(df_Acid_Tot, \"Acid Totals\")"
   ]
  },
  {
   "cell_type": "markdown",
   "id": "3af6e25d",
   "metadata": {},
   "source": [
    "#### Percentatge de Acid cítric respecte a l'acidesa fixada"
   ]
  },
  {
   "cell_type": "code",
   "execution_count": 38,
   "id": "1456e24b",
   "metadata": {},
   "outputs": [
    {
     "name": "stdout",
     "output_type": "stream",
     "text": [
      "\n",
      "Regressio Logísitca:\n",
      "              precision    recall  f1-score   support\n",
      "\n",
      "           0       0.57      0.28      0.38       253\n",
      "           1       0.65      0.64      0.65       476\n",
      "           2       0.53      0.66      0.59       571\n",
      "\n",
      "    accuracy                           0.58      1300\n",
      "   macro avg       0.59      0.53      0.54      1300\n",
      "weighted avg       0.59      0.58      0.57      1300\n",
      "\n",
      "training_accuracy: 57.91802963248027\n",
      "testing_accuracy: 58.15384615384615\n",
      "\n",
      "Perceptró:\n",
      "              precision    recall  f1-score   support\n",
      "\n",
      "           0       0.50      0.01      0.02       253\n",
      "           1       0.64      0.57      0.60       476\n",
      "           2       0.49      0.76      0.60       571\n",
      "\n",
      "    accuracy                           0.54      1300\n",
      "   macro avg       0.55      0.44      0.41      1300\n",
      "weighted avg       0.55      0.54      0.49      1300\n",
      "\n",
      "training_accuracy: 54.51221858764672\n",
      "testing_accuracy: 54.230769230769226\n",
      "\n",
      "Random Forest:\n",
      "              precision    recall  f1-score   support\n",
      "\n",
      "           0       0.73      0.59      0.65       253\n",
      "           1       0.75      0.77      0.76       476\n",
      "           2       0.67      0.71      0.69       571\n",
      "\n",
      "    accuracy                           0.71      1300\n",
      "   macro avg       0.72      0.69      0.70      1300\n",
      "weighted avg       0.71      0.71      0.71      1300\n",
      "\n",
      "training_accuracy: 98.61458533769482\n",
      "testing_accuracy: 70.92307692307692\n"
     ]
    }
   ],
   "source": [
    "combinator_PercAC = CombineWithReferenceFeature(\n",
    "    variables_to_combine=['citric acid'],\n",
    "    reference_variables=['fixed acidity'],\n",
    "    operations=['div'],   \n",
    "    new_variables_names=['percentage_citric_acid'])\n",
    "\n",
    "df_PercAC = combinator_PercAC.fit_transform(df)\n",
    "\n",
    "RegressioLogisitca(df_PercAC, \"Perc. acid citric\")\n",
    "Perceptro(df_PercAC, \"Perc. acid citric\")\n",
    "RandomForest(df_PercAC, \"Perc. acid citric\")"
   ]
  },
  {
   "cell_type": "markdown",
   "id": "eca265ff",
   "metadata": {},
   "source": [
    "#### Minerals totals"
   ]
  },
  {
   "cell_type": "code",
   "execution_count": 39,
   "id": "9f0bfd90",
   "metadata": {
    "execution": {
     "iopub.execute_input": "2021-01-23T12:18:46.246874Z",
     "iopub.status.busy": "2021-01-23T12:18:46.243175Z",
     "iopub.status.idle": "2021-01-23T12:18:46.287760Z",
     "shell.execute_reply": "2021-01-23T12:18:46.288288Z"
    },
    "papermill": {
     "duration": 0.094764,
     "end_time": "2021-01-23T12:18:46.288441",
     "exception": false,
     "start_time": "2021-01-23T12:18:46.193677",
     "status": "completed"
    },
    "tags": []
   },
   "outputs": [
    {
     "name": "stdout",
     "output_type": "stream",
     "text": [
      "\n",
      "Regressio Logísitca:\n",
      "              precision    recall  f1-score   support\n",
      "\n",
      "           0       0.58      0.28      0.38       253\n",
      "           1       0.66      0.65      0.65       476\n",
      "           2       0.54      0.67      0.59       571\n",
      "\n",
      "    accuracy                           0.58      1300\n",
      "   macro avg       0.59      0.53      0.54      1300\n",
      "weighted avg       0.59      0.58      0.57      1300\n",
      "\n",
      "training_accuracy: 57.744852799692126\n",
      "testing_accuracy: 58.46153846153847\n",
      "\n",
      "Perceptró:\n",
      "              precision    recall  f1-score   support\n",
      "\n",
      "           0       1.00      0.00      0.00       253\n",
      "           1       0.89      0.02      0.03       476\n",
      "           2       0.44      1.00      0.61       571\n",
      "\n",
      "    accuracy                           0.44      1300\n",
      "   macro avg       0.78      0.34      0.22      1300\n",
      "weighted avg       0.71      0.44      0.28      1300\n",
      "\n",
      "training_accuracy: 44.27554358283625\n",
      "testing_accuracy: 44.46153846153847\n",
      "\n",
      "Random Forest:\n",
      "              precision    recall  f1-score   support\n",
      "\n",
      "           0       0.76      0.59      0.66       253\n",
      "           1       0.75      0.77      0.76       476\n",
      "           2       0.67      0.72      0.70       571\n",
      "\n",
      "    accuracy                           0.71      1300\n",
      "   macro avg       0.73      0.69      0.71      1300\n",
      "weighted avg       0.72      0.71      0.71      1300\n",
      "\n",
      "training_accuracy: 98.67231094862422\n",
      "testing_accuracy: 71.38461538461539\n"
     ]
    }
   ],
   "source": [
    "combinator_Minerals_Totals = MathematicalCombination(\n",
    "    variables_to_combine=['chlorides', 'sulphates'],\n",
    "    math_operations = ['sum'],\n",
    "    new_variables_names = ['total_minerals']\n",
    ")\n",
    "\n",
    "df_Minerals_Totals = combinator_Minerals_Totals.fit_transform(df)\n",
    "\n",
    "RegressioLogisitca(df_Minerals_Totals, \"Minerals totals\")\n",
    "Perceptro(df_Minerals_Totals, \"Minerals totals\")\n",
    "RandomForest(df_Minerals_Totals, \"Minerals totals\")"
   ]
  },
  {
   "cell_type": "markdown",
   "id": "d1e5bd8d",
   "metadata": {},
   "source": [
    "#### Percentatge de Diòxid de sofre lliure"
   ]
  },
  {
   "cell_type": "code",
   "execution_count": 40,
   "id": "d9e667ba",
   "metadata": {
    "execution": {
     "iopub.execute_input": "2021-01-23T12:18:46.377854Z",
     "iopub.status.busy": "2021-01-23T12:18:46.377089Z",
     "iopub.status.idle": "2021-01-23T12:18:46.409562Z",
     "shell.execute_reply": "2021-01-23T12:18:46.408992Z"
    },
    "papermill": {
     "duration": 0.078286,
     "end_time": "2021-01-23T12:18:46.409696",
     "exception": false,
     "start_time": "2021-01-23T12:18:46.331410",
     "status": "completed"
    },
    "tags": []
   },
   "outputs": [
    {
     "name": "stdout",
     "output_type": "stream",
     "text": [
      "\n",
      "Regressio Logísitca:\n",
      "              precision    recall  f1-score   support\n",
      "\n",
      "           0       0.59      0.30      0.40       253\n",
      "           1       0.65      0.64      0.64       476\n",
      "           2       0.53      0.66      0.59       571\n",
      "\n",
      "    accuracy                           0.58      1300\n",
      "   macro avg       0.59      0.53      0.55      1300\n",
      "weighted avg       0.59      0.58      0.57      1300\n",
      "\n",
      "training_accuracy: 58.283625168366356\n",
      "testing_accuracy: 58.23076923076923\n",
      "\n",
      "Perceptró:\n",
      "              precision    recall  f1-score   support\n",
      "\n",
      "           0       0.33      0.65      0.44       253\n",
      "           1       0.64      0.65      0.65       476\n",
      "           2       0.53      0.29      0.38       571\n",
      "\n",
      "    accuracy                           0.49      1300\n",
      "   macro avg       0.50      0.53      0.49      1300\n",
      "weighted avg       0.53      0.49      0.49      1300\n",
      "\n",
      "training_accuracy: 51.79911487396575\n",
      "testing_accuracy: 49.38461538461538\n",
      "\n",
      "Random Forest:\n",
      "              precision    recall  f1-score   support\n",
      "\n",
      "           0       0.76      0.57      0.65       253\n",
      "           1       0.75      0.78      0.76       476\n",
      "           2       0.67      0.72      0.69       571\n",
      "\n",
      "    accuracy                           0.71      1300\n",
      "   macro avg       0.72      0.69      0.70      1300\n",
      "weighted avg       0.72      0.71      0.71      1300\n",
      "\n",
      "training_accuracy: 98.61458533769482\n",
      "testing_accuracy: 71.3076923076923\n"
     ]
    }
   ],
   "source": [
    "combinator_PercSO2 = CombineWithReferenceFeature(\n",
    "    variables_to_combine=['free sulfur dioxide'],\n",
    "    reference_variables=['total sulfur dioxide'],\n",
    "    operations=['div'],   \n",
    "    new_variables_names=['percentage_free_sulfur'])\n",
    "\n",
    "df_PercSO2 = combinator_PercSO2.fit_transform(df)\n",
    "\n",
    "RegressioLogisitca(df_PercSO2, \"Perc. SO2 lliure\")\n",
    "Perceptro(df_PercSO2, \"Perc. SO2 lliure\")\n",
    "RandomForest(df_PercSO2, \"Perc. SO2 lliure\")"
   ]
  },
  {
   "cell_type": "markdown",
   "id": "da68c40f",
   "metadata": {},
   "source": [
    "#### Diòxid de sofre no lliure"
   ]
  },
  {
   "cell_type": "code",
   "execution_count": 41,
   "id": "ec296257",
   "metadata": {},
   "outputs": [
    {
     "name": "stdout",
     "output_type": "stream",
     "text": [
      "\n",
      "Regressio Logísitca:\n",
      "              precision    recall  f1-score   support\n",
      "\n",
      "           0       0.57      0.28      0.38       253\n",
      "           1       0.66      0.64      0.65       476\n",
      "           2       0.54      0.66      0.59       571\n",
      "\n",
      "    accuracy                           0.58      1300\n",
      "   macro avg       0.59      0.53      0.54      1300\n",
      "weighted avg       0.59      0.58      0.57      1300\n",
      "\n",
      "training_accuracy: 57.725610929382334\n",
      "testing_accuracy: 58.23076923076923\n",
      "\n",
      "Perceptró:\n",
      "              precision    recall  f1-score   support\n",
      "\n",
      "           0       0.47      0.24      0.32       253\n",
      "           1       0.76      0.04      0.08       476\n",
      "           2       0.44      0.89      0.59       571\n",
      "\n",
      "    accuracy                           0.45      1300\n",
      "   macro avg       0.56      0.39      0.33      1300\n",
      "weighted avg       0.57      0.45      0.35      1300\n",
      "\n",
      "training_accuracy: 45.7379257263806\n",
      "testing_accuracy: 45.230769230769226\n",
      "\n",
      "Random Forest:\n",
      "              precision    recall  f1-score   support\n",
      "\n",
      "           0       0.75      0.57      0.65       253\n",
      "           1       0.75      0.76      0.76       476\n",
      "           2       0.67      0.73      0.70       571\n",
      "\n",
      "    accuracy                           0.71      1300\n",
      "   macro avg       0.72      0.69      0.70      1300\n",
      "weighted avg       0.71      0.71      0.71      1300\n",
      "\n",
      "training_accuracy: 98.63382720800462\n",
      "testing_accuracy: 71.15384615384616\n"
     ]
    }
   ],
   "source": [
    "combinator_No_FreeSO2 = CombineWithReferenceFeature(\n",
    "    variables_to_combine=['total sulfur dioxide'],\n",
    "    reference_variables=['free sulfur dioxide'],\n",
    "    operations=['sub'],\n",
    "    new_variables_names=['non_free_sulfur_dioxide']\n",
    ")\n",
    "\n",
    "df_No_FreeSO2 = combinator_No_FreeSO2.fit_transform(df)\n",
    "\n",
    "RegressioLogisitca(df_No_FreeSO2, \"S02 no lliure\")\n",
    "Perceptro(df_No_FreeSO2, \"S02 no lliure\")\n",
    "RandomForest(df_No_FreeSO2, \"S02 no lliure\")\n"
   ]
  },
  {
   "cell_type": "markdown",
   "id": "bf522b53",
   "metadata": {},
   "source": [
    "#### Dels diòxid de sofre quin percentatge és una sal"
   ]
  },
  {
   "cell_type": "code",
   "execution_count": 42,
   "id": "e916172c",
   "metadata": {
    "execution": {
     "iopub.execute_input": "2021-01-23T12:18:46.629772Z",
     "iopub.status.busy": "2021-01-23T12:18:46.628994Z",
     "iopub.status.idle": "2021-01-23T12:18:46.662853Z",
     "shell.execute_reply": "2021-01-23T12:18:46.663344Z"
    },
    "papermill": {
     "duration": 0.083621,
     "end_time": "2021-01-23T12:18:46.663516",
     "exception": false,
     "start_time": "2021-01-23T12:18:46.579895",
     "status": "completed"
    },
    "tags": []
   },
   "outputs": [
    {
     "name": "stdout",
     "output_type": "stream",
     "text": [
      "\n",
      "Regressio Logísitca:\n",
      "              precision    recall  f1-score   support\n",
      "\n",
      "           0       0.57      0.29      0.38       253\n",
      "           1       0.65      0.64      0.65       476\n",
      "           2       0.54      0.66      0.59       571\n",
      "\n",
      "    accuracy                           0.58      1300\n",
      "   macro avg       0.59      0.53      0.54      1300\n",
      "weighted avg       0.59      0.58      0.57      1300\n",
      "\n",
      "training_accuracy: 57.80257841062151\n",
      "testing_accuracy: 58.23076923076923\n",
      "\n",
      "Perceptró:\n",
      "              precision    recall  f1-score   support\n",
      "\n",
      "           0       0.36      0.69      0.47       253\n",
      "           1       0.78      0.13      0.23       476\n",
      "           2       0.43      0.55      0.49       571\n",
      "\n",
      "    accuracy                           0.43      1300\n",
      "   macro avg       0.52      0.46      0.39      1300\n",
      "weighted avg       0.54      0.43      0.39      1300\n",
      "\n",
      "training_accuracy: 43.83298056571099\n",
      "testing_accuracy: 42.61538461538461\n",
      "\n",
      "Random Forest:\n",
      "              precision    recall  f1-score   support\n",
      "\n",
      "           0       0.77      0.56      0.65       253\n",
      "           1       0.75      0.76      0.76       476\n",
      "           2       0.66      0.74      0.70       571\n",
      "\n",
      "    accuracy                           0.71      1300\n",
      "   macro avg       0.73      0.68      0.70      1300\n",
      "weighted avg       0.72      0.71      0.71      1300\n",
      "\n",
      "training_accuracy: 98.61458533769482\n",
      "testing_accuracy: 71.07692307692308\n"
     ]
    }
   ],
   "source": [
    "combinator_Sulfurs_Sals = CombineWithReferenceFeature(\n",
    "    variables_to_combine=['sulphates'],\n",
    "    reference_variables=['free sulfur dioxide'],\n",
    "    operations=['div'],\n",
    "    new_variables_names=['percentage_salt_sulfur']\n",
    ")\n",
    "\n",
    "df_Sulfurs_Sals = combinator_Sulfurs_Sals.fit_transform(df)\n",
    "\n",
    "RegressioLogisitca(df_Sulfurs_Sals, \"Sulfurs Sals\")\n",
    "Perceptro(df_Sulfurs_Sals, \"Sulfurs Sals\")\n",
    "RandomForest(df_Sulfurs_Sals, \"Sulfurs Sals\")\n"
   ]
  },
  {
   "cell_type": "markdown",
   "id": "26f07039",
   "metadata": {},
   "source": [
    "#### Unim totes les creacions"
   ]
  },
  {
   "cell_type": "code",
   "execution_count": 43,
   "id": "12d48fa7",
   "metadata": {},
   "outputs": [
    {
     "name": "stdout",
     "output_type": "stream",
     "text": [
      "\n",
      "Regressio Logísitca:\n",
      "              precision    recall  f1-score   support\n",
      "\n",
      "           0       0.59      0.30      0.40       253\n",
      "           1       0.66      0.63      0.64       476\n",
      "           2       0.54      0.66      0.59       571\n",
      "\n",
      "    accuracy                           0.58      1300\n",
      "   macro avg       0.59      0.53      0.55      1300\n",
      "weighted avg       0.59      0.58      0.57      1300\n",
      "\n",
      "training_accuracy: 58.37983451991534\n",
      "testing_accuracy: 58.30769230769231\n",
      "\n",
      "Perceptró:\n",
      "              precision    recall  f1-score   support\n",
      "\n",
      "           0       1.00      0.00      0.00       253\n",
      "           1       0.81      0.05      0.10       476\n",
      "           2       0.45      0.99      0.61       571\n",
      "\n",
      "    accuracy                           0.45      1300\n",
      "   macro avg       0.75      0.35      0.24      1300\n",
      "weighted avg       0.69      0.45      0.31      1300\n",
      "\n",
      "training_accuracy: 45.4300558014239\n",
      "testing_accuracy: 45.38461538461539\n",
      "\n",
      "Random Forest:\n",
      "              precision    recall  f1-score   support\n",
      "\n",
      "           0       0.74      0.59      0.66       253\n",
      "           1       0.75      0.76      0.75       476\n",
      "           2       0.66      0.71      0.69       571\n",
      "\n",
      "    accuracy                           0.71      1300\n",
      "   macro avg       0.72      0.69      0.70      1300\n",
      "weighted avg       0.71      0.71      0.71      1300\n",
      "\n",
      "training_accuracy: 98.80700404079276\n",
      "testing_accuracy: 70.61538461538461\n"
     ]
    }
   ],
   "source": [
    "df_Unió = combinator_Acid_Tot.fit_transform(df)\n",
    "df_Unió = combinator_Minerals_Totals.fit_transform(df_Unió)\n",
    "df_Unió = combinator_PercAC.fit_transform(df_Unió)\n",
    "df_Unió = combinator_No_FreeSO2.fit_transform(df_Unió)\n",
    "df_Unió = combinator_PercSO2.fit_transform(df_Unió)\n",
    "df_Unió = combinator_Sulfurs_Sals.fit_transform(df_Unió)\n",
    "\n",
    "RegressioLogisitca(df_Unió, \"Totes creacions\")\n",
    "Perceptro(df_Unió, \"Totes creacions\")\n",
    "RandomForest(df_Unió, \"Totes creacions\")"
   ]
  },
  {
   "cell_type": "markdown",
   "id": "cb6b55b3",
   "metadata": {},
   "source": [
    "### Comparam les precisions"
   ]
  },
  {
   "cell_type": "code",
   "execution_count": 44,
   "id": "0cbc05c7",
   "metadata": {},
   "outputs": [
    {
     "name": "stdout",
     "output_type": "stream",
     "text": [
      "Training accuracy for each model and each dataframe\n",
      "                                  Regressió Logística  Perceptró Random Forest\n",
      "Original                                   57.667885   48.66269     98.614585\n",
      "Fora volatile acidity                      56.397922  43.544353     98.826246\n",
      "Fora density                               57.706369  49.855686     98.614585\n",
      "Fora type                                   57.61016  38.560708     98.787762\n",
      "Fora CitricAc_FixedAc_VolatileAc           56.840485  49.393881     98.287474\n",
      "Fora SO2                                   57.167597  51.414277      98.46065\n",
      "Fora alcohol_totalSO2                      53.934962  44.660381     98.518376\n",
      "Fora CA_Type                               57.667885  45.295363     98.345199\n",
      "Fora alcohol_freeSO2                       54.185107   42.79392     98.325957\n",
      "Acid Totals                                57.667885  55.127958     98.537618\n",
      "Perc. acid citric                           57.91803  54.512219     98.614585\n",
      "Minerals totals                            57.744853  44.275544     98.672311\n",
      "Perc. SO2 lliure                           58.283625  51.799115     98.614585\n",
      "S02 no lliure                              57.725611  45.737926     98.633827\n",
      "Sulfurs Sals                               57.802578  43.832981     98.614585\n",
      "Totes creacions                            58.379835  45.430056     98.807004\n",
      "\n",
      "Testing accuracy for each model and each dataframe\n",
      "                                  Regressió Logística  Perceptró Random Forest\n",
      "Original                                   58.307692  47.307692     70.615385\n",
      "Fora volatile acidity                      56.923077  43.769231     70.846154\n",
      "Fora density                               58.307692  48.230769     71.384615\n",
      "Fora type                                  58.230769  37.230769     70.692308\n",
      "Fora CitricAc_FixedAc_VolatileAc           56.615385  49.153846     68.230769\n",
      "Fora SO2                                   57.230769  51.076923     70.230769\n",
      "Fora alcohol_totalSO2                      53.461538  45.384615     70.615385\n",
      "Fora CA_Type                               58.230769  45.846154     70.384615\n",
      "Fora alcohol_freeSO2                       55.230769  42.307692     70.230769\n",
      "Acid Totals                                58.384615       54.0     71.076923\n",
      "Perc. acid citric                          58.153846  54.230769     70.923077\n",
      "Minerals totals                            58.461538  44.461538     71.384615\n",
      "Perc. SO2 lliure                           58.230769  49.384615     71.307692\n",
      "S02 no lliure                              58.230769  45.230769     71.153846\n",
      "Sulfurs Sals                               58.230769  42.615385     71.076923\n",
      "Totes creacions                            58.307692  45.384615     70.615385\n"
     ]
    }
   ],
   "source": [
    "print(\"Training accuracy for each model and each dataframe\\n\", dfTrain)\n",
    "print(\"\\nTesting accuracy for each model and each dataframe\\n\", dfTest)"
   ]
  },
  {
   "cell_type": "markdown",
   "id": "b554cb79",
   "metadata": {},
   "source": [
    "# **Grid Search CV**"
   ]
  }
 ],
 "metadata": {
  "kernelspec": {
   "display_name": "Python 3 (ipykernel)",
   "language": "python",
   "name": "python3"
  },
  "language_info": {
   "codemirror_mode": {
    "name": "ipython",
    "version": 3
   },
   "file_extension": ".py",
   "mimetype": "text/x-python",
   "name": "python",
   "nbconvert_exporter": "python",
   "pygments_lexer": "ipython3",
   "version": "3.9.7"
  }
 },
 "nbformat": 4,
 "nbformat_minor": 5
}
